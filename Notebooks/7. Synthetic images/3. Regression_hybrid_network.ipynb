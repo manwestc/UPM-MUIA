{
 "cells": [
  {
   "cell_type": "markdown",
   "metadata": {
    "id": "EybOZ6hSjpCF"
   },
   "source": [
    "<h1><font color=\"#113D68\" size=5>TINTOlib: Converting Tidy Data into Synthetic Images</font></h1>\n",
    "\n",
    "<h1><font color=\"#113D68\" size=5>Template Regression problem with a Hibryd Networks (CNN+MLP)</font></h1>\n",
    "\n",
    "<br><br>\n",
    "<div style=\"text-align: right\">\n",
    "<font color=\"#113D68\" size=3>Manuel Castillo-Cara</font><br>\n",
    "<font color=\"#113D68\" size=3>Raúl García-Castro</font><br>\n",
    "<font color=\"#113D68\" size=3>Jiayun Liu</font><br>\n",
    "</div>\n",
    "\n",
    "---"
   ]
  },
  {
   "cell_type": "markdown",
   "metadata": {},
   "source": [
    "<div class=\"alert alert-block alert-info\">\n",
    "    \n",
    "<i class=\"fa fa-info-circle\" aria-hidden=\"true\"></i>\n",
    "More information about [Manuel Castillo-Cara](https://www.manuelcastillo.eu/)"
   ]
  },
  {
   "cell_type": "markdown",
   "metadata": {},
   "source": [
    "<div class=\"alert alert-block alert-info\">\n",
    "    \n",
    "<i class=\"fa fa-info-circle\" aria-hidden=\"true\"></i>\n",
    "More information about [Raúl García-Castro](http://www.garcia-castro.com/)"
   ]
  },
  {
   "cell_type": "markdown",
   "metadata": {},
   "source": [
    "---\n",
    "\n",
    "<a id=\"indice\"></a>\n",
    "<h2><font color=\"#004D7F\" size=5>Licencia</font></h2>\n",
    "\n",
    "<p><small><small>Improving Deep Learning by Exploiting Synthetic Images Copyright 2024 Manuel Castillo Cara.</p>\n",
    "<p><small><small> Licensed under the Apache License, Version 2.0 (the \"License\"); you may not use this file except in compliance with the License. You may obtain a copy of the License at </p>\n",
    "<p><small><small> <a href=\"https://www.apache.org/licenses/LICENSE-2.0\">https://www.apache.org/licenses/LICENSE-2.0</a> </p>\n",
    "<p><small><small> Unless required by applicable law or agreed to in writing, software distributed under the License is distributed on an \"AS IS\" BASIS, WITHOUT WARRANTIES OR CONDITIONS OF ANY KIND, either express or implied. See the License for the specific language governing permissions and limitations under the License. </p>"
   ]
  },
  {
   "cell_type": "markdown",
   "metadata": {
    "id": "2l5nFzsdjpCW"
   },
   "source": [
    "---\n",
    "\n",
    "<a id=\"indice\"></a>\n",
    "<h2><font color=\"#004D7F\" size=5>Index</font></h2>\n",
    "\n",
    "* [0. Context](#section0)\n",
    "* [1. Description](#section1)\n",
    "    * [1.1. Main Features](#section11)\n",
    "    * [1.2. Citation](#section12)\n",
    "    * [1.3. Documentation and License](#section13)\n",
    "* [2. Libraries](#section2)\n",
    "    * [2.1. System setup](#section21)\n",
    "    * [2.2. Invoke the libraries](#section22)\n",
    "* [3. Data processing](#section3)\n",
    "    * [3.1. TINTOlib methods](#section31)\n",
    "    * [3.2. Read the dataset](#section32)\n",
    "    * [3.3. Generate images](#section33)\n",
    "    * [3.4. Read images](#section34)\n",
    "    * [3.5. Mix images and tidy data](#section35)\n",
    "* [4. Pre-modelling phase](#section4)\n",
    "    * [4.1. Data curation](#section41)\n",
    "* [5. Modelling hybrid network](#section5)\n",
    "    * [5.1. FFNN for tabular data](#section51)\n",
    "    * [5.2. CNN for TINTOlib images](#section52)\n",
    "    * [5.3. Concatenate branches](#section53)\n",
    "    * [5.4. Metrics](#section54)\n",
    "    * [5.5. Compile and fit](#section55)\n",
    "* [6. Results](#section6)\n",
    "    * [6.1. Train/Validation representation](#section61)\n",
    "    * [6.2. Validation/Test evaluation](#section62)"
   ]
  },
  {
   "cell_type": "markdown",
   "metadata": {
    "id": "SxTpMExHjpCa"
   },
   "source": [
    "---\n",
    "<a id=\"section0\"></a>\n",
    "# <font color=\"#004D7F\" size=6> 0. Context</font>"
   ]
  },
  {
   "cell_type": "markdown",
   "metadata": {
    "id": "JlVYt3MRrl_V"
   },
   "source": [
    "This is a tutorial on how to read the images created by TINTOlib and pass them to a very simple pretrained Convolutional Neural Network (CNN). The images must already be created by the TINTOlib software. See the documentation in GITHUB for how to create the images from tabular data.\n",
    "\n",
    "Remember that when using CNN you can set the training to be done with GPUs to improve performance.\n",
    "\n",
    "Architecture to develop:\n",
    "\n",
    "<figure><center>\n",
    "  <img src=\"../../img/HyNN.png\" width=\"650\" height=\"400\" alt=\"Gráfica\">\n",
    "  <figcaption><blockquote>Hybrid Neural Network (MLP+CNN) architecture.</a></blockquote></figcaption>\n",
    "</center></figure>"
   ]
  },
  {
   "cell_type": "markdown",
   "metadata": {
    "id": "4RKBgDwzjpCl"
   },
   "source": [
    "---\n",
    "<div style=\"text-align: right\"> <font size=5> <a href=\"#indice\"><i class=\"fa fa-arrow-circle-up\" aria-hidden=\"true\" style=\"color:#004D7F\"></i></a></font></div>\n",
    "\n",
    "---"
   ]
  },
  {
   "cell_type": "markdown",
   "metadata": {},
   "source": [
    "<div class=\"alert alert-block alert-info\">\n",
    "    \n",
    "<i class=\"fa fa-info-circle\" aria-hidden=\"true\"></i>\n",
    "See the paper from [Information Fusion Journal](https://doi.org/10.1016/j.inffus.2022.10.011)"
   ]
  },
  {
   "cell_type": "markdown",
   "metadata": {},
   "source": [
    "<div class=\"alert alert-block alert-info\">\n",
    "    \n",
    "<i class=\"fa fa-info-circle\" aria-hidden=\"true\"></i>\n",
    "See the paper from [SoftwareX](https://doi.org/10.1016/j.softx.2023.101391)"
   ]
  },
  {
   "cell_type": "markdown",
   "metadata": {},
   "source": [
    "<div class=\"alert alert-block alert-info\">\n",
    "    \n",
    "<i class=\"fa fa-info-circle\" aria-hidden=\"true\"></i>\n",
    "You can see all information about TINTO in [GitHub](https://github.com/oeg-upm/TINTO)"
   ]
  },
  {
   "cell_type": "markdown",
   "metadata": {},
   "source": [
    "---\n",
    "<div style=\"text-align: right\"> <font size=5> <a href=\"#indice\"><i class=\"fa fa-arrow-circle-up\" aria-hidden=\"true\" style=\"color:#004D7F\"></i></a></font></div>\n",
    "\n",
    "---"
   ]
  },
  {
   "cell_type": "markdown",
   "metadata": {
    "id": "kpU7pi6yjpCn"
   },
   "source": [
    "<a id=\"section1\"></a>\n",
    "# <font color=\"#004D7F\" size=6> 1. Description</font>"
   ]
  },
  {
   "cell_type": "markdown",
   "metadata": {
    "id": "NL9RoFkEjpCq"
   },
   "source": [
    "The growing interest in the use of algorithms-based machine learning for predictive tasks has generated a large and diverse development of algorithms. However, it is widely known that not all of these algorithms are adapted to efficient solutions in certain tidy data format datasets. For this reason, novel techniques are currently being developed to convert tidy data into images with the aim of using Convolutional Neural Networks (CNNs). TINTOlib offers the opportunity to convert tidy data into images through several techniques: TINTO, IGTD, REFINED, SuperTML, BarGraph, DistanceMatrix and Combination."
   ]
  },
  {
   "cell_type": "markdown",
   "metadata": {
    "id": "HFrF4C89jpCt"
   },
   "source": [
    "---\n",
    "<a id=\"section11\"></a>\n",
    "# <font color=\"#004D7F\" size=5> 1.1. Main Features</font>"
   ]
  },
  {
   "cell_type": "markdown",
   "metadata": {
    "id": "1gruE0_sjpCu"
   },
   "source": [
    "- Supports all CSV data in **[Tidy Data](https://www.jstatsoft.org/article/view/v059i10)** format.\n",
    "- For now, the algorithm converts tabular data for binary and multi-class classification problems into machine learning.\n",
    "- Input data formats:\n",
    "    - **Tabular files**: The input data could be in **[CSV](https://en.wikipedia.org/wiki/Comma-separated_values)**, taking into account the **[Tidy Data](https://www.jstatsoft.org/article/view/v059i10)** format.\n",
    "    - **Dataframe***: The input data could be in **[Pandas Dataframe](https://pandas.pydata.org/docs/reference/api/pandas.DataFrame.html)**, taking into account the **[Tidy Data](https://www.jstatsoft.org/article/view/v059i10)** format.\n",
    "    - **Tidy Data**: The **target** (variable to be predicted) should be set as the last column of the dataset. Therefore, the first columns will be the features.\n",
    "    - All data must be in numerical form. TINTOlib does not accept data in string or any other non-numeric format.\n",
    "- Runs on **Linux**, **Windows** and **macOS** systems.\n",
    "- Compatible with **[Python](https://www.python.org/)** 3.7 or higher."
   ]
  },
  {
   "cell_type": "markdown",
   "metadata": {},
   "source": [
    "---\n",
    "<a id=\"section12\"></a>\n",
    "# <font color=\"#004D7F\" size=5> 1.2. Citation</font>"
   ]
  },
  {
   "cell_type": "markdown",
   "metadata": {},
   "source": [
    "**TINTOlib** is an python library that makes **Synthetic Images** from [Tidy Data](https://www.jstatsoft.org/article/view/v059i10) (also knows as **Tabular Data**).\n",
    "\n",
    "**Citing TINTO**: If you used TINTO in your work, please cite the **[SoftwareX](https://doi.org/10.1016/j.softx.2023.101391)**:\n",
    "\n",
    "```bib\n",
    "@article{softwarex_TINTO,\n",
    "    title = {TINTO: Converting Tidy Data into Image for Classification\n",
    "            with 2-Dimensional Convolutional Neural Networks},\n",
    "    journal = {SoftwareX},\n",
    "    author = {Manuel Castillo-Cara and Reewos Talla-Chumpitaz and\n",
    "              Raúl García-Castro and Luis Orozco-Barbosa},\n",
    "    year = {2023},\n",
    "    pages = {101391},\n",
    "    issn = {2352-7110},\n",
    "    doi = {https://doi.org/10.1016/j.softx.2023.101391}\n",
    "}\n",
    "```\n",
    "\n",
    "And use-case developed in **[INFFUS Paper](https://doi.org/10.1016/j.inffus.2022.10.011)**\n",
    "\n",
    "```bib\n",
    "@article{inffus_TINTO,\n",
    "    title = {A novel deep learning approach using blurring image\n",
    "            techniques for Bluetooth-based indoor localisation},\n",
    "    journal = {Information Fusion},\n",
    "    author = {Reewos Talla-Chumpitaz and Manuel Castillo-Cara and\n",
    "              Luis Orozco-Barbosa and Raúl García-Castro},\n",
    "    volume = {91},\n",
    "    pages = {173-186},\n",
    "    year = {2023},\n",
    "    issn = {1566-2535},\n",
    "    doi = {https://doi.org/10.1016/j.inffus.2022.10.011}\n",
    "}\n",
    "```"
   ]
  },
  {
   "cell_type": "markdown",
   "metadata": {},
   "source": [
    "---\n",
    "<a id=\"section13\"></a>\n",
    "# <font color=\"#004D7F\" size=5> 1.3. Documentation and License</font>"
   ]
  },
  {
   "cell_type": "markdown",
   "metadata": {},
   "source": [
    "TINTOlib has a wide range of documentation on both GitHub and PiPY. \n",
    "\n",
    "Moreover, TINTOlib is free and open software with Apache 2.0 license."
   ]
  },
  {
   "cell_type": "markdown",
   "metadata": {
    "id": "i3tgsO0BjpCj"
   },
   "source": [
    "<div class=\"alert alert-block alert-info\">\n",
    "    \n",
    "<i class=\"fa fa-info-circle\" aria-hidden=\"true\"></i>\n",
    "You can see all information about TINTOlib in [GitHub](https://github.com/oeg-upm/TINTOlib)"
   ]
  },
  {
   "cell_type": "markdown",
   "metadata": {},
   "source": [
    "<div class=\"alert alert-block alert-info\">\n",
    "\n",
    "<i class=\"fa fa-info-circle\" aria-hidden=\"true\"></i>\n",
    "You can see all information about TINTOlib documentation in [PyPI](https://tintolib.readthedocs.io/en/latest/installation.html)"
   ]
  },
  {
   "cell_type": "markdown",
   "metadata": {
    "id": "Z3EzYcjJjpC6"
   },
   "source": [
    "---\n",
    "<div style=\"text-align: right\"> <font size=5> <a href=\"#indice\"><i class=\"fa fa-arrow-circle-up\" aria-hidden=\"true\" style=\"color:#004D7F\"></i></a></font></div>\n",
    "\n",
    "---"
   ]
  },
  {
   "cell_type": "markdown",
   "metadata": {
    "id": "qwYF5A2njpC8"
   },
   "source": [
    "<a id=\"section2\"></a>\n",
    "# <font color=\"#004D7F\" size=6> 2. Libraries</font>"
   ]
  },
  {
   "cell_type": "markdown",
   "metadata": {},
   "source": [
    "The first thing we need to do is to declare the libraries"
   ]
  },
  {
   "cell_type": "markdown",
   "metadata": {},
   "source": [
    "<a id=\"section21\"></a>\n",
    "# <font color=\"#004D7F\" size=5> 2.1. System setup</font>"
   ]
  },
  {
   "cell_type": "markdown",
   "metadata": {},
   "source": [
    "Before installing the libraries you must have the `mpi4py` package installed on the native (Linux) system. This link shows how to install it: \n",
    "- Link: [`mpi4py` in Linux](https://www.geeksforgeeks.org/how-to-install-python3-mpi4py-package-on-linux/)\n",
    "\n",
    "For example, in Linux:\n",
    "\n",
    "```\n",
    "    sudo apt-get install python3\n",
    "    sudo apt install python3-pip\n",
    "    sudo apt install python3-mpi4py\n",
    "```\n",
    "\n",
    "If you are in Windows, Mac or, also, Linux, you can install from PyPI if you want:\n",
    "```\n",
    "    sudo pip3 install mpi4py\n",
    "```"
   ]
  },
  {
   "cell_type": "markdown",
   "metadata": {},
   "source": [
    "<div class=\"alert alert-block alert-info\">\n",
    "    \n",
    "<i class=\"fa fa-info-circle\" aria-hidden=\"true\"></i>\n",
    "Note that you must **restart the kernel or the system** so that it can load the libraries. "
   ]
  },
  {
   "cell_type": "markdown",
   "metadata": {},
   "source": [
    "Now, once you have installed `mpi4py` you can install the PyPI libraries and dependences."
   ]
  },
  {
   "cell_type": "code",
   "execution_count": 1,
   "metadata": {},
   "outputs": [],
   "source": [
    "#!pip install torchmetrics pytorch_lightning TINTOlib imblearn keras_preprocessing mpi4py tifffile tqdm"
   ]
  },
  {
   "cell_type": "markdown",
   "metadata": {},
   "source": [
    "<div class=\"alert alert-block alert-info\">\n",
    "    \n",
    "<i class=\"fa fa-info-circle\" aria-hidden=\"true\"></i>\n",
    "Note that you must **restart the kernel** so that it can load the libraries. "
   ]
  },
  {
   "cell_type": "markdown",
   "metadata": {},
   "source": [
    "---\n",
    "<a id=\"section22\"></a>\n",
    "# <font color=\"#004D7F\" size=5> 2.2. Invoke the libraries</font>"
   ]
  },
  {
   "cell_type": "markdown",
   "metadata": {
    "id": "5AdHKnWYsEq_"
   },
   "source": [
    "The first thing we need to do is to declare the libraries"
   ]
  },
  {
   "cell_type": "code",
   "execution_count": 1,
   "metadata": {
    "id": "PeeBbGxlpjFp",
    "scrolled": true,
    "tags": []
   },
   "outputs": [
    {
     "name": "stderr",
     "output_type": "stream",
     "text": [
      "/var/folders/9h/d3b8zc6j5019cyvmb_h929xm0000gn/T/ipykernel_4293/3492506917.py:3: DeprecationWarning: \n",
      "Pyarrow will become a required dependency of pandas in the next major release of pandas (pandas 3.0),\n",
      "(to allow more performant data types, such as the Arrow string type, and better interoperability with other libraries)\n",
      "but was not found to be installed on your system.\n",
      "If this would cause problems for you,\n",
      "please provide us feedback at https://github.com/pandas-dev/pandas/issues/54466\n",
      "        \n",
      "  import pandas as pd\n",
      "/Users/manwest/Library/Python/3.9/lib/python/site-packages/urllib3/__init__.py:35: NotOpenSSLWarning: urllib3 v2 only supports OpenSSL 1.1.1+, currently the 'ssl' module is compiled with 'LibreSSL 2.8.3'. See: https://github.com/urllib3/urllib3/issues/3020\n",
      "  warnings.warn(\n"
     ]
    },
    {
     "name": "stdout",
     "output_type": "stream",
     "text": [
      "OK\n"
     ]
    }
   ],
   "source": [
    "import os\n",
    "import random\n",
    "import pandas as pd\n",
    "import numpy as np\n",
    "from tqdm import tqdm\n",
    "#import cv2\n",
    "import gc\n",
    "import matplotlib.pyplot as plt\n",
    "#import openslide\n",
    "#from openslide.deepzoom import DeepZoomGenerator\n",
    "import tifffile as tifi\n",
    "import sklearn\n",
    "import tensorflow as tf\n",
    "import seaborn as sns\n",
    "from PIL import Image\n",
    "\n",
    "\n",
    "from sklearn.metrics import mean_absolute_error, mean_squared_error, r2_score,mean_absolute_percentage_error\n",
    "\n",
    "from keras_preprocessing.image import ImageDataGenerator\n",
    "from tensorflow.keras.models import load_model\n",
    "\n",
    "from sklearn.model_selection import train_test_split\n",
    "from tensorflow.keras.applications import vgg16, vgg19, resnet50, mobilenet, inception_resnet_v2, densenet, inception_v3, xception, nasnet, ResNet152V2\n",
    "from tensorflow.keras.models import Sequential, Model, load_model\n",
    "from tensorflow.keras.layers import Dense, Conv2D, MaxPool2D, Flatten, Dropout, BatchNormalization, InputLayer, LayerNormalization\n",
    "from tensorflow.keras.callbacks import ModelCheckpoint, ReduceLROnPlateau, EarlyStopping\n",
    "from tensorflow.keras.optimizers import SGD, Adam, Adadelta, Adamax\n",
    "from tensorflow.keras import layers, models, Model\n",
    "from tensorflow.keras.losses import MeanAbsoluteError, MeanAbsolutePercentageError\n",
    "from tensorflow.keras.layers import Input, Activation,MaxPooling2D, concatenate, AveragePooling2D, Concatenate\n",
    "from keras.utils import plot_model\n",
    "#from imblearn.over_sampling import RandomOverSampler\n",
    "\n",
    "#Models of TINTOlib\n",
    "from TINTOlib.barGraph import BarGraph\n",
    "from TINTOlib.combination import Combination\n",
    "from TINTOlib.distanceMatrix import DistanceMatrix\n",
    "from TINTOlib.igtd import IGTD\n",
    "from TINTOlib.refined import REFINED\n",
    "from TINTOlib.supertml import SuperTML\n",
    "from TINTOlib.tinto import TINTO\n",
    "\n",
    "SEED = 64\n",
    "# SET RANDOM SEED FOR REPRODUCIBILITY\n",
    "#torch.manual_seed(SEED)\n",
    "#torch.cuda.manual_seed(SEED)\n",
    "#torch.cuda.manual_seed_all(SEED)\n",
    "#torch.backends.cudnn.deterministic = True\n",
    "#torch.backends.cudnn.benchmark = False\n",
    "os.environ['PYTHONHASHSEED']=str(SEED)\n",
    "random.seed(SEED)\n",
    "np.random.seed(SEED)\n",
    "tf.random.set_seed(SEED)"
   ]
  },
  {
   "cell_type": "markdown",
   "metadata": {
    "id": "NwS-cKUxjpDQ"
   },
   "source": [
    "---\n",
    "<div style=\"text-align: right\"> <font size=5> <a href=\"#indice\"><i class=\"fa fa-arrow-circle-up\" aria-hidden=\"true\" style=\"color:#004D7F\"></i></a></font></div>\n",
    "\n",
    "---"
   ]
  },
  {
   "cell_type": "markdown",
   "metadata": {
    "id": "aDL4LARWjpDT"
   },
   "source": [
    "<a id=\"section3\"></a>\n",
    "# <font color=\"#004D7F\" size=6> 3. Data processing</font>"
   ]
  },
  {
   "cell_type": "markdown",
   "metadata": {
    "id": "jXcRw78ljpDU"
   },
   "source": [
    "The first thing to do is to read all the images created by TINTO. TINTO creates a folder which contains subfolders corresponding to each target that has the problem. Each image corresponds to a sample of the original dataset."
   ]
  },
  {
   "cell_type": "markdown",
   "metadata": {},
   "source": [
    "---\n",
    "<a id=\"section31\"></a>\n",
    "# <font color=\"#004D7F\" size=5> 3.1. TINTOlib methods</font>\n",
    "\n",
    "We prepare the declaration of the classes with the TINTOlib method we want to transform. Note that TINTOlib has several methods and we will have to choose one of them since each method generates different images.\n",
    "\n",
    "In addition, we establish the paths where the dataset is located and also the folder where the images will be created."
   ]
  },
  {
   "cell_type": "markdown",
   "metadata": {
    "id": "Q_fROCY5C__S"
   },
   "source": [
    "<a id=\"section31\"></a>\n",
    "# <font color=\"#004D7F\" size=5> 3.1. Create images with TINTOlib</font>"
   ]
  },
  {
   "cell_type": "code",
   "execution_count": 8,
   "metadata": {
    "id": "oXYAlWzQC__T"
   },
   "outputs": [],
   "source": [
    "#Select the model and the parameters\n",
    "#problem_type = \"supervised\"\n",
    "problem_type = \"regression\"\n",
    "pixel = 20\n",
    "## zoom para ampliar la imagen\n",
    "#image_model = REFINED(problem=problem_type, random_seed=SEED, zoom=7, n_processors=12)\n",
    "image_model = TINTO(problem= problem_type, blur=True, option='maximum', pixels=pixel, random_seed=SEED)\n",
    "# scale sería [7,4] porque hay 26 variables (para 24 pixeles); \n",
    "#image_model = IGTD(problem= problem_type, random_seed=SEED, scale=[4,4], zoom=3)\n",
    "#image_model = BarGraph(problem= problem_type)\n",
    "#image_model = DistanceMatrix(problem= problem_type)\n",
    "#image_model = Combination(problem= problem_typ)\n",
    "# \n",
    "#image_model = SuperTML(problem= problem_type, pixels=pixel, font_size=8, feature_importance=true, random_seed=SEED)\n",
    "\n",
    "#Define the dataset path and the folder where the images will be saved\n",
    "results_folder = \"../../Results/Boston_Tinto_blurring\"\n",
    "dataset_path = \"../../Datasets/boston.csv\"\n",
    "images_folder = \"../../Synthetic_images/Boston_Tinto_blurring\""
   ]
  },
  {
   "cell_type": "markdown",
   "metadata": {},
   "source": [
    "<div class=\"alert alert-block alert-info\">\n",
    "\n",
    "<i class=\"fa fa-info-circle\" aria-hidden=\"true\"></i>\n",
    "You can see all information about TINTOlib documentation in [PyPI](https://tintolib.readthedocs.io/en/latest/installation.html)"
   ]
  },
  {
   "cell_type": "markdown",
   "metadata": {},
   "source": [
    "---\n",
    "<a id=\"section32\"></a>\n",
    "# <font color=\"#004D7F\" size=5> 3.2. Read the dataset</font>\n",
    "\n",
    "In this part, we proceed to read the dataset according to the path specified above and also standardize the name that the target will have."
   ]
  },
  {
   "cell_type": "code",
   "execution_count": 9,
   "metadata": {},
   "outputs": [
    {
     "data": {
      "text/html": [
       "<div>\n",
       "<style scoped>\n",
       "    .dataframe tbody tr th:only-of-type {\n",
       "        vertical-align: middle;\n",
       "    }\n",
       "\n",
       "    .dataframe tbody tr th {\n",
       "        vertical-align: top;\n",
       "    }\n",
       "\n",
       "    .dataframe thead th {\n",
       "        text-align: right;\n",
       "    }\n",
       "</style>\n",
       "<table border=\"1\" class=\"dataframe\">\n",
       "  <thead>\n",
       "    <tr style=\"text-align: right;\">\n",
       "      <th></th>\n",
       "      <th>CRIM</th>\n",
       "      <th>ZN</th>\n",
       "      <th>INDUS</th>\n",
       "      <th>CHAS</th>\n",
       "      <th>NOX</th>\n",
       "      <th>RM</th>\n",
       "      <th>AGE</th>\n",
       "      <th>DIS</th>\n",
       "      <th>RAD</th>\n",
       "      <th>TAX</th>\n",
       "      <th>PTRATIO</th>\n",
       "      <th>B</th>\n",
       "      <th>LSTAT</th>\n",
       "      <th>MEDV</th>\n",
       "    </tr>\n",
       "  </thead>\n",
       "  <tbody>\n",
       "    <tr>\n",
       "      <th>0</th>\n",
       "      <td>0.00632</td>\n",
       "      <td>18.0</td>\n",
       "      <td>2.31</td>\n",
       "      <td>0</td>\n",
       "      <td>0.538</td>\n",
       "      <td>6.575</td>\n",
       "      <td>65.2</td>\n",
       "      <td>4.0900</td>\n",
       "      <td>1</td>\n",
       "      <td>296.0</td>\n",
       "      <td>15.3</td>\n",
       "      <td>396.9</td>\n",
       "      <td>4.98</td>\n",
       "      <td>24.0</td>\n",
       "    </tr>\n",
       "    <tr>\n",
       "      <th>1</th>\n",
       "      <td>0.02731</td>\n",
       "      <td>0.0</td>\n",
       "      <td>7.07</td>\n",
       "      <td>0</td>\n",
       "      <td>0.469</td>\n",
       "      <td>6.421</td>\n",
       "      <td>78.9</td>\n",
       "      <td>4.9671</td>\n",
       "      <td>2</td>\n",
       "      <td>242.0</td>\n",
       "      <td>17.8</td>\n",
       "      <td>396.9</td>\n",
       "      <td>9.14</td>\n",
       "      <td>21.6</td>\n",
       "    </tr>\n",
       "  </tbody>\n",
       "</table>\n",
       "</div>"
      ],
      "text/plain": [
       "      CRIM    ZN  INDUS  CHAS    NOX     RM   AGE     DIS  RAD    TAX  \\\n",
       "0  0.00632  18.0   2.31     0  0.538  6.575  65.2  4.0900    1  296.0   \n",
       "1  0.02731   0.0   7.07     0  0.469  6.421  78.9  4.9671    2  242.0   \n",
       "\n",
       "   PTRATIO      B  LSTAT  MEDV  \n",
       "0     15.3  396.9   4.98  24.0  \n",
       "1     17.8  396.9   9.14  21.6  "
      ]
     },
     "execution_count": 9,
     "metadata": {},
     "output_type": "execute_result"
    }
   ],
   "source": [
    "#Read CSV\n",
    "df = pd.read_csv(dataset_path)\n",
    "df.head(2)"
   ]
  },
  {
   "cell_type": "code",
   "execution_count": 10,
   "metadata": {},
   "outputs": [
    {
     "data": {
      "text/plain": [
       "(506, 14)"
      ]
     },
     "execution_count": 10,
     "metadata": {},
     "output_type": "execute_result"
    }
   ],
   "source": [
    "df.shape"
   ]
  },
  {
   "cell_type": "markdown",
   "metadata": {},
   "source": [
    "---\n",
    "<a id=\"section33\"></a>\n",
    "# <font color=\"#004D7F\" size=5> 3.3. Generate images</font>\n",
    "\n",
    "Now we can generate the images with the `generateImages()` generic function. Likewise, we create a dataset that will have the path of each of the samples with the corresponding image created for it. \n",
    "\n",
    "Note that each image is created based on a row, therefore, each numerical sample of the dataset will correspond to a particular image. In other words, we will have the same number of images as samples/rows."
   ]
  },
  {
   "cell_type": "code",
   "execution_count": 11,
   "metadata": {},
   "outputs": [
    {
     "name": "stdout",
     "output_type": "stream",
     "text": [
      "../../Synthetic_images/Boston_Tinto_blurring/regression.csv\n"
     ]
    }
   ],
   "source": [
    "import os\n",
    "\n",
    "# Generate the images if the folder does not exist\n",
    "if not os.path.exists(images_folder):\n",
    "    #Generate thet images\n",
    "    image_model.generateImages(df, images_folder)\n",
    "else:\n",
    "    print(\"The images are already generated\")\n",
    "\n",
    "img_paths = os.path.join(images_folder,problem_type+\".csv\")\n",
    "\n",
    "print(img_paths)"
   ]
  },
  {
   "cell_type": "markdown",
   "metadata": {
    "id": "klS9PZsUjpDV"
   },
   "source": [
    "---\n",
    "<a id=\"section34\"></a>\n",
    "# <font color=\"#004D7F\" size=5> 3.4. Read Images</font>\n",
    "\n",
    "Now, we read the created images "
   ]
  },
  {
   "cell_type": "code",
   "execution_count": 12,
   "metadata": {},
   "outputs": [],
   "source": [
    "imgs = pd.read_csv(img_paths)\n",
    "\n",
    "#imgs[\"images\"]= images_folder + \"\\\\\" + imgs[\"images\"]\n",
    "imgs[\"images\"]= images_folder + \"/\" + imgs[\"images\"]"
   ]
  },
  {
   "cell_type": "markdown",
   "metadata": {},
   "source": [
    "---\n",
    "<a id=\"section35\"></a>\n",
    "# <font color=\"#004D7F\" size=5> 3.5. Mix images and tidy data</font>\n",
    "\n",
    "Since we are going to use hybrid networks, i.e. create a model in which we join a CNN for the images and a MLP for the tabular data, we are going to join it in order to integrate all the data in our hybrid model.\n"
   ]
  },
  {
   "cell_type": "code",
   "execution_count": 13,
   "metadata": {},
   "outputs": [
    {
     "data": {
      "text/html": [
       "<div>\n",
       "<style scoped>\n",
       "    .dataframe tbody tr th:only-of-type {\n",
       "        vertical-align: middle;\n",
       "    }\n",
       "\n",
       "    .dataframe tbody tr th {\n",
       "        vertical-align: top;\n",
       "    }\n",
       "\n",
       "    .dataframe thead th {\n",
       "        text-align: right;\n",
       "    }\n",
       "</style>\n",
       "<table border=\"1\" class=\"dataframe\">\n",
       "  <thead>\n",
       "    <tr style=\"text-align: right;\">\n",
       "      <th></th>\n",
       "      <th>CRIM</th>\n",
       "      <th>ZN</th>\n",
       "      <th>INDUS</th>\n",
       "      <th>CHAS</th>\n",
       "      <th>NOX</th>\n",
       "      <th>RM</th>\n",
       "      <th>AGE</th>\n",
       "      <th>DIS</th>\n",
       "      <th>RAD</th>\n",
       "      <th>TAX</th>\n",
       "      <th>PTRATIO</th>\n",
       "      <th>B</th>\n",
       "      <th>LSTAT</th>\n",
       "      <th>MEDV</th>\n",
       "    </tr>\n",
       "  </thead>\n",
       "  <tbody>\n",
       "    <tr>\n",
       "      <th>0</th>\n",
       "      <td>0.000000</td>\n",
       "      <td>0.18</td>\n",
       "      <td>0.067815</td>\n",
       "      <td>0.0</td>\n",
       "      <td>0.314815</td>\n",
       "      <td>0.577505</td>\n",
       "      <td>0.641607</td>\n",
       "      <td>0.269203</td>\n",
       "      <td>0.000000</td>\n",
       "      <td>0.208015</td>\n",
       "      <td>0.287234</td>\n",
       "      <td>1.0</td>\n",
       "      <td>0.08968</td>\n",
       "      <td>24.0</td>\n",
       "    </tr>\n",
       "    <tr>\n",
       "      <th>1</th>\n",
       "      <td>0.000236</td>\n",
       "      <td>0.00</td>\n",
       "      <td>0.242302</td>\n",
       "      <td>0.0</td>\n",
       "      <td>0.172840</td>\n",
       "      <td>0.547998</td>\n",
       "      <td>0.782698</td>\n",
       "      <td>0.348962</td>\n",
       "      <td>0.043478</td>\n",
       "      <td>0.104962</td>\n",
       "      <td>0.553191</td>\n",
       "      <td>1.0</td>\n",
       "      <td>0.20447</td>\n",
       "      <td>21.6</td>\n",
       "    </tr>\n",
       "  </tbody>\n",
       "</table>\n",
       "</div>"
      ],
      "text/plain": [
       "       CRIM    ZN     INDUS  CHAS       NOX        RM       AGE       DIS  \\\n",
       "0  0.000000  0.18  0.067815   0.0  0.314815  0.577505  0.641607  0.269203   \n",
       "1  0.000236  0.00  0.242302   0.0  0.172840  0.547998  0.782698  0.348962   \n",
       "\n",
       "        RAD       TAX   PTRATIO    B    LSTAT  MEDV  \n",
       "0  0.000000  0.208015  0.287234  1.0  0.08968  24.0  \n",
       "1  0.043478  0.104962  0.553191  1.0  0.20447  21.6  "
      ]
     },
     "execution_count": 13,
     "metadata": {},
     "output_type": "execute_result"
    }
   ],
   "source": [
    "# Select all the attributes to normalize\n",
    "columns_to_normalize = df.columns[:-1]\n",
    "\n",
    "# Normalize between 0 and 1\n",
    "df_normalized = (df[columns_to_normalize] - df[columns_to_normalize].min()) / (df[columns_to_normalize].max() - df[columns_to_normalize].min())\n",
    "\n",
    "# Combine the attributes and the label\n",
    "df_normalized = pd.concat([df_normalized, df[df.columns[-1]]], axis=1)\n",
    "\n",
    "df_normalized.head(2)"
   ]
  },
  {
   "cell_type": "markdown",
   "metadata": {},
   "source": [
    "Combine the images and tidy data in the same dataframe, split attributes and objective value"
   ]
  },
  {
   "cell_type": "code",
   "execution_count": 14,
   "metadata": {},
   "outputs": [
    {
     "name": "stdout",
     "output_type": "stream",
     "text": [
      "0      24.0\n",
      "1      21.6\n",
      "2      34.7\n",
      "3      33.4\n",
      "4      36.2\n",
      "       ... \n",
      "501    22.4\n",
      "502    20.6\n",
      "503    23.9\n",
      "504    22.0\n",
      "505    11.9\n",
      "Name: values, Length: 506, dtype: float64\n"
     ]
    }
   ],
   "source": [
    "combined_dataset = pd.concat([imgs,df_normalized],axis=1)\n",
    "#MEDV is the objective value in Boston dataset\n",
    "df_x = combined_dataset.drop(\"MEDV\",axis=1).drop(\"values\",axis=1)\n",
    "df_y = combined_dataset[\"values\"]\n",
    "\n",
    "print(df_y)"
   ]
  },
  {
   "cell_type": "markdown",
   "metadata": {
    "id": "_haEKIo7jpD1"
   },
   "source": [
    "---\n",
    "<div style=\"text-align: right\"> <font size=5> <a href=\"#indice\"><i class=\"fa fa-arrow-circle-up\" aria-hidden=\"true\" style=\"color:#004D7F\"></i></a></font></div>\n",
    "\n",
    "---"
   ]
  },
  {
   "cell_type": "markdown",
   "metadata": {
    "id": "uF1lJWbojpD3"
   },
   "source": [
    "<a id=\"section4\"></a>\n",
    "# <font color=\"#004D7F\" size=6> 4. Pre-modelling phase</font>"
   ]
  },
  {
   "cell_type": "markdown",
   "metadata": {},
   "source": [
    "Once the data is ready, we load it into memory with an iterator in order to pass it to the CNN."
   ]
  },
  {
   "cell_type": "markdown",
   "metadata": {},
   "source": [
    "---\n",
    "<a id=\"section41\"></a>\n",
    "# <font color=\"#004D7F\" size=5> 4.1. Data curation</font>\n",
    "\n",
    "Note that each method generates images of **different pixel size**. For example:\n",
    "- `TINTO` method has a parameter that you can specify the size in pixels which by default is 20. \n",
    "- Other parameters such as `Combined` generates the size automatically and you must obtain them from the _shape_ of the images."
   ]
  },
  {
   "cell_type": "markdown",
   "metadata": {},
   "source": [
    "<div class=\"alert alert-block alert-info\">\n",
    "\n",
    "<i class=\"fa fa-info-circle\" aria-hidden=\"true\"></i>\n",
    "You can see all information about TINTOlib documentation in [PyPI](https://tintolib.readthedocs.io/en/latest/installation.html)"
   ]
  },
  {
   "cell_type": "markdown",
   "metadata": {},
   "source": [
    "Split in train/test/validation. \n",
    "\n",
    "Note that the partitioning of the images is also performed, in addition to the tabular data."
   ]
  },
  {
   "cell_type": "markdown",
   "metadata": {},
   "source": [
    "<div class=\"alert alert-block alert-info\">\n",
    "\n",
    "<i class=\"fa fa-info-circle\" aria-hidden=\"true\"></i>\n",
    "💡 **Important!!!**:  Keep in mind that, depending on the method used, you need to identify the number of pixels in the image. For example, in TINTO it is specified as a parameter, but in IGTD it is done afterwards, once the image is created (and even the pixels of width and height can be different)."
   ]
  },
  {
   "cell_type": "code",
   "execution_count": 19,
   "metadata": {},
   "outputs": [],
   "source": [
    "# Depends on the method yo may have to change the value of pixel variable\n",
    "pixel = 20"
   ]
  },
  {
   "cell_type": "code",
   "execution_count": 20,
   "metadata": {},
   "outputs": [
    {
     "name": "stdout",
     "output_type": "stream",
     "text": [
      "Images shape:  (20, 20, 3)\n",
      "Attributres:  13\n",
      "Image size (pixels): 20\n"
     ]
    }
   ],
   "source": [
    "import cv2\n",
    "X_train, X_val, y_train, y_val = train_test_split(df_x, df_y, test_size = 0.40, random_state = SEED)\n",
    "X_val, X_test, y_val, y_test = train_test_split(X_val, y_val, test_size = 0.50, random_state = SEED)\n",
    "\n",
    "#TIDY DATA SPLITTED\n",
    "X_train_num = X_train.drop(\"images\",axis=1)\n",
    "X_val_num = X_val.drop(\"images\",axis=1)\n",
    "X_test_num = X_test.drop(\"images\",axis=1)\n",
    "\n",
    "#IMAGES \n",
    "# For 3 canal (RGB)\n",
    "X_train_img = np.array([cv2.resize(cv2.imread(img),(pixel,pixel)) for img in X_train[\"images\"]])\n",
    "X_val_img = np.array([cv2.resize(cv2.imread(img),(pixel,pixel)) for img in X_val[\"images\"]])\n",
    "X_test_img = np.array([cv2.resize(cv2.imread(img),(pixel,pixel)) for img in X_test[\"images\"]])\n",
    "\n",
    "# For 1 canal (GRAY SCALE)\n",
    "\"\"\"X_train_img = np.array([cv2.imread(img,cv2.IMREAD_GRAYSCALE) for img in X_train[\"images\"]])\n",
    "X_val_img = np.array([cv2.imread(img,cv2.IMREAD_GRAYSCALE) for img in X_val[\"images\"]])\n",
    "X_test_img = np.array([cv2.imread(img,cv2.IMREAD_GRAYSCALE) for img in X_test[\"images\"]])\"\"\"\n",
    "\n",
    "attributes = len(X_train_num.columns)\n",
    "imgs_shape = X_train_img[0].shape\n",
    "\n",
    "print(\"Images shape: \",imgs_shape)\n",
    "print(\"Attributres: \",attributes)\n",
    "pixel=X_train_img[0].shape[0]\n",
    "print(\"Image size (pixels):\", pixel)"
   ]
  },
  {
   "cell_type": "markdown",
   "metadata": {
    "id": "SaP_OB1yC__b"
   },
   "source": [
    "<a id=\"section5\"></a>\n",
    "# <font color=\"#004D7F\" size=6> 5. Modeling hybrid network</font>"
   ]
  },
  {
   "cell_type": "markdown",
   "metadata": {},
   "source": [
    "Now we can start the CNN+MLP training. Before that we prepare the algorithm for reading data.\n",
    "\n",
    "In this example, 2 branch networks is created\n",
    "- 1º branch: FFNN for tabular data\n",
    "- 2º branch: CNN for TINTOlib images"
   ]
  },
  {
   "cell_type": "markdown",
   "metadata": {},
   "source": [
    "---\n",
    "<a id=\"section51\"></a>\n",
    "# <font color=\"#004D7F\" size=5> 5.1. FFNN for tabular data</font>\n",
    "\n",
    "This is an example of a simple FFNN for tabular data. Note that we are not looking for the optimization of the CNN but to show an example of TINTOlib execution."
   ]
  },
  {
   "cell_type": "code",
   "execution_count": 21,
   "metadata": {
    "id": "8YlEhQqrC__c"
   },
   "outputs": [],
   "source": [
    "dropout = 0.3"
   ]
  },
  {
   "cell_type": "code",
   "execution_count": 22,
   "metadata": {},
   "outputs": [
    {
     "name": "stderr",
     "output_type": "stream",
     "text": [
      "2024-05-29 10:40:47.962766: I metal_plugin/src/device/metal_device.cc:1154] Metal device set to: Apple M3 Pro\n",
      "2024-05-29 10:40:47.962816: I metal_plugin/src/device/metal_device.cc:296] systemMemory: 36.00 GB\n",
      "2024-05-29 10:40:47.962820: I metal_plugin/src/device/metal_device.cc:313] maxCacheSize: 13.50 GB\n",
      "2024-05-29 10:40:47.962842: I tensorflow/core/common_runtime/pluggable_device/pluggable_device_factory.cc:305] Could not identify NUMA node of platform GPU ID 0, defaulting to 0. Your kernel may not have been built with NUMA support.\n",
      "2024-05-29 10:40:47.963069: I tensorflow/core/common_runtime/pluggable_device/pluggable_device_factory.cc:271] Created TensorFlow device (/job:localhost/replica:0/task:0/device:GPU:0 with 0 MB memory) -> physical PluggableDevice (device: 0, name: METAL, pci bus id: <undefined>)\n"
     ]
    }
   ],
   "source": [
    "#filters_ffnn = [1024,512,256,128,64,32,16]\n",
    "\n",
    "ff_inputs = Input(shape = (attributes,))\n",
    "\n",
    "# * START BRANCH 1\n",
    "#mlp_1 = Dense(1024, activation='relu')(ff_inputs)\n",
    "#mlp_1 = BatchNormalization()(mlp_1)\n",
    "#mlp_1 = Dropout(dropout)(mlp_1)\n",
    "\n",
    "mlp_1 = Dense(512, activation='relu')(ff_inputs)\n",
    "mlp_1 = BatchNormalization()(mlp_1)\n",
    "mlp_1 = Dropout(dropout)(mlp_1)\n",
    "\n",
    "mlp_1 = Dense(256, activation='relu')(mlp_1)\n",
    "mlp_1 = BatchNormalization()(mlp_1)\n",
    "mlp_1 = Dropout(dropout)(mlp_1)\n",
    "\n",
    "mlp_1 = Dense(128, activation='relu')(mlp_1)\n",
    "mlp_1 = BatchNormalization()(mlp_1)\n",
    "mlp_1 = Dropout(dropout)(mlp_1)\n",
    "\n",
    "mlp_1 = Dense(64, activation='relu')(mlp_1)\n",
    "mlp_1 = BatchNormalization()(mlp_1)\n",
    "mlp_1 = Dropout(dropout)(mlp_1)\n",
    "\n",
    "mlp_1 = Dense(32, activation='relu')(mlp_1)\n",
    "mlp_1 = BatchNormalization()(mlp_1)\n",
    "mlp_1 = Dropout(dropout)(mlp_1)\n",
    "\n",
    "mlp_1 = Dense(16, activation='relu')(mlp_1)\n",
    "mlp_1 = BatchNormalization()(mlp_1)\n",
    "mlp_1 = Dropout(dropout)(mlp_1)\n",
    "\n",
    "# * START BRANCH 2\n",
    "#mlp_2 = Dense(1024, activation='relu')(ff_inputs)\n",
    "#mlp_2 = BatchNormalization()(mlp_2)\n",
    "#mlp_2 = Dropout(dropout)(mlp_2)\n",
    "\n",
    "mlp_2 = Dense(512, activation='relu')(ff_inputs)\n",
    "mlp_2 = BatchNormalization()(mlp_2)\n",
    "mlp_2 = Dropout(dropout)(mlp_2)\n",
    "\n",
    "mlp_2 = Dense(256, activation='relu')(mlp_2)\n",
    "mlp_2 = BatchNormalization()(mlp_2)\n",
    "mlp_2 = Dropout(dropout)(mlp_2)\n",
    "\n",
    "mlp_2 = Dense(128, activation='relu')(mlp_2)\n",
    "mlp_2 = BatchNormalization()(mlp_2)\n",
    "mlp_2 = Dropout(dropout)(mlp_2)\n",
    "\n",
    "mlp_2 = Dense(64, activation='relu')(mlp_2)\n",
    "mlp_2 = BatchNormalization()(mlp_2)\n",
    "mlp_2 = Dropout(dropout)(mlp_2)\n",
    "\n",
    "mlp_2 = Dense(32, activation='relu')(mlp_2)\n",
    "mlp_2 = BatchNormalization()(mlp_2)\n",
    "mlp_2 = Dropout(dropout)(mlp_2)\n",
    "\n",
    "mlp_2 = Dense(16, activation='relu')(mlp_2)\n",
    "mlp_2 = BatchNormalization()(mlp_2)\n",
    "mlp_2 = Dropout(dropout)(mlp_2)\n",
    "\n",
    "merged_tabular = Concatenate(axis=1)([mlp_1, mlp_2])\n",
    "\n",
    "ff_model = Model(inputs = ff_inputs, outputs = merged_tabular)"
   ]
  },
  {
   "cell_type": "markdown",
   "metadata": {},
   "source": [
    "---\n",
    "<a id=\"section52\"></a>\n",
    "# <font color=\"#004D7F\" size=5> 5.2. CNN for TINTOlib images</font>\n",
    "\n",
    "This is an example of a simple CNN for TINTOlib images. Note that we are not looking for the optimization of the CNN but to show an example of TINTOlib execution."
   ]
  },
  {
   "cell_type": "code",
   "execution_count": 24,
   "metadata": {},
   "outputs": [],
   "source": [
    "#Input\n",
    "#input_shape = Input(shape=imgs_shape)\n",
    "input_shape = Input(shape=(pixel, pixel, 3))\n",
    "\n",
    "# CNN branch 1\n",
    "tower_1 = Conv2D(16, (3,3), activation='relu',padding=\"same\")(input_shape)\n",
    "tower_1 = BatchNormalization()(tower_1)\n",
    "tower_1 = Activation('relu')(tower_1)\n",
    "tower_1 = MaxPooling2D(2,2)(tower_1)\n",
    "tower_1 = Dropout(dropout)(tower_1)\n",
    "\n",
    "tower_1 = Conv2D(32, (3,3), activation='relu',padding=\"same\")(tower_1)\n",
    "tower_1 = BatchNormalization()(tower_1)\n",
    "tower_1 = Activation('relu')(tower_1)\n",
    "tower_1 = MaxPooling2D(2,2)(tower_1)\n",
    "tower_1 = Dropout(dropout)(tower_1)\n",
    "\n",
    "tower_1 = Conv2D(64, (3,3), activation='relu',padding=\"same\")(tower_1)\n",
    "tower_1 = BatchNormalization()(tower_1)\n",
    "tower_1 = Activation('relu')(tower_1)\n",
    "tower_1 = MaxPooling2D(2,2)(tower_1)\n",
    "tower_1 = Dropout(dropout)(tower_1)\n",
    "\n",
    "#tower_1 = Conv2D(64, (3,3), activation='relu',padding=\"same\")(tower_1)\n",
    "#tower_1 = BatchNormalization()(tower_1)\n",
    "#tower_1 = Activation('relu')(tower_1)\n",
    "#tower_1 = MaxPooling2D(2,2)(tower_1)\n",
    "#tower_1 = Dropout(dropout)(tower_1)\n",
    "\n",
    "#CNN branch 2\n",
    "tower_2 = Conv2D(16, (5,5), activation='relu',padding=\"same\")(input_shape)\n",
    "tower_2 = BatchNormalization()(tower_2)\n",
    "tower_2 = Activation('relu')(tower_2)\n",
    "tower_2 = AveragePooling2D(2,2)(tower_2)\n",
    "tower_2 = Dropout(dropout)(tower_2)\n",
    "\n",
    "tower_2 = Conv2D(32, (5,5), activation='relu',padding=\"same\")(tower_2)\n",
    "tower_2 = BatchNormalization()(tower_2)\n",
    "tower_2 = Activation('relu')(tower_2)\n",
    "tower_2 = AveragePooling2D(2,2)(tower_2)\n",
    "tower_2 = Dropout(dropout)(tower_2)\n",
    "\n",
    "tower_2 = Conv2D(64, (5,5), activation='relu',padding=\"same\")(tower_2)\n",
    "tower_2 = BatchNormalization()(tower_2)\n",
    "tower_2 = Activation('relu')(tower_2)\n",
    "tower_2 = AveragePooling2D(2,2)(tower_2)\n",
    "tower_2 = Dropout(dropout)(tower_2)\n",
    "\n",
    "#tower_2 = Conv2D(64, (5,5), activation='relu',padding=\"same\")(tower_2)\n",
    "#tower_2 = BatchNormalization()(tower_2)\n",
    "#tower_2 = Activation('relu')(tower_2)\n",
    "#tower_2 = AveragePooling2D(2,2)(tower_2)\n",
    "#tower_2 = Dropout(dropout)(tower_2)\n",
    "\n",
    "#Concatenate CNN branches\n",
    "merged = Concatenate(axis=1)([tower_1, tower_2])\n",
    "\n",
    "#Flatten\n",
    "merged = Flatten()(merged)\n",
    "\n",
    "#Dense layers\n",
    "out = Dense(256, activation='relu')(merged)\n",
    "out = Dropout(dropout)(merged)\n",
    "out = Dense(128, activation='sigmoid')(out)\n",
    "out = Dropout(dropout)(out)\n",
    "out = Dense(64, activation='sigmoid')(out)\n",
    "out = Dropout(dropout)(out)\n",
    "out = Dense(32, activation='sigmoid')(out)\n",
    "out = Dropout(dropout)(out)\n",
    "\n",
    "cnn_model = Model(input_shape, out)"
   ]
  },
  {
   "cell_type": "markdown",
   "metadata": {},
   "source": [
    "---\n",
    "<a id=\"section53\"></a>\n",
    "# <font color=\"#004D7F\" size=5> 5.3. Concatenate branches</font>\n",
    "\n",
    "Finally, we must concatenate the output of the CNN branch with the output of the FFNN branch in a final FFNN that will give the predictions."
   ]
  },
  {
   "cell_type": "code",
   "execution_count": 25,
   "metadata": {
    "id": "vSNmyFfuDAAR"
   },
   "outputs": [],
   "source": [
    "# Para combinar tensores de distintas arquitecturas concatenate en minúscula!!!!!\n",
    "combinedInput = concatenate([ff_model.output, cnn_model.output])\n",
    "x = Dense(48, activation=\"relu\")(combinedInput)\n",
    "\n",
    "x = Dense(1, activation=\"linear\")(x)\n",
    "model = Model(inputs=[ff_model.input, cnn_model.input], outputs=x)"
   ]
  },
  {
   "cell_type": "markdown",
   "metadata": {},
   "source": [
    "---\n",
    "<a id=\"section54\"></a>\n",
    "# <font color=\"#004D7F\" size=5> 5.4. Metrics</font>\n",
    "\n",
    "Define metrics and some hyperparameters"
   ]
  },
  {
   "cell_type": "code",
   "execution_count": 26,
   "metadata": {
    "id": "qmVREpu0DAAS"
   },
   "outputs": [],
   "source": [
    "import tensorflow.keras.backend as K\n",
    "\n",
    "def r_square(y_true, y_pred):\n",
    "    SS_res = K.sum(K.square(y_true - y_pred))\n",
    "    SS_tot = K.sum(K.square(y_true - K.mean(y_true)))\n",
    "    r2 = 1 - SS_res / (SS_tot + K.epsilon())\n",
    "    return r2\n",
    "\n",
    "METRICS = [\n",
    "    tf.keras.metrics.RootMeanSquaredError(name = 'rmse'),\n",
    "    tf.keras.metrics.MeanAbsoluteError(name = 'mae'),\n",
    "    r_square,\n",
    "]"
   ]
  },
  {
   "cell_type": "markdown",
   "metadata": {},
   "source": [
    "Print the hybrid model"
   ]
  },
  {
   "cell_type": "code",
   "execution_count": 27,
   "metadata": {},
   "outputs": [
    {
     "data": {
      "text/html": [
       "<pre style=\"white-space:pre;overflow-x:auto;line-height:normal;font-family:Menlo,'DejaVu Sans Mono',consolas,'Courier New',monospace\"></pre>\n"
      ],
      "text/plain": []
     },
     "metadata": {},
     "output_type": "display_data"
    },
    {
     "data": {
      "text/plain": [
       "<contextlib.ExitStack at 0x3491d1700>"
      ]
     },
     "execution_count": 27,
     "metadata": {},
     "output_type": "execute_result"
    }
   ],
   "source": [
    "os.makedirs(results_folder, exist_ok=True)\n",
    "\n",
    "# Redirect the summary output to the specified file\n",
    "with open(results_folder+\"/model_summary.txt\", \"w\") as f:\n",
    "    model.summary(print_fn=lambda x: f.write(x + '\\n'))\n",
    "\n",
    "# Desactivar la visualización automática de matplotlib\n",
    "plt.ioff()\n",
    "# Now, you can also save the model plot\n",
    "plot_model(model, to_file=results_folder+'model_plot.png', show_shapes=True, expand_nested=True)\n",
    "# Reactivar la visualización automática de matplotlib (opcional)\n",
    "plt.ion()"
   ]
  },
  {
   "cell_type": "markdown",
   "metadata": {},
   "source": [
    "---\n",
    "<a id=\"section55\"></a>\n",
    "# <font color=\"#004D7F\" size=5> 5.5. Compile and fit</font>\n"
   ]
  },
  {
   "cell_type": "code",
   "execution_count": 30,
   "metadata": {
    "id": "-mUXAIeZDAAT"
   },
   "outputs": [],
   "source": [
    "opt = Adam(learning_rate=1e-3)"
   ]
  },
  {
   "cell_type": "code",
   "execution_count": 31,
   "metadata": {},
   "outputs": [],
   "source": [
    "model.compile(\n",
    "    loss=\"mse\", \n",
    "    optimizer=opt,\n",
    "    metrics = METRICS\n",
    ")"
   ]
  },
  {
   "cell_type": "code",
   "execution_count": 32,
   "metadata": {},
   "outputs": [],
   "source": [
    "# Configure EarlyStopping for binary classification\n",
    "early_stopper = tf.keras.callbacks.EarlyStopping(\n",
    "    monitor='val_loss',  # Monitor the validation accuracy\n",
    "    min_delta=0.001,         # Minimum change in the monitored quantity to qualify as an improvement\n",
    "    patience=20,             # Number of epochs with no improvement after which training will be stopped\n",
    "    verbose=1,               # Log when training stops\n",
    "    mode='min',              # Maximize the accuracy; min the loss\n",
    "    restore_best_weights=True  # Restore model weights from the epoch with the best value of the monitored quantity\n",
    ")"
   ]
  },
  {
   "cell_type": "code",
   "execution_count": 33,
   "metadata": {},
   "outputs": [
    {
     "name": "stdout",
     "output_type": "stream",
     "text": [
      "Epoch 1/200\n"
     ]
    },
    {
     "name": "stderr",
     "output_type": "stream",
     "text": [
      "2024-05-29 10:46:16.181043: I tensorflow/core/grappler/optimizers/custom_graph_optimizer_registry.cc:117] Plugin optimizer for device_type GPU is enabled.\n"
     ]
    },
    {
     "name": "stdout",
     "output_type": "stream",
     "text": [
      "\u001b[1m38/38\u001b[0m \u001b[32m━━━━━━━━━━━━━━━━━━━━\u001b[0m\u001b[37m\u001b[0m \u001b[1m18s\u001b[0m 252ms/step - loss: 562.4997 - mae: 21.9443 - r_square: -8.2666 - rmse: 23.7062 - val_loss: 457.5578 - val_mae: 19.4362 - val_r_square: -9.2703 - val_rmse: 21.3906\n",
      "Epoch 2/200\n",
      "\u001b[1m38/38\u001b[0m \u001b[32m━━━━━━━━━━━━━━━━━━━━\u001b[0m\u001b[37m\u001b[0m \u001b[1m6s\u001b[0m 157ms/step - loss: 362.8669 - mae: 16.9188 - r_square: -4.7585 - rmse: 19.0289 - val_loss: 199.3183 - val_mae: 11.2080 - val_r_square: -2.6409 - val_rmse: 14.1180\n",
      "Epoch 3/200\n",
      "\u001b[1m38/38\u001b[0m \u001b[32m━━━━━━━━━━━━━━━━━━━━\u001b[0m\u001b[37m\u001b[0m \u001b[1m6s\u001b[0m 164ms/step - loss: 132.5435 - mae: 8.7507 - r_square: -0.9335 - rmse: 11.4848 - val_loss: 81.7993 - val_mae: 6.1560 - val_r_square: -0.2278 - val_rmse: 9.0443\n",
      "Epoch 4/200\n",
      "\u001b[1m38/38\u001b[0m \u001b[32m━━━━━━━━━━━━━━━━━━━━\u001b[0m\u001b[37m\u001b[0m \u001b[1m6s\u001b[0m 163ms/step - loss: 60.9215 - mae: 5.5900 - r_square: 0.1380 - rmse: 7.7834 - val_loss: 75.4017 - val_mae: 5.9541 - val_r_square: -0.1986 - val_rmse: 8.6834\n",
      "Epoch 5/200\n",
      "\u001b[1m38/38\u001b[0m \u001b[32m━━━━━━━━━━━━━━━━━━━━\u001b[0m\u001b[37m\u001b[0m \u001b[1m6s\u001b[0m 160ms/step - loss: 56.4024 - mae: 5.5244 - r_square: 0.1638 - rmse: 7.4927 - val_loss: 71.3185 - val_mae: 5.7667 - val_r_square: -0.1319 - val_rmse: 8.4450\n",
      "Epoch 6/200\n",
      "\u001b[1m38/38\u001b[0m \u001b[32m━━━━━━━━━━━━━━━━━━━━\u001b[0m\u001b[37m\u001b[0m \u001b[1m6s\u001b[0m 163ms/step - loss: 50.8200 - mae: 5.3639 - r_square: 0.2201 - rmse: 7.1089 - val_loss: 70.8235 - val_mae: 5.7080 - val_r_square: -0.0921 - val_rmse: 8.4157\n",
      "Epoch 7/200\n",
      "\u001b[1m38/38\u001b[0m \u001b[32m━━━━━━━━━━━━━━━━━━━━\u001b[0m\u001b[37m\u001b[0m \u001b[1m6s\u001b[0m 171ms/step - loss: 47.2824 - mae: 5.1767 - r_square: 0.2744 - rmse: 6.8440 - val_loss: 65.3972 - val_mae: 5.4532 - val_r_square: 0.0085 - val_rmse: 8.0869\n",
      "Epoch 8/200\n",
      "\u001b[1m38/38\u001b[0m \u001b[32m━━━━━━━━━━━━━━━━━━━━\u001b[0m\u001b[37m\u001b[0m \u001b[1m6s\u001b[0m 168ms/step - loss: 42.9744 - mae: 4.9307 - r_square: 0.3691 - rmse: 6.5162 - val_loss: 65.0275 - val_mae: 5.4214 - val_r_square: 0.0338 - val_rmse: 8.0640\n",
      "Epoch 9/200\n",
      "\u001b[1m38/38\u001b[0m \u001b[32m━━━━━━━━━━━━━━━━━━━━\u001b[0m\u001b[37m\u001b[0m \u001b[1m6s\u001b[0m 164ms/step - loss: 41.4082 - mae: 4.6900 - r_square: 0.3660 - rmse: 6.4089 - val_loss: 58.4781 - val_mae: 5.0579 - val_r_square: 0.1383 - val_rmse: 7.6471\n",
      "Epoch 10/200\n",
      "\u001b[1m38/38\u001b[0m \u001b[32m━━━━━━━━━━━━━━━━━━━━\u001b[0m\u001b[37m\u001b[0m \u001b[1m6s\u001b[0m 164ms/step - loss: 43.7119 - mae: 4.8386 - r_square: 0.3356 - rmse: 6.5627 - val_loss: 56.4667 - val_mae: 5.0520 - val_r_square: 0.1482 - val_rmse: 7.5144\n",
      "Epoch 11/200\n",
      "\u001b[1m38/38\u001b[0m \u001b[32m━━━━━━━━━━━━━━━━━━━━\u001b[0m\u001b[37m\u001b[0m \u001b[1m6s\u001b[0m 168ms/step - loss: 45.1457 - mae: 4.9214 - r_square: 0.2977 - rmse: 6.7115 - val_loss: 48.8477 - val_mae: 4.6864 - val_r_square: 0.2366 - val_rmse: 6.9891\n",
      "Epoch 12/200\n",
      "\u001b[1m38/38\u001b[0m \u001b[32m━━━━━━━━━━━━━━━━━━━━\u001b[0m\u001b[37m\u001b[0m \u001b[1m6s\u001b[0m 167ms/step - loss: 37.4047 - mae: 4.8060 - r_square: 0.3892 - rmse: 6.0778 - val_loss: 36.6420 - val_mae: 4.1132 - val_r_square: 0.3915 - val_rmse: 6.0533\n",
      "Epoch 13/200\n",
      "\u001b[1m38/38\u001b[0m \u001b[32m━━━━━━━━━━━━━━━━━━━━\u001b[0m\u001b[37m\u001b[0m \u001b[1m6s\u001b[0m 167ms/step - loss: 37.6063 - mae: 4.5403 - r_square: 0.3352 - rmse: 6.0694 - val_loss: 27.9797 - val_mae: 3.5983 - val_r_square: 0.4675 - val_rmse: 5.2896\n",
      "Epoch 14/200\n",
      "\u001b[1m38/38\u001b[0m \u001b[32m━━━━━━━━━━━━━━━━━━━━\u001b[0m\u001b[37m\u001b[0m \u001b[1m6s\u001b[0m 165ms/step - loss: 40.3417 - mae: 4.6298 - r_square: 0.3627 - rmse: 6.3392 - val_loss: 26.6507 - val_mae: 3.4803 - val_r_square: 0.4834 - val_rmse: 5.1624\n",
      "Epoch 15/200\n",
      "\u001b[1m38/38\u001b[0m \u001b[32m━━━━━━━━━━━━━━━━━━━━\u001b[0m\u001b[37m\u001b[0m \u001b[1m7s\u001b[0m 192ms/step - loss: 39.1033 - mae: 4.8538 - r_square: 0.3889 - rmse: 6.2490 - val_loss: 23.9223 - val_mae: 3.3241 - val_r_square: 0.5083 - val_rmse: 4.8910\n",
      "Epoch 16/200\n",
      "\u001b[1m38/38\u001b[0m \u001b[32m━━━━━━━━━━━━━━━━━━━━\u001b[0m\u001b[37m\u001b[0m \u001b[1m8s\u001b[0m 198ms/step - loss: 37.1810 - mae: 4.7265 - r_square: 0.3551 - rmse: 6.0467 - val_loss: 24.2985 - val_mae: 3.5413 - val_r_square: 0.4774 - val_rmse: 4.9294\n",
      "Epoch 17/200\n",
      "\u001b[1m38/38\u001b[0m \u001b[32m━━━━━━━━━━━━━━━━━━━━\u001b[0m\u001b[37m\u001b[0m \u001b[1m7s\u001b[0m 173ms/step - loss: 36.0773 - mae: 4.4921 - r_square: 0.4009 - rmse: 5.9833 - val_loss: 16.8835 - val_mae: 2.9953 - val_r_square: 0.5308 - val_rmse: 4.1090\n",
      "Epoch 18/200\n",
      "\u001b[1m38/38\u001b[0m \u001b[32m━━━━━━━━━━━━━━━━━━━━\u001b[0m\u001b[37m\u001b[0m \u001b[1m7s\u001b[0m 180ms/step - loss: 35.3798 - mae: 4.5593 - r_square: 0.4148 - rmse: 5.9152 - val_loss: 20.2385 - val_mae: 3.3304 - val_r_square: 0.4014 - val_rmse: 4.4987\n",
      "Epoch 19/200\n",
      "\u001b[1m38/38\u001b[0m \u001b[32m━━━━━━━━━━━━━━━━━━━━\u001b[0m\u001b[37m\u001b[0m \u001b[1m7s\u001b[0m 185ms/step - loss: 41.4748 - mae: 4.8762 - r_square: 0.3602 - rmse: 6.4314 - val_loss: 16.9779 - val_mae: 3.0044 - val_r_square: 0.5193 - val_rmse: 4.1204\n",
      "Epoch 20/200\n",
      "\u001b[1m38/38\u001b[0m \u001b[32m━━━━━━━━━━━━━━━━━━━━\u001b[0m\u001b[37m\u001b[0m \u001b[1m7s\u001b[0m 175ms/step - loss: 31.5622 - mae: 4.3666 - r_square: 0.4896 - rmse: 5.5970 - val_loss: 13.7525 - val_mae: 2.6600 - val_r_square: 0.5699 - val_rmse: 3.7084\n",
      "Epoch 21/200\n",
      "\u001b[1m38/38\u001b[0m \u001b[32m━━━━━━━━━━━━━━━━━━━━\u001b[0m\u001b[37m\u001b[0m \u001b[1m6s\u001b[0m 169ms/step - loss: 38.9713 - mae: 4.6112 - r_square: 0.3667 - rmse: 6.2120 - val_loss: 14.6472 - val_mae: 2.8756 - val_r_square: 0.5532 - val_rmse: 3.8272\n",
      "Epoch 22/200\n",
      "\u001b[1m38/38\u001b[0m \u001b[32m━━━━━━━━━━━━━━━━━━━━\u001b[0m\u001b[37m\u001b[0m \u001b[1m7s\u001b[0m 178ms/step - loss: 36.5983 - mae: 4.7072 - r_square: 0.4001 - rmse: 6.0351 - val_loss: 17.0179 - val_mae: 2.9318 - val_r_square: 0.4693 - val_rmse: 4.1253\n",
      "Epoch 23/200\n",
      "\u001b[1m38/38\u001b[0m \u001b[32m━━━━━━━━━━━━━━━━━━━━\u001b[0m\u001b[37m\u001b[0m \u001b[1m7s\u001b[0m 180ms/step - loss: 30.8338 - mae: 4.1411 - r_square: 0.4832 - rmse: 5.5084 - val_loss: 18.0512 - val_mae: 3.1362 - val_r_square: 0.4461 - val_rmse: 4.2487\n",
      "Epoch 24/200\n",
      "\u001b[1m38/38\u001b[0m \u001b[32m━━━━━━━━━━━━━━━━━━━━\u001b[0m\u001b[37m\u001b[0m \u001b[1m7s\u001b[0m 179ms/step - loss: 34.3569 - mae: 4.4654 - r_square: 0.4569 - rmse: 5.8440 - val_loss: 15.5853 - val_mae: 2.8548 - val_r_square: 0.4557 - val_rmse: 3.9478\n",
      "Epoch 25/200\n",
      "\u001b[1m38/38\u001b[0m \u001b[32m━━━━━━━━━━━━━━━━━━━━\u001b[0m\u001b[37m\u001b[0m \u001b[1m7s\u001b[0m 191ms/step - loss: 40.1637 - mae: 4.7011 - r_square: 0.3588 - rmse: 6.3201 - val_loss: 14.2133 - val_mae: 2.8157 - val_r_square: 0.5466 - val_rmse: 3.7701\n",
      "Epoch 26/200\n",
      "\u001b[1m38/38\u001b[0m \u001b[32m━━━━━━━━━━━━━━━━━━━━\u001b[0m\u001b[37m\u001b[0m \u001b[1m7s\u001b[0m 188ms/step - loss: 30.5833 - mae: 4.2421 - r_square: 0.4625 - rmse: 5.5094 - val_loss: 12.2457 - val_mae: 2.5366 - val_r_square: 0.5765 - val_rmse: 3.4994\n",
      "Epoch 27/200\n",
      "\u001b[1m38/38\u001b[0m \u001b[32m━━━━━━━━━━━━━━━━━━━━\u001b[0m\u001b[37m\u001b[0m \u001b[1m7s\u001b[0m 187ms/step - loss: 27.2414 - mae: 4.0049 - r_square: 0.5194 - rmse: 5.1925 - val_loss: 14.9042 - val_mae: 2.8103 - val_r_square: 0.5497 - val_rmse: 3.8606\n",
      "Epoch 28/200\n",
      "\u001b[1m38/38\u001b[0m \u001b[32m━━━━━━━━━━━━━━━━━━━━\u001b[0m\u001b[37m\u001b[0m \u001b[1m8s\u001b[0m 206ms/step - loss: 30.8165 - mae: 4.3521 - r_square: 0.4718 - rmse: 5.5364 - val_loss: 12.8126 - val_mae: 2.6316 - val_r_square: 0.5717 - val_rmse: 3.5795\n",
      "Epoch 29/200\n",
      "\u001b[1m38/38\u001b[0m \u001b[32m━━━━━━━━━━━━━━━━━━━━\u001b[0m\u001b[37m\u001b[0m \u001b[1m7s\u001b[0m 191ms/step - loss: 33.8456 - mae: 4.5364 - r_square: 0.4268 - rmse: 5.8074 - val_loss: 15.7311 - val_mae: 3.0859 - val_r_square: 0.4729 - val_rmse: 3.9662\n",
      "Epoch 30/200\n",
      "\u001b[1m38/38\u001b[0m \u001b[32m━━━━━━━━━━━━━━━━━━━━\u001b[0m\u001b[37m\u001b[0m \u001b[1m7s\u001b[0m 172ms/step - loss: 31.6360 - mae: 4.2571 - r_square: 0.4491 - rmse: 5.5919 - val_loss: 18.2842 - val_mae: 3.1863 - val_r_square: 0.3948 - val_rmse: 4.2760\n",
      "Epoch 31/200\n",
      "\u001b[1m38/38\u001b[0m \u001b[32m━━━━━━━━━━━━━━━━━━━━\u001b[0m\u001b[37m\u001b[0m \u001b[1m6s\u001b[0m 168ms/step - loss: 40.3448 - mae: 5.0250 - r_square: 0.3294 - rmse: 6.3395 - val_loss: 15.2196 - val_mae: 3.0194 - val_r_square: 0.4944 - val_rmse: 3.9012\n",
      "Epoch 32/200\n",
      "\u001b[1m38/38\u001b[0m \u001b[32m━━━━━━━━━━━━━━━━━━━━\u001b[0m\u001b[37m\u001b[0m \u001b[1m6s\u001b[0m 170ms/step - loss: 26.1991 - mae: 3.9805 - r_square: 0.5558 - rmse: 5.0920 - val_loss: 18.4196 - val_mae: 3.3569 - val_r_square: 0.4535 - val_rmse: 4.2918\n",
      "Epoch 33/200\n",
      "\u001b[1m38/38\u001b[0m \u001b[32m━━━━━━━━━━━━━━━━━━━━\u001b[0m\u001b[37m\u001b[0m \u001b[1m6s\u001b[0m 171ms/step - loss: 26.3053 - mae: 4.0280 - r_square: 0.5736 - rmse: 5.1113 - val_loss: 16.7087 - val_mae: 3.1074 - val_r_square: 0.4790 - val_rmse: 4.0876\n",
      "Epoch 34/200\n",
      "\u001b[1m38/38\u001b[0m \u001b[32m━━━━━━━━━━━━━━━━━━━━\u001b[0m\u001b[37m\u001b[0m \u001b[1m7s\u001b[0m 171ms/step - loss: 27.1771 - mae: 3.8476 - r_square: 0.5429 - rmse: 5.1551 - val_loss: 14.6017 - val_mae: 2.8454 - val_r_square: 0.5065 - val_rmse: 3.8212\n",
      "Epoch 35/200\n",
      "\u001b[1m38/38\u001b[0m \u001b[32m━━━━━━━━━━━━━━━━━━━━\u001b[0m\u001b[37m\u001b[0m \u001b[1m7s\u001b[0m 176ms/step - loss: 26.2749 - mae: 3.9524 - r_square: 0.5576 - rmse: 5.0904 - val_loss: 16.8492 - val_mae: 3.0353 - val_r_square: 0.4724 - val_rmse: 4.1048\n",
      "Epoch 36/200\n",
      "\u001b[1m38/38\u001b[0m \u001b[32m━━━━━━━━━━━━━━━━━━━━\u001b[0m\u001b[37m\u001b[0m \u001b[1m7s\u001b[0m 174ms/step - loss: 34.0067 - mae: 4.4239 - r_square: 0.4823 - rmse: 5.8233 - val_loss: 15.0566 - val_mae: 2.9890 - val_r_square: 0.4871 - val_rmse: 3.8803\n",
      "Epoch 37/200\n",
      "\u001b[1m38/38\u001b[0m \u001b[32m━━━━━━━━━━━━━━━━━━━━\u001b[0m\u001b[37m\u001b[0m \u001b[1m6s\u001b[0m 170ms/step - loss: 25.0661 - mae: 3.9237 - r_square: 0.5937 - rmse: 4.9669 - val_loss: 14.0014 - val_mae: 2.6647 - val_r_square: 0.4965 - val_rmse: 3.7418\n",
      "Epoch 38/200\n",
      "\u001b[1m38/38\u001b[0m \u001b[32m━━━━━━━━━━━━━━━━━━━━\u001b[0m\u001b[37m\u001b[0m \u001b[1m6s\u001b[0m 169ms/step - loss: 29.3281 - mae: 4.1461 - r_square: 0.5237 - rmse: 5.4086 - val_loss: 13.9647 - val_mae: 2.8194 - val_r_square: 0.5192 - val_rmse: 3.7369\n",
      "Epoch 39/200\n",
      "\u001b[1m38/38\u001b[0m \u001b[32m━━━━━━━━━━━━━━━━━━━━\u001b[0m\u001b[37m\u001b[0m \u001b[1m7s\u001b[0m 173ms/step - loss: 30.0670 - mae: 4.3096 - r_square: 0.4981 - rmse: 5.4495 - val_loss: 15.5215 - val_mae: 2.8737 - val_r_square: 0.4796 - val_rmse: 3.9397\n",
      "Epoch 40/200\n",
      "\u001b[1m38/38\u001b[0m \u001b[32m━━━━━━━━━━━━━━━━━━━━\u001b[0m\u001b[37m\u001b[0m \u001b[1m7s\u001b[0m 172ms/step - loss: 29.8005 - mae: 4.3141 - r_square: 0.5279 - rmse: 5.4435 - val_loss: 13.0167 - val_mae: 2.5736 - val_r_square: 0.5482 - val_rmse: 3.6079\n",
      "Epoch 41/200\n",
      "\u001b[1m38/38\u001b[0m \u001b[32m━━━━━━━━━━━━━━━━━━━━\u001b[0m\u001b[37m\u001b[0m \u001b[1m6s\u001b[0m 168ms/step - loss: 25.1364 - mae: 3.8451 - r_square: 0.5787 - rmse: 4.9959 - val_loss: 11.8426 - val_mae: 2.3756 - val_r_square: 0.5720 - val_rmse: 3.4413\n",
      "Epoch 42/200\n",
      "\u001b[1m38/38\u001b[0m \u001b[32m━━━━━━━━━━━━━━━━━━━━\u001b[0m\u001b[37m\u001b[0m \u001b[1m7s\u001b[0m 181ms/step - loss: 18.5855 - mae: 3.3921 - r_square: 0.6936 - rmse: 4.2962 - val_loss: 12.2276 - val_mae: 2.4255 - val_r_square: 0.5773 - val_rmse: 3.4968\n",
      "Epoch 43/200\n",
      "\u001b[1m38/38\u001b[0m \u001b[32m━━━━━━━━━━━━━━━━━━━━\u001b[0m\u001b[37m\u001b[0m \u001b[1m6s\u001b[0m 168ms/step - loss: 22.9913 - mae: 3.6782 - r_square: 0.6131 - rmse: 4.7415 - val_loss: 12.8611 - val_mae: 2.4956 - val_r_square: 0.5638 - val_rmse: 3.5862\n",
      "Epoch 44/200\n",
      "\u001b[1m38/38\u001b[0m \u001b[32m━━━━━━━━━━━━━━━━━━━━\u001b[0m\u001b[37m\u001b[0m \u001b[1m7s\u001b[0m 174ms/step - loss: 25.1936 - mae: 3.9366 - r_square: 0.5970 - rmse: 5.0130 - val_loss: 11.7755 - val_mae: 2.2904 - val_r_square: 0.5976 - val_rmse: 3.4315\n",
      "Epoch 45/200\n",
      "\u001b[1m38/38\u001b[0m \u001b[32m━━━━━━━━━━━━━━━━━━━━\u001b[0m\u001b[37m\u001b[0m \u001b[1m6s\u001b[0m 170ms/step - loss: 23.8784 - mae: 3.8453 - r_square: 0.6102 - rmse: 4.8724 - val_loss: 12.2799 - val_mae: 2.4337 - val_r_square: 0.6088 - val_rmse: 3.5043\n",
      "Epoch 46/200\n",
      "\u001b[1m38/38\u001b[0m \u001b[32m━━━━━━━━━━━━━━━━━━━━\u001b[0m\u001b[37m\u001b[0m \u001b[1m7s\u001b[0m 171ms/step - loss: 21.3613 - mae: 3.5195 - r_square: 0.6567 - rmse: 4.5712 - val_loss: 15.8778 - val_mae: 2.7581 - val_r_square: 0.4975 - val_rmse: 3.9847\n",
      "Epoch 47/200\n",
      "\u001b[1m38/38\u001b[0m \u001b[32m━━━━━━━━━━━━━━━━━━━━\u001b[0m\u001b[37m\u001b[0m \u001b[1m7s\u001b[0m 173ms/step - loss: 19.3094 - mae: 3.2887 - r_square: 0.6963 - rmse: 4.3732 - val_loss: 14.1478 - val_mae: 2.4964 - val_r_square: 0.5449 - val_rmse: 3.7614\n",
      "Epoch 48/200\n",
      "\u001b[1m38/38\u001b[0m \u001b[32m━━━━━━━━━━━━━━━━━━━━\u001b[0m\u001b[37m\u001b[0m \u001b[1m6s\u001b[0m 168ms/step - loss: 21.3108 - mae: 3.4911 - r_square: 0.6167 - rmse: 4.5811 - val_loss: 14.9142 - val_mae: 2.6608 - val_r_square: 0.5025 - val_rmse: 3.8619\n",
      "Epoch 49/200\n",
      "\u001b[1m38/38\u001b[0m \u001b[32m━━━━━━━━━━━━━━━━━━━━\u001b[0m\u001b[37m\u001b[0m \u001b[1m6s\u001b[0m 171ms/step - loss: 19.3179 - mae: 3.3553 - r_square: 0.6632 - rmse: 4.3403 - val_loss: 13.7473 - val_mae: 2.6309 - val_r_square: 0.6316 - val_rmse: 3.7077\n",
      "Epoch 50/200\n",
      "\u001b[1m38/38\u001b[0m \u001b[32m━━━━━━━━━━━━━━━━━━━━\u001b[0m\u001b[37m\u001b[0m \u001b[1m7s\u001b[0m 174ms/step - loss: 20.8644 - mae: 3.5147 - r_square: 0.6723 - rmse: 4.5396 - val_loss: 15.1347 - val_mae: 2.7212 - val_r_square: 0.5432 - val_rmse: 3.8903\n",
      "Epoch 51/200\n",
      "\u001b[1m38/38\u001b[0m \u001b[32m━━━━━━━━━━━━━━━━━━━━\u001b[0m\u001b[37m\u001b[0m \u001b[1m6s\u001b[0m 171ms/step - loss: 22.5139 - mae: 3.6998 - r_square: 0.6280 - rmse: 4.7361 - val_loss: 16.3886 - val_mae: 2.8027 - val_r_square: 0.5085 - val_rmse: 4.0483\n",
      "Epoch 52/200\n",
      "\u001b[1m38/38\u001b[0m \u001b[32m━━━━━━━━━━━━━━━━━━━━\u001b[0m\u001b[37m\u001b[0m \u001b[1m7s\u001b[0m 175ms/step - loss: 19.3749 - mae: 3.3639 - r_square: 0.6807 - rmse: 4.3684 - val_loss: 15.9162 - val_mae: 2.7295 - val_r_square: 0.5000 - val_rmse: 3.9895\n",
      "Epoch 53/200\n",
      "\u001b[1m38/38\u001b[0m \u001b[32m━━━━━━━━━━━━━━━━━━━━\u001b[0m\u001b[37m\u001b[0m \u001b[1m7s\u001b[0m 178ms/step - loss: 23.4432 - mae: 3.6433 - r_square: 0.6458 - rmse: 4.8180 - val_loss: 14.7606 - val_mae: 2.7637 - val_r_square: 0.5375 - val_rmse: 3.8419\n",
      "Epoch 54/200\n",
      "\u001b[1m38/38\u001b[0m \u001b[32m━━━━━━━━━━━━━━━━━━━━\u001b[0m\u001b[37m\u001b[0m \u001b[1m7s\u001b[0m 173ms/step - loss: 20.5346 - mae: 3.6004 - r_square: 0.6577 - rmse: 4.5099 - val_loss: 18.7448 - val_mae: 3.0877 - val_r_square: 0.4481 - val_rmse: 4.3295\n",
      "Epoch 55/200\n",
      "\u001b[1m38/38\u001b[0m \u001b[32m━━━━━━━━━━━━━━━━━━━━\u001b[0m\u001b[37m\u001b[0m \u001b[1m7s\u001b[0m 172ms/step - loss: 21.7752 - mae: 3.4935 - r_square: 0.6265 - rmse: 4.6283 - val_loss: 16.3188 - val_mae: 2.7382 - val_r_square: 0.5137 - val_rmse: 4.0397\n",
      "Epoch 56/200\n",
      "\u001b[1m38/38\u001b[0m \u001b[32m━━━━━━━━━━━━━━━━━━━━\u001b[0m\u001b[37m\u001b[0m \u001b[1m7s\u001b[0m 172ms/step - loss: 21.9666 - mae: 3.7496 - r_square: 0.6188 - rmse: 4.6689 - val_loss: 17.5247 - val_mae: 2.8728 - val_r_square: 0.4367 - val_rmse: 4.1863\n",
      "Epoch 57/200\n",
      "\u001b[1m38/38\u001b[0m \u001b[32m━━━━━━━━━━━━━━━━━━━━\u001b[0m\u001b[37m\u001b[0m \u001b[1m6s\u001b[0m 170ms/step - loss: 22.5125 - mae: 3.6863 - r_square: 0.6713 - rmse: 4.7357 - val_loss: 13.5215 - val_mae: 2.5997 - val_r_square: 0.6087 - val_rmse: 3.6772\n",
      "Epoch 58/200\n",
      "\u001b[1m38/38\u001b[0m \u001b[32m━━━━━━━━━━━━━━━━━━━━\u001b[0m\u001b[37m\u001b[0m \u001b[1m7s\u001b[0m 174ms/step - loss: 23.5226 - mae: 3.8869 - r_square: 0.6218 - rmse: 4.8311 - val_loss: 20.8332 - val_mae: 3.2110 - val_r_square: 0.3112 - val_rmse: 4.5643\n",
      "Epoch 59/200\n",
      "\u001b[1m38/38\u001b[0m \u001b[32m━━━━━━━━━━━━━━━━━━━━\u001b[0m\u001b[37m\u001b[0m \u001b[1m7s\u001b[0m 172ms/step - loss: 32.3022 - mae: 4.0452 - r_square: 0.4894 - rmse: 5.6522 - val_loss: 15.5240 - val_mae: 3.0536 - val_r_square: 0.4908 - val_rmse: 3.9400\n",
      "Epoch 60/200\n",
      "\u001b[1m38/38\u001b[0m \u001b[32m━━━━━━━━━━━━━━━━━━━━\u001b[0m\u001b[37m\u001b[0m \u001b[1m7s\u001b[0m 174ms/step - loss: 20.0184 - mae: 3.4804 - r_square: 0.6657 - rmse: 4.4511 - val_loss: 15.7885 - val_mae: 2.8396 - val_r_square: 0.4964 - val_rmse: 3.9735\n",
      "Epoch 61/200\n",
      "\u001b[1m38/38\u001b[0m \u001b[32m━━━━━━━━━━━━━━━━━━━━\u001b[0m\u001b[37m\u001b[0m \u001b[1m7s\u001b[0m 171ms/step - loss: 20.6356 - mae: 3.6026 - r_square: 0.6566 - rmse: 4.5269 - val_loss: 16.3733 - val_mae: 2.9231 - val_r_square: 0.5177 - val_rmse: 4.0464\n",
      "Epoch 62/200\n",
      "\u001b[1m38/38\u001b[0m \u001b[32m━━━━━━━━━━━━━━━━━━━━\u001b[0m\u001b[37m\u001b[0m \u001b[1m6s\u001b[0m 170ms/step - loss: 18.7897 - mae: 3.4612 - r_square: 0.6856 - rmse: 4.3129 - val_loss: 16.1313 - val_mae: 2.9563 - val_r_square: 0.5116 - val_rmse: 4.0164\n",
      "Epoch 63/200\n",
      "\u001b[1m38/38\u001b[0m \u001b[32m━━━━━━━━━━━━━━━━━━━━\u001b[0m\u001b[37m\u001b[0m \u001b[1m7s\u001b[0m 177ms/step - loss: 20.5032 - mae: 3.5181 - r_square: 0.6421 - rmse: 4.5087 - val_loss: 17.7654 - val_mae: 3.1829 - val_r_square: 0.4583 - val_rmse: 4.2149\n",
      "Epoch 64/200\n",
      "\u001b[1m38/38\u001b[0m \u001b[32m━━━━━━━━━━━━━━━━━━━━\u001b[0m\u001b[37m\u001b[0m \u001b[1m6s\u001b[0m 169ms/step - loss: 16.9867 - mae: 3.2025 - r_square: 0.7160 - rmse: 4.0811 - val_loss: 14.8001 - val_mae: 2.7103 - val_r_square: 0.5726 - val_rmse: 3.8471\n",
      "Epoch 64: early stopping\n",
      "Restoring model weights from the end of the best epoch: 44.\n"
     ]
    }
   ],
   "source": [
    "model_history=model.fit(\n",
    "    x=[X_train_num, X_train_img], y=y_train,\n",
    "    validation_data=([X_val_num, X_val_img], y_val),\n",
    "    epochs=200, \n",
    "    batch_size=8,\n",
    "    callbacks = [early_stopper]\n",
    ")"
   ]
  },
  {
   "cell_type": "code",
   "execution_count": 34,
   "metadata": {
    "colab": {
     "base_uri": "https://localhost:8080/"
    },
    "id": "BcGghwkIDAAW",
    "outputId": "64ac9e54-4d79-42c6-8765-8b70dc8d25fd"
   },
   "outputs": [
    {
     "name": "stdout",
     "output_type": "stream",
     "text": [
      "dict_keys(['loss', 'mae', 'r_square', 'rmse', 'val_loss', 'val_mae', 'val_r_square', 'val_rmse'])\n"
     ]
    }
   ],
   "source": [
    "print(model_history.history.keys())"
   ]
  },
  {
   "cell_type": "markdown",
   "metadata": {
    "id": "jMRV4Ee1DAAX"
   },
   "source": [
    "<a id=\"section6\"></a>\n",
    "# <font color=\"#004D7F\" size=6> 6. Results</font>\n",
    "\n",
    "Finally, we can evaluate our hybrid model with the images created by TINTOlib in any of the ways represented below."
   ]
  },
  {
   "cell_type": "markdown",
   "metadata": {},
   "source": [
    "---\n",
    "<a id=\"section61\"></a>\n",
    "# <font color=\"#004D7F\" size=5> 6.1. Train/Validation representation</font>"
   ]
  },
  {
   "cell_type": "code",
   "execution_count": 35,
   "metadata": {
    "colab": {
     "base_uri": "https://localhost:8080/",
     "height": 430
    },
    "id": "H5UXDjQwDAAY",
    "outputId": "554439d9-c8cc-4355-e036-74c42dacf25e"
   },
   "outputs": [
    {
     "data": {
      "image/png": "[encoded data removed]",
      "text/plain": [
       "<Figure size 640x480 with 1 Axes>"
      ]
     },
     "metadata": {},
     "output_type": "display_data"
    }
   ],
   "source": [
    "plt.plot(model_history.history['loss'], color = 'red', label = 'loss')\n",
    "plt.plot(model_history.history['val_loss'], color = 'green', label = 'val loss')\n",
    "plt.legend(loc = 'upper right')\n",
    "plt.show()"
   ]
  },
  {
   "cell_type": "code",
   "execution_count": 36,
   "metadata": {
    "colab": {
     "base_uri": "https://localhost:8080/",
     "height": 430
    },
    "id": "X1ophmZYDAAZ",
    "outputId": "f3e32e39-9da7-43c6-bdbc-800e2fe90946"
   },
   "outputs": [
    {
     "data": {
      "image/png": "[encoded data removed]",
      "text/plain": [
       "<Figure size 640x480 with 1 Axes>"
      ]
     },
     "metadata": {},
     "output_type": "display_data"
    }
   ],
   "source": [
    "plt.plot(model_history.history['rmse'], color = 'red', label = 'rmse')\n",
    "plt.plot(model_history.history['val_rmse'], color = 'green', label = 'val rmse')\n",
    "plt.legend(loc = 'upper right')\n",
    "plt.show()"
   ]
  },
  {
   "cell_type": "markdown",
   "metadata": {},
   "source": [
    "---\n",
    "<a id=\"section62\"></a>\n",
    "# <font color=\"#004D7F\" size=5> 6.2. Validation/Test evaluation</font>"
   ]
  },
  {
   "cell_type": "code",
   "execution_count": 37,
   "metadata": {
    "scrolled": true
   },
   "outputs": [
    {
     "name": "stdout",
     "output_type": "stream",
     "text": [
      "\u001b[1m4/4\u001b[0m \u001b[32m━━━━━━━━━━━━━━━━━━━━\u001b[0m\u001b[37m\u001b[0m \u001b[1m1s\u001b[0m 93ms/step - loss: 16.0381 - mae: 2.8151 - r_square: 0.8200 - rmse: 4.0032\n"
     ]
    }
   ],
   "source": [
    "score_test= model.evaluate([X_test_num, X_test_img], y_test)"
   ]
  },
  {
   "cell_type": "code",
   "execution_count": 38,
   "metadata": {
    "colab": {
     "base_uri": "https://localhost:8080/"
    },
    "id": "ItKAjj6wDAAb",
    "outputId": "bf2aa614-c3b1-4c38-fea8-7c782de99fbd"
   },
   "outputs": [
    {
     "name": "stdout",
     "output_type": "stream",
     "text": [
      "\u001b[1m4/4\u001b[0m \u001b[32m━━━━━━━━━━━━━━━━━━━━\u001b[0m\u001b[37m\u001b[0m \u001b[1m1s\u001b[0m 194ms/step\n",
      "Mean Absolute Percentage Error: 0.11560876068260406\n",
      "Mean Absolute Error: 2.707484765146293\n",
      "Mean Squared Error: 15.113291344082906\n",
      "Root Mean Squared Error: 3.8875816832682637\n",
      "R2 Score: 0.8232063259116151\n"
     ]
    },
    {
     "name": "stderr",
     "output_type": "stream",
     "text": [
      "/Users/manwest/Library/Python/3.9/lib/python/site-packages/sklearn/metrics/_regression.py:483: FutureWarning: 'squared' is deprecated in version 1.4 and will be removed in 1.6. To calculate the root mean squared error, use the function'root_mean_squared_error'.\n",
      "  warnings.warn(\n"
     ]
    }
   ],
   "source": [
    "prediction = model.predict([X_test_num,X_test_img])\n",
    "\n",
    "test_mape = mean_absolute_percentage_error(y_test, prediction)\n",
    "test_mae = mean_absolute_error(y_test, prediction)\n",
    "test_mse = mean_squared_error(y_test, prediction)\n",
    "test_rmse = mean_squared_error(y_test, prediction, squared=False)\n",
    "test_r2 = r2_score(y_test, prediction)\n",
    "\n",
    "# Print the evaluation metrics\n",
    "print(\"Mean Absolute Percentage Error:\", test_mape)\n",
    "print(\"Mean Absolute Error:\", test_mae)\n",
    "print(\"Mean Squared Error:\", test_mse)\n",
    "print(\"Root Mean Squared Error:\", test_rmse)\n",
    "print(\"R2 Score:\", test_r2)\n"
   ]
  },
  {
   "cell_type": "code",
   "execution_count": 39,
   "metadata": {},
   "outputs": [
    {
     "name": "stdout",
     "output_type": "stream",
     "text": [
      "Train Mean Squared Error: 23.297033309936523\n",
      "Train R2 Score: 0.5674284100532532\n",
      "Val Mean Squared Error: 14.800093650817871\n",
      "Val R2 Score: 0.5726311206817627\n"
     ]
    }
   ],
   "source": [
    "train_mse = model_history.history[\"loss\"][-1]\n",
    "train_r2 = model_history.history[\"r_square\"][-1]\n",
    "\n",
    "val_mse = model_history.history[\"val_loss\"][-1]\n",
    "val_r2 = model_history.history[\"val_r_square\"][-1]\n",
    "\n",
    "print(\"Train Mean Squared Error:\", train_mse)\n",
    "print(\"Train R2 Score:\", train_r2)\n",
    "\n",
    "print(\"Val Mean Squared Error:\", val_mse)\n",
    "print(\"Val R2 Score:\", val_r2)"
   ]
  },
  {
   "cell_type": "markdown",
   "metadata": {
    "id": "0ciBS76mpjGU"
   },
   "source": [
    "<div style=\"text-align: right\"> <font size=5> <a href=\"#indice\"><i class=\"fa fa-arrow-circle-up\" aria-hidden=\"true\" style=\"color:#004D7F\"></i></a></font></div>\n",
    "\n",
    "---\n",
    "\n",
    "<div style=\"text-align: right\"> <font size=6><i class=\"fa fa-coffee\" aria-hidden=\"true\" style=\"color:#004D7F\"></i> </font></div>"
   ]
  },
  {
   "cell_type": "markdown",
   "metadata": {},
   "source": []
  }
 ],
 "metadata": {
  "accelerator": "GPU",
  "colab": {
   "gpuType": "T4",
   "provenance": []
  },
  "kernelspec": {
   "display_name": "Python 3 (ipykernel)",
   "language": "python",
   "name": "python3"
  },
  "language_info": {
   "codemirror_mode": {
    "name": "ipython",
    "version": 3
   },
   "file_extension": ".py",
   "mimetype": "text/x-python",
   "name": "python",
   "nbconvert_exporter": "python",
   "pygments_lexer": "ipython3",
   "version": "3.9.6"
  }
 },
 "nbformat": 4,
 "nbformat_minor": 1
}
