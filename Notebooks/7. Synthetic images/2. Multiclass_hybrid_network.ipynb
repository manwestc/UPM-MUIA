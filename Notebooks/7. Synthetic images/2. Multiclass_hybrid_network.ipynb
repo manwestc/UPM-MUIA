{
 "cells": [
  {
   "cell_type": "markdown",
   "metadata": {
    "id": "EybOZ6hSjpCF"
   },
   "source": [
    "<h1><font color=\"#113D68\" size=5>TINTOlib: Converting Tidy Data into Synthetic Images</font></h1>\n",
    "\n",
    "\n",
    "\n",
    "<h1><font color=\"#113D68\" size=6>Template Multiclass Classification problem with a Hibryd Networks (CNN+MLP)</font></h1>\n",
    "\n",
    "<br><br>\n",
    "<div style=\"text-align: right\">\n",
    "<font color=\"#113D68\" size=3>Manuel Castillo-Cara</font><br>\n",
    "<font color=\"#113D68\" size=3>Raúl García-Castro</font><br>\n",
    "<font color=\"#113D68\" size=3>Jiayun Liu</font><br>\n",
    "</div>\n",
    "\n",
    "---"
   ]
  },
  {
   "cell_type": "markdown",
   "metadata": {},
   "source": [
    "<div class=\"alert alert-block alert-info\">\n",
    "    \n",
    "<i class=\"fa fa-info-circle\" aria-hidden=\"true\"></i>\n",
    "More information about [Manuel Castillo-Cara](https://www.manuelcastillo.eu/)"
   ]
  },
  {
   "cell_type": "markdown",
   "metadata": {},
   "source": [
    "<div class=\"alert alert-block alert-info\">\n",
    "    \n",
    "<i class=\"fa fa-info-circle\" aria-hidden=\"true\"></i>\n",
    "More information about [Raúl García-Castro](http://www.garcia-castro.com/)"
   ]
  },
  {
   "cell_type": "markdown",
   "metadata": {},
   "source": [
    "---\n",
    "\n",
    "<a id=\"indice\"></a>\n",
    "<h2><font color=\"#004D7F\" size=5>Licencia</font></h2>\n",
    "\n",
    "<p><small><small>Improving Deep Learning by Exploiting Synthetic Images Copyright 2024 Manuel Castillo Cara.</p>\n",
    "<p><small><small> Licensed under the Apache License, Version 2.0 (the \"License\"); you may not use this file except in compliance with the License. You may obtain a copy of the License at </p>\n",
    "<p><small><small> <a href=\"https://www.apache.org/licenses/LICENSE-2.0\">https://www.apache.org/licenses/LICENSE-2.0</a> </p>\n",
    "<p><small><small> Unless required by applicable law or agreed to in writing, software distributed under the License is distributed on an \"AS IS\" BASIS, WITHOUT WARRANTIES OR CONDITIONS OF ANY KIND, either express or implied. See the License for the specific language governing permissions and limitations under the License. </p>"
   ]
  },
  {
   "cell_type": "markdown",
   "metadata": {
    "id": "2l5nFzsdjpCW"
   },
   "source": [
    "---\n",
    "\n",
    "<a id=\"indice\"></a>\n",
    "<h2><font color=\"#004D7F\" size=5>Index</font></h2>\n",
    "\n",
    "* [0. Context](#section0)\n",
    "* [1. Description](#section1)\n",
    "    * [1.1. Main Features](#section12)\n",
    "    * [1.2. Citation](#section12)\n",
    "* [2. Libraries](#section2)\n",
    "* [3. Data processing](#section3)\n",
    "    * [3.1. Read images](#section31)\n",
    "    * [3.2. Data Curation](#section32)\n",
    "* [4. Pre-modelling phase](#section4)\n",
    "    * [4.1. Resize images](#section41)\n",
    "    * [4.2. Iteradores](#section42)\n",
    "* [5. Modelling with CNN](#section5)\n",
    "    * [5.1. CNN](#section51)\n",
    "    * [5.2. Compile and fit](#section52)\n",
    "    * [5.3. Results](#section53)"
   ]
  },
  {
   "cell_type": "markdown",
   "metadata": {
    "id": "SxTpMExHjpCa"
   },
   "source": [
    "---\n",
    "<a id=\"section0\"></a>\n",
    "# <font color=\"#004D7F\" size=6> 0. Context</font>"
   ]
  },
  {
   "cell_type": "markdown",
   "metadata": {
    "id": "JlVYt3MRrl_V"
   },
   "source": [
    "This is a tutorial on how to read the images created by TINTO and pass them to a very simple pretrained Convolutional Neural Network (CNN). The images must already be created by the TINTO software. See the documentation in GITHUB for how to create the images from tabular data.\n",
    "\n",
    "Remember that when using CNN you can set the training to be done with GPUs to improve performance.\n",
    "\n",
    "Architecture to develop:\n",
    "\n",
    "<figure><center>\n",
    "  <img src=\"../img/HybridCNN.png\" width=\"700\" height=\"450\" alt=\"Gráfica\">\n",
    "  <figcaption><blockquote>Hybrid Neural Network with CNN for the sythetic images and MLP for the tabular data.</a></blockquote></figcaption>\n",
    "</center></figure>"
   ]
  },
  {
   "cell_type": "markdown",
   "metadata": {
    "id": "WaA-_OjsjpCe"
   },
   "source": [
    "<div class=\"alert alert-block alert-info\">\n",
    "    \n",
    "<i class=\"fa fa-info-circle\" aria-hidden=\"true\"></i>\n",
    "See the paper from [Information Fusion Journal](https://doi.org/10.1016/j.inffus.2022.10.011)"
   ]
  },
  {
   "cell_type": "markdown",
   "metadata": {
    "id": "28TFDkl5jpCi"
   },
   "source": [
    "<div class=\"alert alert-block alert-info\">\n",
    "    \n",
    "<i class=\"fa fa-info-circle\" aria-hidden=\"true\"></i>\n",
    "See the paper from [SoftwareX](https://doi.org/10.1016/j.softx.2023.101391)"
   ]
  },
  {
   "cell_type": "markdown",
   "metadata": {
    "id": "i3tgsO0BjpCj"
   },
   "source": [
    "<div class=\"alert alert-block alert-info\">\n",
    "    \n",
    "<i class=\"fa fa-info-circle\" aria-hidden=\"true\"></i>\n",
    "You can see all information about TINTO in [GitHub](https://github.com/oeg-upm/TINTO)"
   ]
  },
  {
   "cell_type": "markdown",
   "metadata": {
    "id": "4RKBgDwzjpCl"
   },
   "source": [
    "---\n",
    "<div style=\"text-align: right\"> <font size=5> <a href=\"#indice\"><i class=\"fa fa-arrow-circle-up\" aria-hidden=\"true\" style=\"color:#004D7F\"></i></a></font></div>\n",
    "\n",
    "---"
   ]
  },
  {
   "cell_type": "markdown",
   "metadata": {
    "id": "kpU7pi6yjpCn"
   },
   "source": [
    "<a id=\"section1\"></a>\n",
    "# <font color=\"#004D7F\" size=6> 1. Description</font>"
   ]
  },
  {
   "cell_type": "markdown",
   "metadata": {
    "id": "NL9RoFkEjpCq"
   },
   "source": [
    "The growing interest in the use of algorithms-based machine learning for predictive tasks has generated a large and diverse development of algorithms. However, it is widely known that not all of these algorithms are adapted to efficient solutions in certain tidy data format datasets. For this reason, novel techniques are currently being developed to convert tidy data into images with the aim of using Convolutional Neural Networks (CNNs). TINTO offers the opportunity to convert tidy data into images through the representation of characteristic pixels by implementing two dimensional reduction algorithms: PCA and _t_-SNE. Our proposal also includes a blurring technique, which adds more ordered information to the image and can improve the classification task in CNNs.\n",
    "\n",
    "In this tutorial, we develop a CNN with synthetic images.\n",
    "\n",
    "<figure><center>\n",
    "  <img src=\"../../img/HyNN.png\" width=\"650\" height=\"400\" alt=\"Gráfica\">\n",
    "  <figcaption><blockquote>Hybrid Neural Network (MLP+CNN) architecture.</a></blockquote></figcaption>\n",
    "</center></figure>"
   ]
  },
  {
   "cell_type": "markdown",
   "metadata": {
    "id": "HFrF4C89jpCt"
   },
   "source": [
    "---\n",
    "<a id=\"section11\"></a>\n",
    "# <font color=\"#004D7F\" size=5> 1.1. Main Features</font>"
   ]
  },
  {
   "cell_type": "markdown",
   "metadata": {
    "id": "1gruE0_sjpCu"
   },
   "source": [
    "- Supports all CSV data in **[Tidy Data](https://www.jstatsoft.org/article/view/v059i10)** format.\n",
    "- For now, the algorithm converts tabular data for binary and multi-class classification problems into machine learning.\n",
    "- Input data formats:\n",
    "    - **Tabular files**: The input data must be in **[CSV](https://en.wikipedia.org/wiki/Comma-separated_values)**, taking into account the **[Tidy Data](https://www.jstatsoft.org/article/view/v059i10)** format.\n",
    "    - **Tidy Data**: The **target** (variable to be predicted) should be set as the last column of the dataset. Therefore, the first columns will be the features.\n",
    "    - All data must be in numerical form. TINTO does not accept data in string or any other non-numeric format.\n",
    "- Two dimensionality reduction algorithms are used in image creation, **[PCA](https://scikit-learn.org/stable/modules/generated/sklearn.decomposition.PCA.html#sklearn.decomposition.PCA)** and **[*t*-SNE](https://scikit-learn.org/stable/modules/generated/sklearn.manifold.TSNE.html)** from the Scikit-learn Python library.\n",
    "- The synthetic images to be created will be in black and white, i.e. in 1 channel.\n",
    "- The synthetic image **dimensions** can be set as a parameter when creating them.\n",
    "- The synthetic images can be created using **characteristic pixels** or **blurring** painting technique (expressing an overlap of pixels as the **maximum** or **average**).\n",
    "- Runs on **Linux**, **Windows** and **macOS** systems.\n",
    "- Compatible with **[Python](https://www.python.org/)** 3.7 or higher."
   ]
  },
  {
   "cell_type": "markdown",
   "metadata": {
    "id": "Z3EzYcjJjpC6"
   },
   "source": [
    "---\n",
    "<div style=\"text-align: right\"> <font size=5> <a href=\"#indice\"><i class=\"fa fa-arrow-circle-up\" aria-hidden=\"true\" style=\"color:#004D7F\"></i></a></font></div>\n",
    "\n",
    "---"
   ]
  },
  {
   "cell_type": "markdown",
   "metadata": {
    "id": "qwYF5A2njpC8"
   },
   "source": [
    "<a id=\"section2\"></a>\n",
    "# <font color=\"#004D7F\" size=6> 2. Libraries</font>"
   ]
  },
  {
   "cell_type": "markdown",
   "metadata": {},
   "source": [
    "The first thing we need to do is to declare the libraries"
   ]
  },
  {
   "cell_type": "markdown",
   "metadata": {},
   "source": [
    "<a id=\"section21\"></a>\n",
    "# <font color=\"#004D7F\" size=5> 2.1. System setup</font>"
   ]
  },
  {
   "cell_type": "markdown",
   "metadata": {},
   "source": [
    "Before installing the libraries you must have the `mpi4py` package installed on the native (Linux) system. This link shows how to install it: \n",
    "- Link: [`mpi4py` in Linux](https://www.geeksforgeeks.org/how-to-install-python3-mpi4py-package-on-linux/)\n",
    "\n",
    "For example, in Linux:\n",
    "\n",
    "```\n",
    "    sudo apt-get install python3\n",
    "    sudo apt install python3-pip\n",
    "    sudo apt install python3-mpi4py\n",
    "```\n",
    "\n",
    "If you are in Windows, Mac or, also, Linux, you can install from PyPI if you want:\n",
    "```\n",
    "    sudo pip3 install mpi4py\n",
    "```"
   ]
  },
  {
   "cell_type": "markdown",
   "metadata": {},
   "source": [
    "<div class=\"alert alert-block alert-info\">\n",
    "    \n",
    "<i class=\"fa fa-info-circle\" aria-hidden=\"true\"></i>\n",
    "Note that you must **restart the kernel or the system** so that it can load the libraries. "
   ]
  },
  {
   "cell_type": "markdown",
   "metadata": {},
   "source": [
    "Now, once you have installed `mpi4py` you can install the PyPI libraries and dependences."
   ]
  },
  {
   "cell_type": "code",
   "execution_count": null,
   "metadata": {},
   "outputs": [],
   "source": [
    "#!pip install torchmetrics pytorch_lightning TINTOlib imblearn keras_preprocessing mpi4py tifffile tqdm"
   ]
  },
  {
   "cell_type": "code",
   "execution_count": 2,
   "metadata": {
    "id": "PeeBbGxlpjFp",
    "tags": []
   },
   "outputs": [
    {
     "name": "stderr",
     "output_type": "stream",
     "text": [
      "/var/folders/9h/d3b8zc6j5019cyvmb_h929xm0000gn/T/ipykernel_6131/1816183973.py:3: DeprecationWarning: \n",
      "Pyarrow will become a required dependency of pandas in the next major release of pandas (pandas 3.0),\n",
      "(to allow more performant data types, such as the Arrow string type, and better interoperability with other libraries)\n",
      "but was not found to be installed on your system.\n",
      "If this would cause problems for you,\n",
      "please provide us feedback at https://github.com/pandas-dev/pandas/issues/54466\n",
      "        \n",
      "  import pandas as pd\n",
      "/Users/manwest/Library/Python/3.9/lib/python/site-packages/urllib3/__init__.py:35: NotOpenSSLWarning: urllib3 v2 only supports OpenSSL 1.1.1+, currently the 'ssl' module is compiled with 'LibreSSL 2.8.3'. See: https://github.com/urllib3/urllib3/issues/3020\n",
      "  warnings.warn(\n"
     ]
    },
    {
     "name": "stdout",
     "output_type": "stream",
     "text": [
      "OK\n"
     ]
    }
   ],
   "source": [
    "import os\n",
    "import random\n",
    "import pandas as pd\n",
    "import numpy as np\n",
    "from tqdm import tqdm\n",
    "#import cv2\n",
    "import gc\n",
    "import matplotlib.pyplot as plt\n",
    "#import openslide\n",
    "#from openslide.deepzoom import DeepZoomGenerator\n",
    "import tifffile as tifi\n",
    "import sklearn\n",
    "import tensorflow as tf\n",
    "import seaborn as sns\n",
    "from PIL import Image\n",
    "\n",
    "from sklearn.metrics import mean_absolute_error, mean_squared_error, r2_score,mean_absolute_percentage_error\n",
    "\n",
    "from keras_preprocessing.image import ImageDataGenerator\n",
    "from tensorflow.keras.models import load_model\n",
    "\n",
    "from sklearn.model_selection import train_test_split\n",
    "from tensorflow.keras.applications import vgg16, vgg19, resnet50, mobilenet, inception_resnet_v2, densenet, inception_v3, xception, nasnet, ResNet152V2\n",
    "from tensorflow.keras.models import Sequential, Model, load_model\n",
    "from tensorflow.keras.layers import Dense, Conv2D, MaxPool2D, Flatten, Dropout, BatchNormalization, InputLayer, LayerNormalization\n",
    "from tensorflow.keras.callbacks import ModelCheckpoint, ReduceLROnPlateau, EarlyStopping\n",
    "from tensorflow.keras.optimizers import SGD, Adam, Adadelta, Adamax\n",
    "from tensorflow.keras import layers, models, Model\n",
    "from tensorflow.keras.losses import MeanAbsoluteError, MeanAbsolutePercentageError\n",
    "from tensorflow.keras.layers import Input, Activation,MaxPooling2D, Concatenate, concatenate\n",
    "from keras.utils import plot_model\n",
    "\n",
    "from torchmetrics import MeanAbsolutePercentageError\n",
    "import torch\n",
    "import torch.nn as nn\n",
    "from torch.utils.data import Dataset, DataLoader, random_split\n",
    "from torchvision import transforms\n",
    "\n",
    "import pytorch_lightning as pl\n",
    "from pytorch_lightning.loggers  import TensorBoardLogger\n",
    "from pytorch_lightning.callbacks.early_stopping import EarlyStopping\n",
    "#from imblearn.over_sampling import RandomOverSampler\n",
    "\n",
    "#Models of TINTOlib\n",
    "from TINTOlib.barGraph import BarGraph\n",
    "from TINTOlib.combination import Combination\n",
    "from TINTOlib.distanceMatrix import DistanceMatrix\n",
    "from TINTOlib.igtd import IGTD\n",
    "from TINTOlib.refined import REFINED\n",
    "from TINTOlib.supertml import SuperTML\n",
    "from TINTOlib.tinto import TINTO\n",
    "\n",
    "SEED = 64\n",
    "# SET RANDOM SEED FOR REPRODUCIBILITY\n",
    "torch.manual_seed(SEED)\n",
    "torch.cuda.manual_seed(SEED)\n",
    "#torch.cuda.manual_seed_all(SEED)\n",
    "#torch.backends.cudnn.deterministic = True\n",
    "#torch.backends.cudnn.benchmark = False\n",
    "os.environ['PYTHONHASHSEED']=str(SEED)\n",
    "random.seed(SEED)\n",
    "np.random.seed(SEED)\n",
    "tf.random.set_seed(SEED)"
   ]
  },
  {
   "cell_type": "markdown",
   "metadata": {
    "id": "NwS-cKUxjpDQ"
   },
   "source": [
    "---\n",
    "<div style=\"text-align: right\"> <font size=5> <a href=\"#indice\"><i class=\"fa fa-arrow-circle-up\" aria-hidden=\"true\" style=\"color:#004D7F\"></i></a></font></div>\n",
    "\n",
    "---"
   ]
  },
  {
   "cell_type": "markdown",
   "metadata": {
    "id": "aDL4LARWjpDT"
   },
   "source": [
    "<a id=\"section3\"></a>\n",
    "# <font color=\"#004D7F\" size=6> 3. Data processing</font>"
   ]
  },
  {
   "cell_type": "markdown",
   "metadata": {
    "id": "jXcRw78ljpDU"
   },
   "source": [
    "The first thing to do is to read all the images created by TINTO. TINTO creates a folder which contains subfolders corresponding to each target that has the problem. Each image corresponds to a sample of the original dataset."
   ]
  },
  {
   "cell_type": "markdown",
   "metadata": {},
   "source": [
    "<a id=\"section31\"></a>\n",
    "# <font color=\"#004D7F\" size=5> 3.1. Create images with TINTOlib</font>"
   ]
  },
  {
   "cell_type": "code",
   "execution_count": 3,
   "metadata": {},
   "outputs": [],
   "source": [
    "#Select the model and the parameters\n",
    "problem_type = \"supervised\"\n",
    "#problem_type = \"regression\"\n",
    "pixel = 20\n",
    "## zoom para ampliar la imagen\n",
    "#image_model = REFINED(problem=problem_type, random_seed=SEED, zoom=7, n_processors=12)\n",
    "#image_model = TINTO(problem= problem_type, blur=True, option='maximum', pixels=pixel, random_seed=SEED)\n",
    "# scale sería [7,4] porque hay 26 variables (para 24 pixeles); \n",
    "image_model = IGTD(problem= problem_type, random_seed=SEED, scale=[2,2], zoom=20)\n",
    "#image_model = BarGraph(problem= problem_type)\n",
    "#image_model = DistanceMatrix(problem= problem_type)\n",
    "#image_model = Combination(problem= problem_type)\n",
    "# SuperTML si especificamos 5 columnas para 25 variables (tened en cuenta las viarables que haya en el dataset)\n",
    "#image_model = SuperTML(problem= problem_type, columns=2, size=pixel, font_size=8, variable_font_size=True, random_seed=SEED)\n",
    "\n",
    "#Define the dataset path and the folder where the images will be saved\n",
    "results_folder = \"../../Results/Iris_SuperTML\"\n",
    "dataset_path = \"../../Datasets/iris.csv\"\n",
    "images_folder = \"../../Synthetic_images/Iris_SuperTML\""
   ]
  },
  {
   "cell_type": "markdown",
   "metadata": {},
   "source": [
    "---\n",
    "<a id=\"section32\"></a>\n",
    "# <font color=\"#004D7F\" size=5> 3.2. Read the dataset</font>\n",
    "\n",
    "In this part, we proceed to read the dataset according to the path specified above and also standardize the name that the target will have."
   ]
  },
  {
   "cell_type": "code",
   "execution_count": 4,
   "metadata": {},
   "outputs": [
    {
     "data": {
      "text/html": [
       "<div>\n",
       "<style scoped>\n",
       "    .dataframe tbody tr th:only-of-type {\n",
       "        vertical-align: middle;\n",
       "    }\n",
       "\n",
       "    .dataframe tbody tr th {\n",
       "        vertical-align: top;\n",
       "    }\n",
       "\n",
       "    .dataframe thead th {\n",
       "        text-align: right;\n",
       "    }\n",
       "</style>\n",
       "<table border=\"1\" class=\"dataframe\">\n",
       "  <thead>\n",
       "    <tr style=\"text-align: right;\">\n",
       "      <th></th>\n",
       "      <th>SepalLength</th>\n",
       "      <th>SepalWidth</th>\n",
       "      <th>PetalLength</th>\n",
       "      <th>PetalWidth</th>\n",
       "      <th>Species</th>\n",
       "    </tr>\n",
       "  </thead>\n",
       "  <tbody>\n",
       "    <tr>\n",
       "      <th>0</th>\n",
       "      <td>5.1</td>\n",
       "      <td>3.5</td>\n",
       "      <td>1.4</td>\n",
       "      <td>0.2</td>\n",
       "      <td>1</td>\n",
       "    </tr>\n",
       "    <tr>\n",
       "      <th>1</th>\n",
       "      <td>4.9</td>\n",
       "      <td>3.0</td>\n",
       "      <td>1.4</td>\n",
       "      <td>0.2</td>\n",
       "      <td>1</td>\n",
       "    </tr>\n",
       "  </tbody>\n",
       "</table>\n",
       "</div>"
      ],
      "text/plain": [
       "   SepalLength  SepalWidth  PetalLength  PetalWidth  Species\n",
       "0          5.1         3.5          1.4         0.2        1\n",
       "1          4.9         3.0          1.4         0.2        1"
      ]
     },
     "execution_count": 4,
     "metadata": {},
     "output_type": "execute_result"
    }
   ],
   "source": [
    "df = pd.read_csv(dataset_path)\n",
    "df.head(2)"
   ]
  },
  {
   "cell_type": "code",
   "execution_count": 5,
   "metadata": {},
   "outputs": [
    {
     "data": {
      "text/html": [
       "<div>\n",
       "<style scoped>\n",
       "    .dataframe tbody tr th:only-of-type {\n",
       "        vertical-align: middle;\n",
       "    }\n",
       "\n",
       "    .dataframe tbody tr th {\n",
       "        vertical-align: top;\n",
       "    }\n",
       "\n",
       "    .dataframe thead th {\n",
       "        text-align: right;\n",
       "    }\n",
       "</style>\n",
       "<table border=\"1\" class=\"dataframe\">\n",
       "  <thead>\n",
       "    <tr style=\"text-align: right;\">\n",
       "      <th></th>\n",
       "      <th>SepalLength</th>\n",
       "      <th>SepalWidth</th>\n",
       "      <th>PetalLength</th>\n",
       "      <th>PetalWidth</th>\n",
       "      <th>Species</th>\n",
       "    </tr>\n",
       "  </thead>\n",
       "  <tbody>\n",
       "    <tr>\n",
       "      <th>0</th>\n",
       "      <td>0.222222</td>\n",
       "      <td>0.625000</td>\n",
       "      <td>0.067797</td>\n",
       "      <td>0.041667</td>\n",
       "      <td>1</td>\n",
       "    </tr>\n",
       "    <tr>\n",
       "      <th>1</th>\n",
       "      <td>0.166667</td>\n",
       "      <td>0.416667</td>\n",
       "      <td>0.067797</td>\n",
       "      <td>0.041667</td>\n",
       "      <td>1</td>\n",
       "    </tr>\n",
       "  </tbody>\n",
       "</table>\n",
       "</div>"
      ],
      "text/plain": [
       "   SepalLength  SepalWidth  PetalLength  PetalWidth  Species\n",
       "0     0.222222    0.625000     0.067797    0.041667        1\n",
       "1     0.166667    0.416667     0.067797    0.041667        1"
      ]
     },
     "execution_count": 5,
     "metadata": {},
     "output_type": "execute_result"
    }
   ],
   "source": [
    "# Select all the attributes to normalize\n",
    "columns_to_normalize = df.columns[:-1]\n",
    "\n",
    "\n",
    "# Normalize between 0 and 1\n",
    "df_normalized = (df[columns_to_normalize] - df[columns_to_normalize].min()) / (df[columns_to_normalize].max() - df[columns_to_normalize].min())\n",
    "\n",
    "# Combine the attributes and the label\n",
    "df_normalized = pd.concat([df_normalized, df[df.columns[-1]]], axis=1)\n",
    "\n",
    "df_normalized.head(2)\n"
   ]
  },
  {
   "cell_type": "markdown",
   "metadata": {},
   "source": [
    "---\n",
    "<a id=\"section33\"></a>\n",
    "# <font color=\"#004D7F\" size=5> 3.3. Generate images</font>\n",
    "\n",
    "Now we can generate the images with the `generateImages()` generic function. Likewise, we create a dataset that will have the path of each of the samples with the corresponding image created for it. \n",
    "\n",
    "Note that each image is created based on a row, therefore, each numerical sample of the dataset will correspond to a particular image. In other words, we will have the same number of images as samples/rows."
   ]
  },
  {
   "cell_type": "code",
   "execution_count": 6,
   "metadata": {},
   "outputs": [
    {
     "name": "stdout",
     "output_type": "stream",
     "text": [
      "The images are already generated\n",
      "../../Synthetic_images/Iris_SuperTML/supervised.csv\n"
     ]
    }
   ],
   "source": [
    "import os\n",
    "\n",
    "# Generate the images if the folder does not exist\n",
    "if not os.path.exists(images_folder):\n",
    "    #Generate thet images\n",
    "    image_model.generateImages(df, images_folder)\n",
    "else:\n",
    "    print(\"The images are already generated\")\n",
    "\n",
    "img_paths = os.path.join(images_folder,problem_type+\".csv\")\n",
    "\n",
    "print(img_paths)"
   ]
  },
  {
   "cell_type": "markdown",
   "metadata": {},
   "source": [
    "<a id=\"section34\"></a>\n",
    "# <font color=\"#004D7F\" size=5> 3.4. Data Analysis</font>"
   ]
  },
  {
   "cell_type": "code",
   "execution_count": 7,
   "metadata": {},
   "outputs": [
    {
     "data": {
      "image/png": "[encoded data removed]",
      "text/plain": [
       "<Figure size 640x480 with 1 Axes>"
      ]
     },
     "metadata": {},
     "output_type": "display_data"
    }
   ],
   "source": [
    "target_values = df_normalized.iloc[:,-1]\n",
    "class_counts = np.bincount(target_values)\n",
    "class_labels = np.arange(1, len(class_counts) + 1)\n",
    "\n",
    "# Create the bar plot\n",
    "plt.bar(class_labels, class_counts)\n",
    "\n",
    "# Customize the plot\n",
    "plt.xlabel('Class')\n",
    "plt.ylabel('Samples')\n",
    "plt.title('Classes Distribution')\n",
    "\n",
    "# Display the plot\n",
    "plt.show()"
   ]
  },
  {
   "cell_type": "markdown",
   "metadata": {},
   "source": [
    "---\n",
    "<a id=\"section35\"></a>\n",
    " <font color=\"#004D7F\" size=5> 3.5. Read Images</font>\n",
    "\n",
    "Now, we read the created images "
   ]
  },
  {
   "cell_type": "code",
   "execution_count": 8,
   "metadata": {},
   "outputs": [
    {
     "data": {
      "text/html": [
       "<div>\n",
       "<style scoped>\n",
       "    .dataframe tbody tr th:only-of-type {\n",
       "        vertical-align: middle;\n",
       "    }\n",
       "\n",
       "    .dataframe tbody tr th {\n",
       "        vertical-align: top;\n",
       "    }\n",
       "\n",
       "    .dataframe thead th {\n",
       "        text-align: right;\n",
       "    }\n",
       "</style>\n",
       "<table border=\"1\" class=\"dataframe\">\n",
       "  <thead>\n",
       "    <tr style=\"text-align: right;\">\n",
       "      <th></th>\n",
       "      <th>images</th>\n",
       "      <th>SepalLength</th>\n",
       "      <th>SepalWidth</th>\n",
       "      <th>PetalLength</th>\n",
       "      <th>PetalWidth</th>\n",
       "    </tr>\n",
       "  </thead>\n",
       "  <tbody>\n",
       "    <tr>\n",
       "      <th>0</th>\n",
       "      <td>../../Synthetic_images/Iris_SuperTML/00/000000...</td>\n",
       "      <td>0.222222</td>\n",
       "      <td>0.625000</td>\n",
       "      <td>0.067797</td>\n",
       "      <td>0.041667</td>\n",
       "    </tr>\n",
       "    <tr>\n",
       "      <th>1</th>\n",
       "      <td>../../Synthetic_images/Iris_SuperTML/00/000001...</td>\n",
       "      <td>0.166667</td>\n",
       "      <td>0.416667</td>\n",
       "      <td>0.067797</td>\n",
       "      <td>0.041667</td>\n",
       "    </tr>\n",
       "  </tbody>\n",
       "</table>\n",
       "</div>"
      ],
      "text/plain": [
       "                                              images  SepalLength  SepalWidth  \\\n",
       "0  ../../Synthetic_images/Iris_SuperTML/00/000000...     0.222222    0.625000   \n",
       "1  ../../Synthetic_images/Iris_SuperTML/00/000001...     0.166667    0.416667   \n",
       "\n",
       "   PetalLength  PetalWidth  \n",
       "0     0.067797    0.041667  \n",
       "1     0.067797    0.041667  "
      ]
     },
     "execution_count": 8,
     "metadata": {},
     "output_type": "execute_result"
    }
   ],
   "source": [
    "imgs = pd.read_csv(img_paths)\n",
    "\n",
    "#imgs[\"images\"]= images_folder + \"\\\\\" + imgs[\"images\"]\n",
    "imgs[\"images\"]= images_folder + \"/\" + imgs[\"images\"]\n",
    "\n",
    "combined_dataset = pd.concat([imgs,df_normalized[columns_to_normalize]],axis=1)\n",
    "combined_dataset\n",
    "\n",
    "df_x = combined_dataset.drop(\"class\",axis=1)\n",
    "df_y = combined_dataset[\"class\"].replace(-1, 0)\n",
    "\n",
    "df_x.head(2)"
   ]
  },
  {
   "cell_type": "markdown",
   "metadata": {
    "id": "_haEKIo7jpD1"
   },
   "source": [
    "---\n",
    "<div style=\"text-align: right\"> <font size=5> <a href=\"#indice\"><i class=\"fa fa-arrow-circle-up\" aria-hidden=\"true\" style=\"color:#004D7F\"></i></a></font></div>\n",
    "\n",
    "---"
   ]
  },
  {
   "cell_type": "markdown",
   "metadata": {
    "id": "uF1lJWbojpD3"
   },
   "source": [
    "<a id=\"section4\"></a>\n",
    "# <font color=\"#004D7F\" size=6> 4. Pre-modelling phase</font>"
   ]
  },
  {
   "cell_type": "markdown",
   "metadata": {},
   "source": [
    "Once the data is ready, we load it into memory with an iterator in order to pass it to the CNN."
   ]
  },
  {
   "cell_type": "markdown",
   "metadata": {},
   "source": [
    "---\n",
    "<a id=\"section41\"></a>\n",
    "# <font color=\"#004D7F\" size=5> 4.1. Data curation</font>\n",
    "\n",
    "Note that each method generates images of **different pixel size**. For example:\n",
    "- `TINTO` method has a parameter that you can specify the size in pixels which by default is 20. \n",
    "- Other parameters such as `Combined` generates the size automatically and you must obtain them from the _shape_ of the images."
   ]
  },
  {
   "cell_type": "markdown",
   "metadata": {},
   "source": [
    "<div class=\"alert alert-block alert-info\">\n",
    "\n",
    "<i class=\"fa fa-info-circle\" aria-hidden=\"true\"></i>\n",
    "You can see all information about TINTOlib documentation in [PyPI](https://tintolib.readthedocs.io/en/latest/installation.html)"
   ]
  },
  {
   "cell_type": "markdown",
   "metadata": {},
   "source": [
    "Split in train/test/validation. \n",
    "\n",
    "Note that the partitioning of the images is also performed, in addition to the tabular data."
   ]
  },
  {
   "cell_type": "markdown",
   "metadata": {},
   "source": [
    "<div class=\"alert alert-block alert-info\">\n",
    "\n",
    "<i class=\"fa fa-info-circle\" aria-hidden=\"true\"></i>\n",
    "💡 **Important!!!**:  Keep in mind that, depending on the method used, you need to identify the number of pixels in the image. For example, in TINTO it is specified as a parameter, but in IGTD it is done afterwards, once the image is created (and even the pixels of width and height can be different)."
   ]
  },
  {
   "cell_type": "code",
   "execution_count": 46,
   "metadata": {},
   "outputs": [],
   "source": [
    "# Depends on the method yo may have to change the value of pixel variable\n",
    "#pixel = 8"
   ]
  },
  {
   "cell_type": "code",
   "execution_count": 47,
   "metadata": {},
   "outputs": [
    {
     "name": "stderr",
     "output_type": "stream",
     "text": [
      "[ WARN:0@1141.418] global loadsave.cpp:248 findDecoder imread_('../../Synthetic_images/Iris_SuperTML/00/000032.png'): can't open/read file: check file path/integrity\n",
      "[ WARN:0@1141.419] global loadsave.cpp:248 findDecoder imread_('../../Synthetic_images/Iris_SuperTML/01/000066.png'): can't open/read file: check file path/integrity\n",
      "[ WARN:0@1141.419] global loadsave.cpp:248 findDecoder imread_('../../Synthetic_images/Iris_SuperTML/01/000097.png'): can't open/read file: check file path/integrity\n",
      "[ WARN:0@1141.419] global loadsave.cpp:248 findDecoder imread_('../../Synthetic_images/Iris_SuperTML/00/000042.png'): can't open/read file: check file path/integrity\n",
      "[ WARN:0@1141.419] global loadsave.cpp:248 findDecoder imread_('../../Synthetic_images/Iris_SuperTML/00/000024.png'): can't open/read file: check file path/integrity\n",
      "[ WARN:0@1141.419] global loadsave.cpp:248 findDecoder imread_('../../Synthetic_images/Iris_SuperTML/01/000073.png'): can't open/read file: check file path/integrity\n",
      "[ WARN:0@1141.419] global loadsave.cpp:248 findDecoder imread_('../../Synthetic_images/Iris_SuperTML/02/000146.png'): can't open/read file: check file path/integrity\n",
      "[ WARN:0@1141.419] global loadsave.cpp:248 findDecoder imread_('../../Synthetic_images/Iris_SuperTML/02/000130.png'): can't open/read file: check file path/integrity\n",
      "[ WARN:0@1141.419] global loadsave.cpp:248 findDecoder imread_('../../Synthetic_images/Iris_SuperTML/02/000133.png'): can't open/read file: check file path/integrity\n",
      "[ WARN:0@1141.419] global loadsave.cpp:248 findDecoder imread_('../../Synthetic_images/Iris_SuperTML/02/000128.png'): can't open/read file: check file path/integrity\n",
      "[ WARN:0@1141.419] global loadsave.cpp:248 findDecoder imread_('../../Synthetic_images/Iris_SuperTML/02/000129.png'): can't open/read file: check file path/integrity\n",
      "[ WARN:0@1141.419] global loadsave.cpp:248 findDecoder imread_('../../Synthetic_images/Iris_SuperTML/00/000046.png'): can't open/read file: check file path/integrity\n",
      "[ WARN:0@1141.419] global loadsave.cpp:248 findDecoder imread_('../../Synthetic_images/Iris_SuperTML/00/000049.png'): can't open/read file: check file path/integrity\n",
      "[ WARN:0@1141.419] global loadsave.cpp:248 findDecoder imread_('../../Synthetic_images/Iris_SuperTML/02/000107.png'): can't open/read file: check file path/integrity\n",
      "[ WARN:0@1141.419] global loadsave.cpp:248 findDecoder imread_('../../Synthetic_images/Iris_SuperTML/00/000009.png'): can't open/read file: check file path/integrity\n",
      "[ WARN:0@1141.419] global loadsave.cpp:248 findDecoder imread_('../../Synthetic_images/Iris_SuperTML/02/000103.png'): can't open/read file: check file path/integrity\n",
      "[ WARN:0@1141.419] global loadsave.cpp:248 findDecoder imread_('../../Synthetic_images/Iris_SuperTML/00/000039.png'): can't open/read file: check file path/integrity\n",
      "[ WARN:0@1141.419] global loadsave.cpp:248 findDecoder imread_('../../Synthetic_images/Iris_SuperTML/01/000055.png'): can't open/read file: check file path/integrity\n",
      "[ WARN:0@1141.419] global loadsave.cpp:248 findDecoder imread_('../../Synthetic_images/Iris_SuperTML/01/000068.png'): can't open/read file: check file path/integrity\n",
      "[ WARN:0@1141.419] global loadsave.cpp:248 findDecoder imread_('../../Synthetic_images/Iris_SuperTML/00/000033.png'): can't open/read file: check file path/integrity\n",
      "[ WARN:0@1141.419] global loadsave.cpp:248 findDecoder imread_('../../Synthetic_images/Iris_SuperTML/00/000019.png'): can't open/read file: check file path/integrity\n",
      "[ WARN:0@1141.419] global loadsave.cpp:248 findDecoder imread_('../../Synthetic_images/Iris_SuperTML/02/000106.png'): can't open/read file: check file path/integrity\n",
      "[ WARN:0@1141.419] global loadsave.cpp:248 findDecoder imread_('../../Synthetic_images/Iris_SuperTML/01/000061.png'): can't open/read file: check file path/integrity\n",
      "[ WARN:0@1141.419] global loadsave.cpp:248 findDecoder imread_('../../Synthetic_images/Iris_SuperTML/01/000088.png'): can't open/read file: check file path/integrity\n",
      "[ WARN:0@1141.419] global loadsave.cpp:248 findDecoder imread_('../../Synthetic_images/Iris_SuperTML/00/000025.png'): can't open/read file: check file path/integrity\n",
      "[ WARN:0@1141.419] global loadsave.cpp:248 findDecoder imread_('../../Synthetic_images/Iris_SuperTML/01/000058.png'): can't open/read file: check file path/integrity\n",
      "[ WARN:0@1141.419] global loadsave.cpp:248 findDecoder imread_('../../Synthetic_images/Iris_SuperTML/01/000069.png'): can't open/read file: check file path/integrity\n",
      "[ WARN:0@1141.419] global loadsave.cpp:248 findDecoder imread_('../../Synthetic_images/Iris_SuperTML/01/000074.png'): can't open/read file: check file path/integrity\n",
      "[ WARN:0@1141.419] global loadsave.cpp:248 findDecoder imread_('../../Synthetic_images/Iris_SuperTML/02/000117.png'): can't open/read file: check file path/integrity\n",
      "[ WARN:0@1141.419] global loadsave.cpp:248 findDecoder imread_('../../Synthetic_images/Iris_SuperTML/01/000067.png'): can't open/read file: check file path/integrity\n",
      "[ WARN:0@1141.419] global loadsave.cpp:248 findDecoder imread_('../../Synthetic_images/Iris_SuperTML/02/000144.png'): can't open/read file: check file path/integrity\n",
      "[ WARN:0@1141.419] global loadsave.cpp:248 findDecoder imread_('../../Synthetic_images/Iris_SuperTML/01/000051.png'): can't open/read file: check file path/integrity\n",
      "[ WARN:0@1141.419] global loadsave.cpp:248 findDecoder imread_('../../Synthetic_images/Iris_SuperTML/02/000140.png'): can't open/read file: check file path/integrity\n",
      "[ WARN:0@1141.419] global loadsave.cpp:248 findDecoder imread_('../../Synthetic_images/Iris_SuperTML/00/000011.png'): can't open/read file: check file path/integrity\n",
      "[ WARN:0@1141.419] global loadsave.cpp:248 findDecoder imread_('../../Synthetic_images/Iris_SuperTML/02/000105.png'): can't open/read file: check file path/integrity\n",
      "[ WARN:0@1141.419] global loadsave.cpp:248 findDecoder imread_('../../Synthetic_images/Iris_SuperTML/01/000082.png'): can't open/read file: check file path/integrity\n",
      "[ WARN:0@1141.419] global loadsave.cpp:248 findDecoder imread_('../../Synthetic_images/Iris_SuperTML/01/000077.png'): can't open/read file: check file path/integrity\n",
      "[ WARN:0@1141.419] global loadsave.cpp:248 findDecoder imread_('../../Synthetic_images/Iris_SuperTML/00/000017.png'): can't open/read file: check file path/integrity\n",
      "[ WARN:0@1141.419] global loadsave.cpp:248 findDecoder imread_('../../Synthetic_images/Iris_SuperTML/00/000022.png'): can't open/read file: check file path/integrity\n",
      "[ WARN:0@1141.419] global loadsave.cpp:248 findDecoder imread_('../../Synthetic_images/Iris_SuperTML/02/000120.png'): can't open/read file: check file path/integrity\n",
      "[ WARN:0@1141.419] global loadsave.cpp:248 findDecoder imread_('../../Synthetic_images/Iris_SuperTML/00/000001.png'): can't open/read file: check file path/integrity\n",
      "[ WARN:0@1141.419] global loadsave.cpp:248 findDecoder imread_('../../Synthetic_images/Iris_SuperTML/01/000084.png'): can't open/read file: check file path/integrity\n",
      "[ WARN:0@1141.419] global loadsave.cpp:248 findDecoder imread_('../../Synthetic_images/Iris_SuperTML/00/000041.png'): can't open/read file: check file path/integrity\n",
      "[ WARN:0@1141.419] global loadsave.cpp:248 findDecoder imread_('../../Synthetic_images/Iris_SuperTML/01/000080.png'): can't open/read file: check file path/integrity\n",
      "[ WARN:0@1141.419] global loadsave.cpp:248 findDecoder imread_('../../Synthetic_images/Iris_SuperTML/00/000043.png'): can't open/read file: check file path/integrity\n",
      "[ WARN:0@1141.419] global loadsave.cpp:248 findDecoder imread_('../../Synthetic_images/Iris_SuperTML/02/000123.png'): can't open/read file: check file path/integrity\n",
      "[ WARN:0@1141.419] global loadsave.cpp:248 findDecoder imread_('../../Synthetic_images/Iris_SuperTML/01/000098.png'): can't open/read file: check file path/integrity\n",
      "[ WARN:0@1141.419] global loadsave.cpp:248 findDecoder imread_('../../Synthetic_images/Iris_SuperTML/02/000137.png'): can't open/read file: check file path/integrity\n",
      "[ WARN:0@1141.419] global loadsave.cpp:248 findDecoder imread_('../../Synthetic_images/Iris_SuperTML/00/000003.png'): can't open/read file: check file path/integrity\n",
      "[ WARN:0@1141.419] global loadsave.cpp:248 findDecoder imread_('../../Synthetic_images/Iris_SuperTML/02/000115.png'): can't open/read file: check file path/integrity\n",
      "[ WARN:0@1141.419] global loadsave.cpp:248 findDecoder imread_('../../Synthetic_images/Iris_SuperTML/00/000037.png'): can't open/read file: check file path/integrity\n",
      "[ WARN:0@1141.419] global loadsave.cpp:248 findDecoder imread_('../../Synthetic_images/Iris_SuperTML/02/000135.png'): can't open/read file: check file path/integrity\n",
      "[ WARN:0@1141.419] global loadsave.cpp:248 findDecoder imread_('../../Synthetic_images/Iris_SuperTML/02/000114.png'): can't open/read file: check file path/integrity\n",
      "[ WARN:0@1141.419] global loadsave.cpp:248 findDecoder imread_('../../Synthetic_images/Iris_SuperTML/01/000053.png'): can't open/read file: check file path/integrity\n",
      "[ WARN:0@1141.419] global loadsave.cpp:248 findDecoder imread_('../../Synthetic_images/Iris_SuperTML/00/000026.png'): can't open/read file: check file path/integrity\n",
      "[ WARN:0@1141.419] global loadsave.cpp:248 findDecoder imread_('../../Synthetic_images/Iris_SuperTML/01/000056.png'): can't open/read file: check file path/integrity\n",
      "[ WARN:0@1141.419] global loadsave.cpp:248 findDecoder imread_('../../Synthetic_images/Iris_SuperTML/01/000099.png'): can't open/read file: check file path/integrity\n",
      "[ WARN:0@1141.419] global loadsave.cpp:248 findDecoder imread_('../../Synthetic_images/Iris_SuperTML/00/000028.png'): can't open/read file: check file path/integrity\n",
      "[ WARN:0@1141.419] global loadsave.cpp:248 findDecoder imread_('../../Synthetic_images/Iris_SuperTML/00/000040.png'): can't open/read file: check file path/integrity\n",
      "[ WARN:0@1141.419] global loadsave.cpp:248 findDecoder imread_('../../Synthetic_images/Iris_SuperTML/01/000078.png'): can't open/read file: check file path/integrity\n",
      "[ WARN:0@1141.419] global loadsave.cpp:248 findDecoder imread_('../../Synthetic_images/Iris_SuperTML/02/000119.png'): can't open/read file: check file path/integrity\n",
      "[ WARN:0@1141.419] global loadsave.cpp:248 findDecoder imread_('../../Synthetic_images/Iris_SuperTML/01/000070.png'): can't open/read file: check file path/integrity\n",
      "[ WARN:0@1141.419] global loadsave.cpp:248 findDecoder imread_('../../Synthetic_images/Iris_SuperTML/01/000060.png'): can't open/read file: check file path/integrity\n",
      "[ WARN:0@1141.419] global loadsave.cpp:248 findDecoder imread_('../../Synthetic_images/Iris_SuperTML/02/000148.png'): can't open/read file: check file path/integrity\n",
      "[ WARN:0@1141.419] global loadsave.cpp:248 findDecoder imread_('../../Synthetic_images/Iris_SuperTML/00/000023.png'): can't open/read file: check file path/integrity\n",
      "[ WARN:0@1141.419] global loadsave.cpp:248 findDecoder imread_('../../Synthetic_images/Iris_SuperTML/01/000050.png'): can't open/read file: check file path/integrity\n",
      "[ WARN:0@1141.420] global loadsave.cpp:248 findDecoder imread_('../../Synthetic_images/Iris_SuperTML/01/000072.png'): can't open/read file: check file path/integrity\n",
      "[ WARN:0@1141.420] global loadsave.cpp:248 findDecoder imread_('../../Synthetic_images/Iris_SuperTML/02/000131.png'): can't open/read file: check file path/integrity\n",
      "[ WARN:0@1141.420] global loadsave.cpp:248 findDecoder imread_('../../Synthetic_images/Iris_SuperTML/00/000047.png'): can't open/read file: check file path/integrity\n",
      "[ WARN:0@1141.420] global loadsave.cpp:248 findDecoder imread_('../../Synthetic_images/Iris_SuperTML/01/000052.png'): can't open/read file: check file path/integrity\n",
      "[ WARN:0@1141.420] global loadsave.cpp:248 findDecoder imread_('../../Synthetic_images/Iris_SuperTML/02/000145.png'): can't open/read file: check file path/integrity\n",
      "[ WARN:0@1141.420] global loadsave.cpp:248 findDecoder imread_('../../Synthetic_images/Iris_SuperTML/00/000007.png'): can't open/read file: check file path/integrity\n",
      "[ WARN:0@1141.420] global loadsave.cpp:248 findDecoder imread_('../../Synthetic_images/Iris_SuperTML/02/000139.png'): can't open/read file: check file path/integrity\n",
      "[ WARN:0@1141.420] global loadsave.cpp:248 findDecoder imread_('../../Synthetic_images/Iris_SuperTML/00/000035.png'): can't open/read file: check file path/integrity\n",
      "[ WARN:0@1141.420] global loadsave.cpp:248 findDecoder imread_('../../Synthetic_images/Iris_SuperTML/02/000113.png'): can't open/read file: check file path/integrity\n",
      "[ WARN:0@1141.420] global loadsave.cpp:248 findDecoder imread_('../../Synthetic_images/Iris_SuperTML/01/000090.png'): can't open/read file: check file path/integrity\n",
      "[ WARN:0@1141.420] global loadsave.cpp:248 findDecoder imread_('../../Synthetic_images/Iris_SuperTML/02/000111.png'): can't open/read file: check file path/integrity\n",
      "[ WARN:0@1141.420] global loadsave.cpp:248 findDecoder imread_('../../Synthetic_images/Iris_SuperTML/02/000126.png'): can't open/read file: check file path/integrity\n",
      "[ WARN:0@1141.420] global loadsave.cpp:248 findDecoder imread_('../../Synthetic_images/Iris_SuperTML/01/000054.png'): can't open/read file: check file path/integrity\n",
      "[ WARN:0@1141.420] global loadsave.cpp:248 findDecoder imread_('../../Synthetic_images/Iris_SuperTML/02/000121.png'): can't open/read file: check file path/integrity\n",
      "[ WARN:0@1141.420] global loadsave.cpp:248 findDecoder imread_('../../Synthetic_images/Iris_SuperTML/02/000102.png'): can't open/read file: check file path/integrity\n",
      "[ WARN:0@1141.420] global loadsave.cpp:248 findDecoder imread_('../../Synthetic_images/Iris_SuperTML/00/000045.png'): can't open/read file: check file path/integrity\n",
      "[ WARN:0@1141.420] global loadsave.cpp:248 findDecoder imread_('../../Synthetic_images/Iris_SuperTML/00/000005.png'): can't open/read file: check file path/integrity\n",
      "[ WARN:0@1141.420] global loadsave.cpp:248 findDecoder imread_('../../Synthetic_images/Iris_SuperTML/00/000013.png'): can't open/read file: check file path/integrity\n",
      "[ WARN:0@1141.420] global loadsave.cpp:248 findDecoder imread_('../../Synthetic_images/Iris_SuperTML/01/000096.png'): can't open/read file: check file path/integrity\n",
      "[ WARN:0@1141.420] global loadsave.cpp:248 findDecoder imread_('../../Synthetic_images/Iris_SuperTML/01/000059.png'): can't open/read file: check file path/integrity\n",
      "[ WARN:0@1141.420] global loadsave.cpp:248 findDecoder imread_('../../Synthetic_images/Iris_SuperTML/02/000149.png'): can't open/read file: check file path/integrity\n",
      "[ WARN:0@1141.420] global loadsave.cpp:248 findDecoder imread_('../../Synthetic_images/Iris_SuperTML/00/000044.png'): can't open/read file: check file path/integrity\n",
      "[ WARN:0@1141.420] global loadsave.cpp:248 findDecoder imread_('../../Synthetic_images/Iris_SuperTML/02/000112.png'): can't open/read file: check file path/integrity\n",
      "[ WARN:0@1141.420] global loadsave.cpp:248 findDecoder imread_('../../Synthetic_images/Iris_SuperTML/00/000018.png'): can't open/read file: check file path/integrity\n",
      "[ WARN:0@1141.420] global loadsave.cpp:248 findDecoder imread_('../../Synthetic_images/Iris_SuperTML/01/000083.png'): can't open/read file: check file path/integrity\n",
      "[ WARN:0@1141.420] global loadsave.cpp:248 findDecoder imread_('../../Synthetic_images/Iris_SuperTML/02/000143.png'): can't open/read file: check file path/integrity\n",
      "[ WARN:0@1141.420] global loadsave.cpp:248 findDecoder imread_('../../Synthetic_images/Iris_SuperTML/02/000108.png'): can't open/read file: check file path/integrity\n",
      "[ WARN:0@1141.420] global loadsave.cpp:248 findDecoder imread_('../../Synthetic_images/Iris_SuperTML/01/000094.png'): can't open/read file: check file path/integrity\n",
      "[ WARN:0@1141.420] global loadsave.cpp:248 findDecoder imread_('../../Synthetic_images/Iris_SuperTML/02/000147.png'): can't open/read file: check file path/integrity\n",
      "[ WARN:0@1141.420] global loadsave.cpp:248 findDecoder imread_('../../Synthetic_images/Iris_SuperTML/02/000101.png'): can't open/read file: check file path/integrity\n",
      "[ WARN:0@1141.420] global loadsave.cpp:248 findDecoder imread_('../../Synthetic_images/Iris_SuperTML/01/000063.png'): can't open/read file: check file path/integrity\n",
      "[ WARN:0@1141.420] global loadsave.cpp:248 findDecoder imread_('../../Synthetic_images/Iris_SuperTML/00/000038.png'): can't open/read file: check file path/integrity\n",
      "[ WARN:0@1141.420] global loadsave.cpp:248 findDecoder imread_('../../Synthetic_images/Iris_SuperTML/00/000020.png'): can't open/read file: check file path/integrity\n",
      "[ WARN:0@1141.420] global loadsave.cpp:248 findDecoder imread_('../../Synthetic_images/Iris_SuperTML/00/000030.png'): can't open/read file: check file path/integrity\n",
      "[ WARN:0@1141.420] global loadsave.cpp:248 findDecoder imread_('../../Synthetic_images/Iris_SuperTML/01/000081.png'): can't open/read file: check file path/integrity\n",
      "[ WARN:0@1141.420] global loadsave.cpp:248 findDecoder imread_('../../Synthetic_images/Iris_SuperTML/00/000031.png'): can't open/read file: check file path/integrity\n",
      "[ WARN:0@1141.420] global loadsave.cpp:248 findDecoder imread_('../../Synthetic_images/Iris_SuperTML/02/000124.png'): can't open/read file: check file path/integrity\n",
      "[ WARN:0@1141.420] global loadsave.cpp:248 findDecoder imread_('../../Synthetic_images/Iris_SuperTML/01/000086.png'): can't open/read file: check file path/integrity\n",
      "[ WARN:0@1141.420] global loadsave.cpp:248 findDecoder imread_('../../Synthetic_images/Iris_SuperTML/02/000125.png'): can't open/read file: check file path/integrity\n",
      "[ WARN:0@1141.420] global loadsave.cpp:248 findDecoder imread_('../../Synthetic_images/Iris_SuperTML/02/000127.png'): can't open/read file: check file path/integrity\n",
      "[ WARN:0@1141.420] global loadsave.cpp:248 findDecoder imread_('../../Synthetic_images/Iris_SuperTML/01/000085.png'): can't open/read file: check file path/integrity\n",
      "[ WARN:0@1141.420] global loadsave.cpp:248 findDecoder imread_('../../Synthetic_images/Iris_SuperTML/02/000122.png'): can't open/read file: check file path/integrity\n",
      "[ WARN:0@1141.420] global loadsave.cpp:248 findDecoder imread_('../../Synthetic_images/Iris_SuperTML/01/000087.png'): can't open/read file: check file path/integrity\n",
      "[ WARN:0@1141.420] global loadsave.cpp:248 findDecoder imread_('../../Synthetic_images/Iris_SuperTML/00/000004.png'): can't open/read file: check file path/integrity\n",
      "[ WARN:0@1141.420] global loadsave.cpp:248 findDecoder imread_('../../Synthetic_images/Iris_SuperTML/00/000021.png'): can't open/read file: check file path/integrity\n",
      "[ WARN:0@1141.420] global loadsave.cpp:248 findDecoder imread_('../../Synthetic_images/Iris_SuperTML/00/000015.png'): can't open/read file: check file path/integrity\n",
      "[ WARN:0@1141.420] global loadsave.cpp:248 findDecoder imread_('../../Synthetic_images/Iris_SuperTML/01/000079.png'): can't open/read file: check file path/integrity\n",
      "[ WARN:0@1141.420] global loadsave.cpp:248 findDecoder imread_('../../Synthetic_images/Iris_SuperTML/01/000075.png'): can't open/read file: check file path/integrity\n",
      "[ WARN:0@1141.420] global loadsave.cpp:248 findDecoder imread_('../../Synthetic_images/Iris_SuperTML/02/000118.png'): can't open/read file: check file path/integrity\n",
      "[ WARN:0@1141.420] global loadsave.cpp:248 findDecoder imread_('../../Synthetic_images/Iris_SuperTML/00/000029.png'): can't open/read file: check file path/integrity\n",
      "[ WARN:0@1141.420] global loadsave.cpp:248 findDecoder imread_('../../Synthetic_images/Iris_SuperTML/01/000065.png'): can't open/read file: check file path/integrity\n",
      "[ WARN:0@1141.420] global loadsave.cpp:248 findDecoder imread_('../../Synthetic_images/Iris_SuperTML/02/000136.png'): can't open/read file: check file path/integrity\n",
      "[ WARN:0@1141.420] global loadsave.cpp:248 findDecoder imread_('../../Synthetic_images/Iris_SuperTML/00/000000.png'): can't open/read file: check file path/integrity\n",
      "[ WARN:0@1141.420] global loadsave.cpp:248 findDecoder imread_('../../Synthetic_images/Iris_SuperTML/00/000048.png'): can't open/read file: check file path/integrity\n",
      "[ WARN:0@1141.421] global loadsave.cpp:248 findDecoder imread_('../../Synthetic_images/Iris_SuperTML/00/000034.png'): can't open/read file: check file path/integrity\n",
      "[ WARN:0@1141.421] global loadsave.cpp:248 findDecoder imread_('../../Synthetic_images/Iris_SuperTML/02/000100.png'): can't open/read file: check file path/integrity\n",
      "[ WARN:0@1141.421] global loadsave.cpp:248 findDecoder imread_('../../Synthetic_images/Iris_SuperTML/00/000027.png'): can't open/read file: check file path/integrity\n",
      "[ WARN:0@1141.421] global loadsave.cpp:248 findDecoder imread_('../../Synthetic_images/Iris_SuperTML/01/000071.png'): can't open/read file: check file path/integrity\n",
      "[ WARN:0@1141.421] global loadsave.cpp:248 findDecoder imread_('../../Synthetic_images/Iris_SuperTML/00/000010.png'): can't open/read file: check file path/integrity\n",
      "[ WARN:0@1141.421] global loadsave.cpp:248 findDecoder imread_('../../Synthetic_images/Iris_SuperTML/02/000134.png'): can't open/read file: check file path/integrity\n",
      "[ WARN:0@1141.421] global loadsave.cpp:248 findDecoder imread_('../../Synthetic_images/Iris_SuperTML/01/000057.png'): can't open/read file: check file path/integrity\n",
      "[ WARN:0@1141.421] global loadsave.cpp:248 findDecoder imread_('../../Synthetic_images/Iris_SuperTML/02/000110.png'): can't open/read file: check file path/integrity\n",
      "[ WARN:0@1141.421] global loadsave.cpp:248 findDecoder imread_('../../Synthetic_images/Iris_SuperTML/02/000142.png'): can't open/read file: check file path/integrity\n",
      "[ WARN:0@1141.421] global loadsave.cpp:248 findDecoder imread_('../../Synthetic_images/Iris_SuperTML/02/000104.png'): can't open/read file: check file path/integrity\n",
      "[ WARN:0@1141.421] global loadsave.cpp:248 findDecoder imread_('../../Synthetic_images/Iris_SuperTML/00/000012.png'): can't open/read file: check file path/integrity\n",
      "[ WARN:0@1141.421] global loadsave.cpp:248 findDecoder imread_('../../Synthetic_images/Iris_SuperTML/00/000036.png'): can't open/read file: check file path/integrity\n",
      "[ WARN:0@1141.421] global loadsave.cpp:248 findDecoder imread_('../../Synthetic_images/Iris_SuperTML/01/000089.png'): can't open/read file: check file path/integrity\n",
      "[ WARN:0@1141.421] global loadsave.cpp:248 findDecoder imread_('../../Synthetic_images/Iris_SuperTML/01/000064.png'): can't open/read file: check file path/integrity\n",
      "[ WARN:0@1141.421] global loadsave.cpp:248 findDecoder imread_('../../Synthetic_images/Iris_SuperTML/02/000141.png'): can't open/read file: check file path/integrity\n",
      "[ WARN:0@1141.421] global loadsave.cpp:248 findDecoder imread_('../../Synthetic_images/Iris_SuperTML/01/000095.png'): can't open/read file: check file path/integrity\n",
      "[ WARN:0@1141.421] global loadsave.cpp:248 findDecoder imread_('../../Synthetic_images/Iris_SuperTML/01/000092.png'): can't open/read file: check file path/integrity\n",
      "[ WARN:0@1141.421] global loadsave.cpp:248 findDecoder imread_('../../Synthetic_images/Iris_SuperTML/02/000109.png'): can't open/read file: check file path/integrity\n",
      "[ WARN:0@1141.421] global loadsave.cpp:248 findDecoder imread_('../../Synthetic_images/Iris_SuperTML/02/000138.png'): can't open/read file: check file path/integrity\n",
      "[ WARN:0@1141.421] global loadsave.cpp:248 findDecoder imread_('../../Synthetic_images/Iris_SuperTML/00/000008.png'): can't open/read file: check file path/integrity\n",
      "[ WARN:0@1141.421] global loadsave.cpp:248 findDecoder imread_('../../Synthetic_images/Iris_SuperTML/00/000002.png'): can't open/read file: check file path/integrity\n",
      "[ WARN:0@1141.421] global loadsave.cpp:248 findDecoder imread_('../../Synthetic_images/Iris_SuperTML/00/000014.png'): can't open/read file: check file path/integrity\n",
      "[ WARN:0@1141.421] global loadsave.cpp:248 findDecoder imread_('../../Synthetic_images/Iris_SuperTML/00/000006.png'): can't open/read file: check file path/integrity\n",
      "[ WARN:0@1141.421] global loadsave.cpp:248 findDecoder imread_('../../Synthetic_images/Iris_SuperTML/01/000091.png'): can't open/read file: check file path/integrity\n",
      "[ WARN:0@1141.421] global loadsave.cpp:248 findDecoder imread_('../../Synthetic_images/Iris_SuperTML/02/000132.png'): can't open/read file: check file path/integrity\n",
      "[ WARN:0@1141.421] global loadsave.cpp:248 findDecoder imread_('../../Synthetic_images/Iris_SuperTML/01/000076.png'): can't open/read file: check file path/integrity\n",
      "[ WARN:0@1141.421] global loadsave.cpp:248 findDecoder imread_('../../Synthetic_images/Iris_SuperTML/02/000116.png'): can't open/read file: check file path/integrity\n",
      "[ WARN:0@1141.421] global loadsave.cpp:248 findDecoder imread_('../../Synthetic_images/Iris_SuperTML/01/000062.png'): can't open/read file: check file path/integrity\n",
      "[ WARN:0@1141.421] global loadsave.cpp:248 findDecoder imread_('../../Synthetic_images/Iris_SuperTML/00/000016.png'): can't open/read file: check file path/integrity\n",
      "[ WARN:0@1141.421] global loadsave.cpp:248 findDecoder imread_('../../Synthetic_images/Iris_SuperTML/01/000093.png'): can't open/read file: check file path/integrity\n"
     ]
    },
    {
     "ename": "AttributeError",
     "evalue": "'NoneType' object has no attribute 'shape'",
     "output_type": "error",
     "traceback": [
      "\u001b[0;31m---------------------------------------------------------------------------\u001b[0m",
      "\u001b[0;31mAttributeError\u001b[0m                            Traceback (most recent call last)",
      "Cell \u001b[0;32mIn[47], line 19\u001b[0m\n\u001b[1;32m     17\u001b[0m n_class \u001b[38;5;241m=\u001b[39m df[\u001b[38;5;124m'\u001b[39m\u001b[38;5;124mSpecies\u001b[39m\u001b[38;5;124m'\u001b[39m]\u001b[38;5;241m.\u001b[39mvalue_counts()\u001b[38;5;241m.\u001b[39mcount()\n\u001b[1;32m     18\u001b[0m attributes \u001b[38;5;241m=\u001b[39m \u001b[38;5;28mlen\u001b[39m(X_train_num\u001b[38;5;241m.\u001b[39mcolumns)\n\u001b[0;32m---> 19\u001b[0m \u001b[38;5;28mprint\u001b[39m(\u001b[38;5;124m\"\u001b[39m\u001b[38;5;124mImage shape\u001b[39m\u001b[38;5;124m\"\u001b[39m,\u001b[43mX_train_img\u001b[49m\u001b[43m[\u001b[49m\u001b[38;5;241;43m0\u001b[39;49m\u001b[43m]\u001b[49m\u001b[38;5;241;43m.\u001b[39;49m\u001b[43mshape\u001b[49m)\n\u001b[1;32m     20\u001b[0m \u001b[38;5;28mprint\u001b[39m(\u001b[38;5;124m\"\u001b[39m\u001b[38;5;124mAttributes\u001b[39m\u001b[38;5;124m\"\u001b[39m,attributes)\n\u001b[1;32m     21\u001b[0m \u001b[38;5;28mprint\u001b[39m(\u001b[38;5;124m\"\u001b[39m\u001b[38;5;124mClasses\u001b[39m\u001b[38;5;124m\"\u001b[39m,n_class)\n",
      "\u001b[0;31mAttributeError\u001b[0m: 'NoneType' object has no attribute 'shape'"
     ]
    }
   ],
   "source": [
    "import cv2\n",
    "X_train, X_val, y_train, y_val = train_test_split(df_x, df_y, test_size = 0.40, random_state = SEED,stratify=df_y)\n",
    "X_val, X_test, y_val, y_test = train_test_split(X_val, y_val, test_size = 0.50, random_state = SEED, stratify=y_val)\n",
    "\n",
    "X_train_num = X_train.drop(\"images\",axis=1)\n",
    "X_val_num = X_val.drop(\"images\",axis=1)\n",
    "X_test_num = X_test.drop(\"images\",axis=1)\n",
    "\n",
    "X_train_img = np.array([cv2.imread(img) for img in X_train[\"images\"]])\n",
    "X_val_img = np.array([cv2.imread(img) for img in X_val[\"images\"]])\n",
    "X_test_img = np.array([cv2.imread(img) for img in X_test[\"images\"]])\n",
    "\n",
    "\"\"\"X_train_img = np.array([cv2.resize(cv2.imread(img),(60,60)) for img in X_train[\"images\"]])\n",
    "X_val_img = np.array([cv2.resize(cv2.imread(img),(60,60)) for img in X_val[\"images\"]])\n",
    "X_test_img = np.array([cv2.resize(cv2.imread(img),(60,60)) for img in X_test[\"images\"]])\"\"\"\n",
    "\n",
    "n_class = df['Species'].value_counts().count()\n",
    "attributes = len(X_train_num.columns)\n",
    "print(\"Image shape\",X_train_img[0].shape)\n",
    "print(\"Attributes\",attributes)\n",
    "print(\"Classes\",n_class)\n"
   ]
  },
  {
   "cell_type": "markdown",
   "metadata": {},
   "source": [
    "---\n",
    "<a id=\"section42\"></a>\n",
    " <font color=\"#004D7F\" size=5> 4.2. Distribution</font>"
   ]
  },
  {
   "cell_type": "code",
   "execution_count": 31,
   "metadata": {},
   "outputs": [
    {
     "data": {
      "text/plain": [
       "40"
      ]
     },
     "execution_count": 31,
     "metadata": {},
     "output_type": "execute_result"
    }
   ],
   "source": [
    "X_train_img[0].shape[0]"
   ]
  },
  {
   "cell_type": "code",
   "execution_count": null,
   "metadata": {},
   "outputs": [],
   "source": []
  },
  {
   "cell_type": "code",
   "execution_count": 15,
   "metadata": {},
   "outputs": [
    {
     "ename": "ValueError",
     "evalue": "shape mismatch: objects cannot be broadcast to a single shape.  Mismatch is between arg 0 with shape (4,) and arg 1 with shape (3,).",
     "output_type": "error",
     "traceback": [
      "\u001b[0;31m---------------------------------------------------------------------------\u001b[0m",
      "\u001b[0;31mValueError\u001b[0m                                Traceback (most recent call last)",
      "Cell \u001b[0;32mIn[15], line 9\u001b[0m\n\u001b[1;32m      7\u001b[0m width \u001b[38;5;241m=\u001b[39m \u001b[38;5;241m0.35\u001b[39m \n\u001b[1;32m      8\u001b[0m \u001b[38;5;66;03m#plt.bar(class_labels, train_class_counts, width, label='Train')\u001b[39;00m\n\u001b[0;32m----> 9\u001b[0m \u001b[43mplt\u001b[49m\u001b[38;5;241;43m.\u001b[39;49m\u001b[43mbar\u001b[49m\u001b[43m(\u001b[49m\u001b[43mclass_labels\u001b[49m\u001b[43m \u001b[49m\u001b[38;5;241;43m+\u001b[39;49m\u001b[43m \u001b[49m\u001b[43mwidth\u001b[49m\u001b[43m,\u001b[49m\u001b[43m \u001b[49m\u001b[43mval_class_counts\u001b[49m\u001b[43m,\u001b[49m\u001b[43m \u001b[49m\u001b[43mwidth\u001b[49m\u001b[43m,\u001b[49m\u001b[43m \u001b[49m\u001b[43mlabel\u001b[49m\u001b[38;5;241;43m=\u001b[39;49m\u001b[38;5;124;43m'\u001b[39;49m\u001b[38;5;124;43mValidation\u001b[39;49m\u001b[38;5;124;43m'\u001b[39;49m\u001b[43m)\u001b[49m\n\u001b[1;32m     10\u001b[0m plt\u001b[38;5;241m.\u001b[39mbar(class_labels \u001b[38;5;241m+\u001b[39m width\u001b[38;5;241m*\u001b[39m\u001b[38;5;241m2\u001b[39m, test_class_counts, width, label\u001b[38;5;241m=\u001b[39m\u001b[38;5;124m'\u001b[39m\u001b[38;5;124mTest\u001b[39m\u001b[38;5;124m'\u001b[39m)\n\u001b[1;32m     12\u001b[0m plt\u001b[38;5;241m.\u001b[39mxlabel(\u001b[38;5;124m'\u001b[39m\u001b[38;5;124mClass\u001b[39m\u001b[38;5;124m'\u001b[39m)\n",
      "File \u001b[0;32m~/Library/Python/3.9/lib/python/site-packages/matplotlib/pyplot.py:2739\u001b[0m, in \u001b[0;36mbar\u001b[0;34m(x, height, width, bottom, align, data, **kwargs)\u001b[0m\n\u001b[1;32m   2728\u001b[0m \u001b[38;5;129m@_copy_docstring_and_deprecators\u001b[39m(Axes\u001b[38;5;241m.\u001b[39mbar)\n\u001b[1;32m   2729\u001b[0m \u001b[38;5;28;01mdef\u001b[39;00m \u001b[38;5;21mbar\u001b[39m(\n\u001b[1;32m   2730\u001b[0m     x: \u001b[38;5;28mfloat\u001b[39m \u001b[38;5;241m|\u001b[39m ArrayLike,\n\u001b[0;32m   (...)\u001b[0m\n\u001b[1;32m   2737\u001b[0m     \u001b[38;5;241m*\u001b[39m\u001b[38;5;241m*\u001b[39mkwargs,\n\u001b[1;32m   2738\u001b[0m ) \u001b[38;5;241m-\u001b[39m\u001b[38;5;241m>\u001b[39m BarContainer:\n\u001b[0;32m-> 2739\u001b[0m     \u001b[38;5;28;01mreturn\u001b[39;00m \u001b[43mgca\u001b[49m\u001b[43m(\u001b[49m\u001b[43m)\u001b[49m\u001b[38;5;241;43m.\u001b[39;49m\u001b[43mbar\u001b[49m\u001b[43m(\u001b[49m\n\u001b[1;32m   2740\u001b[0m \u001b[43m        \u001b[49m\u001b[43mx\u001b[49m\u001b[43m,\u001b[49m\n\u001b[1;32m   2741\u001b[0m \u001b[43m        \u001b[49m\u001b[43mheight\u001b[49m\u001b[43m,\u001b[49m\n\u001b[1;32m   2742\u001b[0m \u001b[43m        \u001b[49m\u001b[43mwidth\u001b[49m\u001b[38;5;241;43m=\u001b[39;49m\u001b[43mwidth\u001b[49m\u001b[43m,\u001b[49m\n\u001b[1;32m   2743\u001b[0m \u001b[43m        \u001b[49m\u001b[43mbottom\u001b[49m\u001b[38;5;241;43m=\u001b[39;49m\u001b[43mbottom\u001b[49m\u001b[43m,\u001b[49m\n\u001b[1;32m   2744\u001b[0m \u001b[43m        \u001b[49m\u001b[43malign\u001b[49m\u001b[38;5;241;43m=\u001b[39;49m\u001b[43malign\u001b[49m\u001b[43m,\u001b[49m\n\u001b[1;32m   2745\u001b[0m \u001b[43m        \u001b[49m\u001b[38;5;241;43m*\u001b[39;49m\u001b[38;5;241;43m*\u001b[39;49m\u001b[43m(\u001b[49m\u001b[43m{\u001b[49m\u001b[38;5;124;43m\"\u001b[39;49m\u001b[38;5;124;43mdata\u001b[39;49m\u001b[38;5;124;43m\"\u001b[39;49m\u001b[43m:\u001b[49m\u001b[43m \u001b[49m\u001b[43mdata\u001b[49m\u001b[43m}\u001b[49m\u001b[43m \u001b[49m\u001b[38;5;28;43;01mif\u001b[39;49;00m\u001b[43m \u001b[49m\u001b[43mdata\u001b[49m\u001b[43m \u001b[49m\u001b[38;5;129;43;01mis\u001b[39;49;00m\u001b[43m \u001b[49m\u001b[38;5;129;43;01mnot\u001b[39;49;00m\u001b[43m \u001b[49m\u001b[38;5;28;43;01mNone\u001b[39;49;00m\u001b[43m \u001b[49m\u001b[38;5;28;43;01melse\u001b[39;49;00m\u001b[43m \u001b[49m\u001b[43m{\u001b[49m\u001b[43m}\u001b[49m\u001b[43m)\u001b[49m\u001b[43m,\u001b[49m\n\u001b[1;32m   2746\u001b[0m \u001b[43m        \u001b[49m\u001b[38;5;241;43m*\u001b[39;49m\u001b[38;5;241;43m*\u001b[39;49m\u001b[43mkwargs\u001b[49m\u001b[43m,\u001b[49m\n\u001b[1;32m   2747\u001b[0m \u001b[43m    \u001b[49m\u001b[43m)\u001b[49m\n",
      "File \u001b[0;32m~/Library/Python/3.9/lib/python/site-packages/matplotlib/__init__.py:1465\u001b[0m, in \u001b[0;36m_preprocess_data.<locals>.inner\u001b[0;34m(ax, data, *args, **kwargs)\u001b[0m\n\u001b[1;32m   1462\u001b[0m \u001b[38;5;129m@functools\u001b[39m\u001b[38;5;241m.\u001b[39mwraps(func)\n\u001b[1;32m   1463\u001b[0m \u001b[38;5;28;01mdef\u001b[39;00m \u001b[38;5;21minner\u001b[39m(ax, \u001b[38;5;241m*\u001b[39margs, data\u001b[38;5;241m=\u001b[39m\u001b[38;5;28;01mNone\u001b[39;00m, \u001b[38;5;241m*\u001b[39m\u001b[38;5;241m*\u001b[39mkwargs):\n\u001b[1;32m   1464\u001b[0m     \u001b[38;5;28;01mif\u001b[39;00m data \u001b[38;5;129;01mis\u001b[39;00m \u001b[38;5;28;01mNone\u001b[39;00m:\n\u001b[0;32m-> 1465\u001b[0m         \u001b[38;5;28;01mreturn\u001b[39;00m \u001b[43mfunc\u001b[49m\u001b[43m(\u001b[49m\u001b[43max\u001b[49m\u001b[43m,\u001b[49m\u001b[43m \u001b[49m\u001b[38;5;241;43m*\u001b[39;49m\u001b[38;5;28;43mmap\u001b[39;49m\u001b[43m(\u001b[49m\u001b[43msanitize_sequence\u001b[49m\u001b[43m,\u001b[49m\u001b[43m \u001b[49m\u001b[43margs\u001b[49m\u001b[43m)\u001b[49m\u001b[43m,\u001b[49m\u001b[43m \u001b[49m\u001b[38;5;241;43m*\u001b[39;49m\u001b[38;5;241;43m*\u001b[39;49m\u001b[43mkwargs\u001b[49m\u001b[43m)\u001b[49m\n\u001b[1;32m   1467\u001b[0m     bound \u001b[38;5;241m=\u001b[39m new_sig\u001b[38;5;241m.\u001b[39mbind(ax, \u001b[38;5;241m*\u001b[39margs, \u001b[38;5;241m*\u001b[39m\u001b[38;5;241m*\u001b[39mkwargs)\n\u001b[1;32m   1468\u001b[0m     auto_label \u001b[38;5;241m=\u001b[39m (bound\u001b[38;5;241m.\u001b[39marguments\u001b[38;5;241m.\u001b[39mget(label_namer)\n\u001b[1;32m   1469\u001b[0m                   \u001b[38;5;129;01mor\u001b[39;00m bound\u001b[38;5;241m.\u001b[39mkwargs\u001b[38;5;241m.\u001b[39mget(label_namer))\n",
      "File \u001b[0;32m~/Library/Python/3.9/lib/python/site-packages/matplotlib/axes/_axes.py:2457\u001b[0m, in \u001b[0;36mAxes.bar\u001b[0;34m(self, x, height, width, bottom, align, **kwargs)\u001b[0m\n\u001b[1;32m   2454\u001b[0m     \u001b[38;5;28;01mif\u001b[39;00m yerr \u001b[38;5;129;01mis\u001b[39;00m \u001b[38;5;129;01mnot\u001b[39;00m \u001b[38;5;28;01mNone\u001b[39;00m:\n\u001b[1;32m   2455\u001b[0m         yerr \u001b[38;5;241m=\u001b[39m \u001b[38;5;28mself\u001b[39m\u001b[38;5;241m.\u001b[39m_convert_dx(yerr, y0, y, \u001b[38;5;28mself\u001b[39m\u001b[38;5;241m.\u001b[39mconvert_yunits)\n\u001b[0;32m-> 2457\u001b[0m x, height, width, y, linewidth, hatch \u001b[38;5;241m=\u001b[39m \u001b[43mnp\u001b[49m\u001b[38;5;241;43m.\u001b[39;49m\u001b[43mbroadcast_arrays\u001b[49m\u001b[43m(\u001b[49m\n\u001b[1;32m   2458\u001b[0m \u001b[43m    \u001b[49m\u001b[38;5;66;43;03m# Make args iterable too.\u001b[39;49;00m\n\u001b[1;32m   2459\u001b[0m \u001b[43m    \u001b[49m\u001b[43mnp\u001b[49m\u001b[38;5;241;43m.\u001b[39;49m\u001b[43matleast_1d\u001b[49m\u001b[43m(\u001b[49m\u001b[43mx\u001b[49m\u001b[43m)\u001b[49m\u001b[43m,\u001b[49m\u001b[43m \u001b[49m\u001b[43mheight\u001b[49m\u001b[43m,\u001b[49m\u001b[43m \u001b[49m\u001b[43mwidth\u001b[49m\u001b[43m,\u001b[49m\u001b[43m \u001b[49m\u001b[43my\u001b[49m\u001b[43m,\u001b[49m\u001b[43m \u001b[49m\u001b[43mlinewidth\u001b[49m\u001b[43m,\u001b[49m\u001b[43m \u001b[49m\u001b[43mhatch\u001b[49m\u001b[43m)\u001b[49m\n\u001b[1;32m   2461\u001b[0m \u001b[38;5;66;03m# Now that units have been converted, set the tick locations.\u001b[39;00m\n\u001b[1;32m   2462\u001b[0m \u001b[38;5;28;01mif\u001b[39;00m orientation \u001b[38;5;241m==\u001b[39m \u001b[38;5;124m'\u001b[39m\u001b[38;5;124mvertical\u001b[39m\u001b[38;5;124m'\u001b[39m:\n",
      "File \u001b[0;32m~/Library/Python/3.9/lib/python/site-packages/numpy/lib/stride_tricks.py:540\u001b[0m, in \u001b[0;36mbroadcast_arrays\u001b[0;34m(subok, *args)\u001b[0m\n\u001b[1;32m    533\u001b[0m \u001b[38;5;66;03m# nditer is not used here to avoid the limit of 32 arrays.\u001b[39;00m\n\u001b[1;32m    534\u001b[0m \u001b[38;5;66;03m# Otherwise, something like the following one-liner would suffice:\u001b[39;00m\n\u001b[1;32m    535\u001b[0m \u001b[38;5;66;03m# return np.nditer(args, flags=['multi_index', 'zerosize_ok'],\u001b[39;00m\n\u001b[1;32m    536\u001b[0m \u001b[38;5;66;03m#                  order='C').itviews\u001b[39;00m\n\u001b[1;32m    538\u001b[0m args \u001b[38;5;241m=\u001b[39m [np\u001b[38;5;241m.\u001b[39marray(_m, copy\u001b[38;5;241m=\u001b[39m\u001b[38;5;28;01mFalse\u001b[39;00m, subok\u001b[38;5;241m=\u001b[39msubok) \u001b[38;5;28;01mfor\u001b[39;00m _m \u001b[38;5;129;01min\u001b[39;00m args]\n\u001b[0;32m--> 540\u001b[0m shape \u001b[38;5;241m=\u001b[39m \u001b[43m_broadcast_shape\u001b[49m\u001b[43m(\u001b[49m\u001b[38;5;241;43m*\u001b[39;49m\u001b[43margs\u001b[49m\u001b[43m)\u001b[49m\n\u001b[1;32m    542\u001b[0m \u001b[38;5;28;01mif\u001b[39;00m \u001b[38;5;28mall\u001b[39m(array\u001b[38;5;241m.\u001b[39mshape \u001b[38;5;241m==\u001b[39m shape \u001b[38;5;28;01mfor\u001b[39;00m array \u001b[38;5;129;01min\u001b[39;00m args):\n\u001b[1;32m    543\u001b[0m     \u001b[38;5;66;03m# Common case where nothing needs to be broadcasted.\u001b[39;00m\n\u001b[1;32m    544\u001b[0m     \u001b[38;5;28;01mreturn\u001b[39;00m args\n",
      "File \u001b[0;32m~/Library/Python/3.9/lib/python/site-packages/numpy/lib/stride_tricks.py:422\u001b[0m, in \u001b[0;36m_broadcast_shape\u001b[0;34m(*args)\u001b[0m\n\u001b[1;32m    417\u001b[0m \u001b[38;5;250m\u001b[39m\u001b[38;5;124;03m\"\"\"Returns the shape of the arrays that would result from broadcasting the\u001b[39;00m\n\u001b[1;32m    418\u001b[0m \u001b[38;5;124;03msupplied arrays against each other.\u001b[39;00m\n\u001b[1;32m    419\u001b[0m \u001b[38;5;124;03m\"\"\"\u001b[39;00m\n\u001b[1;32m    420\u001b[0m \u001b[38;5;66;03m# use the old-iterator because np.nditer does not handle size 0 arrays\u001b[39;00m\n\u001b[1;32m    421\u001b[0m \u001b[38;5;66;03m# consistently\u001b[39;00m\n\u001b[0;32m--> 422\u001b[0m b \u001b[38;5;241m=\u001b[39m \u001b[43mnp\u001b[49m\u001b[38;5;241;43m.\u001b[39;49m\u001b[43mbroadcast\u001b[49m\u001b[43m(\u001b[49m\u001b[38;5;241;43m*\u001b[39;49m\u001b[43margs\u001b[49m\u001b[43m[\u001b[49m\u001b[43m:\u001b[49m\u001b[38;5;241;43m32\u001b[39;49m\u001b[43m]\u001b[49m\u001b[43m)\u001b[49m\n\u001b[1;32m    423\u001b[0m \u001b[38;5;66;03m# unfortunately, it cannot handle 32 or more arguments directly\u001b[39;00m\n\u001b[1;32m    424\u001b[0m \u001b[38;5;28;01mfor\u001b[39;00m pos \u001b[38;5;129;01min\u001b[39;00m \u001b[38;5;28mrange\u001b[39m(\u001b[38;5;241m32\u001b[39m, \u001b[38;5;28mlen\u001b[39m(args), \u001b[38;5;241m31\u001b[39m):\n\u001b[1;32m    425\u001b[0m     \u001b[38;5;66;03m# ironically, np.broadcast does not properly handle np.broadcast\u001b[39;00m\n\u001b[1;32m    426\u001b[0m     \u001b[38;5;66;03m# objects (it treats them as scalars)\u001b[39;00m\n\u001b[1;32m    427\u001b[0m     \u001b[38;5;66;03m# use broadcasting to avoid allocating the full array\u001b[39;00m\n",
      "\u001b[0;31mValueError\u001b[0m: shape mismatch: objects cannot be broadcast to a single shape.  Mismatch is between arg 0 with shape (4,) and arg 1 with shape (3,)."
     ]
    },
    {
     "data": {
      "image/png": "[encoded data removed]",
      "text/plain": [
       "<Figure size 640x480 with 1 Axes>"
      ]
     },
     "metadata": {},
     "output_type": "display_data"
    }
   ],
   "source": [
    "#SPLITS CLASS DISTRIBUTION\n",
    "\n",
    "train_class_counts = np.bincount(y_train)\n",
    "val_class_counts = np.bincount(y_val)\n",
    "test_class_counts = np.bincount(y_test)\n",
    "\n",
    "width = 0.35 \n",
    "#plt.bar(class_labels, train_class_counts, width, label='Train')\n",
    "plt.bar(class_labels + width, val_class_counts, width, label='Validation')\n",
    "plt.bar(class_labels + width*2, test_class_counts, width, label='Test')\n",
    "\n",
    "plt.xlabel('Class')\n",
    "plt.ylabel('Samples')\n",
    "plt.title('Classes distribution')\n",
    "#plt.xticks(class_labels + width / 2, class_labels)\n",
    "plt.legend()\n",
    "\n",
    "# Mostrar el gráfico\n",
    "plt.show()\n"
   ]
  },
  {
   "cell_type": "code",
   "execution_count": 16,
   "metadata": {},
   "outputs": [
    {
     "data": {
      "text/plain": [
       "32     0.0\n",
       "66     1.0\n",
       "97     1.0\n",
       "42     0.0\n",
       "24     0.0\n",
       "      ... \n",
       "59     1.0\n",
       "149    2.0\n",
       "44     0.0\n",
       "112    2.0\n",
       "18     0.0\n",
       "Name: class, Length: 90, dtype: float64"
      ]
     },
     "execution_count": 16,
     "metadata": {},
     "output_type": "execute_result"
    }
   ],
   "source": [
    "y_train"
   ]
  },
  {
   "cell_type": "markdown",
   "metadata": {},
   "source": [
    "---\n",
    "<a id=\"section43\"></a>\n",
    " <font color=\"#004D7F\" size=5> 4.3. One-Hot Encoding</font>"
   ]
  },
  {
   "cell_type": "code",
   "execution_count": 17,
   "metadata": {},
   "outputs": [],
   "source": [
    "#ONE HOT ENCODING FOR MULTICLASS PROBLEMS\n",
    "from tensorflow.keras.utils import to_categorical\n",
    "\n",
    "# Adjusting class indices to start from 0 since to_categorical expects classes indexed from 0 to n_class-1,\n",
    "# while original indices range from 1 to n_class.\n",
    "y_train_oh =  to_categorical(y_train-1,n_class)\n",
    "y_val_oh = to_categorical(y_val-1,n_class)\n",
    "y_test_oh = to_categorical(y_test-1,n_class)"
   ]
  },
  {
   "cell_type": "code",
   "execution_count": 18,
   "metadata": {},
   "outputs": [
    {
     "data": {
      "text/plain": [
       "array([1., 0., 0.])"
      ]
     },
     "execution_count": 18,
     "metadata": {},
     "output_type": "execute_result"
    }
   ],
   "source": [
    "y_val_oh[0]"
   ]
  },
  {
   "cell_type": "markdown",
   "metadata": {},
   "source": [
    "<a id=\"section5\"></a>\n",
    "# <font color=\"#004D7F\" size=6> 5. Modeling hybrid network</font>"
   ]
  },
  {
   "cell_type": "markdown",
   "metadata": {},
   "source": [
    "Now we can start the CNN+MLP training. Before that we prepare the algorithm for reading data.\n",
    "\n",
    "In this example, 2 branch networks is created\n",
    "- 1º branch: FFNN for tabular data\n",
    "- 2º branch: CNN for TINTOlib images"
   ]
  },
  {
   "cell_type": "markdown",
   "metadata": {},
   "source": [
    "---\n",
    "<a id=\"section51\"></a>\n",
    "# <font color=\"#004D7F\" size=5> 5.1. FFNN for tabular data</font>\n",
    "\n",
    "This is an example of a simple FFNN for tabular data. Note that we are not looking for the optimization of the CNN but to show an example of TINTOlib execution."
   ]
  },
  {
   "cell_type": "code",
   "execution_count": 19,
   "metadata": {},
   "outputs": [],
   "source": [
    "dropout = 0.3"
   ]
  },
  {
   "cell_type": "code",
   "execution_count": 20,
   "metadata": {},
   "outputs": [
    {
     "name": "stderr",
     "output_type": "stream",
     "text": [
      "2024-05-23 18:32:23.961464: I metal_plugin/src/device/metal_device.cc:1154] Metal device set to: Apple M3 Pro\n",
      "2024-05-23 18:32:23.961489: I metal_plugin/src/device/metal_device.cc:296] systemMemory: 36.00 GB\n",
      "2024-05-23 18:32:23.961505: I metal_plugin/src/device/metal_device.cc:313] maxCacheSize: 13.50 GB\n",
      "2024-05-23 18:32:23.961528: I tensorflow/core/common_runtime/pluggable_device/pluggable_device_factory.cc:305] Could not identify NUMA node of platform GPU ID 0, defaulting to 0. Your kernel may not have been built with NUMA support.\n",
      "2024-05-23 18:32:23.961543: I tensorflow/core/common_runtime/pluggable_device/pluggable_device_factory.cc:271] Created TensorFlow device (/job:localhost/replica:0/task:0/device:GPU:0 with 0 MB memory) -> physical PluggableDevice (device: 0, name: METAL, pci bus id: <undefined>)\n"
     ]
    }
   ],
   "source": [
    "filters_ffnn = [1024,512,256,128,64,32,16]\n",
    "\n",
    "ff_inputs = Input(shape = (attributes,))\n",
    "\n",
    "# * START BRANCH 1\n",
    "mlp_1 = Dense(128, activation='relu')(ff_inputs)\n",
    "mlp_1 = BatchNormalization()(mlp_1)\n",
    "mlp_1 = Dropout(dropout)(mlp_1)\n",
    "\n",
    "mlp_1 = Dense(64, activation='relu')(mlp_1)\n",
    "mlp_1 = BatchNormalization()(mlp_1)\n",
    "mlp_1 = Dropout(dropout)(mlp_1)\n",
    "\n",
    "mlp_1 = Dense(32, activation='relu')(mlp_1)\n",
    "mlp_1 = BatchNormalization()(mlp_1)\n",
    "mlp_1 = Dropout(dropout)(mlp_1)\n",
    "\n",
    "mlp_1 = Dense(16, activation='relu')(mlp_1)\n",
    "mlp_1 = BatchNormalization()(mlp_1)\n",
    "mlp_1 = Dropout(dropout)(mlp_1)\n",
    "\n",
    "ff_model = Model(inputs = ff_inputs, outputs = mlp_1)"
   ]
  },
  {
   "cell_type": "markdown",
   "metadata": {},
   "source": [
    "---\n",
    "<a id=\"section52\"></a>\n",
    "# <font color=\"#004D7F\" size=5> 5.2. CNN for TINTOlib images</font>\n",
    "\n",
    "This is an example of a simple CNN for TINTOlib images. Note that we are not looking for the optimization of the CNN but to show an example of TINTOlib execution."
   ]
  },
  {
   "cell_type": "code",
   "execution_count": 33,
   "metadata": {},
   "outputs": [],
   "source": [
    "input_shape = Input(shape=(X_train_img[0].shape[0], X_train_img[0].shape[1], 3))\n",
    "\n",
    "# CNN branch 1\n",
    "tower_1 = Conv2D(16, (3,3), activation='relu',padding=\"same\")(input_shape)\n",
    "tower_1 = BatchNormalization()(tower_1)\n",
    "tower_1 = Activation('relu')(tower_1)\n",
    "tower_1 = MaxPooling2D(2,2)(tower_1)\n",
    "tower_1 = Dropout(dropout)(tower_1)\n",
    "\n",
    "tower_1 = Conv2D(32, (3,3), activation='relu',padding=\"same\")(tower_1)\n",
    "tower_1 = BatchNormalization()(tower_1)\n",
    "tower_1 = Activation('relu')(tower_1)\n",
    "tower_1 = MaxPooling2D(2,2)(tower_1)\n",
    "tower_1 = Dropout(dropout)(tower_1)\n",
    "\n",
    "tower_1 = Conv2D(64, (3,3), activation='relu',padding=\"same\")(tower_1)\n",
    "tower_1 = BatchNormalization()(tower_1)\n",
    "tower_1 = Activation('relu')(tower_1)\n",
    "tower_1 = MaxPooling2D(2,2)(tower_1)\n",
    "tower_1 = Dropout(dropout)(tower_1)\n",
    "\n",
    "merged = Flatten()(tower_1)\n",
    "\n",
    "out = Dense(128, activation='relu')(merged)\n",
    "out = Dropout(dropout)(out)\n",
    "out = Dense(64, activation='sigmoid')(out)\n",
    "out = Dropout(dropout)(out)\n",
    "out = Dense(32, activation='sigmoid')(out)\n",
    "out = Dropout(dropout)(out)\n",
    "\n",
    "cnn_model = Model(input_shape, out)"
   ]
  },
  {
   "cell_type": "markdown",
   "metadata": {},
   "source": [
    "---\n",
    "<a id=\"section53\"></a>\n",
    "# <font color=\"#004D7F\" size=5> 5.3. Concatenate branches</font>\n",
    "\n",
    "Finally, we must concatenate the output of the CNN branch with the output of the FFNN branch in a final FFNN that will give the predictions."
   ]
  },
  {
   "cell_type": "code",
   "execution_count": 34,
   "metadata": {},
   "outputs": [],
   "source": [
    "combinedInput = concatenate([ff_model.output, cnn_model.output])\n",
    "x = Dense(64, activation=\"relu\")(combinedInput)\n",
    "x = BatchNormalization()(x)\n",
    "x = Dropout(dropout)(x)\n",
    "x = Dense(64, activation=\"relu\")(x)\n",
    "x = BatchNormalization()(x)\n",
    "x = Dropout(dropout)(x)\n",
    "x = Dense(64, activation=\"relu\")(x)\n",
    "x = BatchNormalization()(x)\n",
    "x = Dropout(dropout)(x)\n",
    "x = Dense(n_class, activation=\"softmax\")(x)\n",
    "\n",
    "model = Model(inputs=[ff_model.input, cnn_model.input], outputs=x)"
   ]
  },
  {
   "cell_type": "markdown",
   "metadata": {},
   "source": [
    "---\n",
    "<a id=\"section54\"></a>\n",
    "# <font color=\"#004D7F\" size=5> 5.4. Metrics</font>\n",
    "\n",
    "Define metrics and some hyperparameters"
   ]
  },
  {
   "cell_type": "code",
   "execution_count": 35,
   "metadata": {},
   "outputs": [
    {
     "data": {
      "text/html": [
       "<pre style=\"white-space:pre;overflow-x:auto;line-height:normal;font-family:Menlo,'DejaVu Sans Mono',consolas,'Courier New',monospace\"></pre>\n"
      ],
      "text/plain": []
     },
     "metadata": {},
     "output_type": "display_data"
    },
    {
     "data": {
      "text/plain": [
       "<contextlib.ExitStack at 0x372c0fd00>"
      ]
     },
     "execution_count": 35,
     "metadata": {},
     "output_type": "execute_result"
    }
   ],
   "source": [
    "os.makedirs(results_folder, exist_ok=True)\n",
    "\n",
    "# Redirect the summary output to the specified file\n",
    "with open(results_folder+\"/model_summary.txt\", \"w\") as f:\n",
    "    model.summary(print_fn=lambda x: f.write(x + '\\n'))\n",
    "\n",
    "# Desactivar la visualización automática de matplotlib\n",
    "plt.ioff()\n",
    "# Now, you can also save the model plot\n",
    "plot_model(model, to_file=results_folder+'model_plot.png', show_shapes=True, expand_nested=True)\n",
    "# Reactivar la visualización automática de matplotlib (opcional)\n",
    "plt.ion()"
   ]
  },
  {
   "cell_type": "markdown",
   "metadata": {},
   "source": [
    "---\n",
    "<a id=\"section55\"></a>\n",
    "# <font color=\"#004D7F\" size=5> 5.5. Compile and fit</font>\n"
   ]
  },
  {
   "cell_type": "code",
   "execution_count": 36,
   "metadata": {},
   "outputs": [],
   "source": [
    "METRICS = [\n",
    "    #tf.keras.metrics.TruePositives(name = 'tp'),\n",
    "    #tf.keras.metrics.FalsePositives(name = 'fp'),\n",
    "    #tf.keras.metrics.TrueNegatives(name = 'tn'),\n",
    "    #tf.keras.metrics.FalseNegatives(name = 'fn'), \n",
    "    tf.keras.metrics.CategoricalAccuracy(name ='accuracy'),\n",
    "    tf.keras.metrics.Precision(name = 'precision'),\n",
    "    tf.keras.metrics.Recall(name = 'recall'),\n",
    "    tf.keras.metrics.AUC(name = 'auc'),\n",
    "]"
   ]
  },
  {
   "cell_type": "code",
   "execution_count": 37,
   "metadata": {},
   "outputs": [],
   "source": [
    "#HYPERPARAMETERS\n",
    "opt = Adam(learning_rate=1e-3)\n",
    "model.compile(\n",
    "    loss=\"categorical_crossentropy\", \n",
    "    optimizer=opt,\n",
    "    metrics = METRICS\n",
    ")\n",
    "epochs = 200"
   ]
  },
  {
   "cell_type": "code",
   "execution_count": 38,
   "metadata": {},
   "outputs": [],
   "source": [
    "# Configure EarlyStopping for binary classification\n",
    "early_stopper = tf.keras.callbacks.EarlyStopping(\n",
    "    monitor='val_accuracy',  # Monitor the validation accuracy\n",
    "    min_delta=0.001,         # Minimum change in the monitored quantity to qualify as an improvement\n",
    "    patience=20,             # Number of epochs with no improvement after which training will be stopped\n",
    "    verbose=1,               # Log when training stops\n",
    "    mode='max',              # Maximize the accuracy;\n",
    "    restore_best_weights=True  # Restore model weights from the epoch with the best value of the monitored quantity\n",
    ")"
   ]
  },
  {
   "cell_type": "code",
   "execution_count": 39,
   "metadata": {},
   "outputs": [
    {
     "name": "stdout",
     "output_type": "stream",
     "text": [
      "Epoch 1/200\n"
     ]
    },
    {
     "name": "stderr",
     "output_type": "stream",
     "text": [
      "2024-05-23 18:34:50.867916: I tensorflow/core/grappler/optimizers/custom_graph_optimizer_registry.cc:117] Plugin optimizer for device_type GPU is enabled.\n"
     ]
    },
    {
     "name": "stdout",
     "output_type": "stream",
     "text": [
      "\u001b[1m12/12\u001b[0m \u001b[32m━━━━━━━━━━━━━━━━━━━━\u001b[0m\u001b[37m\u001b[0m \u001b[1m9s\u001b[0m 305ms/step - accuracy: 0.3558 - auc: 0.5663 - loss: 1.4591 - precision: 0.3861 - recall: 0.3156 - val_accuracy: 0.6000 - val_auc: 0.5056 - val_loss: 1.1033 - val_precision: 0.0000e+00 - val_recall: 0.0000e+00\n",
      "Epoch 2/200\n",
      "\u001b[1m12/12\u001b[0m \u001b[32m━━━━━━━━━━━━━━━━━━━━\u001b[0m\u001b[37m\u001b[0m \u001b[1m1s\u001b[0m 113ms/step - accuracy: 0.3643 - auc: 0.5977 - loss: 1.4317 - precision: 0.4194 - recall: 0.3291 - val_accuracy: 0.3333 - val_auc: 0.4972 - val_loss: 1.0993 - val_precision: 0.0000e+00 - val_recall: 0.0000e+00\n",
      "Epoch 3/200\n",
      "\u001b[1m12/12\u001b[0m \u001b[32m━━━━━━━━━━━━━━━━━━━━\u001b[0m\u001b[37m\u001b[0m \u001b[1m1s\u001b[0m 109ms/step - accuracy: 0.3971 - auc: 0.5764 - loss: 1.4758 - precision: 0.4183 - recall: 0.3403 - val_accuracy: 0.3333 - val_auc: 0.5786 - val_loss: 1.0962 - val_precision: 0.0000e+00 - val_recall: 0.0000e+00\n",
      "Epoch 4/200\n",
      "\u001b[1m12/12\u001b[0m \u001b[32m━━━━━━━━━━━━━━━━━━━━\u001b[0m\u001b[37m\u001b[0m \u001b[1m1s\u001b[0m 109ms/step - accuracy: 0.5251 - auc: 0.6543 - loss: 1.3898 - precision: 0.5218 - recall: 0.4591 - val_accuracy: 0.3333 - val_auc: 0.5642 - val_loss: 1.0963 - val_precision: 0.0000e+00 - val_recall: 0.0000e+00\n",
      "Epoch 5/200\n",
      "\u001b[1m12/12\u001b[0m \u001b[32m━━━━━━━━━━━━━━━━━━━━\u001b[0m\u001b[37m\u001b[0m \u001b[1m1s\u001b[0m 108ms/step - accuracy: 0.4644 - auc: 0.6740 - loss: 1.1950 - precision: 0.4983 - recall: 0.4490 - val_accuracy: 0.3333 - val_auc: 0.6064 - val_loss: 1.0951 - val_precision: 0.0000e+00 - val_recall: 0.0000e+00\n",
      "Epoch 6/200\n",
      "\u001b[1m12/12\u001b[0m \u001b[32m━━━━━━━━━━━━━━━━━━━━\u001b[0m\u001b[37m\u001b[0m \u001b[1m1s\u001b[0m 105ms/step - accuracy: 0.6034 - auc: 0.7263 - loss: 1.1736 - precision: 0.5926 - recall: 0.5238 - val_accuracy: 0.3333 - val_auc: 0.6069 - val_loss: 1.1004 - val_precision: 0.0000e+00 - val_recall: 0.0000e+00\n",
      "Epoch 7/200\n",
      "\u001b[1m12/12\u001b[0m \u001b[32m━━━━━━━━━━━━━━━━━━━━\u001b[0m\u001b[37m\u001b[0m \u001b[1m1s\u001b[0m 106ms/step - accuracy: 0.5028 - auc: 0.7195 - loss: 1.0799 - precision: 0.5184 - recall: 0.4755 - val_accuracy: 0.3333 - val_auc: 0.5914 - val_loss: 1.1165 - val_precision: 0.0000e+00 - val_recall: 0.0000e+00\n",
      "Epoch 8/200\n",
      "\u001b[1m12/12\u001b[0m \u001b[32m━━━━━━━━━━━━━━━━━━━━\u001b[0m\u001b[37m\u001b[0m \u001b[1m1s\u001b[0m 107ms/step - accuracy: 0.5321 - auc: 0.7228 - loss: 1.0486 - precision: 0.5507 - recall: 0.4856 - val_accuracy: 0.3333 - val_auc: 0.5742 - val_loss: 1.1450 - val_precision: 0.0000e+00 - val_recall: 0.0000e+00\n",
      "Epoch 9/200\n",
      "\u001b[1m12/12\u001b[0m \u001b[32m━━━━━━━━━━━━━━━━━━━━\u001b[0m\u001b[37m\u001b[0m \u001b[1m1s\u001b[0m 110ms/step - accuracy: 0.4186 - auc: 0.6676 - loss: 1.2343 - precision: 0.4600 - recall: 0.3940 - val_accuracy: 0.3333 - val_auc: 0.5506 - val_loss: 1.1719 - val_precision: 0.3333 - val_recall: 0.3333\n",
      "Epoch 10/200\n",
      "\u001b[1m12/12\u001b[0m \u001b[32m━━━━━━━━━━━━━━━━━━━━\u001b[0m\u001b[37m\u001b[0m \u001b[1m1s\u001b[0m 110ms/step - accuracy: 0.4518 - auc: 0.7218 - loss: 1.0463 - precision: 0.5003 - recall: 0.4492 - val_accuracy: 0.3333 - val_auc: 0.5267 - val_loss: 1.1966 - val_precision: 0.3333 - val_recall: 0.3333\n",
      "Epoch 11/200\n",
      "\u001b[1m12/12\u001b[0m \u001b[32m━━━━━━━━━━━━━━━━━━━━\u001b[0m\u001b[37m\u001b[0m \u001b[1m1s\u001b[0m 107ms/step - accuracy: 0.4702 - auc: 0.7102 - loss: 1.0021 - precision: 0.4983 - recall: 0.3992 - val_accuracy: 0.3333 - val_auc: 0.5206 - val_loss: 1.2191 - val_precision: 0.3333 - val_recall: 0.3333\n",
      "Epoch 12/200\n",
      "\u001b[1m12/12\u001b[0m \u001b[32m━━━━━━━━━━━━━━━━━━━━\u001b[0m\u001b[37m\u001b[0m \u001b[1m1s\u001b[0m 107ms/step - accuracy: 0.5821 - auc: 0.7501 - loss: 1.0638 - precision: 0.6135 - recall: 0.5821 - val_accuracy: 0.3333 - val_auc: 0.4969 - val_loss: 1.2739 - val_precision: 0.3333 - val_recall: 0.3333\n",
      "Epoch 13/200\n",
      "\u001b[1m12/12\u001b[0m \u001b[32m━━━━━━━━━━━━━━━━━━━━\u001b[0m\u001b[37m\u001b[0m \u001b[1m1s\u001b[0m 106ms/step - accuracy: 0.5489 - auc: 0.7724 - loss: 0.9345 - precision: 0.5536 - recall: 0.4393 - val_accuracy: 0.3333 - val_auc: 0.4797 - val_loss: 1.3366 - val_precision: 0.3333 - val_recall: 0.3333\n",
      "Epoch 14/200\n",
      "\u001b[1m12/12\u001b[0m \u001b[32m━━━━━━━━━━━━━━━━━━━━\u001b[0m\u001b[37m\u001b[0m \u001b[1m1s\u001b[0m 105ms/step - accuracy: 0.5725 - auc: 0.7259 - loss: 1.0829 - precision: 0.5920 - recall: 0.5221 - val_accuracy: 0.3333 - val_auc: 0.4658 - val_loss: 1.3751 - val_precision: 0.3333 - val_recall: 0.3333\n",
      "Epoch 15/200\n",
      "\u001b[1m12/12\u001b[0m \u001b[32m━━━━━━━━━━━━━━━━━━━━\u001b[0m\u001b[37m\u001b[0m \u001b[1m1s\u001b[0m 107ms/step - accuracy: 0.5899 - auc: 0.7579 - loss: 0.9635 - precision: 0.6063 - recall: 0.5278 - val_accuracy: 0.3333 - val_auc: 0.4700 - val_loss: 1.3966 - val_precision: 0.3333 - val_recall: 0.3333\n",
      "Epoch 16/200\n",
      "\u001b[1m12/12\u001b[0m \u001b[32m━━━━━━━━━━━━━━━━━━━━\u001b[0m\u001b[37m\u001b[0m \u001b[1m1s\u001b[0m 108ms/step - accuracy: 0.6281 - auc: 0.8015 - loss: 0.9173 - precision: 0.6617 - recall: 0.5931 - val_accuracy: 0.3333 - val_auc: 0.5197 - val_loss: 1.4359 - val_precision: 0.3333 - val_recall: 0.3333\n",
      "Epoch 17/200\n",
      "\u001b[1m12/12\u001b[0m \u001b[32m━━━━━━━━━━━━━━━━━━━━\u001b[0m\u001b[37m\u001b[0m \u001b[1m1s\u001b[0m 108ms/step - accuracy: 0.5713 - auc: 0.7367 - loss: 1.0219 - precision: 0.5983 - recall: 0.5319 - val_accuracy: 0.3333 - val_auc: 0.5497 - val_loss: 1.4758 - val_precision: 0.3333 - val_recall: 0.3333\n",
      "Epoch 18/200\n",
      "\u001b[1m12/12\u001b[0m \u001b[32m━━━━━━━━━━━━━━━━━━━━\u001b[0m\u001b[37m\u001b[0m \u001b[1m1s\u001b[0m 106ms/step - accuracy: 0.7581 - auc: 0.8870 - loss: 0.6373 - precision: 0.7994 - recall: 0.6806 - val_accuracy: 0.3333 - val_auc: 0.5822 - val_loss: 1.5061 - val_precision: 0.3333 - val_recall: 0.3333\n",
      "Epoch 19/200\n",
      "\u001b[1m12/12\u001b[0m \u001b[32m━━━━━━━━━━━━━━━━━━━━\u001b[0m\u001b[37m\u001b[0m \u001b[1m1s\u001b[0m 108ms/step - accuracy: 0.6503 - auc: 0.7957 - loss: 0.9397 - precision: 0.6743 - recall: 0.5657 - val_accuracy: 0.3333 - val_auc: 0.5831 - val_loss: 1.5119 - val_precision: 0.3333 - val_recall: 0.3333\n",
      "Epoch 20/200\n",
      "\u001b[1m12/12\u001b[0m \u001b[32m━━━━━━━━━━━━━━━━━━━━\u001b[0m\u001b[37m\u001b[0m \u001b[1m1s\u001b[0m 110ms/step - accuracy: 0.4952 - auc: 0.7282 - loss: 1.0378 - precision: 0.5624 - recall: 0.4461 - val_accuracy: 0.3333 - val_auc: 0.5881 - val_loss: 1.5369 - val_precision: 0.3333 - val_recall: 0.3333\n",
      "Epoch 21/200\n",
      "\u001b[1m12/12\u001b[0m \u001b[32m━━━━━━━━━━━━━━━━━━━━\u001b[0m\u001b[37m\u001b[0m \u001b[1m1s\u001b[0m 108ms/step - accuracy: 0.5893 - auc: 0.8272 - loss: 0.7590 - precision: 0.6387 - recall: 0.5503 - val_accuracy: 0.3333 - val_auc: 0.5919 - val_loss: 1.5338 - val_precision: 0.3333 - val_recall: 0.3333\n",
      "Epoch 21: early stopping\n",
      "Restoring model weights from the end of the best epoch: 1.\n"
     ]
    }
   ],
   "source": [
    "model_history=model.fit(\n",
    "    x=[X_train_num, X_train_img/255], y=y_train_oh,\n",
    "    validation_data=([X_val_num, X_val_img/255], y_val_oh),\n",
    "    epochs=epochs , \n",
    "    batch_size=8,\n",
    "    #steps_per_epoch = X_train_num.shape[0]//batch_size,\n",
    "    #validation_steps = X_train_num.shape[0]//batch_size,\n",
    "    callbacks=[early_stopper]\n",
    ")"
   ]
  },
  {
   "cell_type": "code",
   "execution_count": 40,
   "metadata": {},
   "outputs": [
    {
     "name": "stdout",
     "output_type": "stream",
     "text": [
      "dict_keys(['accuracy', 'auc', 'loss', 'precision', 'recall', 'val_accuracy', 'val_auc', 'val_loss', 'val_precision', 'val_recall'])\n"
     ]
    }
   ],
   "source": [
    "print(model_history.history.keys())"
   ]
  },
  {
   "cell_type": "markdown",
   "metadata": {},
   "source": [
    "<a id=\"section6\"></a>\n",
    "# <font color=\"#004D7F\" size=6> 6. Results</font>"
   ]
  },
  {
   "cell_type": "code",
   "execution_count": 41,
   "metadata": {},
   "outputs": [
    {
     "data": {
      "image/png": "[encoded data removed]",
      "text/plain": [
       "<Figure size 640x480 with 1 Axes>"
      ]
     },
     "metadata": {},
     "output_type": "display_data"
    }
   ],
   "source": [
    "#print(model_history.history['loss'])\n",
    "plt.plot(model_history.history['loss'], color = 'red', label = 'loss')\n",
    "plt.plot(model_history.history['val_loss'], color = 'green', label = 'val loss')\n",
    "plt.legend(loc = 'upper right')\n",
    "plt.ylim(0,5)\n",
    "plt.show()"
   ]
  },
  {
   "cell_type": "code",
   "execution_count": 42,
   "metadata": {},
   "outputs": [
    {
     "data": {
      "image/png": "[encoded data removed]",
      "text/plain": [
       "<Figure size 640x480 with 1 Axes>"
      ]
     },
     "metadata": {},
     "output_type": "display_data"
    }
   ],
   "source": [
    "plt.plot(model_history.history['accuracy'], color = 'red', label = 'accuracy')\n",
    "plt.plot(model_history.history['val_accuracy'], color = 'green', label = 'val accuracy')\n",
    "plt.legend(loc = 'upper right')\n",
    "plt.show()"
   ]
  },
  {
   "cell_type": "code",
   "execution_count": 43,
   "metadata": {},
   "outputs": [
    {
     "name": "stdout",
     "output_type": "stream",
     "text": [
      "\u001b[1m1/1\u001b[0m \u001b[32m━━━━━━━━━━━━━━━━━━━━\u001b[0m\u001b[37m\u001b[0m \u001b[1m0s\u001b[0m 383ms/step\n",
      "[[0, -1.0], [1, 1.0], [0, -1.0], [0, 0.0], [0, -1.0], [1, 1.0], [1, 0.0], [1, 1.0], [1, 1.0], [1, 1.0], [0, -1.0], [0, -1.0], [0, 0.0], [0, 0.0], [1, 1.0], [0, 0.0], [0, 0.0], [1, 1.0], [1, 1.0], [0, -1.0], [0, -1.0], [0, -1.0], [0, -1.0], [0, 0.0], [1, 1.0], [0, 0.0], [1, 1.0], [1, 0.0], [0, -1.0], [1, 0.0]]\n"
     ]
    }
   ],
   "source": [
    "prediction = model.predict([X_test_num,X_test_img/255],)\n",
    "real_values= y_test.values-1\n",
    "predicted_classes = np.argmax(prediction, axis = 1)\n",
    "\n",
    "result = [list(t) for t in zip(predicted_classes, real_values)]\n",
    "#print(np.round(prediction))\n",
    "print(result)"
   ]
  },
  {
   "cell_type": "code",
   "execution_count": 44,
   "metadata": {},
   "outputs": [
    {
     "data": {
      "text/plain": [
       "<sklearn.metrics._plot.confusion_matrix.ConfusionMatrixDisplay at 0x37c8dc2e0>"
      ]
     },
     "execution_count": 44,
     "metadata": {},
     "output_type": "execute_result"
    },
    {
     "data": {
      "image/png": "[encoded data removed]",
      "text/plain": [
       "<Figure size 640x480 with 2 Axes>"
      ]
     },
     "metadata": {},
     "output_type": "display_data"
    }
   ],
   "source": [
    "from sklearn.metrics import confusion_matrix\n",
    "true_classes = real_values\n",
    "\n",
    "cm = confusion_matrix(true_classes, predicted_classes)\n",
    "disp = sklearn.metrics.ConfusionMatrixDisplay(confusion_matrix = cm)\n",
    "disp.plot()\n",
    "\n",
    "\n"
   ]
  },
  {
   "cell_type": "code",
   "execution_count": 45,
   "metadata": {},
   "outputs": [
    {
     "name": "stdout",
     "output_type": "stream",
     "text": [
      "              precision    recall  f1-score   support\n",
      "\n",
      "        -1.0       0.00      0.00      0.00        10\n",
      "         0.0       0.41      0.70      0.52        10\n",
      "         1.0       0.77      1.00      0.87        10\n",
      "\n",
      "    accuracy                           0.57        30\n",
      "   macro avg       0.39      0.57      0.46        30\n",
      "weighted avg       0.39      0.57      0.46        30\n",
      "\n"
     ]
    },
    {
     "name": "stderr",
     "output_type": "stream",
     "text": [
      "/Users/manwest/Library/Python/3.9/lib/python/site-packages/sklearn/metrics/_classification.py:1497: UndefinedMetricWarning: Precision is ill-defined and being set to 0.0 in labels with no predicted samples. Use `zero_division` parameter to control this behavior.\n",
      "  _warn_prf(average, modifier, f\"{metric.capitalize()} is\", len(result))\n",
      "/Users/manwest/Library/Python/3.9/lib/python/site-packages/sklearn/metrics/_classification.py:1497: UndefinedMetricWarning: Precision is ill-defined and being set to 0.0 in labels with no predicted samples. Use `zero_division` parameter to control this behavior.\n",
      "  _warn_prf(average, modifier, f\"{metric.capitalize()} is\", len(result))\n",
      "/Users/manwest/Library/Python/3.9/lib/python/site-packages/sklearn/metrics/_classification.py:1497: UndefinedMetricWarning: Precision is ill-defined and being set to 0.0 in labels with no predicted samples. Use `zero_division` parameter to control this behavior.\n",
      "  _warn_prf(average, modifier, f\"{metric.capitalize()} is\", len(result))\n"
     ]
    }
   ],
   "source": [
    "report = sklearn.metrics.classification_report(true_classes, \n",
    "                                               predicted_classes)\n",
    "print(report) "
   ]
  },
  {
   "cell_type": "code",
   "execution_count": 45,
   "metadata": {},
   "outputs": [
    {
     "name": "stdout",
     "output_type": "stream",
     "text": [
      "Test accuracy: 0.43333333333333335\n"
     ]
    }
   ],
   "source": [
    "from sklearn.metrics import roc_auc_score,accuracy_score,precision_score, recall_score\n",
    "\n",
    "test_accuracy = accuracy_score(true_classes, predicted_classes)\n",
    "#test_auc = roc_auc_score(true_classes, predicted_classes)\n",
    "#test_precision = precision_score(true_classes, predicted_classes)\n",
    "#test_recall = recall_score(true_classes, predicted_classes)\n",
    "\n",
    "print(\"Test accuracy:\",test_accuracy)\n",
    "#print(\"Test AUC:\",test_auc)\n",
    "#print(\"Test precision:\",test_precision)\n",
    "#print(\"Test recall:\",test_recall)"
   ]
  },
  {
   "cell_type": "code",
   "execution_count": 46,
   "metadata": {},
   "outputs": [
    {
     "name": "stdout",
     "output_type": "stream",
     "text": [
      "Train accuracy: 0.6666666865348816\n",
      "Train AUC: 0.824104905128479\n",
      "Train precision: 0.7027027010917664\n",
      "Train recall: 0.5777778029441833\n",
      "Train loss: 0.8000691533088684\n"
     ]
    }
   ],
   "source": [
    "train_accuracy = model_history.history[\"accuracy\"][-1]\n",
    "train_auc = model_history.history[\"auc\"][-1]\n",
    "train_precision = model_history.history[\"precision\"][-1]\n",
    "train_recall = model_history.history[\"recall\"][-1]\n",
    "train_loss = model_history.history[\"loss\"][-1]\n",
    "\n",
    "print(\"Train accuracy:\",train_accuracy)\n",
    "print(\"Train AUC:\",train_auc)\n",
    "print(\"Train precision:\",train_precision)\n",
    "print(\"Train recall:\",train_recall)\n",
    "print(\"Train loss:\",train_loss)"
   ]
  },
  {
   "cell_type": "code",
   "execution_count": 47,
   "metadata": {},
   "outputs": [
    {
     "name": "stdout",
     "output_type": "stream",
     "text": [
      "Validation accuracy: 0.3333333432674408\n",
      "Validation AUC: 0.6355555653572083\n",
      "Validation precision: 0.3448275923728943\n",
      "Validation recall: 0.3333333432674408\n",
      "Validation loss: 1.0687592029571533\n"
     ]
    }
   ],
   "source": [
    "validation_accuracy = model_history.history[\"val_accuracy\"][-1]\n",
    "validation_auc = model_history.history[\"val_auc\"][-1]\n",
    "validation_precision = model_history.history[\"val_precision\"][-1]\n",
    "validation_recall = model_history.history[\"val_recall\"][-1]\n",
    "validation_loss = model_history.history[\"val_loss\"][-1]\n",
    "\n",
    "print(\"Validation accuracy:\",validation_accuracy)\n",
    "print(\"Validation AUC:\",validation_auc)\n",
    "print(\"Validation precision:\",validation_precision)\n",
    "print(\"Validation recall:\",validation_recall)\n",
    "print(\"Validation loss:\",validation_loss)"
   ]
  },
  {
   "cell_type": "code",
   "execution_count": null,
   "metadata": {},
   "outputs": [],
   "source": []
  }
 ],
 "metadata": {
  "colab": {
   "provenance": [
    {
     "file_id": "1plFq1CpEXIdc9LankaLPiOObRg0_y5l2",
     "timestamp": 1684250343977
    }
   ]
  },
  "kernelspec": {
   "display_name": "Python 3 (ipykernel)",
   "language": "python",
   "name": "python3"
  },
  "language_info": {
   "codemirror_mode": {
    "name": "ipython",
    "version": 3
   },
   "file_extension": ".py",
   "mimetype": "text/x-python",
   "name": "python",
   "nbconvert_exporter": "python",
   "pygments_lexer": "ipython3",
   "version": "3.9.6"
  }
 },
 "nbformat": 4,
 "nbformat_minor": 1
}
