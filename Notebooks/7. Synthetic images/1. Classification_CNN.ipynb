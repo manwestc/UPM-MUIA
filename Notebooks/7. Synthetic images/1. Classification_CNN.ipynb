{
 "cells": [
  {
   "cell_type": "markdown",
   "metadata": {
    "id": "EybOZ6hSjpCF"
   },
   "source": [
    "<h1><font color=\"#113D68\" size=5>TINTOlib: Converting Tidy Data into Synthetic Images</font></h1>\n",
    "\n",
    "<h1><font color=\"#113D68\" size=5>Template Classification Machine Learning problem with a CNN</font></h1>\n",
    "\n",
    "<br><br>\n",
    "<div style=\"text-align: right\">\n",
    "<font color=\"#113D68\" size=3>Manuel Castillo-Cara</font><br>\n",
    "<font color=\"#113D68\" size=3>Raúl García-Castro</font><br>\n",
    "<font color=\"#113D68\" size=3>Jiayun Liu</font><br>\n",
    "\n",
    "</div>\n",
    "\n",
    "---"
   ]
  },
  {
   "cell_type": "markdown",
   "metadata": {
    "id": "i3tgsO0BjpCj"
   },
   "source": [
    "<div class=\"alert alert-block alert-info\">\n",
    "    \n",
    "<i class=\"fa fa-info-circle\" aria-hidden=\"true\"></i>\n",
    "More information about [Manuel Castillo-Cara](https://www.manuelcastillo.eu/)"
   ]
  },
  {
   "cell_type": "markdown",
   "metadata": {
    "id": "i3tgsO0BjpCj"
   },
   "source": [
    "<div class=\"alert alert-block alert-info\">\n",
    "    \n",
    "<i class=\"fa fa-info-circle\" aria-hidden=\"true\"></i>\n",
    "More information about [Raúl García-Castro](http://www.garcia-castro.com/)"
   ]
  },
  {
   "cell_type": "markdown",
   "metadata": {},
   "source": [
    "---\n",
    "\n",
    "<a id=\"indice\"></a>\n",
    "<h2><font color=\"#004D7F\" size=5>Licencia</font></h2>\n",
    "\n",
    "<p><small><small>Improving Deep Learning by Exploiting Synthetic Images Copyright 2024 Manuel Castillo Cara.</p>\n",
    "<p><small><small> Licensed under the Apache License, Version 2.0 (the \"License\"); you may not use this file except in compliance with the License. You may obtain a copy of the License at </p>\n",
    "<p><small><small> <a href=\"https://www.apache.org/licenses/LICENSE-2.0\">https://www.apache.org/licenses/LICENSE-2.0</a> </p>\n",
    "<p><small><small> Unless required by applicable law or agreed to in writing, software distributed under the License is distributed on an \"AS IS\" BASIS, WITHOUT WARRANTIES OR CONDITIONS OF ANY KIND, either express or implied. See the License for the specific language governing permissions and limitations under the License. </p>"
   ]
  },
  {
   "cell_type": "markdown",
   "metadata": {
    "id": "2l5nFzsdjpCW"
   },
   "source": [
    "---\n",
    "\n",
    "<a id=\"indice\"></a>\n",
    "<h2><font color=\"#004D7F\" size=5>Index</font></h2>\n",
    "\n",
    "* [0. Context](#section0)\n",
    "* [1. Description](#section1)\n",
    "    * [1.1. Main Features](#section11)\n",
    "    * [1.2. Citation](#section12)\n",
    "    * [1.3. Documentation and License](#section13)\n",
    "* [2. Libraries](#section2)\n",
    "    * [2.1. System setup](#section21)\n",
    "    * [2.2. Invoke the libraries](#section22)\n",
    "* [3. Data processing](#section3)\n",
    "    * [3.1. TINTOlib methods](#section31)\n",
    "    * [3.2. Read the dataset](#section32)\n",
    "    * [3.3. Generate images](#section33)\n",
    "    * [3.4. Read images](#section34)\n",
    "* [4. Pre-modelling phase](#section4)\n",
    "    * [4.1. Data curation](#section41)\n",
    "    * [4.2. Resize Images](#section42)\n",
    "    * [4.3. Iterators](#section43)\n",
    "* [5. Modelling with CNN](#section5)\n",
    "    * [5.1. CNN](#section51)\n",
    "    * [5.2. Compile and fit](#section52)\n",
    "* [6. Results](#section6)\n",
    "    * [6.1. Train/Validation representation](#section61)\n",
    "    * [6.2. Validation/Test evaluation](#section62)\n",
    "    * [6.3. Sklearn metrics evaluation](#section63)"
   ]
  },
  {
   "cell_type": "markdown",
   "metadata": {
    "id": "SxTpMExHjpCa"
   },
   "source": [
    "---\n",
    "<a id=\"section0\"></a>\n",
    "# <font color=\"#004D7F\" size=6> 0. Context</font>"
   ]
  },
  {
   "cell_type": "markdown",
   "metadata": {
    "id": "JlVYt3MRrl_V"
   },
   "source": [
    "This is a tutorial on how to read the images created by TINTO and pass them to a very simple pretrained Convolutional Neural Network (CNN). The images must already be created by the TINTOlib software. See the documentation in GITHUB for how to create the images from tabular data.\n",
    "\n",
    "Remember that when using CNN you can set the training to be done with GPUs to improve performance."
   ]
  },
  {
   "cell_type": "markdown",
   "metadata": {},
   "source": [
    "<div class=\"alert alert-block alert-info\">\n",
    "\n",
    "<i class=\"fa fa-info-circle\" aria-hidden=\"true\"></i>\n",
    "You can see all information about TINTOlib code in [GitHub](https://github.com/oeg-upm/TINTOlib)"
   ]
  },
  {
   "cell_type": "markdown",
   "metadata": {},
   "source": [
    "<div class=\"alert alert-block alert-info\">\n",
    "\n",
    "<i class=\"fa fa-info-circle\" aria-hidden=\"true\"></i>\n",
    "You can see all information about TINTOlib documentation in the official [Webpage](https://tintolib.readthedocs.io/en/latest/installation.html)"
   ]
  },
  {
   "cell_type": "markdown",
   "metadata": {},
   "source": [
    "<div class=\"alert alert-block alert-info\">\n",
    "\n",
    "<i class=\"fa fa-info-circle\" aria-hidden=\"true\"></i>\n",
    "You can see all information about TINTOlib documentation in [PyPI](https://pypi.org/project/TINTOlib/)"
   ]
  },
  {
   "cell_type": "markdown",
   "metadata": {
    "id": "4RKBgDwzjpCl"
   },
   "source": [
    "---\n",
    "<div style=\"text-align: right\"> <font size=5> <a href=\"#indice\"><i class=\"fa fa-arrow-circle-up\" aria-hidden=\"true\" style=\"color:#004D7F\"></i></a></font></div>\n",
    "\n",
    "---"
   ]
  },
  {
   "cell_type": "markdown",
   "metadata": {
    "id": "kpU7pi6yjpCn"
   },
   "source": [
    "<a id=\"section1\"></a>\n",
    "# <font color=\"#004D7F\" size=6> 1. Description</font>"
   ]
  },
  {
   "cell_type": "markdown",
   "metadata": {},
   "source": [
    "The growing interest in the use of algorithms-based machine learning for predictive tasks has generated a large and diverse development of algorithms. However, it is widely known that not all of these algorithms are adapted to efficient solutions in certain tidy data format datasets. For this reason, novel techniques are currently being developed to convert tidy data into images with the aim of using Convolutional Neural Networks (CNNs) or Vision Transformer (ViT). TINTOlib offers the opportunity to convert tidy data into images through several techniques: TINTO, IGTD, REFINED, SuperTML, BarGraph, DistanceMatrix and Combination.\n",
    "\n",
    "In this tutorial, we develop a CNN with synthetic images.\n",
    "\n",
    "<figure><center>\n",
    "  <img src=\"../../img/CNN-Synthetic.png\" width=\"850\" height=\"350\" alt=\"Gráfica\">\n",
    "  <figcaption><blockquote>CNN architecture with synthetic images. Extract from <a href=\"https://doi.org/10.1016/j.inffus.2022.10.011\">A novel deep learning approach using blurring image techniques for Bluetooth-based indoor localisation</a></blockquote></figcaption>\n",
    "</center></figure>"
   ]
  },
  {
   "cell_type": "markdown",
   "metadata": {
    "id": "HFrF4C89jpCt"
   },
   "source": [
    "---\n",
    "<a id=\"section11\"></a>\n",
    "# <font color=\"#004D7F\" size=5> 1.1. Main Features</font>"
   ]
  },
  {
   "cell_type": "markdown",
   "metadata": {
    "id": "1gruE0_sjpCu"
   },
   "source": [
    "- Supports all CSV data in **[Tidy Data](https://www.jstatsoft.org/article/view/v059i10)** format.\n",
    "- For now, the algorithm converts tabular data for binary and multi-class classification problems into machine learning.\n",
    "- Input data formats:\n",
    "    - **Tabular files**: The input data could be in **[CSV](https://en.wikipedia.org/wiki/Comma-separated_values)**, taking into account the **[Tidy Data](https://www.jstatsoft.org/article/view/v059i10)** format.\n",
    "    - **Dataframe***: The input data could be in **[Pandas Dataframe](https://pandas.pydata.org/docs/reference/api/pandas.DataFrame.html)**, taking into account the **[Tidy Data](https://www.jstatsoft.org/article/view/v059i10)** format.\n",
    "    - **Tidy Data**: The **target** (variable to be predicted) should be set as the last column of the dataset. Therefore, the first columns will be the features.\n",
    "    - All data must be in numerical form. TINTOlib does not accept data in string or any other non-numeric format.\n",
    "- Runs on **Linux**, **Windows** and **macOS** systems.\n",
    "- Compatible with **[Python](https://www.python.org/)** 3.7 or higher."
   ]
  },
  {
   "cell_type": "markdown",
   "metadata": {},
   "source": [
    "---\n",
    "<a id=\"section12\"></a>\n",
    "# <font color=\"#004D7F\" size=5> 1.2. Citation</font>"
   ]
  },
  {
   "cell_type": "markdown",
   "metadata": {},
   "source": [
    "**TINTOlib** is an python library that makes **Synthetic Images** from [Tidy Data](https://www.jstatsoft.org/article/view/v059i10) (also knows as **Tabular Data**).\n",
    "\n",
    "**Citing TINTO**: If you used TINTO in your work, please cite the **[SoftwareX](https://doi.org/10.1016/j.softx.2023.101391)**:\n",
    "\n",
    "```bib\n",
    "@article{softwarex_TINTO,\n",
    "    title = {TINTO: Converting Tidy Data into Image for Classification\n",
    "            with 2-Dimensional Convolutional Neural Networks},\n",
    "    journal = {SoftwareX},\n",
    "    author = {Manuel Castillo-Cara and Reewos Talla-Chumpitaz and\n",
    "              Raúl García-Castro and Luis Orozco-Barbosa},\n",
    "    year = {2023},\n",
    "    pages = {101391},\n",
    "    issn = {2352-7110},\n",
    "    doi = {https://doi.org/10.1016/j.softx.2023.101391}\n",
    "}\n",
    "```\n",
    "\n",
    "And use-case developed in **[INFFUS Paper](https://doi.org/10.1016/j.inffus.2022.10.011)**\n",
    "\n",
    "```bib\n",
    "@article{inffus_TINTO,\n",
    "    title = {A novel deep learning approach using blurring image\n",
    "            techniques for Bluetooth-based indoor localisation},\n",
    "    journal = {Information Fusion},\n",
    "    author = {Reewos Talla-Chumpitaz and Manuel Castillo-Cara and\n",
    "              Luis Orozco-Barbosa and Raúl García-Castro},\n",
    "    volume = {91},\n",
    "    pages = {173-186},\n",
    "    year = {2023},\n",
    "    issn = {1566-2535},\n",
    "    doi = {https://doi.org/10.1016/j.inffus.2022.10.011}\n",
    "}\n",
    "```"
   ]
  },
  {
   "cell_type": "markdown",
   "metadata": {},
   "source": [
    "---\n",
    "<a id=\"section13\"></a>\n",
    "# <font color=\"#004D7F\" size=5> 1.3. Documentation and License</font>"
   ]
  },
  {
   "cell_type": "markdown",
   "metadata": {},
   "source": [
    "TINTOlib has a wide range of documentation on both GitHub and PiPY. \n",
    "\n",
    "Moreover, TINTOlib is free and open software with Apache 2.0 license."
   ]
  },
  {
   "cell_type": "markdown",
   "metadata": {},
   "source": [
    "<div class=\"alert alert-block alert-info\">\n",
    "\n",
    "<i class=\"fa fa-info-circle\" aria-hidden=\"true\"></i>\n",
    "You can see all information about TINTOlib code in [GitHub](https://github.com/oeg-upm/TINTOlib)"
   ]
  },
  {
   "cell_type": "markdown",
   "metadata": {},
   "source": [
    "<div class=\"alert alert-block alert-info\">\n",
    "\n",
    "<i class=\"fa fa-info-circle\" aria-hidden=\"true\"></i>\n",
    "You can see all information about TINTOlib documentation in the official [Webpage](https://tintolib.readthedocs.io/en/latest/installation.html)"
   ]
  },
  {
   "cell_type": "markdown",
   "metadata": {},
   "source": [
    "<div class=\"alert alert-block alert-info\">\n",
    "\n",
    "<i class=\"fa fa-info-circle\" aria-hidden=\"true\"></i>\n",
    "You can see all information about TINTOlib documentation in [PyPI](https://pypi.org/project/TINTOlib/)"
   ]
  },
  {
   "cell_type": "markdown",
   "metadata": {
    "id": "Z3EzYcjJjpC6"
   },
   "source": [
    "---\n",
    "<div style=\"text-align: right\"> <font size=5> <a href=\"#indice\"><i class=\"fa fa-arrow-circle-up\" aria-hidden=\"true\" style=\"color:#004D7F\"></i></a></font></div>"
   ]
  },
  {
   "cell_type": "markdown",
   "metadata": {
    "id": "qwYF5A2njpC8"
   },
   "source": [
    "<a id=\"section2\"></a>\n",
    "# <font color=\"#004D7F\" size=6> 2. Libraries</font>"
   ]
  },
  {
   "cell_type": "markdown",
   "metadata": {
    "id": "HFrF4C89jpCt"
   },
   "source": [
    "---\n",
    "<a id=\"section21\"></a>\n",
    "# <font color=\"#004D7F\" size=5> 2.1. System setup</font>"
   ]
  },
  {
   "cell_type": "markdown",
   "metadata": {},
   "source": [
    "Before installing the libraries you must have the `mpi4py` package installed on the native (Linux) system. This link shows how to install it: \n",
    "- [mpi4py in Linux](https://www.geeksforgeeks.org/how-to-install-python3-mpi4py-package-on-linux/)"
   ]
  },
  {
   "cell_type": "markdown",
   "metadata": {},
   "source": [
    "For example, in Linux:\n",
    "\n",
    "```\n",
    "    sudo apt-get install python3\n",
    "    sudo apt install python3-pip\n",
    "    sudo apt install python3-mpi4py\n",
    "```\n",
    "\n",
    "If you are in Windows, Mac or, also, Linux, you can install from PyPI if you want:\n",
    "```\n",
    "    sudo pip3 install mpi4py\n",
    "```"
   ]
  },
  {
   "cell_type": "markdown",
   "metadata": {},
   "source": [
    "<div class=\"alert alert-block alert-info\">\n",
    "    \n",
    "<i class=\"fa fa-info-circle\" aria-hidden=\"true\"></i>\n",
    "Note that you must **restart the kernel or the system** so that it can load the libraries. "
   ]
  },
  {
   "cell_type": "markdown",
   "metadata": {},
   "source": [
    "Now, once you have installed `mpi4py` you can install the PyPI libraries and dependences."
   ]
  },
  {
   "cell_type": "code",
   "execution_count": 1,
   "metadata": {},
   "outputs": [
    {
     "name": "stdout",
     "output_type": "stream",
     "text": [
      "Defaulting to user installation because normal site-packages is not writeable\n",
      "Requirement already satisfied: tintolib in /Users/manwest/Library/Python/3.9/lib/python/site-packages (0.0.20)\n",
      "Collecting tintolib\n",
      "  Downloading tintolib-0.0.21-py3-none-any.whl.metadata (22 kB)\n",
      "Downloading tintolib-0.0.21-py3-none-any.whl (51 kB)\n",
      "\u001b[2K   \u001b[90m━━━━━━━━━━━━━━━━━━━━━━━━━━━━━━━━━━━━━━━━\u001b[0m \u001b[32m51.5/51.5 kB\u001b[0m \u001b[31m651.8 kB/s\u001b[0m eta \u001b[36m0:00:00\u001b[0m00:01\u001b[0m00:01\u001b[0m\n",
      "\u001b[?25hInstalling collected packages: tintolib\n",
      "  Attempting uninstall: tintolib\n",
      "    Found existing installation: TINTOlib 0.0.20\n",
      "    Uninstalling TINTOlib-0.0.20:\n",
      "      Successfully uninstalled TINTOlib-0.0.20\n",
      "Successfully installed tintolib-0.0.21\n"
     ]
    }
   ],
   "source": [
    "!pip install -U tintolib"
   ]
  },
  {
   "cell_type": "code",
   "execution_count": 2,
   "metadata": {},
   "outputs": [],
   "source": [
    "#!pip install torchmetrics pytorch_lightning TINTOlib imblearn keras_preprocessing mpi4py tifffile tqdm"
   ]
  },
  {
   "cell_type": "markdown",
   "metadata": {},
   "source": [
    "<div class=\"alert alert-block alert-info\">\n",
    "    \n",
    "<i class=\"fa fa-info-circle\" aria-hidden=\"true\"></i>\n",
    "Note that you must **restart the kernel** so that it can load the libraries. "
   ]
  },
  {
   "cell_type": "markdown",
   "metadata": {
    "id": "HFrF4C89jpCt"
   },
   "source": [
    "---\n",
    "<a id=\"section22\"></a>\n",
    "# <font color=\"#004D7F\" size=5> 2.2. Invoke the libraries</font>"
   ]
  },
  {
   "cell_type": "markdown",
   "metadata": {
    "id": "5AdHKnWYsEq_"
   },
   "source": [
    "The first thing we need to do is to declare the libraries"
   ]
  },
  {
   "cell_type": "code",
   "execution_count": 1,
   "metadata": {
    "id": "PeeBbGxlpjFp",
    "tags": []
   },
   "outputs": [
    {
     "name": "stderr",
     "output_type": "stream",
     "text": [
      "/var/folders/9h/d3b8zc6j5019cyvmb_h929xm0000gn/T/ipykernel_1808/2562561786.py:3: DeprecationWarning: \n",
      "Pyarrow will become a required dependency of pandas in the next major release of pandas (pandas 3.0),\n",
      "(to allow more performant data types, such as the Arrow string type, and better interoperability with other libraries)\n",
      "but was not found to be installed on your system.\n",
      "If this would cause problems for you,\n",
      "please provide us feedback at https://github.com/pandas-dev/pandas/issues/54466\n",
      "        \n",
      "  import pandas as pd\n",
      "/Users/manwest/Library/Python/3.9/lib/python/site-packages/urllib3/__init__.py:35: NotOpenSSLWarning: urllib3 v2 only supports OpenSSL 1.1.1+, currently the 'ssl' module is compiled with 'LibreSSL 2.8.3'. See: https://github.com/urllib3/urllib3/issues/3020\n",
      "  warnings.warn(\n"
     ]
    },
    {
     "name": "stdout",
     "output_type": "stream",
     "text": [
      "OK\n"
     ]
    }
   ],
   "source": [
    "import os\n",
    "import random\n",
    "import pandas as pd\n",
    "import numpy as np\n",
    "from tqdm import tqdm\n",
    "#import cv2\n",
    "import gc\n",
    "import matplotlib.pyplot as plt\n",
    "#import openslide\n",
    "#from openslide.deepzoom import DeepZoomGenerator\n",
    "import tifffile as tifi\n",
    "import sklearn\n",
    "import tensorflow as tf\n",
    "\n",
    "from keras_preprocessing.image import ImageDataGenerator\n",
    "from tensorflow.keras.models import load_model\n",
    "\n",
    "from sklearn.model_selection import train_test_split\n",
    "from tensorflow.keras.applications import vgg16, vgg19, resnet50, mobilenet, inception_resnet_v2, densenet, inception_v3, xception, nasnet, ResNet152V2\n",
    "from tensorflow.keras.models import Sequential, Model, load_model\n",
    "from tensorflow.keras.layers import Dense, Conv2D, MaxPool2D, Flatten, Dropout, BatchNormalization, InputLayer, LayerNormalization\n",
    "from tensorflow.keras.callbacks import ModelCheckpoint, ReduceLROnPlateau, EarlyStopping\n",
    "from tensorflow.keras.optimizers import SGD, Adam, Adadelta, Adamax\n",
    "from keras.layers import MaxPooling2D, AveragePooling2D, Activation, Input, Concatenate\n",
    "from keras.utils import plot_model\n",
    "\n",
    "\n",
    "#Models of TINTOlib\n",
    "from TINTOlib.tinto import TINTO\n",
    "from TINTOlib.supertml import SuperTML\n",
    "from TINTOlib.igtd import IGTD\n",
    "from TINTOlib.refined import REFINED\n",
    "from TINTOlib.barGraph import BarGraph\n",
    "from TINTOlib.distanceMatrix import DistanceMatrix\n",
    "from TINTOlib.combination import Combination\n",
    "\n",
    "SEED = 64\n",
    "# SET RANDOM SEED FOR REPRODUCIBILITY\n",
    "#torch.manual_seed(SEED)\n",
    "#torch.cuda.manual_seed(SEED)\n",
    "#torch.cuda.manual_seed_all(SEED)\n",
    "#torch.backends.cudnn.deterministic = True\n",
    "#torch.backends.cudnn.benchmark = False\n",
    "os.environ['PYTHONHASHSEED']=str(SEED)\n",
    "random.seed(SEED)\n",
    "np.random.seed(SEED)\n",
    "tf.random.set_seed(SEED)"
   ]
  },
  {
   "cell_type": "markdown",
   "metadata": {
    "id": "NwS-cKUxjpDQ"
   },
   "source": [
    "---\n",
    "<div style=\"text-align: right\"> <font size=5> <a href=\"#indice\"><i class=\"fa fa-arrow-circle-up\" aria-hidden=\"true\" style=\"color:#004D7F\"></i></a></font></div>\n",
    "\n",
    "---"
   ]
  },
  {
   "cell_type": "markdown",
   "metadata": {
    "id": "aDL4LARWjpDT"
   },
   "source": [
    "<a id=\"section3\"></a>\n",
    "# <font color=\"#004D7F\" size=6> 3. Data processing</font>"
   ]
  },
  {
   "cell_type": "markdown",
   "metadata": {
    "id": "pLzynCxOpHBX"
   },
   "source": [
    "---\n",
    "<a id=\"section31\"></a>\n",
    "# <font color=\"#004D7F\" size=5> 3.1. TINTOlib methods</font>"
   ]
  },
  {
   "cell_type": "markdown",
   "metadata": {},
   "source": [
    "We prepare the declaration of the classes with the TINTOlib method we want to transform. Note that TINTOlib has several methods and we will have to choose one of them since each method generates different images.\n",
    "\n",
    "In addition, we establish the paths where the dataset is located and also the folder where the images will be created."
   ]
  },
  {
   "cell_type": "markdown",
   "metadata": {},
   "source": [
    "<div class=\"alert alert-block alert-info\">\n",
    "\n",
    "<i class=\"fa fa-info-circle\" aria-hidden=\"true\"></i>\n",
    "In this tutorial, we will use the binary classification dataset called `dengue_chikungunya_bin` which classifies mosquitoes as carriers of DENGUE or CHIKUNGUNYA. More information in this [Paper](https://doi.org/10.1371/journal.pone.0295598)"
   ]
  },
  {
   "cell_type": "code",
   "execution_count": 2,
   "metadata": {},
   "outputs": [],
   "source": [
    "#Select the model and the parameters\n",
    "problem_type = \"supervised\"\n",
    "#problem_type = \"regression\"\n",
    "pixel = 20\n",
    "## zoom para ampliar la imagen\n",
    "#image_model = REFINED(problem=problem_type, random_seed=SEED, zoom=7, n_processors=12)\n",
    "#image_model = TINTO(problem= problem_type, blur=True, option='maximum', pixels=pixel, random_seed=SEED)\n",
    "# scale sería [7,4] porque hay 26 variables (para 24 pixeles); \n",
    "image_model = IGTD(problem= problem_type, random_seed=SEED, scale=[2,2], zoom=20)\n",
    "#image_model = BarGraph(problem= problem_type)\n",
    "#image_model = DistanceMatrix(problem= problem_type)\n",
    "#image_model = Combination(problem= problem_type)\n",
    "# SuperTML si especificamos 5 columnas para 25 variables (tened en cuenta las viarables que haya en el dataset)\n",
    "#image_model = SuperTML(problem= problem_type, columns=2, size=pixel, font_size=8, variable_font_size=True, random_seed=SEED)\n",
    "\n",
    "#Define the dataset path and the folder where the images will be saved\n",
    "results_folder = \"../../Results/Iris_SuperTML\"\n",
    "dataset_path = \"../../Datasets/iris.csv\"\n",
    "images_folder = \"../../Synthetic_images/Iris_SuperTML\"\n",
    "\n"
   ]
  },
  {
   "cell_type": "markdown",
   "metadata": {},
   "source": [
    "<div class=\"alert alert-block alert-info\">\n",
    "\n",
    "<i class=\"fa fa-info-circle\" aria-hidden=\"true\"></i>\n",
    "You can see all information about TINTOlib documentation in [PyPI](https://pypi.org/project/TINTOlib/)"
   ]
  },
  {
   "cell_type": "markdown",
   "metadata": {
    "id": "pLzynCxOpHBX"
   },
   "source": [
    "---\n",
    "<a id=\"section32\"></a>\n",
    "# <font color=\"#004D7F\" size=5> 3.2. Read the dataset</font>"
   ]
  },
  {
   "cell_type": "markdown",
   "metadata": {},
   "source": [
    "In this part, we proceed to read the dataset according to the path specified above and also standardize the name that the target will have, in this case, it will be called _class_"
   ]
  },
  {
   "cell_type": "code",
   "execution_count": 3,
   "metadata": {
    "scrolled": true
   },
   "outputs": [
    {
     "data": {
      "text/html": [
       "<div>\n",
       "<style scoped>\n",
       "    .dataframe tbody tr th:only-of-type {\n",
       "        vertical-align: middle;\n",
       "    }\n",
       "\n",
       "    .dataframe tbody tr th {\n",
       "        vertical-align: top;\n",
       "    }\n",
       "\n",
       "    .dataframe thead th {\n",
       "        text-align: right;\n",
       "    }\n",
       "</style>\n",
       "<table border=\"1\" class=\"dataframe\">\n",
       "  <thead>\n",
       "    <tr style=\"text-align: right;\">\n",
       "      <th></th>\n",
       "      <th>SepalLength</th>\n",
       "      <th>SepalWidth</th>\n",
       "      <th>PetalLength</th>\n",
       "      <th>PetalWidth</th>\n",
       "      <th>class</th>\n",
       "    </tr>\n",
       "  </thead>\n",
       "  <tbody>\n",
       "    <tr>\n",
       "      <th>0</th>\n",
       "      <td>5.1</td>\n",
       "      <td>3.5</td>\n",
       "      <td>1.4</td>\n",
       "      <td>0.2</td>\n",
       "      <td>1</td>\n",
       "    </tr>\n",
       "    <tr>\n",
       "      <th>1</th>\n",
       "      <td>4.9</td>\n",
       "      <td>3.0</td>\n",
       "      <td>1.4</td>\n",
       "      <td>0.2</td>\n",
       "      <td>1</td>\n",
       "    </tr>\n",
       "    <tr>\n",
       "      <th>2</th>\n",
       "      <td>4.7</td>\n",
       "      <td>3.2</td>\n",
       "      <td>1.3</td>\n",
       "      <td>0.2</td>\n",
       "      <td>1</td>\n",
       "    </tr>\n",
       "    <tr>\n",
       "      <th>3</th>\n",
       "      <td>4.6</td>\n",
       "      <td>3.1</td>\n",
       "      <td>1.5</td>\n",
       "      <td>0.2</td>\n",
       "      <td>1</td>\n",
       "    </tr>\n",
       "    <tr>\n",
       "      <th>4</th>\n",
       "      <td>5.0</td>\n",
       "      <td>3.6</td>\n",
       "      <td>1.4</td>\n",
       "      <td>0.2</td>\n",
       "      <td>1</td>\n",
       "    </tr>\n",
       "    <tr>\n",
       "      <th>...</th>\n",
       "      <td>...</td>\n",
       "      <td>...</td>\n",
       "      <td>...</td>\n",
       "      <td>...</td>\n",
       "      <td>...</td>\n",
       "    </tr>\n",
       "    <tr>\n",
       "      <th>145</th>\n",
       "      <td>6.7</td>\n",
       "      <td>3.0</td>\n",
       "      <td>5.2</td>\n",
       "      <td>2.3</td>\n",
       "      <td>3</td>\n",
       "    </tr>\n",
       "    <tr>\n",
       "      <th>146</th>\n",
       "      <td>6.3</td>\n",
       "      <td>2.5</td>\n",
       "      <td>5.0</td>\n",
       "      <td>1.9</td>\n",
       "      <td>3</td>\n",
       "    </tr>\n",
       "    <tr>\n",
       "      <th>147</th>\n",
       "      <td>6.5</td>\n",
       "      <td>3.0</td>\n",
       "      <td>5.2</td>\n",
       "      <td>2.0</td>\n",
       "      <td>3</td>\n",
       "    </tr>\n",
       "    <tr>\n",
       "      <th>148</th>\n",
       "      <td>6.2</td>\n",
       "      <td>3.4</td>\n",
       "      <td>5.4</td>\n",
       "      <td>2.3</td>\n",
       "      <td>3</td>\n",
       "    </tr>\n",
       "    <tr>\n",
       "      <th>149</th>\n",
       "      <td>5.9</td>\n",
       "      <td>3.0</td>\n",
       "      <td>5.1</td>\n",
       "      <td>1.8</td>\n",
       "      <td>3</td>\n",
       "    </tr>\n",
       "  </tbody>\n",
       "</table>\n",
       "<p>150 rows × 5 columns</p>\n",
       "</div>"
      ],
      "text/plain": [
       "     SepalLength  SepalWidth  PetalLength  PetalWidth  class\n",
       "0            5.1         3.5          1.4         0.2      1\n",
       "1            4.9         3.0          1.4         0.2      1\n",
       "2            4.7         3.2          1.3         0.2      1\n",
       "3            4.6         3.1          1.5         0.2      1\n",
       "4            5.0         3.6          1.4         0.2      1\n",
       "..           ...         ...          ...         ...    ...\n",
       "145          6.7         3.0          5.2         2.3      3\n",
       "146          6.3         2.5          5.0         1.9      3\n",
       "147          6.5         3.0          5.2         2.0      3\n",
       "148          6.2         3.4          5.4         2.3      3\n",
       "149          5.9         3.0          5.1         1.8      3\n",
       "\n",
       "[150 rows x 5 columns]"
      ]
     },
     "execution_count": 3,
     "metadata": {},
     "output_type": "execute_result"
    }
   ],
   "source": [
    "#Read CSV\n",
    "df=pd.read_csv(dataset_path)\n",
    "\n",
    "diagnosis_col = df.iloc[:,-1]\n",
    "df = df.iloc[: , :-1]\n",
    "df['class'] = diagnosis_col\n",
    "df"
   ]
  },
  {
   "cell_type": "markdown",
   "metadata": {},
   "source": [
    "---\n",
    "<a id=\"section33\"></a>\n",
    "# <font color=\"#004D7F\" size=5> 3.3. Label encoding</font>"
   ]
  },
  {
   "cell_type": "markdown",
   "metadata": {},
   "source": [
    "\n",
    "In this section, we delve into label encoding, a crucial preprocessing step for preparing categorical labels for use in machine learning models. Specifically for binary classification tasks, label encoding involves transforming categorical labels into a binary format, represented by the integers 0 and 1."
   ]
  },
  {
   "cell_type": "code",
   "execution_count": 4,
   "metadata": {},
   "outputs": [
    {
     "data": {
      "text/plain": [
       "(150, 5)"
      ]
     },
     "execution_count": 4,
     "metadata": {},
     "output_type": "execute_result"
    }
   ],
   "source": [
    "df.shape"
   ]
  },
  {
   "cell_type": "code",
   "execution_count": 5,
   "metadata": {},
   "outputs": [
    {
     "data": {
      "text/html": [
       "<div>\n",
       "<style scoped>\n",
       "    .dataframe tbody tr th:only-of-type {\n",
       "        vertical-align: middle;\n",
       "    }\n",
       "\n",
       "    .dataframe tbody tr th {\n",
       "        vertical-align: top;\n",
       "    }\n",
       "\n",
       "    .dataframe thead th {\n",
       "        text-align: right;\n",
       "    }\n",
       "</style>\n",
       "<table border=\"1\" class=\"dataframe\">\n",
       "  <thead>\n",
       "    <tr style=\"text-align: right;\">\n",
       "      <th></th>\n",
       "      <th>SepalLength</th>\n",
       "      <th>SepalWidth</th>\n",
       "      <th>PetalLength</th>\n",
       "      <th>PetalWidth</th>\n",
       "      <th>class</th>\n",
       "    </tr>\n",
       "  </thead>\n",
       "  <tbody>\n",
       "    <tr>\n",
       "      <th>0</th>\n",
       "      <td>5.1</td>\n",
       "      <td>3.5</td>\n",
       "      <td>1.4</td>\n",
       "      <td>0.2</td>\n",
       "      <td>0</td>\n",
       "    </tr>\n",
       "    <tr>\n",
       "      <th>1</th>\n",
       "      <td>4.9</td>\n",
       "      <td>3.0</td>\n",
       "      <td>1.4</td>\n",
       "      <td>0.2</td>\n",
       "      <td>0</td>\n",
       "    </tr>\n",
       "    <tr>\n",
       "      <th>2</th>\n",
       "      <td>4.7</td>\n",
       "      <td>3.2</td>\n",
       "      <td>1.3</td>\n",
       "      <td>0.2</td>\n",
       "      <td>0</td>\n",
       "    </tr>\n",
       "    <tr>\n",
       "      <th>3</th>\n",
       "      <td>4.6</td>\n",
       "      <td>3.1</td>\n",
       "      <td>1.5</td>\n",
       "      <td>0.2</td>\n",
       "      <td>0</td>\n",
       "    </tr>\n",
       "    <tr>\n",
       "      <th>4</th>\n",
       "      <td>5.0</td>\n",
       "      <td>3.6</td>\n",
       "      <td>1.4</td>\n",
       "      <td>0.2</td>\n",
       "      <td>0</td>\n",
       "    </tr>\n",
       "    <tr>\n",
       "      <th>...</th>\n",
       "      <td>...</td>\n",
       "      <td>...</td>\n",
       "      <td>...</td>\n",
       "      <td>...</td>\n",
       "      <td>...</td>\n",
       "    </tr>\n",
       "    <tr>\n",
       "      <th>145</th>\n",
       "      <td>6.7</td>\n",
       "      <td>3.0</td>\n",
       "      <td>5.2</td>\n",
       "      <td>2.3</td>\n",
       "      <td>2</td>\n",
       "    </tr>\n",
       "    <tr>\n",
       "      <th>146</th>\n",
       "      <td>6.3</td>\n",
       "      <td>2.5</td>\n",
       "      <td>5.0</td>\n",
       "      <td>1.9</td>\n",
       "      <td>2</td>\n",
       "    </tr>\n",
       "    <tr>\n",
       "      <th>147</th>\n",
       "      <td>6.5</td>\n",
       "      <td>3.0</td>\n",
       "      <td>5.2</td>\n",
       "      <td>2.0</td>\n",
       "      <td>2</td>\n",
       "    </tr>\n",
       "    <tr>\n",
       "      <th>148</th>\n",
       "      <td>6.2</td>\n",
       "      <td>3.4</td>\n",
       "      <td>5.4</td>\n",
       "      <td>2.3</td>\n",
       "      <td>2</td>\n",
       "    </tr>\n",
       "    <tr>\n",
       "      <th>149</th>\n",
       "      <td>5.9</td>\n",
       "      <td>3.0</td>\n",
       "      <td>5.1</td>\n",
       "      <td>1.8</td>\n",
       "      <td>2</td>\n",
       "    </tr>\n",
       "  </tbody>\n",
       "</table>\n",
       "<p>150 rows × 5 columns</p>\n",
       "</div>"
      ],
      "text/plain": [
       "     SepalLength  SepalWidth  PetalLength  PetalWidth  class\n",
       "0            5.1         3.5          1.4         0.2      0\n",
       "1            4.9         3.0          1.4         0.2      0\n",
       "2            4.7         3.2          1.3         0.2      0\n",
       "3            4.6         3.1          1.5         0.2      0\n",
       "4            5.0         3.6          1.4         0.2      0\n",
       "..           ...         ...          ...         ...    ...\n",
       "145          6.7         3.0          5.2         2.3      2\n",
       "146          6.3         2.5          5.0         1.9      2\n",
       "147          6.5         3.0          5.2         2.0      2\n",
       "148          6.2         3.4          5.4         2.3      2\n",
       "149          5.9         3.0          5.1         1.8      2\n",
       "\n",
       "[150 rows x 5 columns]"
      ]
     },
     "execution_count": 5,
     "metadata": {},
     "output_type": "execute_result"
    }
   ],
   "source": [
    "from sklearn.preprocessing import LabelEncoder\n",
    "encoder = LabelEncoder()\n",
    "df['class'] = encoder.fit_transform(df['class'])\n",
    "df"
   ]
  },
  {
   "cell_type": "markdown",
   "metadata": {
    "id": "pLzynCxOpHBX"
   },
   "source": [
    "---\n",
    "<a id=\"section33\"></a>\n",
    "# <font color=\"#004D7F\" size=5> 3.3. Generate images</font>"
   ]
  },
  {
   "cell_type": "markdown",
   "metadata": {},
   "source": [
    "Now we can generate the images with the `generateImages()` generic function. Likewise, we create a dataset that will have the path of each of the samples with the corresponding image created for it. \n",
    "\n",
    "Note that each image is created based on a row, therefore, each numerical sample of the dataset will correspond to a particular image. In other words, we will have the same number of images as samples/rows."
   ]
  },
  {
   "cell_type": "code",
   "execution_count": 6,
   "metadata": {},
   "outputs": [
    {
     "name": "stdout",
     "output_type": "stream",
     "text": [
      "../../Synthetic_images/Iris_SuperTML/supervised.csv\n"
     ]
    }
   ],
   "source": [
    "import os\n",
    "\n",
    "# Generate the images if the folder does not exist\n",
    "if not os.path.exists(images_folder):\n",
    "    #Generate thet images\n",
    "    image_model.generateImages(df, images_folder)\n",
    "else:\n",
    "    print(\"The images are already generated\")\n",
    "\n",
    "img_paths = os.path.join(images_folder,problem_type+\".csv\")\n",
    "\n",
    "print(img_paths)"
   ]
  },
  {
   "cell_type": "markdown",
   "metadata": {
    "id": "klS9PZsUjpDV"
   },
   "source": [
    "<a id=\"section34\"></a>\n",
    "# <font color=\"#004D7F\" size=5> 3.4. Read images</font>"
   ]
  },
  {
   "cell_type": "markdown",
   "metadata": {
    "id": "COh9Th5jsDei"
   },
   "source": [
    "Once the images have been created we can read them. In this particular case, by using a pure CNN, we will use the images only to train our model."
   ]
  },
  {
   "cell_type": "code",
   "execution_count": 103,
   "metadata": {},
   "outputs": [
    {
     "name": "stdout",
     "output_type": "stream",
     "text": [
      "../../Synthetic_images/Iris_SuperTML/00/000000.png\n",
      "class\n",
      "0.0    50\n",
      "1.0    50\n",
      "2.0    50\n",
      "Name: count, dtype: int64\n"
     ]
    }
   ],
   "source": [
    "df = pd.read_csv(img_paths)\n",
    "df[\"class\"] = df[\"class\"].astype(str)\n",
    "df[\"images\"]= images_folder + \"/\" + df[\"images\"]\n",
    "\n",
    "print(df[\"images\"][0])\n",
    "print(df[\"class\"].value_counts())"
   ]
  },
  {
   "cell_type": "markdown",
   "metadata": {},
   "source": [
    "---\n",
    "<div style=\"text-align: right\"> <font size=5> <a href=\"#indice\"><i class=\"fa fa-arrow-circle-up\" aria-hidden=\"true\" style=\"color:#004D7F\"></i></a></font></div>\n",
    "\n",
    "---"
   ]
  },
  {
   "cell_type": "markdown",
   "metadata": {},
   "source": [
    "<a id=\"section4\"></a>\n",
    "# <font color=\"#004D7F\" size=6> 4. Pre-modelling phase</font>"
   ]
  },
  {
   "cell_type": "markdown",
   "metadata": {},
   "source": [
    "Once the data is ready, we load it into memory with an iterator in order to pass it to the CNN."
   ]
  },
  {
   "cell_type": "markdown",
   "metadata": {
    "id": "nb4Dd37rjpDm"
   },
   "source": [
    "---\n",
    "<a id=\"section41\"></a>\n",
    "# <font color=\"#004D7F\" size=5> 4.1. Data curation</font>"
   ]
  },
  {
   "cell_type": "markdown",
   "metadata": {
    "id": "9TjBcUbxjpDt"
   },
   "source": [
    "Split in train/test/validation"
   ]
  },
  {
   "cell_type": "code",
   "execution_count": 104,
   "metadata": {
    "id": "BDyHty4-pjF5",
    "tags": []
   },
   "outputs": [],
   "source": [
    "df_x = df.drop('class', axis = 1)\n",
    "df_y = df['class']\n",
    "\n",
    "X_train, X_val, y_train, y_val = train_test_split(df_x, df_y, test_size = 0.40, random_state=SEED,stratify=df_y)\n",
    "X_val, X_test, y_val, y_test = train_test_split(X_val, y_val, test_size = 0.50, random_state=SEED,stratify=y_val)\n"
   ]
  },
  {
   "cell_type": "code",
   "execution_count": 105,
   "metadata": {},
   "outputs": [
    {
     "data": {
      "text/plain": [
       "32     0.0\n",
       "66     1.0\n",
       "97     1.0\n",
       "42     0.0\n",
       "24     0.0\n",
       "      ... \n",
       "59     1.0\n",
       "149    2.0\n",
       "44     0.0\n",
       "112    2.0\n",
       "18     0.0\n",
       "Name: class, Length: 90, dtype: object"
      ]
     },
     "execution_count": 105,
     "metadata": {},
     "output_type": "execute_result"
    }
   ],
   "source": [
    "y_train"
   ]
  },
  {
   "cell_type": "code",
   "execution_count": 106,
   "metadata": {
    "id": "9Ix84V0ApjF8",
    "tags": []
   },
   "outputs": [],
   "source": [
    "df_train = pd.concat([X_train, y_train], axis = 1)\n",
    "df_test = pd.concat([X_test, y_test], axis = 1)\n",
    "df_val = pd.concat([X_val, y_val], axis = 1)"
   ]
  },
  {
   "cell_type": "code",
   "execution_count": 107,
   "metadata": {
    "colab": {
     "base_uri": "https://localhost:8080/"
    },
    "id": "mnX_etdYpjF9",
    "outputId": "9104166d-9c5c-4ed3-b71b-c9aa23461559",
    "tags": []
   },
   "outputs": [
    {
     "name": "stdout",
     "output_type": "stream",
     "text": [
      "class\n",
      "0.0    30\n",
      "1.0    30\n",
      "2.0    30\n",
      "Name: count, dtype: int64\n",
      " \n",
      " \n",
      "class\n",
      "0.0    10\n",
      "2.0    10\n",
      "1.0    10\n",
      "Name: count, dtype: int64\n",
      " \n",
      " \n",
      "class\n",
      "1.0    10\n",
      "2.0    10\n",
      "0.0    10\n",
      "Name: count, dtype: int64\n"
     ]
    }
   ],
   "source": [
    "print(df_train['class'].value_counts())\n",
    "print(' ')\n",
    "print(' ')\n",
    "print(df_test['class'].value_counts())\n",
    "print(' ')\n",
    "print(' ')\n",
    "print(df_val['class'].value_counts())"
   ]
  },
  {
   "cell_type": "markdown",
   "metadata": {
    "id": "a347tUZnjpED"
   },
   "source": [
    "---\n",
    "<a id=\"section42\"></a>\n",
    "# <font color=\"#004D7F\" size=5> 4.2. Resize images</font>"
   ]
  },
  {
   "cell_type": "markdown",
   "metadata": {
    "id": "xvXLjHzAjpEE"
   },
   "source": [
    "In our case, as we are going to train with a pre-trained network, we must resize it to the dimensions established by the network. Therefore, if you make a customised CNN, this cell is optional. "
   ]
  },
  {
   "cell_type": "code",
   "execution_count": 108,
   "metadata": {
    "id": "Z0Jbdn_ypjF-",
    "tags": []
   },
   "outputs": [],
   "source": [
    "train_datagen = ImageDataGenerator(rescale = 1./255)\n",
    "valid_datagen = ImageDataGenerator(rescale = 1./255)\n",
    "teste_datagen = ImageDataGenerator(rescale = 1./255)"
   ]
  },
  {
   "cell_type": "code",
   "execution_count": 109,
   "metadata": {
    "colab": {
     "base_uri": "https://localhost:8080/"
    },
    "id": "ebOBC5iypjGA",
    "outputId": "e1bf4be0-f486-460e-9bf6-90a7f87b1939",
    "tags": []
   },
   "outputs": [
    {
     "name": "stdout",
     "output_type": "stream",
     "text": [
      "(90, 2)\n",
      "(30, 2)\n",
      "(30, 2)\n"
     ]
    }
   ],
   "source": [
    "print(df_train.shape)\n",
    "print(df_val.shape)\n",
    "print(df_test.shape)"
   ]
  },
  {
   "cell_type": "markdown",
   "metadata": {
    "id": "NjFY9rn2jpEL"
   },
   "source": [
    "---\n",
    "<a id=\"section43\"></a>\n",
    "# <font color=\"#004D7F\" size=5> 4.3. Iterators</font>"
   ]
  },
  {
   "cell_type": "markdown",
   "metadata": {},
   "source": [
    "Note that each method generates images of **different pixel size**. For example:\n",
    "- `TINTO` method has a parameter that you can specify the size in pixels which by default is 20. \n",
    "- Other parameters such as `Combined` generates the size automatically and you must obtain them from the _shape_ of the images."
   ]
  },
  {
   "cell_type": "markdown",
   "metadata": {},
   "source": [
    "<div class=\"alert alert-block alert-info\">\n",
    "\n",
    "<i class=\"fa fa-info-circle\" aria-hidden=\"true\"></i>\n",
    "You can see all information about TINTOlib documentation in [PyPI](https://tintolib.readthedocs.io/en/latest/installation.html)"
   ]
  },
  {
   "cell_type": "markdown",
   "metadata": {
    "id": "GFYTHIPljpEM"
   },
   "source": [
    "Create iterators for train/test/validation"
   ]
  },
  {
   "cell_type": "markdown",
   "metadata": {},
   "source": [
    "<div class=\"alert alert-block alert-info\">\n",
    "\n",
    "<i class=\"fa fa-info-circle\" aria-hidden=\"true\"></i>\n",
    "💡 **Importante**: Depending on the transformation method, it may perform a transformation to a size that may not be specified by the user such as TINTO. Therefore, you may need to modify the `pixel` variable.\n"
   ]
  },
  {
   "cell_type": "code",
   "execution_count": 110,
   "metadata": {
    "colab": {
     "base_uri": "https://localhost:8080/"
    },
    "id": "inaR7-KxpjGC",
    "outputId": "21305649-6133-43b8-c3cf-b6fa3faa5573",
    "tags": []
   },
   "outputs": [
    {
     "name": "stdout",
     "output_type": "stream",
     "text": [
      "Found 90 validated image filenames belonging to 3 classes.\n"
     ]
    }
   ],
   "source": [
    "train_iter = train_datagen.flow_from_dataframe(\n",
    "    df_train, \n",
    "    target_size = (pixel, pixel),\n",
    "    x_col = 'images',\n",
    "    y_col = 'class',\n",
    "    class_mode = 'categorical',\n",
    "    #class_mode = 'binary',\n",
    "    #color_mode='grayscale',\n",
    "    color_mode='rgb',\n",
    "    batch_size = 8,\n",
    "    shuffle = True\n",
    ")"
   ]
  },
  {
   "cell_type": "code",
   "execution_count": 111,
   "metadata": {
    "colab": {
     "base_uri": "https://localhost:8080/"
    },
    "id": "MGPDhsFQpjGE",
    "outputId": "e473d2ba-806a-4a48-c530-2d91305bd9ad",
    "tags": []
   },
   "outputs": [
    {
     "name": "stdout",
     "output_type": "stream",
     "text": [
      "Found 30 validated image filenames belonging to 3 classes.\n"
     ]
    }
   ],
   "source": [
    "valid_iter = train_datagen.flow_from_dataframe(\n",
    "    df_val, \n",
    "    target_size = (pixel, pixel),\n",
    "    x_col = 'images',\n",
    "    y_col = 'class',\n",
    "    class_mode = 'categorical',\n",
    "    #class_mode = 'binary',\n",
    "    #color_mode='grayscale',\n",
    "    color_mode='rgb',\n",
    "    batch_size = 8,\n",
    "    shuffle = False\n",
    ")"
   ]
  },
  {
   "cell_type": "code",
   "execution_count": 112,
   "metadata": {
    "colab": {
     "base_uri": "https://localhost:8080/"
    },
    "id": "jkWY-9y3pjGF",
    "outputId": "2942429a-0a1f-4a68-91c2-ebd8dc797b8e",
    "tags": []
   },
   "outputs": [
    {
     "name": "stdout",
     "output_type": "stream",
     "text": [
      "Found 30 validated image filenames belonging to 3 classes.\n"
     ]
    }
   ],
   "source": [
    "test_iter = train_datagen.flow_from_dataframe(\n",
    "    df_test, \n",
    "    target_size = (pixel, pixel),\n",
    "    x_col = 'images',\n",
    "    y_col = 'class',\n",
    "    class_mode = 'categorical',\n",
    "    #class_mode = 'binary',\n",
    "    #color_mode='grayscale',\n",
    "    color_mode='rgb',\n",
    "    batch_size = 8,\n",
    "    shuffle = False\n",
    ")"
   ]
  },
  {
   "cell_type": "code",
   "execution_count": 113,
   "metadata": {
    "colab": {
     "base_uri": "https://localhost:8080/"
    },
    "id": "3YzRGsb9pjGG",
    "outputId": "1edff292-1127-40d6-b68f-1e6a4d92be32",
    "tags": []
   },
   "outputs": [
    {
     "name": "stdout",
     "output_type": "stream",
     "text": [
      "(20, 20, 3)\n",
      "(20, 20, 3)\n",
      "(20, 20, 3)\n"
     ]
    }
   ],
   "source": [
    "print(train_iter.image_shape)\n",
    "print(valid_iter.image_shape)\n",
    "print(test_iter.image_shape)"
   ]
  },
  {
   "cell_type": "markdown",
   "metadata": {
    "id": "xagy7N7ijpEX"
   },
   "source": [
    "---\n",
    "<div style=\"text-align: right\"> <font size=5> <a href=\"#indice\"><i class=\"fa fa-arrow-circle-up\" aria-hidden=\"true\" style=\"color:#004D7F\"></i></a></font></div>\n",
    "\n",
    "---"
   ]
  },
  {
   "cell_type": "markdown",
   "metadata": {
    "id": "rE0VunQYjpEY"
   },
   "source": [
    "<a id=\"section5\"></a>\n",
    "# <font color=\"#004D7F\" size=6> 5. Modelling with CNN</font>"
   ]
  },
  {
   "cell_type": "markdown",
   "metadata": {
    "id": "MDfs9l-hjpEZ"
   },
   "source": [
    "Now we can start the CNN training. Before that we prepare the algorithm for reading data."
   ]
  },
  {
   "cell_type": "markdown",
   "metadata": {
    "id": "Qn2U90FwjpEe"
   },
   "source": [
    "<a id=\"section51\"></a>\n",
    "# <font color=\"#004D7F\" size=5> 5.1. CNN</font>"
   ]
  },
  {
   "cell_type": "markdown",
   "metadata": {},
   "source": [
    "This is an example of a simple CNN. Note that we are not looking for the optimization of the CNN but to show an example of TINTOlib execution."
   ]
  },
  {
   "cell_type": "code",
   "execution_count": 114,
   "metadata": {
    "id": "tZl0AETUw1r8"
   },
   "outputs": [],
   "source": [
    "dropout = 0.2\n",
    "epochs = 100\n",
    "n_class = df['class'].value_counts().count()"
   ]
  },
  {
   "cell_type": "markdown",
   "metadata": {},
   "source": [
    "<div class=\"alert alert-block alert-info\">\n",
    "\n",
    "<i class=\"fa fa-info-circle\" aria-hidden=\"true\"></i>\n",
    "💡 **Important**: `padding=\"same\"` is very important to avoid losing the first/last row/column of pixels. Keep in mind that the images have a small size.\n"
   ]
  },
  {
   "cell_type": "code",
   "execution_count": 115,
   "metadata": {},
   "outputs": [],
   "source": [
    "#Entrada\n",
    "input_shape = Input(shape=(pixel, pixel,3))\n",
    "        \n",
    "#Inicio de rama 1\n",
    "tower_1 = Conv2D(16, (3,3), activation='relu',padding=\"same\")(input_shape)\n",
    "tower_1 = BatchNormalization()(tower_1)\n",
    "tower_1 = Activation('relu')(tower_1)\n",
    "tower_1 = MaxPooling2D(2,2)(tower_1)\n",
    "#tower_1 = Dropou(0.5)(tower_1)\n",
    "        \n",
    "tower_1 = Conv2D(32, (3,3), activation='relu',padding=\"same\")(tower_1)\n",
    "tower_1 = BatchNormalization()(tower_1)\n",
    "tower_1 = Activation('relu')(tower_1)\n",
    "tower_1 = MaxPooling2D(2,2)(tower_1)\n",
    "#tower_1 = Dropou(0.5)(tower_1)\n",
    "        \n",
    "tower_1 = Conv2D(64, (3,3), activation='relu',padding=\"same\")(tower_1)\n",
    "tower_1 = BatchNormalization()(tower_1)\n",
    "tower_1 = Activation('relu')(tower_1)\n",
    "tower_1 = MaxPooling2D(2,2)(tower_1)\n",
    "#tower_1 = Dropou(0.5)(tower_1)\n",
    "        \n",
    "#tower_1 = Conv2D(64, (3,3), activation='relu',padding=\"same\")(tower_1)\n",
    "#tower_1 = BatchNormalization()(tower_1)\n",
    "#tower_1 = Activation('relu')(tower_1)\n",
    "#tower_1 = MaxPooling2D(2,2)(tower_1)\n",
    "#tower_1 = Dropou(0.5)(tower_1)\n",
    "#Fin de rama 1\n",
    "        \n",
    "#Inicio de rama 2\n",
    "tower_2 = Conv2D(16, (5,5), activation='relu',padding=\"same\")(input_shape)\n",
    "tower_2 = BatchNormalization()(tower_2)\n",
    "tower_2 = Activation('relu')(tower_2)\n",
    "tower_2 = AveragePooling2D(2,2)(tower_2)\n",
    "#tower_2 = Dropou(0.5)(tower_2)\n",
    "        \n",
    "tower_2 = Conv2D(32, (5,5), activation='relu',padding=\"same\")(tower_2)\n",
    "tower_2 = BatchNormalization()(tower_2)\n",
    "tower_2 = Activation('relu')(tower_2)\n",
    "tower_2 = AveragePooling2D(2,2)(tower_2)\n",
    "#tower_2 = Dropou(0.5)(tower_2)\n",
    "        \n",
    "tower_2 = Conv2D(64, (5,5), activation='relu',padding=\"same\")(tower_2)\n",
    "tower_2 = BatchNormalization()(tower_2)\n",
    "tower_2 = Activation('relu')(tower_2)\n",
    "tower_2 = AveragePooling2D(2,2)(tower_2)\n",
    "#tower_2 = Dropou(0.5)(tower_2)\n",
    "        \n",
    "#tower_2 = Conv2D(64, (5,5), activation='relu',padding=\"same\")(tower_2)\n",
    "#tower_2 = BatchNormalization()(tower_2)\n",
    "#tower_2 = Activation('relu')(tower_2)\n",
    "#tower_2 = AveragePooling2D(2,2)(tower_2)\n",
    "#tower_2 = Dropou(0.5)(tower_2)\n",
    "#Fin de rama 2\n",
    "            \n",
    "#Concatenación de las 2 ramas\n",
    "merged = Concatenate(axis=1)([tower_1, tower_2])\n",
    "        \n",
    "#Aplanamiento\n",
    "merged = Flatten()(merged)\n",
    "        \n",
    "#Capas adicionales\n",
    "out = Dense(256, activation='relu')(merged)\n",
    "out = Dense(128, activation='sigmoid')(out)\n",
    "#out = Dense(64, activation='sigmoid')(out)\n",
    "out = Dense(32, activation='sigmoid')(out)\n",
    "        \n",
    "#Capa final de clasificación\n",
    "out = Dense(n_class, activation='softmax')(out)\n",
    "#out = Dense(1, activation='sigmoid')(out)\n",
    "        \n",
    "model = Model(input_shape, out)"
   ]
  },
  {
   "cell_type": "code",
   "execution_count": 116,
   "metadata": {},
   "outputs": [
    {
     "data": {
      "text/html": [
       "<pre style=\"white-space:pre;overflow-x:auto;line-height:normal;font-family:Menlo,'DejaVu Sans Mono',consolas,'Courier New',monospace\"></pre>\n"
      ],
      "text/plain": []
     },
     "metadata": {},
     "output_type": "display_data"
    },
    {
     "data": {
      "text/plain": [
       "<contextlib.ExitStack at 0x17e330b80>"
      ]
     },
     "execution_count": 116,
     "metadata": {},
     "output_type": "execute_result"
    }
   ],
   "source": [
    "os.makedirs(results_folder, exist_ok=True)\n",
    "\n",
    "# Redirect the summary output to the specified file\n",
    "with open(results_folder+\"/model_summary.txt\", \"w\") as f:\n",
    "    model.summary(print_fn=lambda x: f.write(x + '\\n'))\n",
    "\n",
    "# Desactivar la visualización automática de matplotlib\n",
    "plt.ioff()\n",
    "# Now, you can also save the model plot\n",
    "plot_model(model, to_file=results_folder+'model_plot.png', show_shapes=True, expand_nested=True)\n",
    "# Reactivar la visualización automática de matplotlib (opcional)\n",
    "plt.ion()"
   ]
  },
  {
   "cell_type": "code",
   "execution_count": 117,
   "metadata": {
    "id": "DC3Ft7sppjGI",
    "tags": []
   },
   "outputs": [],
   "source": [
    "METRICS = [\n",
    "      tf.keras.metrics.TruePositives(name = 'tp'),\n",
    "      tf.keras.metrics.FalsePositives(name = 'fp'),\n",
    "      tf.keras.metrics.TrueNegatives(name = 'tn'),\n",
    "      tf.keras.metrics.FalseNegatives(name = 'fn'), \n",
    "      tf.keras.metrics.BinaryAccuracy(name ='accuracy'),\n",
    "      tf.keras.metrics.Precision(name = 'precision'),\n",
    "      tf.keras.metrics.Recall(name = 'recall'),\n",
    "      tf.keras.metrics.AUC(name = 'auc'),\n",
    "]"
   ]
  },
  {
   "cell_type": "markdown",
   "metadata": {
    "id": "owmN8gR-jpEh"
   },
   "source": [
    "<a id=\"section52\"></a>\n",
    "# <font color=\"#004D7F\" size=5> 5.2. Compile and fit</font>"
   ]
  },
  {
   "cell_type": "markdown",
   "metadata": {},
   "source": [
    "Note to **specify the loss** depending on whether you have a binary or multiclass classification problem."
   ]
  },
  {
   "cell_type": "code",
   "execution_count": 118,
   "metadata": {
    "id": "RFxZU2q6pjGJ",
    "tags": []
   },
   "outputs": [],
   "source": [
    "#opt = Adam(learning_rate=1e-3)\n",
    "model.compile(\n",
    "                #optimizer = sgd,\n",
    "                optimizer = 'adam',\n",
    "                #optimizer = 'Adadelta',\n",
    "                #optimizer = 'Adamax',\n",
    "                #optimizer = opt,\n",
    "                metrics = METRICS,\n",
    "                #metrics = ['accuracy'],\n",
    "                \n",
    "                #loss = 'binary_crossentropy'\n",
    "                loss = 'categorical_crossentropy'\n",
    "                )"
   ]
  },
  {
   "cell_type": "code",
   "execution_count": 119,
   "metadata": {},
   "outputs": [],
   "source": [
    "# Configure EarlyStopping for binary classification\n",
    "early_stopper = tf.keras.callbacks.EarlyStopping(\n",
    "    monitor='val_loss',  # Monitor the validation accuracy\n",
    "    min_delta=0.001,         # Minimum change in the monitored quantity to qualify as an improvement\n",
    "    patience=20,             # Number of epochs with no improvement after which training will be stopped\n",
    "    verbose=1,               # Log when training stops\n",
    "    mode='min',              # Maximize the accuracy; min the loss\n",
    "    restore_best_weights=True  # Restore model weights from the epoch with the best value of the monitored quantity\n",
    ")"
   ]
  },
  {
   "cell_type": "code",
   "execution_count": 120,
   "metadata": {
    "scrolled": true
   },
   "outputs": [
    {
     "name": "stdout",
     "output_type": "stream",
     "text": [
      "Epoch 1/100\n"
     ]
    },
    {
     "name": "stderr",
     "output_type": "stream",
     "text": [
      "/Users/manwest/Library/Python/3.9/lib/python/site-packages/keras/src/trainers/data_adapters/py_dataset_adapter.py:121: UserWarning: Your `PyDataset` class should call `super().__init__(**kwargs)` in its constructor. `**kwargs` can include `workers`, `use_multiprocessing`, `max_queue_size`. Do not pass these arguments to `fit()`, as they will be ignored.\n",
      "  self._warn_if_super_not_called()\n"
     ]
    },
    {
     "name": "stdout",
     "output_type": "stream",
     "text": [
      "\u001b[1m12/12\u001b[0m \u001b[32m━━━━━━━━━━━━━━━━━━━━\u001b[0m\u001b[37m\u001b[0m \u001b[1m6s\u001b[0m 225ms/step - accuracy: 0.7562 - auc: 0.8206 - fn: 27.4615 - fp: 6.6154 - loss: 0.8632 - precision: 0.7309 - recall: 0.4444 - tn: 100.4615 - tp: 26.0769 - val_accuracy: 0.6667 - val_auc: 0.8444 - val_fn: 30.0000 - val_fp: 0.0000e+00 - val_loss: 1.0181 - val_precision: 0.0000e+00 - val_recall: 0.0000e+00 - val_tn: 60.0000 - val_tp: 0.0000e+00\n",
      "Epoch 2/100\n",
      "\u001b[1m12/12\u001b[0m \u001b[32m━━━━━━━━━━━━━━━━━━━━\u001b[0m\u001b[37m\u001b[0m \u001b[1m1s\u001b[0m 113ms/step - accuracy: 0.9752 - auc: 0.9954 - fn: 2.8462 - fp: 2.0000 - loss: 0.3654 - precision: 0.9707 - recall: 0.9543 - tn: 102.3077 - tp: 49.3077 - val_accuracy: 0.6667 - val_auc: 0.8850 - val_fn: 30.0000 - val_fp: 0.0000e+00 - val_loss: 0.9710 - val_precision: 0.0000e+00 - val_recall: 0.0000e+00 - val_tn: 60.0000 - val_tp: 0.0000e+00\n",
      "Epoch 3/100\n",
      "\u001b[1m12/12\u001b[0m \u001b[32m━━━━━━━━━━━━━━━━━━━━\u001b[0m\u001b[37m\u001b[0m \u001b[1m1s\u001b[0m 110ms/step - accuracy: 0.9240 - auc: 0.9887 - fn: 5.2308 - fp: 5.2308 - loss: 0.3222 - precision: 0.8860 - recall: 0.8860 - tn: 93.5385 - tp: 44.1538 - val_accuracy: 0.6667 - val_auc: 0.8983 - val_fn: 30.0000 - val_fp: 0.0000e+00 - val_loss: 0.9355 - val_precision: 0.0000e+00 - val_recall: 0.0000e+00 - val_tn: 60.0000 - val_tp: 0.0000e+00\n",
      "Epoch 4/100\n",
      "\u001b[1m12/12\u001b[0m \u001b[32m━━━━━━━━━━━━━━━━━━━━\u001b[0m\u001b[37m\u001b[0m \u001b[1m1s\u001b[0m 110ms/step - accuracy: 0.9548 - auc: 0.9962 - fn: 3.2308 - fp: 2.6154 - loss: 0.2276 - precision: 0.9363 - recall: 0.9277 - tn: 103.5385 - tp: 49.8462 - val_accuracy: 0.6667 - val_auc: 0.9025 - val_fn: 30.0000 - val_fp: 0.0000e+00 - val_loss: 0.9189 - val_precision: 0.0000e+00 - val_recall: 0.0000e+00 - val_tn: 60.0000 - val_tp: 0.0000e+00\n",
      "Epoch 5/100\n",
      "\u001b[1m12/12\u001b[0m \u001b[32m━━━━━━━━━━━━━━━━━━━━\u001b[0m\u001b[37m\u001b[0m \u001b[1m1s\u001b[0m 106ms/step - accuracy: 0.9625 - auc: 0.9961 - fn: 2.9231 - fp: 2.9231 - loss: 0.2024 - precision: 0.9437 - recall: 0.9437 - tn: 97.6923 - tp: 47.3846 - val_accuracy: 0.6667 - val_auc: 0.8475 - val_fn: 30.0000 - val_fp: 0.0000e+00 - val_loss: 0.9763 - val_precision: 0.0000e+00 - val_recall: 0.0000e+00 - val_tn: 60.0000 - val_tp: 0.0000e+00\n",
      "Epoch 6/100\n",
      "\u001b[1m12/12\u001b[0m \u001b[32m━━━━━━━━━━━━━━━━━━━━\u001b[0m\u001b[37m\u001b[0m \u001b[1m1s\u001b[0m 103ms/step - accuracy: 0.9893 - auc: 0.9987 - fn: 1.0000 - fp: 1.0000 - loss: 0.1530 - precision: 0.9840 - recall: 0.9840 - tn: 105.1538 - tp: 52.0769 - val_accuracy: 0.6667 - val_auc: 0.8414 - val_fn: 30.0000 - val_fp: 0.0000e+00 - val_loss: 0.9692 - val_precision: 0.0000e+00 - val_recall: 0.0000e+00 - val_tn: 60.0000 - val_tp: 0.0000e+00\n",
      "Epoch 7/100\n",
      "\u001b[1m12/12\u001b[0m \u001b[32m━━━━━━━━━━━━━━━━━━━━\u001b[0m\u001b[37m\u001b[0m \u001b[1m1s\u001b[0m 106ms/step - accuracy: 0.9834 - auc: 0.9987 - fn: 1.8462 - fp: 1.8462 - loss: 0.1321 - precision: 0.9752 - recall: 0.9752 - tn: 104.3077 - tp: 51.2308 - val_accuracy: 0.6667 - val_auc: 0.9358 - val_fn: 30.0000 - val_fp: 0.0000e+00 - val_loss: 0.8960 - val_precision: 0.0000e+00 - val_recall: 0.0000e+00 - val_tn: 60.0000 - val_tp: 0.0000e+00\n",
      "Epoch 8/100\n",
      "\u001b[1m12/12\u001b[0m \u001b[32m━━━━━━━━━━━━━━━━━━━━\u001b[0m\u001b[37m\u001b[0m \u001b[1m1s\u001b[0m 107ms/step - accuracy: 0.9556 - auc: 0.9926 - fn: 4.2308 - fp: 3.3077 - loss: 0.2003 - precision: 0.9386 - recall: 0.9272 - tn: 96.3846 - tp: 45.6154 - val_accuracy: 0.6778 - val_auc: 0.7608 - val_fn: 29.0000 - val_fp: 0.0000e+00 - val_loss: 0.9604 - val_precision: 1.0000 - val_recall: 0.0333 - val_tn: 60.0000 - val_tp: 1.0000\n",
      "Epoch 9/100\n",
      "\u001b[1m12/12\u001b[0m \u001b[32m━━━━━━━━━━━━━━━━━━━━\u001b[0m\u001b[37m\u001b[0m \u001b[1m1s\u001b[0m 106ms/step - accuracy: 0.9640 - auc: 0.9966 - fn: 2.4615 - fp: 2.4615 - loss: 0.1505 - precision: 0.9460 - recall: 0.9460 - tn: 98.1538 - tp: 47.8462 - val_accuracy: 0.7778 - val_auc: 0.9439 - val_fn: 20.0000 - val_fp: 0.0000e+00 - val_loss: 0.7486 - val_precision: 1.0000 - val_recall: 0.3333 - val_tn: 60.0000 - val_tp: 10.0000\n",
      "Epoch 10/100\n",
      "\u001b[1m12/12\u001b[0m \u001b[32m━━━━━━━━━━━━━━━━━━━━\u001b[0m\u001b[37m\u001b[0m \u001b[1m1s\u001b[0m 103ms/step - accuracy: 0.9829 - auc: 0.9926 - fn: 1.4615 - fp: 1.4615 - loss: 0.1839 - precision: 0.9744 - recall: 0.9744 - tn: 104.6923 - tp: 51.6154 - val_accuracy: 0.7778 - val_auc: 0.9219 - val_fn: 20.0000 - val_fp: 0.0000e+00 - val_loss: 0.7118 - val_precision: 1.0000 - val_recall: 0.3333 - val_tn: 60.0000 - val_tp: 10.0000\n",
      "Epoch 11/100\n",
      "\u001b[1m12/12\u001b[0m \u001b[32m━━━━━━━━━━━━━━━━━━━━\u001b[0m\u001b[37m\u001b[0m \u001b[1m1s\u001b[0m 106ms/step - accuracy: 0.9863 - auc: 0.9988 - fn: 1.4615 - fp: 1.4615 - loss: 0.1035 - precision: 0.9795 - recall: 0.9795 - tn: 105.6154 - tp: 52.0769 - val_accuracy: 0.7889 - val_auc: 0.9233 - val_fn: 19.0000 - val_fp: 0.0000e+00 - val_loss: 0.6829 - val_precision: 1.0000 - val_recall: 0.3667 - val_tn: 60.0000 - val_tp: 11.0000\n",
      "Epoch 12/100\n",
      "\u001b[1m12/12\u001b[0m \u001b[32m━━━━━━━━━━━━━━━━━━━━\u001b[0m\u001b[37m\u001b[0m \u001b[1m1s\u001b[0m 107ms/step - accuracy: 0.9757 - auc: 0.9972 - fn: 1.6923 - fp: 1.6923 - loss: 0.1509 - precision: 0.9636 - recall: 0.9636 - tn: 100.7692 - tp: 49.5385 - val_accuracy: 0.7889 - val_auc: 0.9375 - val_fn: 19.0000 - val_fp: 0.0000e+00 - val_loss: 0.6488 - val_precision: 1.0000 - val_recall: 0.3667 - val_tn: 60.0000 - val_tp: 11.0000\n",
      "Epoch 13/100\n",
      "\u001b[1m12/12\u001b[0m \u001b[32m━━━━━━━━━━━━━━━━━━━━\u001b[0m\u001b[37m\u001b[0m \u001b[1m1s\u001b[0m 102ms/step - accuracy: 0.9759 - auc: 0.9982 - fn: 2.0769 - fp: 2.0769 - loss: 0.1201 - precision: 0.9639 - recall: 0.9639 - tn: 98.5385 - tp: 48.2308 - val_accuracy: 0.8000 - val_auc: 0.9317 - val_fn: 18.0000 - val_fp: 0.0000e+00 - val_loss: 0.6358 - val_precision: 1.0000 - val_recall: 0.4000 - val_tn: 60.0000 - val_tp: 12.0000\n",
      "Epoch 14/100\n",
      "\u001b[1m12/12\u001b[0m \u001b[32m━━━━━━━━━━━━━━━━━━━━\u001b[0m\u001b[37m\u001b[0m \u001b[1m1s\u001b[0m 108ms/step - accuracy: 0.9663 - auc: 0.9959 - fn: 3.0000 - fp: 3.0000 - loss: 0.1575 - precision: 0.9494 - recall: 0.9494 - tn: 99.4615 - tp: 48.2308 - val_accuracy: 0.7778 - val_auc: 0.9131 - val_fn: 18.0000 - val_fp: 2.0000 - val_loss: 0.6094 - val_precision: 0.8571 - val_recall: 0.4000 - val_tn: 58.0000 - val_tp: 12.0000\n",
      "Epoch 15/100\n",
      "\u001b[1m12/12\u001b[0m \u001b[32m━━━━━━━━━━━━━━━━━━━━\u001b[0m\u001b[37m\u001b[0m \u001b[1m1s\u001b[0m 105ms/step - accuracy: 0.9508 - auc: 0.9918 - fn: 4.2308 - fp: 3.8462 - loss: 0.2169 - precision: 0.9283 - recall: 0.9238 - tn: 96.7692 - tp: 46.0769 - val_accuracy: 0.8111 - val_auc: 0.9269 - val_fn: 10.0000 - val_fp: 7.0000 - val_loss: 0.5842 - val_precision: 0.7407 - val_recall: 0.6667 - val_tn: 53.0000 - val_tp: 20.0000\n",
      "Epoch 16/100\n",
      "\u001b[1m12/12\u001b[0m \u001b[32m━━━━━━━━━━━━━━━━━━━━\u001b[0m\u001b[37m\u001b[0m \u001b[1m1s\u001b[0m 104ms/step - accuracy: 0.9916 - auc: 0.9977 - fn: 0.9231 - fp: 0.9231 - loss: 0.1097 - precision: 0.9874 - recall: 0.9874 - tn: 101.5385 - tp: 50.3077 - val_accuracy: 0.8222 - val_auc: 0.9297 - val_fn: 10.0000 - val_fp: 6.0000 - val_loss: 0.5873 - val_precision: 0.7692 - val_recall: 0.6667 - val_tn: 54.0000 - val_tp: 20.0000\n",
      "Epoch 17/100\n",
      "\u001b[1m12/12\u001b[0m \u001b[32m━━━━━━━━━━━━━━━━━━━━\u001b[0m\u001b[37m\u001b[0m \u001b[1m1s\u001b[0m 105ms/step - accuracy: 0.9631 - auc: 0.9936 - fn: 2.6154 - fp: 2.6154 - loss: 0.1493 - precision: 0.9446 - recall: 0.9446 - tn: 98.9231 - tp: 48.1538 - val_accuracy: 0.8111 - val_auc: 0.9264 - val_fn: 10.0000 - val_fp: 7.0000 - val_loss: 0.5805 - val_precision: 0.7407 - val_recall: 0.6667 - val_tn: 53.0000 - val_tp: 20.0000\n",
      "Epoch 18/100\n",
      "\u001b[1m12/12\u001b[0m \u001b[32m━━━━━━━━━━━━━━━━━━━━\u001b[0m\u001b[37m\u001b[0m \u001b[1m1s\u001b[0m 105ms/step - accuracy: 0.9835 - auc: 0.9993 - fn: 1.6154 - fp: 1.6154 - loss: 0.1006 - precision: 0.9753 - recall: 0.9753 - tn: 102.6923 - tp: 50.5385 - val_accuracy: 0.7778 - val_auc: 0.9231 - val_fn: 10.0000 - val_fp: 10.0000 - val_loss: 0.5681 - val_precision: 0.6667 - val_recall: 0.6667 - val_tn: 50.0000 - val_tp: 20.0000\n",
      "Epoch 19/100\n",
      "\u001b[1m12/12\u001b[0m \u001b[32m━━━━━━━━━━━━━━━━━━━━\u001b[0m\u001b[37m\u001b[0m \u001b[1m1s\u001b[0m 104ms/step - accuracy: 0.9929 - auc: 0.9995 - fn: 0.6923 - fp: 0.6923 - loss: 0.0826 - precision: 0.9893 - recall: 0.9893 - tn: 108.2308 - tp: 53.7692 - val_accuracy: 0.8222 - val_auc: 0.9339 - val_fn: 14.0000 - val_fp: 2.0000 - val_loss: 0.5522 - val_precision: 0.8889 - val_recall: 0.5333 - val_tn: 58.0000 - val_tp: 16.0000\n",
      "Epoch 20/100\n",
      "\u001b[1m12/12\u001b[0m \u001b[32m━━━━━━━━━━━━━━━━━━━━\u001b[0m\u001b[37m\u001b[0m \u001b[1m1s\u001b[0m 109ms/step - accuracy: 0.9961 - auc: 0.9997 - fn: 0.4615 - fp: 0.4615 - loss: 0.0652 - precision: 0.9942 - recall: 0.9942 - tn: 108.4615 - tp: 54.0000 - val_accuracy: 0.8556 - val_auc: 0.9439 - val_fn: 13.0000 - val_fp: 0.0000e+00 - val_loss: 0.5305 - val_precision: 1.0000 - val_recall: 0.5667 - val_tn: 60.0000 - val_tp: 17.0000\n",
      "Epoch 21/100\n",
      "\u001b[1m12/12\u001b[0m \u001b[32m━━━━━━━━━━━━━━━━━━━━\u001b[0m\u001b[37m\u001b[0m \u001b[1m1s\u001b[0m 105ms/step - accuracy: 0.9902 - auc: 0.9998 - fn: 0.7692 - fp: 0.7692 - loss: 0.0615 - precision: 0.9852 - recall: 0.9852 - tn: 98.9231 - tp: 49.0769 - val_accuracy: 0.8667 - val_auc: 0.9517 - val_fn: 12.0000 - val_fp: 0.0000e+00 - val_loss: 0.5093 - val_precision: 1.0000 - val_recall: 0.6000 - val_tn: 60.0000 - val_tp: 18.0000\n",
      "Epoch 22/100\n",
      "\u001b[1m12/12\u001b[0m \u001b[32m━━━━━━━━━━━━━━━━━━━━\u001b[0m\u001b[37m\u001b[0m \u001b[1m1s\u001b[0m 103ms/step - accuracy: 1.0000 - auc: 1.0000 - fn: 0.0000e+00 - fp: 0.0000e+00 - loss: 0.0416 - precision: 1.0000 - recall: 1.0000 - tn: 99.6923 - tp: 49.8462 - val_accuracy: 0.8556 - val_auc: 0.9639 - val_fn: 13.0000 - val_fp: 0.0000e+00 - val_loss: 0.4989 - val_precision: 1.0000 - val_recall: 0.5667 - val_tn: 60.0000 - val_tp: 17.0000\n",
      "Epoch 23/100\n",
      "\u001b[1m12/12\u001b[0m \u001b[32m━━━━━━━━━━━━━━━━━━━━\u001b[0m\u001b[37m\u001b[0m \u001b[1m1s\u001b[0m 103ms/step - accuracy: 1.0000 - auc: 1.0000 - fn: 0.0000e+00 - fp: 0.0000e+00 - loss: 0.0380 - precision: 1.0000 - recall: 1.0000 - tn: 108.0000 - tp: 54.0000 - val_accuracy: 0.8556 - val_auc: 0.9864 - val_fn: 13.0000 - val_fp: 0.0000e+00 - val_loss: 0.4735 - val_precision: 1.0000 - val_recall: 0.5667 - val_tn: 60.0000 - val_tp: 17.0000\n",
      "Epoch 24/100\n",
      "\u001b[1m12/12\u001b[0m \u001b[32m━━━━━━━━━━━━━━━━━━━━\u001b[0m\u001b[37m\u001b[0m \u001b[1m1s\u001b[0m 104ms/step - accuracy: 0.9821 - auc: 0.9966 - fn: 1.7692 - fp: 1.7692 - loss: 0.1185 - precision: 0.9732 - recall: 0.9732 - tn: 98.8462 - tp: 48.5385 - val_accuracy: 0.9000 - val_auc: 0.9944 - val_fn: 9.0000 - val_fp: 0.0000e+00 - val_loss: 0.4270 - val_precision: 1.0000 - val_recall: 0.7000 - val_tn: 60.0000 - val_tp: 21.0000\n",
      "Epoch 25/100\n",
      "\u001b[1m12/12\u001b[0m \u001b[32m━━━━━━━━━━━━━━━━━━━━\u001b[0m\u001b[37m\u001b[0m \u001b[1m1s\u001b[0m 106ms/step - accuracy: 0.9752 - auc: 0.9981 - fn: 1.3846 - fp: 1.3846 - loss: 0.0736 - precision: 0.9627 - recall: 0.9627 - tn: 100.1538 - tp: 49.3846 - val_accuracy: 0.9444 - val_auc: 0.9969 - val_fn: 5.0000 - val_fp: 0.0000e+00 - val_loss: 0.3631 - val_precision: 1.0000 - val_recall: 0.8333 - val_tn: 60.0000 - val_tp: 25.0000\n",
      "Epoch 26/100\n",
      "\u001b[1m12/12\u001b[0m \u001b[32m━━━━━━━━━━━━━━━━━━━━\u001b[0m\u001b[37m\u001b[0m \u001b[1m1s\u001b[0m 103ms/step - accuracy: 0.9926 - auc: 0.9907 - fn: 0.8462 - fp: 0.8462 - loss: 0.0950 - precision: 0.9890 - recall: 0.9890 - tn: 97.9231 - tp: 48.5385 - val_accuracy: 0.9556 - val_auc: 0.9894 - val_fn: 3.0000 - val_fp: 1.0000 - val_loss: 0.3126 - val_precision: 0.9643 - val_recall: 0.9000 - val_tn: 59.0000 - val_tp: 27.0000\n",
      "Epoch 27/100\n",
      "\u001b[1m12/12\u001b[0m \u001b[32m━━━━━━━━━━━━━━━━━━━━\u001b[0m\u001b[37m\u001b[0m \u001b[1m1s\u001b[0m 108ms/step - accuracy: 0.9595 - auc: 0.9957 - fn: 3.2308 - fp: 3.2308 - loss: 0.1581 - precision: 0.9393 - recall: 0.9393 - tn: 104.7692 - tp: 50.7692 - val_accuracy: 0.9444 - val_auc: 0.9908 - val_fn: 3.0000 - val_fp: 2.0000 - val_loss: 0.2623 - val_precision: 0.9310 - val_recall: 0.9000 - val_tn: 58.0000 - val_tp: 27.0000\n",
      "Epoch 28/100\n",
      "\u001b[1m12/12\u001b[0m \u001b[32m━━━━━━━━━━━━━━━━━━━━\u001b[0m\u001b[37m\u001b[0m \u001b[1m1s\u001b[0m 106ms/step - accuracy: 0.9717 - auc: 0.9948 - fn: 2.3846 - fp: 2.3846 - loss: 0.1631 - precision: 0.9575 - recall: 0.9575 - tn: 102.8462 - tp: 50.2308 - val_accuracy: 0.9889 - val_auc: 0.9989 - val_fn: 1.0000 - val_fp: 0.0000e+00 - val_loss: 0.1487 - val_precision: 1.0000 - val_recall: 0.9667 - val_tn: 60.0000 - val_tp: 29.0000\n",
      "Epoch 29/100\n",
      "\u001b[1m12/12\u001b[0m \u001b[32m━━━━━━━━━━━━━━━━━━━━\u001b[0m\u001b[37m\u001b[0m \u001b[1m1s\u001b[0m 107ms/step - accuracy: 0.9644 - auc: 0.9944 - fn: 3.0769 - fp: 3.0769 - loss: 0.1499 - precision: 0.9466 - recall: 0.9466 - tn: 100.3077 - tp: 48.6154 - val_accuracy: 0.9778 - val_auc: 0.9994 - val_fn: 1.0000 - val_fp: 1.0000 - val_loss: 0.1468 - val_precision: 0.9667 - val_recall: 0.9667 - val_tn: 59.0000 - val_tp: 29.0000\n",
      "Epoch 30/100\n",
      "\u001b[1m12/12\u001b[0m \u001b[32m━━━━━━━━━━━━━━━━━━━━\u001b[0m\u001b[37m\u001b[0m \u001b[1m1s\u001b[0m 104ms/step - accuracy: 0.9950 - auc: 0.9992 - fn: 0.5385 - fp: 0.5385 - loss: 0.0792 - precision: 0.9924 - recall: 0.9924 - tn: 104.6923 - tp: 52.0769 - val_accuracy: 0.9778 - val_auc: 0.9986 - val_fn: 1.0000 - val_fp: 1.0000 - val_loss: 0.1355 - val_precision: 0.9667 - val_recall: 0.9667 - val_tn: 59.0000 - val_tp: 29.0000\n",
      "Epoch 31/100\n",
      "\u001b[1m12/12\u001b[0m \u001b[32m━━━━━━━━━━━━━━━━━━━━\u001b[0m\u001b[37m\u001b[0m \u001b[1m1s\u001b[0m 104ms/step - accuracy: 0.9943 - auc: 0.9996 - fn: 0.6923 - fp: 0.6923 - loss: 0.0697 - precision: 0.9915 - recall: 0.9915 - tn: 102.6923 - tp: 51.0000 - val_accuracy: 0.9778 - val_auc: 0.9953 - val_fn: 1.0000 - val_fp: 1.0000 - val_loss: 0.1391 - val_precision: 0.9667 - val_recall: 0.9667 - val_tn: 59.0000 - val_tp: 29.0000\n",
      "Epoch 32/100\n",
      "\u001b[1m12/12\u001b[0m \u001b[32m━━━━━━━━━━━━━━━━━━━━\u001b[0m\u001b[37m\u001b[0m \u001b[1m1s\u001b[0m 105ms/step - accuracy: 0.9933 - auc: 0.9995 - fn: 0.7692 - fp: 0.7692 - loss: 0.0525 - precision: 0.9899 - recall: 0.9899 - tn: 105.3846 - tp: 52.3077 - val_accuracy: 0.9778 - val_auc: 0.9931 - val_fn: 1.0000 - val_fp: 1.0000 - val_loss: 0.1495 - val_precision: 0.9667 - val_recall: 0.9667 - val_tn: 59.0000 - val_tp: 29.0000\n",
      "Epoch 33/100\n",
      "\u001b[1m12/12\u001b[0m \u001b[32m━━━━━━━━━━━━━━━━━━━━\u001b[0m\u001b[37m\u001b[0m \u001b[1m1s\u001b[0m 104ms/step - accuracy: 0.9797 - auc: 0.9990 - fn: 1.5385 - fp: 1.5385 - loss: 0.0733 - precision: 0.9696 - recall: 0.9696 - tn: 104.6154 - tp: 51.5385 - val_accuracy: 0.9778 - val_auc: 0.9894 - val_fn: 1.0000 - val_fp: 1.0000 - val_loss: 0.1579 - val_precision: 0.9667 - val_recall: 0.9667 - val_tn: 59.0000 - val_tp: 29.0000\n",
      "Epoch 34/100\n",
      "\u001b[1m12/12\u001b[0m \u001b[32m━━━━━━━━━━━━━━━━━━━━\u001b[0m\u001b[37m\u001b[0m \u001b[1m1s\u001b[0m 104ms/step - accuracy: 0.9652 - auc: 0.9980 - fn: 2.8462 - fp: 2.8462 - loss: 0.1031 - precision: 0.9478 - recall: 0.9478 - tn: 96.8462 - tp: 47.0000 - val_accuracy: 0.9778 - val_auc: 0.9933 - val_fn: 1.0000 - val_fp: 1.0000 - val_loss: 0.1648 - val_precision: 0.9667 - val_recall: 0.9667 - val_tn: 59.0000 - val_tp: 29.0000\n",
      "Epoch 35/100\n",
      "\u001b[1m12/12\u001b[0m \u001b[32m━━━━━━━━━━━━━━━━━━━━\u001b[0m\u001b[37m\u001b[0m \u001b[1m1s\u001b[0m 101ms/step - accuracy: 0.9659 - auc: 0.9961 - fn: 2.3077 - fp: 2.3077 - loss: 0.1205 - precision: 0.9488 - recall: 0.9488 - tn: 102.9231 - tp: 50.3077 - val_accuracy: 0.9778 - val_auc: 0.9867 - val_fn: 1.0000 - val_fp: 1.0000 - val_loss: 0.1773 - val_precision: 0.9667 - val_recall: 0.9667 - val_tn: 59.0000 - val_tp: 29.0000\n",
      "Epoch 36/100\n",
      "\u001b[1m12/12\u001b[0m \u001b[32m━━━━━━━━━━━━━━━━━━━━\u001b[0m\u001b[37m\u001b[0m \u001b[1m1s\u001b[0m 105ms/step - accuracy: 0.9949 - auc: 0.9996 - fn: 0.5385 - fp: 0.5385 - loss: 0.0643 - precision: 0.9923 - recall: 0.9923 - tn: 103.7692 - tp: 51.6154 - val_accuracy: 0.9778 - val_auc: 0.9872 - val_fn: 1.0000 - val_fp: 1.0000 - val_loss: 0.1723 - val_precision: 0.9667 - val_recall: 0.9667 - val_tn: 59.0000 - val_tp: 29.0000\n",
      "Epoch 37/100\n",
      "\u001b[1m12/12\u001b[0m \u001b[32m━━━━━━━━━━━━━━━━━━━━\u001b[0m\u001b[37m\u001b[0m \u001b[1m1s\u001b[0m 104ms/step - accuracy: 0.9907 - auc: 0.9998 - fn: 0.7692 - fp: 0.7692 - loss: 0.0576 - precision: 0.9861 - recall: 0.9861 - tn: 102.6154 - tp: 50.9231 - val_accuracy: 0.9778 - val_auc: 0.9872 - val_fn: 1.0000 - val_fp: 1.0000 - val_loss: 0.1750 - val_precision: 0.9667 - val_recall: 0.9667 - val_tn: 59.0000 - val_tp: 29.0000\n",
      "Epoch 38/100\n",
      "\u001b[1m12/12\u001b[0m \u001b[32m━━━━━━━━━━━━━━━━━━━━\u001b[0m\u001b[37m\u001b[0m \u001b[1m1s\u001b[0m 122ms/step - accuracy: 0.9982 - auc: 0.9999 - fn: 0.2308 - fp: 0.2308 - loss: 0.0323 - precision: 0.9974 - recall: 0.9974 - tn: 101.3077 - tp: 50.5385 - val_accuracy: 0.9778 - val_auc: 0.9894 - val_fn: 1.0000 - val_fp: 1.0000 - val_loss: 0.1640 - val_precision: 0.9667 - val_recall: 0.9667 - val_tn: 59.0000 - val_tp: 29.0000\n",
      "Epoch 39/100\n",
      "\u001b[1m12/12\u001b[0m \u001b[32m━━━━━━━━━━━━━━━━━━━━\u001b[0m\u001b[37m\u001b[0m \u001b[1m1s\u001b[0m 108ms/step - accuracy: 1.0000 - auc: 1.0000 - fn: 0.0000e+00 - fp: 0.0000e+00 - loss: 0.0381 - precision: 1.0000 - recall: 1.0000 - tn: 102.4615 - tp: 51.2308 - val_accuracy: 0.9778 - val_auc: 0.9908 - val_fn: 1.0000 - val_fp: 1.0000 - val_loss: 0.1563 - val_precision: 0.9667 - val_recall: 0.9667 - val_tn: 59.0000 - val_tp: 29.0000\n",
      "Epoch 40/100\n",
      "\u001b[1m12/12\u001b[0m \u001b[32m━━━━━━━━━━━━━━━━━━━━\u001b[0m\u001b[37m\u001b[0m \u001b[1m1s\u001b[0m 101ms/step - accuracy: 0.9959 - auc: 1.0000 - fn: 0.4615 - fp: 0.4615 - loss: 0.0399 - precision: 0.9938 - recall: 0.9938 - tn: 103.8462 - tp: 51.6923 - val_accuracy: 0.9778 - val_auc: 0.9878 - val_fn: 1.0000 - val_fp: 1.0000 - val_loss: 0.1710 - val_precision: 0.9667 - val_recall: 0.9667 - val_tn: 59.0000 - val_tp: 29.0000\n",
      "Epoch 41/100\n",
      "\u001b[1m12/12\u001b[0m \u001b[32m━━━━━━━━━━━━━━━━━━━━\u001b[0m\u001b[37m\u001b[0m \u001b[1m1s\u001b[0m 102ms/step - accuracy: 0.9936 - auc: 0.9999 - fn: 0.6154 - fp: 0.6154 - loss: 0.0278 - precision: 0.9905 - recall: 0.9905 - tn: 99.0769 - tp: 49.2308 - val_accuracy: 0.9778 - val_auc: 0.9919 - val_fn: 1.0000 - val_fp: 1.0000 - val_loss: 0.1562 - val_precision: 0.9667 - val_recall: 0.9667 - val_tn: 59.0000 - val_tp: 29.0000\n",
      "Epoch 42/100\n",
      "\u001b[1m12/12\u001b[0m \u001b[32m━━━━━━━━━━━━━━━━━━━━\u001b[0m\u001b[37m\u001b[0m \u001b[1m1s\u001b[0m 108ms/step - accuracy: 0.9921 - auc: 0.9999 - fn: 0.6923 - fp: 0.6923 - loss: 0.0300 - precision: 0.9882 - recall: 0.9882 - tn: 99.0000 - tp: 49.1538 - val_accuracy: 0.9778 - val_auc: 0.9886 - val_fn: 1.0000 - val_fp: 1.0000 - val_loss: 0.1626 - val_precision: 0.9667 - val_recall: 0.9667 - val_tn: 59.0000 - val_tp: 29.0000\n",
      "Epoch 43/100\n",
      "\u001b[1m12/12\u001b[0m \u001b[32m━━━━━━━━━━━━━━━━━━━━\u001b[0m\u001b[37m\u001b[0m \u001b[1m1s\u001b[0m 103ms/step - accuracy: 0.9816 - auc: 0.9992 - fn: 1.3077 - fp: 1.3077 - loss: 0.0774 - precision: 0.9724 - recall: 0.9724 - tn: 100.2308 - tp: 49.4615 - val_accuracy: 0.9778 - val_auc: 0.9847 - val_fn: 1.0000 - val_fp: 1.0000 - val_loss: 0.1713 - val_precision: 0.9667 - val_recall: 0.9667 - val_tn: 59.0000 - val_tp: 29.0000\n",
      "Epoch 44/100\n",
      "\u001b[1m12/12\u001b[0m \u001b[32m━━━━━━━━━━━━━━━━━━━━\u001b[0m\u001b[37m\u001b[0m \u001b[1m1s\u001b[0m 101ms/step - accuracy: 0.9884 - auc: 0.9991 - fn: 0.8462 - fp: 0.8462 - loss: 0.0706 - precision: 0.9826 - recall: 0.9826 - tn: 101.6154 - tp: 50.3846 - val_accuracy: 0.9778 - val_auc: 0.9853 - val_fn: 1.0000 - val_fp: 1.0000 - val_loss: 0.1709 - val_precision: 0.9667 - val_recall: 0.9667 - val_tn: 59.0000 - val_tp: 29.0000\n",
      "Epoch 45/100\n",
      "\u001b[1m12/12\u001b[0m \u001b[32m━━━━━━━━━━━━━━━━━━━━\u001b[0m\u001b[37m\u001b[0m \u001b[1m1s\u001b[0m 106ms/step - accuracy: 0.9934 - auc: 0.9998 - fn: 0.7692 - fp: 0.7692 - loss: 0.0325 - precision: 0.9901 - recall: 0.9901 - tn: 104.4615 - tp: 51.8462 - val_accuracy: 0.9333 - val_auc: 0.9719 - val_fn: 3.0000 - val_fp: 3.0000 - val_loss: 0.3327 - val_precision: 0.9000 - val_recall: 0.9000 - val_tn: 57.0000 - val_tp: 27.0000\n",
      "Epoch 46/100\n",
      "\u001b[1m12/12\u001b[0m \u001b[32m━━━━━━━━━━━━━━━━━━━━\u001b[0m\u001b[37m\u001b[0m \u001b[1m1s\u001b[0m 105ms/step - accuracy: 0.9505 - auc: 0.9914 - fn: 3.0000 - fp: 3.0000 - loss: 0.1809 - precision: 0.9258 - recall: 0.9258 - tn: 97.6154 - tp: 47.3077 - val_accuracy: 0.9556 - val_auc: 0.9978 - val_fn: 2.0000 - val_fp: 2.0000 - val_loss: 0.1533 - val_precision: 0.9333 - val_recall: 0.9333 - val_tn: 58.0000 - val_tp: 28.0000\n",
      "Epoch 47/100\n",
      "\u001b[1m12/12\u001b[0m \u001b[32m━━━━━━━━━━━━━━━━━━━━\u001b[0m\u001b[37m\u001b[0m \u001b[1m1s\u001b[0m 104ms/step - accuracy: 0.9679 - auc: 0.9949 - fn: 2.2308 - fp: 2.2308 - loss: 0.1205 - precision: 0.9519 - recall: 0.9519 - tn: 96.5385 - tp: 47.1538 - val_accuracy: 0.9556 - val_auc: 0.9900 - val_fn: 2.0000 - val_fp: 2.0000 - val_loss: 0.1979 - val_precision: 0.9333 - val_recall: 0.9333 - val_tn: 58.0000 - val_tp: 28.0000\n",
      "Epoch 48/100\n",
      "\u001b[1m12/12\u001b[0m \u001b[32m━━━━━━━━━━━━━━━━━━━━\u001b[0m\u001b[37m\u001b[0m \u001b[1m1s\u001b[0m 108ms/step - accuracy: 0.9854 - auc: 0.9996 - fn: 1.3846 - fp: 1.3846 - loss: 0.0526 - precision: 0.9781 - recall: 0.9781 - tn: 107.5385 - tp: 53.0769 - val_accuracy: 0.9333 - val_auc: 0.9950 - val_fn: 3.0000 - val_fp: 3.0000 - val_loss: 0.1025 - val_precision: 0.9000 - val_recall: 0.9000 - val_tn: 57.0000 - val_tp: 27.0000\n",
      "Epoch 49/100\n",
      "\u001b[1m12/12\u001b[0m \u001b[32m━━━━━━━━━━━━━━━━━━━━\u001b[0m\u001b[37m\u001b[0m \u001b[1m1s\u001b[0m 105ms/step - accuracy: 0.9916 - auc: 0.9995 - fn: 0.9231 - fp: 0.9231 - loss: 0.0461 - precision: 0.9874 - recall: 0.9874 - tn: 102.4615 - tp: 50.7692 - val_accuracy: 0.9778 - val_auc: 0.9928 - val_fn: 1.0000 - val_fp: 1.0000 - val_loss: 0.1432 - val_precision: 0.9667 - val_recall: 0.9667 - val_tn: 59.0000 - val_tp: 29.0000\n",
      "Epoch 50/100\n",
      "\u001b[1m12/12\u001b[0m \u001b[32m━━━━━━━━━━━━━━━━━━━━\u001b[0m\u001b[37m\u001b[0m \u001b[1m1s\u001b[0m 102ms/step - accuracy: 0.9657 - auc: 0.9952 - fn: 2.1538 - fp: 2.1538 - loss: 0.1713 - precision: 0.9485 - recall: 0.9485 - tn: 103.0769 - tp: 50.4615 - val_accuracy: 0.9778 - val_auc: 0.9972 - val_fn: 1.0000 - val_fp: 1.0000 - val_loss: 0.1134 - val_precision: 0.9667 - val_recall: 0.9667 - val_tn: 59.0000 - val_tp: 29.0000\n",
      "Epoch 51/100\n",
      "\u001b[1m12/12\u001b[0m \u001b[32m━━━━━━━━━━━━━━━━━━━━\u001b[0m\u001b[37m\u001b[0m \u001b[1m1s\u001b[0m 108ms/step - accuracy: 0.9968 - auc: 0.9998 - fn: 0.3846 - fp: 0.3846 - loss: 0.0327 - precision: 0.9951 - recall: 0.9951 - tn: 98.3846 - tp: 49.0000 - val_accuracy: 0.9778 - val_auc: 0.9983 - val_fn: 1.0000 - val_fp: 1.0000 - val_loss: 0.1005 - val_precision: 0.9667 - val_recall: 0.9667 - val_tn: 59.0000 - val_tp: 29.0000\n",
      "Epoch 52/100\n",
      "\u001b[1m12/12\u001b[0m \u001b[32m━━━━━━━━━━━━━━━━━━━━\u001b[0m\u001b[37m\u001b[0m \u001b[1m1s\u001b[0m 103ms/step - accuracy: 0.9907 - auc: 0.9999 - fn: 0.7692 - fp: 0.7692 - loss: 0.0301 - precision: 0.9861 - recall: 0.9861 - tn: 102.6154 - tp: 50.9231 - val_accuracy: 0.9778 - val_auc: 0.9983 - val_fn: 1.0000 - val_fp: 1.0000 - val_loss: 0.1140 - val_precision: 0.9667 - val_recall: 0.9667 - val_tn: 59.0000 - val_tp: 29.0000\n",
      "Epoch 53/100\n",
      "\u001b[1m12/12\u001b[0m \u001b[32m━━━━━━━━━━━━━━━━━━━━\u001b[0m\u001b[37m\u001b[0m \u001b[1m1s\u001b[0m 105ms/step - accuracy: 1.0000 - auc: 1.0000 - fn: 0.0000e+00 - fp: 0.0000e+00 - loss: 0.0278 - precision: 1.0000 - recall: 1.0000 - tn: 99.6923 - tp: 49.8462 - val_accuracy: 0.9667 - val_auc: 0.9947 - val_fn: 2.0000 - val_fp: 1.0000 - val_loss: 0.1479 - val_precision: 0.9655 - val_recall: 0.9333 - val_tn: 59.0000 - val_tp: 28.0000\n",
      "Epoch 54/100\n",
      "\u001b[1m12/12\u001b[0m \u001b[32m━━━━━━━━━━━━━━━━━━━━\u001b[0m\u001b[37m\u001b[0m \u001b[1m1s\u001b[0m 104ms/step - accuracy: 0.9924 - auc: 0.9998 - fn: 0.9231 - fp: 0.9231 - loss: 0.0419 - precision: 0.9885 - recall: 0.9885 - tn: 105.2308 - tp: 52.1538 - val_accuracy: 0.9778 - val_auc: 0.9819 - val_fn: 1.0000 - val_fp: 1.0000 - val_loss: 0.1893 - val_precision: 0.9667 - val_recall: 0.9667 - val_tn: 59.0000 - val_tp: 29.0000\n",
      "Epoch 55/100\n",
      "\u001b[1m12/12\u001b[0m \u001b[32m━━━━━━━━━━━━━━━━━━━━\u001b[0m\u001b[37m\u001b[0m \u001b[1m1s\u001b[0m 104ms/step - accuracy: 1.0000 - auc: 1.0000 - fn: 0.0000e+00 - fp: 0.0000e+00 - loss: 0.0177 - precision: 1.0000 - recall: 1.0000 - tn: 101.5385 - tp: 50.7692 - val_accuracy: 0.9778 - val_auc: 0.9972 - val_fn: 1.0000 - val_fp: 1.0000 - val_loss: 0.1211 - val_precision: 0.9667 - val_recall: 0.9667 - val_tn: 59.0000 - val_tp: 29.0000\n",
      "Epoch 56/100\n",
      "\u001b[1m12/12\u001b[0m \u001b[32m━━━━━━━━━━━━━━━━━━━━\u001b[0m\u001b[37m\u001b[0m \u001b[1m1s\u001b[0m 105ms/step - accuracy: 0.9874 - auc: 0.9996 - fn: 1.2308 - fp: 1.2308 - loss: 0.0520 - precision: 0.9811 - recall: 0.9811 - tn: 104.0000 - tp: 51.3846 - val_accuracy: 0.9778 - val_auc: 0.9831 - val_fn: 1.0000 - val_fp: 1.0000 - val_loss: 0.1770 - val_precision: 0.9667 - val_recall: 0.9667 - val_tn: 59.0000 - val_tp: 29.0000\n",
      "Epoch 57/100\n",
      "\u001b[1m12/12\u001b[0m \u001b[32m━━━━━━━━━━━━━━━━━━━━\u001b[0m\u001b[37m\u001b[0m \u001b[1m1s\u001b[0m 108ms/step - accuracy: 0.9823 - auc: 0.9994 - fn: 1.4615 - fp: 1.4615 - loss: 0.0901 - precision: 0.9735 - recall: 0.9735 - tn: 97.3077 - tp: 47.9231 - val_accuracy: 1.0000 - val_auc: 1.0000 - val_fn: 0.0000e+00 - val_fp: 0.0000e+00 - val_loss: 0.0432 - val_precision: 1.0000 - val_recall: 1.0000 - val_tn: 60.0000 - val_tp: 30.0000\n",
      "Epoch 58/100\n",
      "\u001b[1m12/12\u001b[0m \u001b[32m━━━━━━━━━━━━━━━━━━━━\u001b[0m\u001b[37m\u001b[0m \u001b[1m1s\u001b[0m 114ms/step - accuracy: 0.9770 - auc: 0.9991 - fn: 2.0000 - fp: 2.0000 - loss: 0.0671 - precision: 0.9655 - recall: 0.9655 - tn: 105.0769 - tp: 51.5385 - val_accuracy: 0.9778 - val_auc: 0.9878 - val_fn: 1.0000 - val_fp: 1.0000 - val_loss: 0.2012 - val_precision: 0.9667 - val_recall: 0.9667 - val_tn: 59.0000 - val_tp: 29.0000\n",
      "Epoch 59/100\n",
      "\u001b[1m12/12\u001b[0m \u001b[32m━━━━━━━━━━━━━━━━━━━━\u001b[0m\u001b[37m\u001b[0m \u001b[1m1s\u001b[0m 112ms/step - accuracy: 0.9785 - auc: 0.9958 - fn: 1.8462 - fp: 1.8462 - loss: 0.1149 - precision: 0.9678 - recall: 0.9678 - tn: 101.5385 - tp: 49.8462 - val_accuracy: 0.9778 - val_auc: 0.9928 - val_fn: 1.0000 - val_fp: 1.0000 - val_loss: 0.1502 - val_precision: 0.9667 - val_recall: 0.9667 - val_tn: 59.0000 - val_tp: 29.0000\n",
      "Epoch 60/100\n",
      "\u001b[1m12/12\u001b[0m \u001b[32m━━━━━━━━━━━━━━━━━━━━\u001b[0m\u001b[37m\u001b[0m \u001b[1m1s\u001b[0m 109ms/step - accuracy: 0.9782 - auc: 0.9972 - fn: 2.2308 - fp: 2.2308 - loss: 0.0871 - precision: 0.9673 - recall: 0.9673 - tn: 101.1538 - tp: 49.4615 - val_accuracy: 0.9556 - val_auc: 0.9978 - val_fn: 2.0000 - val_fp: 2.0000 - val_loss: 0.0975 - val_precision: 0.9333 - val_recall: 0.9333 - val_tn: 58.0000 - val_tp: 28.0000\n",
      "Epoch 61/100\n",
      "\u001b[1m12/12\u001b[0m \u001b[32m━━━━━━━━━━━━━━━━━━━━\u001b[0m\u001b[37m\u001b[0m \u001b[1m1s\u001b[0m 108ms/step - accuracy: 0.9520 - auc: 0.9930 - fn: 3.0000 - fp: 3.0000 - loss: 0.1599 - precision: 0.9280 - recall: 0.9280 - tn: 99.4615 - tp: 48.2308 - val_accuracy: 0.9556 - val_auc: 0.9978 - val_fn: 2.0000 - val_fp: 2.0000 - val_loss: 0.0956 - val_precision: 0.9333 - val_recall: 0.9333 - val_tn: 58.0000 - val_tp: 28.0000\n",
      "Epoch 62/100\n",
      "\u001b[1m12/12\u001b[0m \u001b[32m━━━━━━━━━━━━━━━━━━━━\u001b[0m\u001b[37m\u001b[0m \u001b[1m1s\u001b[0m 113ms/step - accuracy: 0.9982 - auc: 0.9999 - fn: 0.2308 - fp: 0.2308 - loss: 0.0469 - precision: 0.9974 - recall: 0.9974 - tn: 105.9231 - tp: 52.8462 - val_accuracy: 0.9778 - val_auc: 0.9983 - val_fn: 1.0000 - val_fp: 1.0000 - val_loss: 0.0919 - val_precision: 0.9667 - val_recall: 0.9667 - val_tn: 59.0000 - val_tp: 29.0000\n",
      "Epoch 63/100\n",
      "\u001b[1m12/12\u001b[0m \u001b[32m━━━━━━━━━━━━━━━━━━━━\u001b[0m\u001b[37m\u001b[0m \u001b[1m1s\u001b[0m 109ms/step - accuracy: 1.0000 - auc: 1.0000 - fn: 0.0000e+00 - fp: 0.0000e+00 - loss: 0.0273 - precision: 1.0000 - recall: 1.0000 - tn: 100.6154 - tp: 50.3077 - val_accuracy: 0.9556 - val_auc: 0.9978 - val_fn: 2.0000 - val_fp: 2.0000 - val_loss: 0.1166 - val_precision: 0.9333 - val_recall: 0.9333 - val_tn: 58.0000 - val_tp: 28.0000\n",
      "Epoch 64/100\n",
      "\u001b[1m12/12\u001b[0m \u001b[32m━━━━━━━━━━━━━━━━━━━━\u001b[0m\u001b[37m\u001b[0m \u001b[1m1s\u001b[0m 107ms/step - accuracy: 1.0000 - auc: 1.0000 - fn: 0.0000e+00 - fp: 0.0000e+00 - loss: 0.0232 - precision: 1.0000 - recall: 1.0000 - tn: 101.5385 - tp: 50.7692 - val_accuracy: 0.9778 - val_auc: 0.9983 - val_fn: 1.0000 - val_fp: 1.0000 - val_loss: 0.1399 - val_precision: 0.9667 - val_recall: 0.9667 - val_tn: 59.0000 - val_tp: 29.0000\n",
      "Epoch 65/100\n",
      "\u001b[1m12/12\u001b[0m \u001b[32m━━━━━━━━━━━━━━━━━━━━\u001b[0m\u001b[37m\u001b[0m \u001b[1m1s\u001b[0m 102ms/step - accuracy: 1.0000 - auc: 1.0000 - fn: 0.0000e+00 - fp: 0.0000e+00 - loss: 0.0169 - precision: 1.0000 - recall: 1.0000 - tn: 108.0000 - tp: 54.0000 - val_accuracy: 0.9778 - val_auc: 0.9983 - val_fn: 1.0000 - val_fp: 1.0000 - val_loss: 0.1498 - val_precision: 0.9667 - val_recall: 0.9667 - val_tn: 59.0000 - val_tp: 29.0000\n",
      "Epoch 66/100\n",
      "\u001b[1m12/12\u001b[0m \u001b[32m━━━━━━━━━━━━━━━━━━━━\u001b[0m\u001b[37m\u001b[0m \u001b[1m1s\u001b[0m 105ms/step - accuracy: 0.9855 - auc: 0.9997 - fn: 1.2308 - fp: 1.2308 - loss: 0.0460 - precision: 0.9783 - recall: 0.9783 - tn: 103.0769 - tp: 50.9231 - val_accuracy: 0.9778 - val_auc: 0.9917 - val_fn: 1.0000 - val_fp: 1.0000 - val_loss: 0.1592 - val_precision: 0.9667 - val_recall: 0.9667 - val_tn: 59.0000 - val_tp: 29.0000\n",
      "Epoch 67/100\n",
      "\u001b[1m12/12\u001b[0m \u001b[32m━━━━━━━━━━━━━━━━━━━━\u001b[0m\u001b[37m\u001b[0m \u001b[1m1s\u001b[0m 106ms/step - accuracy: 0.9977 - auc: 0.9999 - fn: 0.3077 - fp: 0.3077 - loss: 0.0217 - precision: 0.9966 - recall: 0.9966 - tn: 108.6154 - tp: 54.1538 - val_accuracy: 0.9778 - val_auc: 0.9869 - val_fn: 1.0000 - val_fp: 1.0000 - val_loss: 0.1667 - val_precision: 0.9667 - val_recall: 0.9667 - val_tn: 59.0000 - val_tp: 29.0000\n",
      "Epoch 68/100\n",
      "\u001b[1m12/12\u001b[0m \u001b[32m━━━━━━━━━━━━━━━━━━━━\u001b[0m\u001b[37m\u001b[0m \u001b[1m1s\u001b[0m 106ms/step - accuracy: 0.9659 - auc: 0.9923 - fn: 3.1538 - fp: 3.1538 - loss: 0.1971 - precision: 0.9488 - recall: 0.9488 - tn: 103.0000 - tp: 49.9231 - val_accuracy: 0.9778 - val_auc: 0.9928 - val_fn: 1.0000 - val_fp: 1.0000 - val_loss: 0.1616 - val_precision: 0.9667 - val_recall: 0.9667 - val_tn: 59.0000 - val_tp: 29.0000\n",
      "Epoch 69/100\n",
      "\u001b[1m12/12\u001b[0m \u001b[32m━━━━━━━━━━━━━━━━━━━━\u001b[0m\u001b[37m\u001b[0m \u001b[1m1s\u001b[0m 108ms/step - accuracy: 0.9876 - auc: 0.9990 - fn: 1.0000 - fp: 1.0000 - loss: 0.0762 - precision: 0.9814 - recall: 0.9814 - tn: 103.3077 - tp: 51.1538 - val_accuracy: 0.9778 - val_auc: 0.9947 - val_fn: 1.0000 - val_fp: 1.0000 - val_loss: 0.1496 - val_precision: 0.9667 - val_recall: 0.9667 - val_tn: 59.0000 - val_tp: 29.0000\n",
      "Epoch 70/100\n",
      "\u001b[1m12/12\u001b[0m \u001b[32m━━━━━━━━━━━━━━━━━━━━\u001b[0m\u001b[37m\u001b[0m \u001b[1m1s\u001b[0m 104ms/step - accuracy: 0.9717 - auc: 0.9988 - fn: 2.0000 - fp: 2.0000 - loss: 0.0626 - precision: 0.9575 - recall: 0.9575 - tn: 96.7692 - tp: 47.3846 - val_accuracy: 0.9778 - val_auc: 0.9939 - val_fn: 1.0000 - val_fp: 1.0000 - val_loss: 0.1619 - val_precision: 0.9667 - val_recall: 0.9667 - val_tn: 59.0000 - val_tp: 29.0000\n",
      "Epoch 71/100\n",
      "\u001b[1m12/12\u001b[0m \u001b[32m━━━━━━━━━━━━━━━━━━━━\u001b[0m\u001b[37m\u001b[0m \u001b[1m1s\u001b[0m 103ms/step - accuracy: 0.9193 - auc: 0.9858 - fn: 3.7692 - fp: 3.7692 - loss: 0.1344 - precision: 0.8790 - recall: 0.8790 - tn: 95.0000 - tp: 45.6154 - val_accuracy: 0.9778 - val_auc: 0.9917 - val_fn: 1.0000 - val_fp: 1.0000 - val_loss: 0.1737 - val_precision: 0.9667 - val_recall: 0.9667 - val_tn: 59.0000 - val_tp: 29.0000\n",
      "Epoch 72/100\n",
      "\u001b[1m12/12\u001b[0m \u001b[32m━━━━━━━━━━━━━━━━━━━━\u001b[0m\u001b[37m\u001b[0m \u001b[1m1s\u001b[0m 105ms/step - accuracy: 0.9772 - auc: 0.9991 - fn: 2.0000 - fp: 2.0000 - loss: 0.0679 - precision: 0.9659 - recall: 0.9659 - tn: 106.9231 - tp: 52.4615 - val_accuracy: 0.9778 - val_auc: 0.9950 - val_fn: 1.0000 - val_fp: 1.0000 - val_loss: 0.1550 - val_precision: 0.9667 - val_recall: 0.9667 - val_tn: 59.0000 - val_tp: 29.0000\n",
      "Epoch 73/100\n",
      "\u001b[1m12/12\u001b[0m \u001b[32m━━━━━━━━━━━━━━━━━━━━\u001b[0m\u001b[37m\u001b[0m \u001b[1m1s\u001b[0m 104ms/step - accuracy: 1.0000 - auc: 1.0000 - fn: 0.0000e+00 - fp: 0.0000e+00 - loss: 0.0440 - precision: 1.0000 - recall: 1.0000 - tn: 98.7692 - tp: 49.3846 - val_accuracy: 0.9778 - val_auc: 0.9803 - val_fn: 1.0000 - val_fp: 1.0000 - val_loss: 0.1792 - val_precision: 0.9667 - val_recall: 0.9667 - val_tn: 59.0000 - val_tp: 29.0000\n",
      "Epoch 74/100\n",
      "\u001b[1m12/12\u001b[0m \u001b[32m━━━━━━━━━━━━━━━━━━━━\u001b[0m\u001b[37m\u001b[0m \u001b[1m1s\u001b[0m 107ms/step - accuracy: 0.9968 - auc: 1.0000 - fn: 0.3846 - fp: 0.3846 - loss: 0.0238 - precision: 0.9952 - recall: 0.9952 - tn: 106.6923 - tp: 53.1538 - val_accuracy: 0.9778 - val_auc: 0.9828 - val_fn: 1.0000 - val_fp: 1.0000 - val_loss: 0.1731 - val_precision: 0.9667 - val_recall: 0.9667 - val_tn: 59.0000 - val_tp: 29.0000\n",
      "Epoch 75/100\n",
      "\u001b[1m12/12\u001b[0m \u001b[32m━━━━━━━━━━━━━━━━━━━━\u001b[0m\u001b[37m\u001b[0m \u001b[1m1s\u001b[0m 105ms/step - accuracy: 0.9969 - auc: 1.0000 - fn: 0.3846 - fp: 0.3846 - loss: 0.0181 - precision: 0.9954 - recall: 0.9954 - tn: 108.5385 - tp: 54.0769 - val_accuracy: 0.9778 - val_auc: 0.9828 - val_fn: 1.0000 - val_fp: 1.0000 - val_loss: 0.1724 - val_precision: 0.9667 - val_recall: 0.9667 - val_tn: 59.0000 - val_tp: 29.0000\n",
      "Epoch 76/100\n",
      "\u001b[1m12/12\u001b[0m \u001b[32m━━━━━━━━━━━━━━━━━━━━\u001b[0m\u001b[37m\u001b[0m \u001b[1m1s\u001b[0m 105ms/step - accuracy: 1.0000 - auc: 1.0000 - fn: 0.0000e+00 - fp: 0.0000e+00 - loss: 0.0151 - precision: 1.0000 - recall: 1.0000 - tn: 103.3846 - tp: 51.6923 - val_accuracy: 0.9778 - val_auc: 0.9833 - val_fn: 1.0000 - val_fp: 1.0000 - val_loss: 0.1761 - val_precision: 0.9667 - val_recall: 0.9667 - val_tn: 59.0000 - val_tp: 29.0000\n",
      "Epoch 77/100\n",
      "\u001b[1m12/12\u001b[0m \u001b[32m━━━━━━━━━━━━━━━━━━━━\u001b[0m\u001b[37m\u001b[0m \u001b[1m1s\u001b[0m 105ms/step - accuracy: 1.0000 - auc: 1.0000 - fn: 0.0000e+00 - fp: 0.0000e+00 - loss: 0.0140 - precision: 1.0000 - recall: 1.0000 - tn: 101.5385 - tp: 50.7692 - val_accuracy: 0.9778 - val_auc: 0.9833 - val_fn: 1.0000 - val_fp: 1.0000 - val_loss: 0.1790 - val_precision: 0.9667 - val_recall: 0.9667 - val_tn: 59.0000 - val_tp: 29.0000\n",
      "Epoch 77: early stopping\n",
      "Restoring model weights from the end of the best epoch: 57.\n"
     ]
    }
   ],
   "source": [
    "modelfitprogress = model.fit(\n",
    "                              train_iter,\n",
    "                              validation_data = valid_iter,\n",
    "                              epochs = epochs,\n",
    "                              callbacks = [early_stopper]\n",
    "                              #steps_per_epoch = df_train.shape[0]//train_iter.batch_size,\n",
    "                              #validation_steps = df_val.shape[0]//valid_iter.batch_size\n",
    "                              )"
   ]
  },
  {
   "cell_type": "markdown",
   "metadata": {
    "id": "9R2jytfijpEp"
   },
   "source": [
    "<a id=\"section6\"></a>\n",
    "# <font color=\"#004D7F\" size=6> 6. Results</font>"
   ]
  },
  {
   "cell_type": "markdown",
   "metadata": {
    "id": "a-1vHY9rjpEq"
   },
   "source": [
    "Finally, we can evaluate our CNN with the images created by TINTOlib in any of the ways represented below."
   ]
  },
  {
   "cell_type": "markdown",
   "metadata": {
    "id": "9R2jytfijpEp"
   },
   "source": [
    "---\n",
    "<a id=\"section61\"></a>\n",
    "# <font color=\"#004D7F\" size=5> 6.1. Train/Validation representation</font>"
   ]
  },
  {
   "cell_type": "code",
   "execution_count": 121,
   "metadata": {
    "colab": {
     "base_uri": "https://localhost:8080/",
     "height": 430
    },
    "id": "-Ls6_Vu7pjGL",
    "outputId": "35f21788-cd17-4377-9d88-79118f992164",
    "tags": []
   },
   "outputs": [
    {
     "data": {
      "image/png": "[encoded data removed]",
      "text/plain": [
       "<Figure size 640x480 with 1 Axes>"
      ]
     },
     "metadata": {},
     "output_type": "display_data"
    }
   ],
   "source": [
    "plt.plot(modelfitprogress.history['loss'], color = 'red', label = 'loss')\n",
    "plt.plot(modelfitprogress.history['val_loss'], color = 'green', label = 'val loss')\n",
    "plt.legend(loc = 'upper right')\n",
    "#plt.ylim(0,1)\n",
    "plt.show()"
   ]
  },
  {
   "cell_type": "code",
   "execution_count": 122,
   "metadata": {
    "colab": {
     "base_uri": "https://localhost:8080/",
     "height": 430
    },
    "id": "TWtsezuVpjGM",
    "outputId": "a06dccf3-da2d-4060-f67f-2046b547707b",
    "tags": []
   },
   "outputs": [
    {
     "data": {
      "image/png": "[encoded data removed]",
      "text/plain": [
       "<Figure size 640x480 with 1 Axes>"
      ]
     },
     "metadata": {},
     "output_type": "display_data"
    }
   ],
   "source": [
    "plt.plot(modelfitprogress.history['accuracy'], color = 'red', label = 'accuracy')\n",
    "plt.plot(modelfitprogress.history['val_accuracy'], color = 'green', label = 'val accuracy')\n",
    "plt.legend(loc = 'upper right')\n",
    "\n",
    "plt.show()"
   ]
  },
  {
   "cell_type": "markdown",
   "metadata": {
    "id": "9R2jytfijpEp"
   },
   "source": [
    "---\n",
    "<a id=\"section62\"></a>\n",
    "# <font color=\"#004D7F\" size=5> 6.2. Validation/Test evaluation</font>"
   ]
  },
  {
   "cell_type": "code",
   "execution_count": 123,
   "metadata": {
    "colab": {
     "base_uri": "https://localhost:8080/"
    },
    "execution": {
     "iopub.execute_input": "2022-11-14T19:27:24.254144Z",
     "iopub.status.busy": "2022-11-14T19:27:24.253678Z",
     "iopub.status.idle": "2022-11-14T19:28:06.367196Z",
     "shell.execute_reply": "2022-11-14T19:28:06.366140Z",
     "shell.execute_reply.started": "2022-11-14T19:27:24.254102Z"
    },
    "id": "MtDLUW_QpjGO",
    "outputId": "1e8c02c1-0256-49cf-bd58-12e60bea38c6"
   },
   "outputs": [
    {
     "name": "stdout",
     "output_type": "stream",
     "text": [
      "\u001b[1m3/3\u001b[0m \u001b[32m━━━━━━━━━━━━━━━━━━━━\u001b[0m\u001b[37m\u001b[0m \u001b[1m0s\u001b[0m 17ms/step - accuracy: 1.0000 - auc: 1.0000 - fn: 0.0000e+00 - fp: 0.0000e+00 - loss: 0.0605 - precision: 1.0000 - recall: 1.0000 - tn: 36.0000 - tp: 18.0000\n",
      "Loss in validation: 0.0510014183819294 \n",
      "Accuracy in validation: 1.0\n"
     ]
    }
   ],
   "source": [
    "score = model.evaluate(valid_iter, steps = df_val.shape[0]//valid_iter.batch_size)\n",
    "print(\"Loss in validation: {} \\nAccuracy in validation: {}\".format(score[0], score[5]))"
   ]
  },
  {
   "cell_type": "code",
   "execution_count": 124,
   "metadata": {
    "colab": {
     "base_uri": "https://localhost:8080/"
    },
    "execution": {
     "iopub.execute_input": "2022-11-14T19:28:06.369726Z",
     "iopub.status.busy": "2022-11-14T19:28:06.369356Z",
     "iopub.status.idle": "2022-11-14T19:28:47.388501Z",
     "shell.execute_reply": "2022-11-14T19:28:47.387465Z",
     "shell.execute_reply.started": "2022-11-14T19:28:06.369687Z"
    },
    "id": "27tFyGE8pjGO",
    "outputId": "51f9d766-3e48-4f24-ea4f-a4e48e380444"
   },
   "outputs": [
    {
     "name": "stdout",
     "output_type": "stream",
     "text": [
      "\u001b[1m3/3\u001b[0m \u001b[32m━━━━━━━━━━━━━━━━━━━━\u001b[0m\u001b[37m\u001b[0m \u001b[1m0s\u001b[0m 17ms/step - accuracy: 0.9410 - auc: 0.9901 - fn: 1.5000 - fp: 1.5000 - loss: 0.1933 - precision: 0.9115 - recall: 0.9115 - tn: 34.5000 - tp: 16.5000\n",
      "Loss in test: 0.14653697609901428 \n",
      "Accuracy in test: 0.944444477558136\n"
     ]
    }
   ],
   "source": [
    "score_test = model.evaluate(test_iter, steps = df_test.shape[0]//test_iter.batch_size)\n",
    "print(\"Loss in test: {} \\nAccuracy in test: {}\".format(score_test[0], score_test[5]))"
   ]
  },
  {
   "cell_type": "code",
   "execution_count": 125,
   "metadata": {},
   "outputs": [
    {
     "name": "stderr",
     "output_type": "stream",
     "text": [
      "/var/folders/9h/d3b8zc6j5019cyvmb_h929xm0000gn/T/ipykernel_5071/272889776.py:2: DeprecationWarning: `np.math` is a deprecated alias for the standard library `math` module (Deprecated Numpy 1.25). Replace usages of `np.math` with `math`\n",
      "  prediction = model.predict(test_iter, steps = np.math.ceil(test_iter.samples/test_iter.batch_size))\n"
     ]
    },
    {
     "name": "stdout",
     "output_type": "stream",
     "text": [
      "\u001b[1m4/4\u001b[0m \u001b[32m━━━━━━━━━━━━━━━━━━━━\u001b[0m\u001b[37m\u001b[0m \u001b[1m1s\u001b[0m 86ms/step\n",
      "[[0.9929628  0.00430612 0.00273111]\n",
      " [0.00295781 0.00868673 0.9883555 ]\n",
      " [0.992963   0.00430458 0.00273246]\n",
      " [0.00470377 0.97531587 0.01998032]\n",
      " [0.99296266 0.00430438 0.00273295]\n",
      " [0.002822   0.8966814  0.10049653]\n",
      " [0.00615702 0.9822029  0.01164004]\n",
      " [0.00602736 0.12322897 0.8707436 ]\n",
      " [0.00255283 0.0322196  0.9652276 ]\n",
      " [0.00258509 0.00831509 0.9890998 ]\n",
      " [0.99296206 0.00430734 0.0027306 ]\n",
      " [0.99296266 0.00430436 0.00273305]\n",
      " [0.00462248 0.9761035  0.01927407]\n",
      " [0.00631935 0.9739435  0.01973725]\n",
      " [0.00316976 0.00969371 0.9871366 ]\n",
      " [0.00710827 0.97780836 0.01508333]\n",
      " [0.00468682 0.97668517 0.01862811]\n",
      " [0.00339762 0.00946129 0.987141  ]\n",
      " [0.00628098 0.5289305  0.4647885 ]\n",
      " [0.9929386  0.00432622 0.00273529]\n",
      " [0.9929622  0.0043061  0.0027317 ]\n",
      " [0.99296206 0.00430414 0.00273371]\n",
      " [0.99296266 0.00430537 0.00273194]\n",
      " [0.00643927 0.97281295 0.02074782]\n",
      " [0.0026178  0.00850729 0.9888749 ]\n",
      " [0.00393487 0.9585998  0.0374653 ]\n",
      " [0.00261709 0.02657723 0.9708057 ]\n",
      " [0.00450173 0.97552454 0.01997368]\n",
      " [0.9929629  0.0043045  0.00273264]\n",
      " [0.00582167 0.9816589  0.01251944]]\n"
     ]
    }
   ],
   "source": [
    "#test_images = next(test_iter)[0]\n",
    "prediction = model.predict(test_iter, steps = np.math.ceil(test_iter.samples/test_iter.batch_size))\n",
    "#prediction = model.predict(test_images)\n",
    "print(prediction)"
   ]
  },
  {
   "cell_type": "markdown",
   "metadata": {
    "id": "9R2jytfijpEp"
   },
   "source": [
    "<a id=\"section62\"></a>\n",
    "# <font color=\"#004D7F\" size=5> 6.3. Sklearn metrics evaluation</font>"
   ]
  },
  {
   "cell_type": "code",
   "execution_count": 126,
   "metadata": {},
   "outputs": [
    {
     "data": {
      "text/plain": [
       "[0.14653697609901428,\n",
       " 22.0,\n",
       " 2.0,\n",
       " 46.0,\n",
       " 2.0,\n",
       " 0.944444477558136,\n",
       " 0.9166666865348816,\n",
       " 0.9166666865348816,\n",
       " 0.9947916865348816]"
      ]
     },
     "execution_count": 126,
     "metadata": {},
     "output_type": "execute_result"
    }
   ],
   "source": [
    "score_test"
   ]
  },
  {
   "cell_type": "code",
   "execution_count": 127,
   "metadata": {},
   "outputs": [
    {
     "name": "stdout",
     "output_type": "stream",
     "text": [
      "Test accuracy: 0.944444477558136\n",
      "Test AUC: 0.9947916865348816\n",
      "Test precision: 0.9166666865348816\n",
      "Test recall: 0.9166666865348816\n"
     ]
    }
   ],
   "source": [
    "from sklearn.metrics import roc_auc_score,accuracy_score,precision_score, recall_score\n",
    "\n",
    "test_accuracy = score_test[5]\n",
    "test_auc = score_test[8]\n",
    "test_precision = score_test[6]\n",
    "test_recall = score_test[7]\n",
    "\n",
    "print(\"Test accuracy:\",test_accuracy)\n",
    "print(\"Test AUC:\",test_auc)\n",
    "print(\"Test precision:\",test_precision)\n",
    "print(\"Test recall:\",test_recall)"
   ]
  },
  {
   "cell_type": "code",
   "execution_count": 128,
   "metadata": {},
   "outputs": [
    {
     "data": {
      "text/plain": [
       "[0.8259260654449463,\n",
       " 0.9666666388511658,\n",
       " 0.9333333969116211,\n",
       " 0.974074125289917,\n",
       " 0.9703702926635742,\n",
       " 0.9851852655410767,\n",
       " 0.9703704118728638,\n",
       " 0.9407408237457275,\n",
       " 0.9703702926635742,\n",
       " 0.9851852655410767,\n",
       " 0.9777778387069702,\n",
       " 0.9851852655410767,\n",
       " 0.9777777791023254,\n",
       " 0.9481481909751892,\n",
       " 0.9518518447875977,\n",
       " 0.9851851463317871,\n",
       " 0.9629630446434021,\n",
       " 0.9777777791023254,\n",
       " 0.9925925135612488,\n",
       " 0.9925925135612488,\n",
       " 0.9925926327705383,\n",
       " 1.0,\n",
       " 1.0,\n",
       " 0.9777777791023254,\n",
       " 0.9851852655410767,\n",
       " 0.9851851463317871,\n",
       " 0.9629629254341125,\n",
       " 0.9703704118728638,\n",
       " 0.9629629254341125,\n",
       " 0.9925925135612488,\n",
       " 0.9851852655410767,\n",
       " 0.9851851463317871,\n",
       " 0.9851852655410767,\n",
       " 0.9555555582046509,\n",
       " 0.9703704118728638,\n",
       " 0.9925925135612488,\n",
       " 0.9925926327705383,\n",
       " 0.9925926327705383,\n",
       " 1.0,\n",
       " 0.9925925135612488,\n",
       " 0.9925925135612488,\n",
       " 0.9925925135612488,\n",
       " 0.9851852655410767,\n",
       " 0.9925926327705383,\n",
       " 0.9851851463317871,\n",
       " 0.9703704118728638,\n",
       " 0.9777777791023254,\n",
       " 0.9851852655410767,\n",
       " 0.9851851463317871,\n",
       " 0.9777778387069702,\n",
       " 0.9925926327705383,\n",
       " 0.9925926327705383,\n",
       " 1.0,\n",
       " 0.9777777791023254,\n",
       " 1.0,\n",
       " 0.9777778387069702,\n",
       " 0.9777778387069702,\n",
       " 0.9703704118728638,\n",
       " 0.9777778387069702,\n",
       " 0.9629630446434021,\n",
       " 0.9703704118728638,\n",
       " 0.9925926327705383,\n",
       " 1.0,\n",
       " 1.0,\n",
       " 1.0,\n",
       " 0.9851852655410767,\n",
       " 0.9851851463317871,\n",
       " 0.9629629254341125,\n",
       " 0.9851852655410767,\n",
       " 0.9777777791023254,\n",
       " 0.9629629254341125,\n",
       " 0.9703704118728638,\n",
       " 1.0,\n",
       " 0.9925926327705383,\n",
       " 0.9925926327705383,\n",
       " 1.0,\n",
       " 1.0]"
      ]
     },
     "execution_count": 128,
     "metadata": {},
     "output_type": "execute_result"
    }
   ],
   "source": [
    "modelfitprogress.history[\"accuracy\"]"
   ]
  },
  {
   "cell_type": "markdown",
   "metadata": {
    "id": "0ciBS76mpjGU"
   },
   "source": [
    "<div style=\"text-align: right\"> <font size=5> <a href=\"#indice\"><i class=\"fa fa-arrow-circle-up\" aria-hidden=\"true\" style=\"color:#004D7F\"></i></a></font></div>\n",
    "\n",
    "---\n",
    "\n",
    "<div style=\"text-align: right\"> <font size=6><i class=\"fa fa-coffee\" aria-hidden=\"true\" style=\"color:#004D7F\"></i> </font></div>"
   ]
  }
 ],
 "metadata": {
  "accelerator": "GPU",
  "colab": {
   "gpuType": "T4",
   "provenance": []
  },
  "kernelspec": {
   "display_name": "Python 3 (ipykernel)",
   "language": "python",
   "name": "python3"
  },
  "language_info": {
   "codemirror_mode": {
    "name": "ipython",
    "version": 3
   },
   "file_extension": ".py",
   "mimetype": "text/x-python",
   "name": "python",
   "nbconvert_exporter": "python",
   "pygments_lexer": "ipython3",
   "version": "3.9.6"
  }
 },
 "nbformat": 4,
 "nbformat_minor": 1
}
