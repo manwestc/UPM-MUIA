{
  "cells": [
    {
      "cell_type": "markdown",
      "id": "62e406f2",
      "metadata": {},
      "source": [
        "<h1><font color=\"#113D68\" size=6>Improving Deep Learning by Exploiting Synthetic Images</font></h1>\n",
        "\n",
        "<h1><font color=\"#113D68\" size=5>Part 2. Vision Transformers (ViT)</font></h1>\n",
        "\n",
        "<h1><font color=\"#113D68\" size=4>TensorFlow</font></h1>\n",
        "\n",
        "<br><br>\n",
        "<div style=\"text-align: right\">\n",
        "<font color=\"#113D68\" size=3>Manuel Castillo Cara</font><br>\n",
        "\n",
        "</div>"
      ]
    },
    {
      "cell_type": "markdown",
      "id": "3ae31687",
      "metadata": {},
      "source": [
        "---\n",
        "\n",
        "<a id=\"indice\"></a>\n",
        "<h2><font color=\"#004D7F\" size=5>Licencia</font></h2>\n",
        "\n",
        "<p><small><small>Improving Deep Learning by Exploiting Synthetic Images Copyright 2024 Manuel Castillo Cara.</p>\n",
        "<p><small><small> Licensed under the Apache License, Version 2.0 (the \"License\"); you may not use this file except in compliance with the License. You may obtain a copy of the License at </p>\n",
        "<p><small><small> <a href=\"https://www.apache.org/licenses/LICENSE-2.0\">https://www.apache.org/licenses/LICENSE-2.0</a> </p>\n",
        "<p><small><small> Unless required by applicable law or agreed to in writing, software distributed under the License is distributed on an \"AS IS\" BASIS, WITHOUT WARRANTIES OR CONDITIONS OF ANY KIND, either express or implied. See the License for the specific language governing permissions and limitations under the License. </p>"
      ]
    },
    {
      "cell_type": "markdown",
      "id": "9714fc69",
      "metadata": {},
      "source": [
        "<div class=\"alert alert-block alert-info\">\n",
        "    \n",
        "<i class=\"fa fa-info-circle\" aria-hidden=\"true\"></i>\n",
        "El código de este tutorial ha sido obtenido y modificado de François Chollet de su [GitHub](https://github.com/keras-team/keras-io/blob/master/examples/vision/image_classification_with_vision_transformer.py)"
      ]
    },
    {
      "cell_type": "markdown",
      "id": "155a8924",
      "metadata": {},
      "source": [
        "---\n",
        "\n",
        "<a id=\"indice\"></a>\n",
        "<h2><font color=\"#004D7F\" size=6>Índice</font></h2>"
      ]
    },
    {
      "cell_type": "markdown",
      "id": "5c6d5803",
      "metadata": {},
      "source": [
        "* [1. Definición, fortalezas y debilidades](#section1)\n",
        "    * [1.1. Características de los Vision Transformer (ViT)](#section12)\n",
        "    * [1.2. Fortalezas de los Vision Transformer (ViT)](#section12)\n",
        "    * [1.3. Debilidades de los Vision Transformer (ViT)](#section13)\n",
        "* [2. Dataset](#section2)\n",
        "* [3. El Modelo ViT](#section3)\n",
        "    * [3.1. Configurar los hiperparámetros](#section31)\n",
        "    * [3.2. Data augmentation](#section32)\n",
        "    * [3.3. Módulo MultiLayer Perceptrón (MLP)](#section33)\n",
        "    * [3.4. Módulo Patch embedding](#section34)\n",
        "    * [3.5. Módulo patch encoding](#section35)\n",
        "    * [3.6. Modelo ViT](#section36)\n",
        "* [4. Entrenamiento y evaluación del modelo](#section4)\n",
        "    * [4.1. Entrenamiento](#section41)\n",
        "    * [4.2. Resultados](#section42)\n",
        "* [5. Conclusiones](#section5)\n",
        "---"
      ]
    },
    {
      "cell_type": "markdown",
      "id": "92ea1819",
      "metadata": {},
      "source": [
        "<a id=\"section1\"></a>\n",
        "# <font color=\"#004D7F\" size=6> 1. Definición, fortalezas y debilidades</font>"
      ]
    },
    {
      "cell_type": "markdown",
      "id": "7dd3c20b",
      "metadata": {},
      "source": [
        "Los Vision Transformer (ViT) son una adaptación del modelo Transformer, originalmente diseñado para tareas de procesamiento de lenguaje natural, aplicado a tareas de visión por computadora. En lugar de procesar secuencias de palabras, los ViT dividen una imagen en **patchs** y procesan estos patchs como **secuencias de tokens**. Al hacerlo, pueden capturar dependencias globales entre los patchs de la imagen y han demostrado ser eficaces en tareas como la clasificación de imágenes, la detección de objetos y más.\n",
        "\n",
        "<figure><center>\n",
        "  <img src=\"../img/vit.png\" width=\"450\" height=\"250\" alt=\"Gráfica\">\n",
        "  <figcaption><blockquote>Arquitectura de ViT y del Trasformer Encoder. Extraída de <a href=\"https://arxiv.org/abs/2010.11929\">artículo de ViT</a></blockquote></figcaption>\n",
        "</center></figure>"
      ]
    },
    {
      "cell_type": "markdown",
      "id": "98fbc049",
      "metadata": {},
      "source": [
        "<div class=\"alert alert-block alert-info\">\n",
        "    \n",
        "<i class=\"fa fa-info-circle\" aria-hidden=\"true\"></i>\n",
        "Más información se recomienda la lectura del artículo [ViT](https://arxiv.org/abs/2010.11929)"
      ]
    },
    {
      "cell_type": "markdown",
      "id": "025ba675",
      "metadata": {},
      "source": [
        "<a id=\"section11\"></a>\n",
        "# <font color=\"#004D7F\" size=5> 1.1. Características de los Vision Transformer (ViT)</font>"
      ]
    },
    {
      "cell_type": "markdown",
      "id": "attractive-ministry",
      "metadata": {
        "id": "attractive-ministry"
      },
      "source": [
        "1. **División de imágenes en patchs**: ViT divide una imagen en múltiples patchs y los procesa como secuencias de tokens, lo que permite capturar dependencias globales entre los patchs.\n",
        "2. **Uso de Transformers**: ViT utiliza el modelo Transformers, que se basa en la atención para procesar secuencias de entrada, en lugar de las redes neuronales convolucionales (CNN) tradicionales utilizadas en la visión por computadora.\n",
        "3. **Preentrenamiento en grandes conjuntos de datos**: ViT se preentrena en grandes conjuntos de datos de imágenes, como ImageNet, lo que mejora su rendimiento en tareas posteriores de clasificación de imágenes."
      ]
    },
    {
      "cell_type": "markdown",
      "id": "a739dda5",
      "metadata": {},
      "source": [
        "<a id=\"section12\"></a>\n",
        "# <font color=\"#004D7F\" size=5> 1.2. Fortalezas de los Vision Transformer (ViT)</font>"
      ]
    },
    {
      "cell_type": "markdown",
      "id": "47252b8a",
      "metadata": {},
      "source": [
        "1. **Captura de dependencias globales**: Al dividir las imágenes en patchs y procesarlos como secuencias de tokens, ViT puede capturar dependencias globales entre los patchs de la imagen, lo que resulta en una mejor comprensión del contexto y la semántica de la imagen.\n",
        "2. **Mejora del rendimiento en tareas de clasificación de imágenes**: ViT ha demostrado ser eficaz en tareas de clasificación de imágenes, superando a las redes neuronales convolucionales (CNN) tradicionales en algunos casos.\n",
        "3. **Escalabilidad**: ViT puede escalarse fácilmente a conjuntos de datos más grandes y a tareas más complejas, lo que lo hace adecuado para su uso en aplicaciones de visión por computadora a gran escala."
      ]
    },
    {
      "cell_type": "markdown",
      "id": "bfee482f",
      "metadata": {},
      "source": [
        "<a id=\"section13\"></a>\n",
        "# <font color=\"#004D7F\" size=5> 1.3. Debilidades de los Vision Transformer (ViT)</font>"
      ]
    },
    {
      "cell_type": "markdown",
      "id": "8778b04b",
      "metadata": {},
      "source": [
        "1. **Requisitos de recursos computacionales**: ViT requiere una gran cantidad de recursos computacionales para el preentrenamiento y la inferencia, lo que puede ser un desafío para su implementación en dispositivos con recursos limitados.\n",
        "2. **Necesidad de grandes conjuntos de datos**: ViT requiere grandes conjuntos de datos de imágenes para el preentrenamiento, lo que puede ser un desafío para su uso en aplicaciones donde los datos de entrenamiento son escasos.\n",
        "3. **Falta de interpretabilidad**: A diferencia de las redes neuronales convolucionales (CNN), ViT no proporciona una representación espacial jerárquica de la imagen, lo que dificulta la interpretación de los resultados y la extracción de características locales."
      ]
    },
    {
      "cell_type": "markdown",
      "id": "4ff3565e",
      "metadata": {},
      "source": [
        "<a id=\"section2\"></a>\n",
        "# <font color=\"#004D7F\" size=6> 2. Dataset</font>"
      ]
    },
    {
      "cell_type": "markdown",
      "id": "regulation-soviet",
      "metadata": {
        "id": "regulation-soviet"
      },
      "source": [
        "This example implements the [Vision Transformer (ViT)](https://arxiv.org/abs/2010.11929)\n",
        "model by Alexey Dosovitskiy et al. for image classification,\n",
        "and demonstrates it on the CIFAR-100 dataset.\n",
        "The ViT model applies the Transformer architecture with self-attention to sequences of\n",
        "image patches, without using convolution layers."
      ]
    },
    {
      "cell_type": "markdown",
      "id": "1b955e3e",
      "metadata": {},
      "source": [
        "Se necesita Keras v3.0 para poder utilizar `ops` de Keras"
      ]
    },
    {
      "cell_type": "code",
      "execution_count": 3,
      "id": "7219d203",
      "metadata": {},
      "outputs": [
        {
          "name": "stdout",
          "output_type": "stream",
          "text": [
            "Defaulting to user installation because normal site-packages is not writeable\n",
            "Collecting keras-nightly\n",
            "  Downloading keras_nightly-3.3.3.dev2024050803-py3-none-any.whl.metadata (5.8 kB)\n",
            "Requirement already satisfied: absl-py in /Users/manwest/Library/Python/3.9/lib/python/site-packages (from keras-nightly) (2.1.0)\n",
            "Requirement already satisfied: numpy in /Users/manwest/Library/Python/3.9/lib/python/site-packages (from keras-nightly) (1.26.3)\n",
            "Requirement already satisfied: rich in /Users/manwest/Library/Python/3.9/lib/python/site-packages (from keras-nightly) (13.7.1)\n",
            "Requirement already satisfied: namex in /Users/manwest/Library/Python/3.9/lib/python/site-packages (from keras-nightly) (0.0.8)\n",
            "Requirement already satisfied: h5py in /Users/manwest/Library/Python/3.9/lib/python/site-packages (from keras-nightly) (3.10.0)\n",
            "Requirement already satisfied: optree in /Users/manwest/Library/Python/3.9/lib/python/site-packages (from keras-nightly) (0.11.0)\n",
            "Requirement already satisfied: ml-dtypes in /Users/manwest/Library/Python/3.9/lib/python/site-packages (from keras-nightly) (0.2.0)\n",
            "Requirement already satisfied: packaging in /Users/manwest/Library/Python/3.9/lib/python/site-packages (from keras-nightly) (23.2)\n",
            "Requirement already satisfied: typing-extensions>=4.0.0 in /Users/manwest/Library/Python/3.9/lib/python/site-packages (from optree->keras-nightly) (4.9.0)\n",
            "Requirement already satisfied: markdown-it-py>=2.2.0 in /Users/manwest/Library/Python/3.9/lib/python/site-packages (from rich->keras-nightly) (3.0.0)\n",
            "Requirement already satisfied: pygments<3.0.0,>=2.13.0 in /Users/manwest/Library/Python/3.9/lib/python/site-packages (from rich->keras-nightly) (2.17.2)\n",
            "Requirement already satisfied: mdurl~=0.1 in /Users/manwest/Library/Python/3.9/lib/python/site-packages (from markdown-it-py>=2.2.0->rich->keras-nightly) (0.1.2)\n",
            "Downloading keras_nightly-3.3.3.dev2024050803-py3-none-any.whl (1.1 MB)\n",
            "\u001b[2K   \u001b[90m━━━━━━━━━━━━━━━━━━━━━━━━━━━━━━━━━━━━━━━━\u001b[0m \u001b[32m1.1/1.1 MB\u001b[0m \u001b[31m11.0 MB/s\u001b[0m eta \u001b[36m0:00:00\u001b[0ma \u001b[36m0:00:01\u001b[0m\n",
            "\u001b[?25hInstalling collected packages: keras-nightly\n",
            "Successfully installed keras-nightly-3.3.3.dev2024050803\n",
            "Note: you may need to restart the kernel to use updated packages.\n"
          ]
        }
      ],
      "source": [
        "pip install keras-nightly"
      ]
    },
    {
      "cell_type": "code",
      "execution_count": 1,
      "id": "veterinary-bahrain",
      "metadata": {
        "ExecuteTime": {
          "end_time": "2021-03-24T11:20:39.433129Z",
          "start_time": "2021-03-24T11:20:37.814129Z"
        },
        "id": "veterinary-bahrain"
      },
      "outputs": [
        {
          "name": "stderr",
          "output_type": "stream",
          "text": [
            "/Users/manwest/Library/Python/3.9/lib/python/site-packages/urllib3/__init__.py:35: NotOpenSSLWarning: urllib3 v2 only supports OpenSSL 1.1.1+, currently the 'ssl' module is compiled with 'LibreSSL 2.8.3'. See: https://github.com/urllib3/urllib3/issues/3020\n",
            "  warnings.warn(\n"
          ]
        }
      ],
      "source": [
        "import os\n",
        "import random\n",
        "import torch\n",
        "import tensorflow as tf\n",
        "import keras\n",
        "from keras import layers\n",
        "from keras import ops\n",
        "import numpy as np\n",
        "import matplotlib.pyplot as plt\n",
        "os.environ[\"KERAS_BACKEND\"] = \"jax\"  # @param [\"tensorflow\", \"jax\", \"torch\"]\n",
        "\n",
        "# SET RANDOM SEED FOR REPRODUCIBILITY\n",
        "SEED = 420\n",
        "torch.manual_seed(SEED)\n",
        "torch.cuda.manual_seed(SEED)\n",
        "torch.cuda.manual_seed_all(SEED)\n",
        "#torch.backends.cudnn.deterministic = True\n",
        "#torch.backends.cudnn.benchmark = False\n",
        "os.environ['PYTHONHASHSEED']=str(SEED)\n",
        "random.seed(SEED)\n",
        "np.random.seed(SEED)\n",
        "tf.random.set_seed(SEED)"
      ]
    },
    {
      "cell_type": "code",
      "execution_count": 2,
      "id": "facial-learning",
      "metadata": {
        "ExecuteTime": {
          "end_time": "2021-03-24T11:20:39.449131Z",
          "start_time": "2021-03-24T11:20:39.434130Z"
        },
        "code_folding": [],
        "id": "facial-learning"
      },
      "outputs": [
        {
          "name": "stdout",
          "output_type": "stream",
          "text": [
            "x_train shape: (50000, 32, 32, 3) - y_train shape: (50000, 1)\n",
            "x_test shape: (10000, 32, 32, 3) - y_test shape: (10000, 1)\n"
          ]
        }
      ],
      "source": [
        "num_classes = 100\n",
        "input_shape = (32, 32, 3)\n",
        "\n",
        "(x_train, y_train), (x_test, y_test) = keras.datasets.cifar100.load_data()\n",
        "\n",
        "print(f\"x_train shape: {x_train.shape} - y_train shape: {y_train.shape}\")\n",
        "print(f\"x_test shape: {x_test.shape} - y_test shape: {y_test.shape}\")\n"
      ]
    },
    {
      "cell_type": "markdown",
      "id": "6ce25e12",
      "metadata": {},
      "source": [
        "<a id=\"section3\"></a>\n",
        "# <font color=\"#004D7F\" size=6> 3. El Modelo ViT</font>"
      ]
    },
    {
      "cell_type": "markdown",
      "id": "8b2b8d93",
      "metadata": {},
      "source": [
        "<figure><center>\n",
        "  <img src=\"../img/procedimiento.png\" width=\"450\" height=\"850\" alt=\"Gráfica\">\n",
        "  <figcaption><blockquote>Flujo de análisis de la imagen in ViT. Extraída de <a href=\"https://dkamatblog.home.blog/2021/08/05/vision-transformers-vit/\">Divya's blog</a></blockquote></figcaption>\n",
        "</center></figure>"
      ]
    },
    {
      "cell_type": "markdown",
      "id": "b6eca53a",
      "metadata": {},
      "source": [
        "<a id=\"section31\"></a>\n",
        "# <font color=\"#004D7F\" size=5> 3.1. Configurar los hiperparámetros</font>"
      ]
    },
    {
      "cell_type": "markdown",
      "id": "c66fa822",
      "metadata": {},
      "source": [
        "Este código define los hiperparámetros para el modelo ViT implementado en TensorFlow y Keras. Los hiperparámetros son los siguientes:\n",
        "\n",
        "* `learning_rate`: tasa de aprendizaje para el optimizador.\n",
        "* `weight_decay`: valor de decaimiento de peso para regularización L2.\n",
        "* `batch_size`: tamaño del lote de entrenamiento.\n",
        "* `num_epochs`: número de épocas de entrenamiento.\n",
        "* `image_size`: tamaño de las imágenes de entrada.\n",
        "* `patch_size`: tamaño de los parches extraídos de las imágenes.\n",
        "* `num_patches`: número total de parches extraídos de cada imagen.\n",
        "* `projection_dim`: dimensión de la proyección lineal para los parches.\n",
        "* `num_heads`: número de cabezas de atención en el transformador.\n",
        "* `transformer_units`: lista de unidades en las capas del transformador.\n",
        "* `transformer_layers`: número de capas en el transformador.\n",
        "* `mlp_head_units`: lista de unidades en las capas densas del clasificador final.\n",
        "\n",
        "Estos hiperparámetros se utilizan para configurar el modelo ViT y su proceso de entrenamiento."
      ]
    },
    {
      "cell_type": "code",
      "execution_count": 3,
      "id": "divided-junior",
      "metadata": {
        "ExecuteTime": {
          "end_time": "2021-03-24T11:20:59.290370Z",
          "start_time": "2021-03-24T11:20:59.275371Z"
        },
        "id": "divided-junior"
      },
      "outputs": [],
      "source": [
        "learning_rate = 0.001\n",
        "weight_decay = 0.0001\n",
        "batch_size = 256\n",
        "num_epochs = 10  # For real training, use num_epochs=100. 10 is a test value\n",
        "image_size = 72  # We'll resize input images to this size\n",
        "patch_size = 6  # Size of the patches to be extract from the input images\n",
        "num_patches = (image_size // patch_size) ** 2\n",
        "projection_dim = 64\n",
        "num_heads = 4\n",
        "transformer_units = [\n",
        "    projection_dim * 2,\n",
        "    projection_dim,\n",
        "]  # Size of the transformer layers\n",
        "transformer_layers = 8\n",
        "mlp_head_units = [\n",
        "    2048,\n",
        "    1024,\n",
        "]  # Size of the dense layers of the final classifier"
      ]
    },
    {
      "cell_type": "markdown",
      "id": "98c31ecd",
      "metadata": {},
      "source": [
        "<a id=\"section32\"></a>\n",
        "# <font color=\"#004D7F\" size=5> 3.2. Data augmentation</font>"
      ]
    },
    {
      "cell_type": "markdown",
      "id": "cb5c83a6",
      "metadata": {},
      "source": [
        "Este código define una serie de transformaciones de aumento de datos (data augmentation) que se aplicarán a las imágenes de entrenamiento antes de ser pasadas al modelo. Estas transformaciones incluyen:\n",
        "* `layers.Normalization()`: normaliza los valores de los píxeles de las imágenes.\n",
        "* `layers.Resizing(image_size, image_size)`: redimensiona las imágenes al tamaño especificado en `image_size`.\n",
        "* `layers.RandomFlip(\"horizontal\")`: aplica un volteo horizontal aleatorio a las imágenes.\n",
        "* `layers.RandomRotation(factor=0.02)`: aplica una rotación aleatoria de hasta 2 grados a las imágenes.\n",
        "* `layers.RandomZoom(height_factor=0.2, width_factor=0.2)`: aplica un zoom aleatorio de hasta el 20% en altura y anchura a las imágenes.\n",
        "\n",
        "Las transformaciones de aumento de datos se aplican mediante la creación de un modelo secuencial de Keras (`keras.Sequential`) que contiene las capas de transformación definidas anteriormente. Este modelo secuencial se almacena en la variable `data_augmentation`.\n",
        "\n",
        "Finalmente, se calcula la media y la varianza de las imágenes de entrenamiento para la normalización aplicando el método `adapt()` de la capa de normalización (`data_augmentation.layers[0].adapt(x_train)`). Esto permite que la capa de normalización aprenda los parámetros de normalización adecuados para las imágenes de entrenamiento."
      ]
    },
    {
      "cell_type": "code",
      "execution_count": 4,
      "id": "vanilla-toolbox",
      "metadata": {
        "ExecuteTime": {
          "end_time": "2021-03-24T11:20:59.338365Z",
          "start_time": "2021-03-24T11:20:59.325365Z"
        },
        "code_folding": [],
        "id": "vanilla-toolbox"
      },
      "outputs": [
        {
          "name": "stderr",
          "output_type": "stream",
          "text": [
            "2024-05-09 10:25:05.479832: I metal_plugin/src/device/metal_device.cc:1154] Metal device set to: Apple M3 Pro\n",
            "2024-05-09 10:25:05.479858: I metal_plugin/src/device/metal_device.cc:296] systemMemory: 36.00 GB\n",
            "2024-05-09 10:25:05.479864: I metal_plugin/src/device/metal_device.cc:313] maxCacheSize: 13.50 GB\n",
            "2024-05-09 10:25:05.479912: I tensorflow/core/common_runtime/pluggable_device/pluggable_device_factory.cc:305] Could not identify NUMA node of platform GPU ID 0, defaulting to 0. Your kernel may not have been built with NUMA support.\n",
            "2024-05-09 10:25:05.479928: I tensorflow/core/common_runtime/pluggable_device/pluggable_device_factory.cc:271] Created TensorFlow device (/job:localhost/replica:0/task:0/device:GPU:0 with 0 MB memory) -> physical PluggableDevice (device: 0, name: METAL, pci bus id: <undefined>)\n"
          ]
        }
      ],
      "source": [
        "data_augmentation = keras.Sequential(\n",
        "    [\n",
        "        layers.Normalization(),\n",
        "        layers.Resizing(image_size, image_size),\n",
        "        layers.RandomFlip(\"horizontal\"),\n",
        "        layers.RandomRotation(factor=0.02),\n",
        "        layers.RandomZoom(height_factor=0.2, width_factor=0.2),\n",
        "    ],\n",
        "    name=\"data_augmentation\",\n",
        ")\n",
        "# Compute the mean and the variance of the training data for normalization.\n",
        "data_augmentation.layers[0].adapt(x_train)"
      ]
    },
    {
      "cell_type": "markdown",
      "id": "12a16aba",
      "metadata": {},
      "source": [
        "<a id=\"section33\"></a>\n",
        "# <font color=\"#004D7F\" size=5> 3.3. Módulo MultiLayer Perceptrón (MLP)</font>"
      ]
    },
    {
      "cell_type": "markdown",
      "id": "dc2c893c",
      "metadata": {},
      "source": [
        "Esta función se utiliza en la implementación del clasificador final del modelo ViT. Este código define una función `mlp` que crea una red neuronal multicapa (MLP) utilizando las capas `Dense` y `Dropout` de Keras. La función toma tres argumentos:\n",
        "\n",
        "* `x`: la entrada de la MLP.\n",
        "* `hidden_units`: una lista de unidades ocultas para cada capa de la MLP.\n",
        "* `dropout_rate`: la tasa de dropout para aplicar a cada capa de la MLP.\n",
        "\n",
        "La función aplica una serie de capas densas con la función de activación GELU y dropout a la entrada `x`. La salida de cada capa se utiliza como entrada para la siguiente capa. Finalmente, la función devuelve la salida de la última capa densa."
      ]
    },
    {
      "cell_type": "code",
      "execution_count": 5,
      "id": "authentic-greensboro",
      "metadata": {
        "ExecuteTime": {
          "end_time": "2021-03-24T11:20:59.354366Z",
          "start_time": "2021-03-24T11:20:59.341367Z"
        },
        "code_folding": [],
        "id": "authentic-greensboro"
      },
      "outputs": [],
      "source": [
        "def mlp(x, hidden_units, dropout_rate):\n",
        "    for units in hidden_units:\n",
        "        x = layers.Dense(units, activation=keras.activations.gelu)(x)\n",
        "        x = layers.Dropout(dropout_rate)(x)\n",
        "    return x\n"
      ]
    },
    {
      "cell_type": "markdown",
      "id": "fcbbe10c",
      "metadata": {},
      "source": [
        "<a id=\"section34\"></a>\n",
        "# <font color=\"#004D7F\" size=5> 3.4. Módulo Patch embedding</font>\n"
      ]
    },
    {
      "cell_type": "markdown",
      "id": "monthly-sunday",
      "metadata": {
        "id": "monthly-sunday"
      },
      "source": [
        "Esta clase define la capa `Patches`, que divide una imagen en parches y los aplana en una sola dimensión. La clase toma un argumento `patch_size` que define el tamaño del parche.\n",
        "\n",
        "* El método `call` de la clase toma una entrada de imágenes y devuelve una salida de parches aplanados. \n",
        "    1. Primero, se extrae la forma de la entrada y se calcula el número de parches en la dimensión de altura y anchura. \n",
        "    2. Luego, se utiliza la función `extract_patches` de Keras para extraer los parches de la imagen. \n",
        "    3. Finalmente, se aplana cada parche en una sola dimensión y se devuelve la salida.\n",
        "* El método `get_config` se utiliza para guardar y cargar la configuración de la capa en un archivo de configuración. \n",
        "    - Se utiliza la función `super().get_config()` para obtener la configuración de la clase base y se actualiza con el tamaño del parche.\n",
        "\n",
        "<figure><center>\n",
        "  <img src=\"../img/patch_embedding.png\" width=\"900\" height=\"200\" alt=\"Gráfica\">\n",
        "\n",
        "  <figcaption><blockquote>Arquitectura de ViT - Patch embedding. Extraída de <a href=\"https://arxiv.org/abs/2010.11929\">Aman Arora's Blog</a></blockquote></figcaption>\n",
        "</center></figure>"
      ]
    },
    {
      "cell_type": "code",
      "execution_count": 6,
      "id": "extraordinary-folks",
      "metadata": {
        "ExecuteTime": {
          "end_time": "2021-03-24T11:20:59.385363Z",
          "start_time": "2021-03-24T11:20:59.370363Z"
        },
        "code_folding": [],
        "id": "extraordinary-folks"
      },
      "outputs": [],
      "source": [
        "class Patches(layers.Layer):\n",
        "    def __init__(self, patch_size):\n",
        "        super().__init__()\n",
        "        self.patch_size = patch_size\n",
        "\n",
        "    def call(self, images):\n",
        "        input_shape = ops.shape(images)\n",
        "        batch_size = input_shape[0]\n",
        "        height = input_shape[1]\n",
        "        width = input_shape[2]\n",
        "        channels = input_shape[3]\n",
        "        num_patches_h = height // self.patch_size\n",
        "        num_patches_w = width // self.patch_size\n",
        "        patches = keras.ops.image.extract_patches(images, size=self.patch_size)\n",
        "        patches = ops.reshape(\n",
        "            patches,\n",
        "            (\n",
        "                batch_size,\n",
        "                num_patches_h * num_patches_w,\n",
        "                self.patch_size * self.patch_size * channels,\n",
        "            ),\n",
        "        )\n",
        "        return patches\n",
        "\n",
        "    def get_config(self):\n",
        "        config = super().get_config()\n",
        "        config.update({\"patch_size\": self.patch_size})\n",
        "        return config\n"
      ]
    },
    {
      "cell_type": "markdown",
      "id": "f0dfeddb",
      "metadata": {},
      "source": [
        "Veamos un ejemplo de como quedaría una imagen y la división según los patchs"
      ]
    },
    {
      "cell_type": "code",
      "execution_count": 7,
      "id": "6940eee9",
      "metadata": {},
      "outputs": [
        {
          "name": "stdout",
          "output_type": "stream",
          "text": [
            "Image size: 72 X 72\n",
            "Patch size: 6 X 6\n",
            "Patches per image: 144\n",
            "Elements per patch: 108\n"
          ]
        },
        {
          "data": {
            "image/png": "[encoded data removed]",
            "text/plain": [
              "<Figure size 400x400 with 1 Axes>"
            ]
          },
          "metadata": {},
          "output_type": "display_data"
        },
        {
          "data": {
            "image/png": "[encoded data removed]",
            "text/plain": [
              "<Figure size 400x400 with 144 Axes>"
            ]
          },
          "metadata": {},
          "output_type": "display_data"
        }
      ],
      "source": [
        "plt.figure(figsize=(4, 4))\n",
        "image = x_train[np.random.choice(range(x_train.shape[0]))]\n",
        "plt.imshow(image.astype(\"uint8\"))\n",
        "plt.axis(\"off\")\n",
        "\n",
        "resized_image = ops.image.resize(\n",
        "    ops.convert_to_tensor([image]), size=(image_size, image_size)\n",
        ")\n",
        "patches = Patches(patch_size)(resized_image)\n",
        "print(f\"Image size: {image_size} X {image_size}\")\n",
        "print(f\"Patch size: {patch_size} X {patch_size}\")\n",
        "print(f\"Patches per image: {patches.shape[1]}\")\n",
        "print(f\"Elements per patch: {patches.shape[-1]}\")\n",
        "\n",
        "n = int(np.sqrt(patches.shape[1]))\n",
        "plt.figure(figsize=(4, 4))\n",
        "for i, patch in enumerate(patches[0]):\n",
        "    ax = plt.subplot(n, n, i + 1)\n",
        "    patch_img = ops.reshape(patch, (patch_size, patch_size, 3))\n",
        "    plt.imshow(ops.convert_to_numpy(patch_img).astype(\"uint8\"))\n",
        "    plt.axis(\"off\")"
      ]
    },
    {
      "cell_type": "markdown",
      "id": "cbf6ed63",
      "metadata": {},
      "source": [
        "<a id=\"section35\"></a>\n",
        "# <font color=\"#004D7F\" size=5> 3.5. Módulo patch encoding</font>\n"
      ]
    },
    {
      "cell_type": "markdown",
      "id": "be7b3bcc",
      "metadata": {},
      "source": [
        "La capa `PatchEncoder` transformará linealmente un parche al proyectarlo en un vector de tamaño `projection_dim`. Además, agrega una incrustación de posición aprendible al vector proyectado.\n",
        "\n",
        "La clase `PatchEncoder` es una capa personalizada que toma los parches de la imagen como entrada y los codifica en vectores de una dimensión fija.\n",
        "\n",
        "En el constructor de la clase, se definen dos capas:\n",
        "\n",
        "* `projection`: una capa densa que proyecta cada parche a la dimensión deseada (`projection_dim`).\n",
        "* `position_embedding`: una capa de incrustación (embedding) que asigna una representación única a cada posición de parche en la imagen.\n",
        "\n",
        "El método `call` de la clase toma una entrada de parches y devuelve los parches codificados. \n",
        "1. Primero, se crea un tensor de posiciones utilizando la función `arange` de TensorFlow y se expande su dimensión para que coincida con la forma de la entrada.\n",
        "2. Luego, se aplica la capa densa de proyección a los parches y se suma la incrustación de posición a los parches proyectados. \n",
        "3. Finalmente, se devuelven los parches codificados.\n",
        "\n",
        "El método `get_config` se utiliza para guardar y cargar la configuración de la capa en un archivo de configuración. Se utiliza la función `super().get_config()` para obtener la configuración de la clase base y se actualiza con el número de parches."
      ]
    },
    {
      "cell_type": "code",
      "execution_count": 8,
      "id": "7dea27dc",
      "metadata": {},
      "outputs": [],
      "source": [
        "class PatchEncoder(layers.Layer):\n",
        "    def __init__(self, num_patches, projection_dim):\n",
        "        super().__init__()\n",
        "        self.num_patches = num_patches\n",
        "        self.projection = layers.Dense(units=projection_dim)\n",
        "        self.position_embedding = layers.Embedding(\n",
        "            input_dim=num_patches, output_dim=projection_dim\n",
        "        )\n",
        "\n",
        "    def call(self, patch):\n",
        "        positions = ops.expand_dims(\n",
        "            ops.arange(start=0, stop=self.num_patches, step=1), axis=0\n",
        "        )\n",
        "        projected_patches = self.projection(patch)\n",
        "        encoded = projected_patches + self.position_embedding(positions)\n",
        "        return encoded\n",
        "\n",
        "    def get_config(self):\n",
        "        config = super().get_config()\n",
        "        config.update({\"num_patches\": self.num_patches})\n",
        "        return config\n"
      ]
    },
    {
      "cell_type": "markdown",
      "id": "87bfc34f",
      "metadata": {},
      "source": [
        "<a id=\"section35\"></a>\n",
        "# <font color=\"#004D7F\" size=5> 3.6. Modelo ViT</font>\n"
      ]
    },
    {
      "cell_type": "markdown",
      "id": "b4e2e56a",
      "metadata": {},
      "source": [
        "El modelo ViT consta de varios bloques de Transformer, que utilizan la capa `layers.MultiHeadAttention` como un mecanismo de atención autoaplicado a la secuencia de parches. Los bloques de Transformer producen un tensor `[batch_size, num_patches, projection_dim]`, que se procesa a través de una cabeza de clasificador con softmax para producir la salida final de probabilidades de clase.\n",
        "\n",
        "A diferencia de la técnica descrita en el [artículo](https://arxiv.org/abs/2010.11929), que agrega una incrustación aprendible a la secuencia de parches codificados para servir como la representación de la imagen, todas las salidas del bloque final de Transformer se reorganizan con `layers.Flatten()` y se utilizan como la entrada de representación de imagen a la cabeza de clasificador. Tenga en cuenta que la capa `layers.GlobalAveragePooling1D` también se podría utilizar en su lugar para agregar las salidas del bloque de Transformer, especialmente cuando el número de parches y las dimensiones de proyección son grandes."
      ]
    },
    {
      "cell_type": "markdown",
      "id": "16015883",
      "metadata": {},
      "source": [
        "\n",
        "1. Este código define la función `create_vit_classifier()` que crea el modelo ViT (Vision Transformer) para la clasificación de imágenes.\n",
        "2. La función comienza definiendo la entrada del modelo con la forma `input_shape` utilizando `keras.Input()`. \n",
        "3. Luego, se aplica la transformación de aumento de datos definida anteriormente mediante `data_augmentation()`.\n",
        "4. A continuación, se crea la capa `Patches` para dividir la imagen en parches y aplanarlos en una sola dimensión. \n",
        "5. Luego, se utiliza la capa `PatchEncoder` para proyectar los parches a una dimensión más pequeña y agregar una incrustación de posición a cada parche.\n",
        "6. Después de eso, se crea un bucle `for` para apilar varias capas de bloques de transformador. \n",
        "    - Cada bloque de transformador consta de dos capas de normalización, una capa de atención múltiple y una red neuronal multicapa (MLP). \n",
        "    - La salida de cada bloque de transformador se suma a su entrada mediante una conexión residual.\n",
        "7. Finalmente, se aplana la representación de los parches codificados y se aplica una capa de dropout y una MLP adicional antes de la capa de salida densa que clasifica las imágenes en las clases deseadas.\n",
        "8. La función devuelve el modelo de Keras compilado con la entrada y salida definidas."
      ]
    },
    {
      "cell_type": "code",
      "execution_count": 9,
      "id": "a80a9397",
      "metadata": {},
      "outputs": [],
      "source": [
        "\n",
        "def create_vit_classifier():\n",
        "    inputs = keras.Input(shape=input_shape)\n",
        "    # Augment data.\n",
        "    augmented = data_augmentation(inputs)\n",
        "    # Create patches.\n",
        "    patches = Patches(patch_size)(augmented)\n",
        "    # Encode patches.\n",
        "    encoded_patches = PatchEncoder(num_patches, projection_dim)(patches)\n",
        "\n",
        "    # Create multiple layers of the Transformer block.\n",
        "    for _ in range(transformer_layers):\n",
        "        # Layer normalization 1.\n",
        "        x1 = layers.LayerNormalization(epsilon=1e-6)(encoded_patches)\n",
        "        # Create a multi-head attention layer.\n",
        "        attention_output = layers.MultiHeadAttention(\n",
        "            num_heads=num_heads, key_dim=projection_dim, dropout=0.1\n",
        "        )(x1, x1)\n",
        "        # Skip connection 1.\n",
        "        x2 = layers.Add()([attention_output, encoded_patches])\n",
        "        # Layer normalization 2.\n",
        "        x3 = layers.LayerNormalization(epsilon=1e-6)(x2)\n",
        "        # MLP.\n",
        "        x3 = mlp(x3, hidden_units=transformer_units, dropout_rate=0.1)\n",
        "        # Skip connection 2.\n",
        "        encoded_patches = layers.Add()([x3, x2])\n",
        "\n",
        "    # Create a [batch_size, projection_dim] tensor.\n",
        "    representation = layers.LayerNormalization(epsilon=1e-6)(encoded_patches)\n",
        "    representation = layers.Flatten()(representation)\n",
        "    representation = layers.Dropout(0.5)(representation)\n",
        "    # Add MLP.\n",
        "    features = mlp(representation, hidden_units=mlp_head_units, dropout_rate=0.5)\n",
        "    # Classify outputs.\n",
        "    logits = layers.Dense(num_classes)(features)\n",
        "    # Create the Keras model.\n",
        "    model = keras.Model(inputs=inputs, outputs=logits)\n",
        "    return model\n"
      ]
    },
    {
      "cell_type": "markdown",
      "id": "82654a6e",
      "metadata": {},
      "source": [
        "<a id=\"section4\"></a>\n",
        "# <font color=\"#004D7F\" size=6> 4. Entrenamiento y evaluación del modelo</font>"
      ]
    },
    {
      "cell_type": "markdown",
      "id": "22852184",
      "metadata": {},
      "source": [
        "<a id=\"section41\"></a>\n",
        "# <font color=\"#004D7F\" size=5> 4.1. Entrenamiento</font>"
      ]
    },
    {
      "cell_type": "markdown",
      "id": "3bb1c4aa",
      "metadata": {},
      "source": [
        "Este código define la función `run_experiment` que entrena y evalúa el modelo ViT. La función toma como entrada el modelo `model` y realiza los siguientes pasos:\n",
        "\n",
        "1. Define el optimizador `AdamW` con una tasa de aprendizaje y decaimiento de peso especificadas.\n",
        "2. Compila el modelo con el optimizador definido, la función de pérdida `SparseCategoricalCrossentropy` y las métricas de precisión y precisión top-5.\n",
        "3. Define un callback de punto de control que guarda los pesos del modelo con la mayor precisión de validación.\n",
        "4. Entrena el modelo utilizando los datos de entrenamiento `x_train` e `y_train` con un tamaño de lote y número de épocas especificados, y utiliza el 10% de los datos de entrenamiento para validación.\n",
        "5. Carga los pesos del modelo guardados en el punto de control.\n",
        "6. Evalúa el modelo utilizando los datos de prueba `x_test` e `y_test` y imprime la precisión y precisión top-5 de la prueba.\n",
        "7. Devuelve el historial de entrenamiento.\n",
        "\n",
        "Luego, se crea el modelo ViT utilizando la función `create_vit_classifier()` y se entrena y evalúa utilizando la función `run_experiment()`. El historial de entrenamiento se devuelve y se almacena en la variable `history`."
      ]
    },
    {
      "cell_type": "code",
      "execution_count": 10,
      "id": "ecological-nightmare",
      "metadata": {
        "ExecuteTime": {
          "end_time": "2021-03-24T11:20:59.464366Z",
          "start_time": "2021-03-24T11:20:59.451364Z"
        },
        "code_folding": [],
        "id": "ecological-nightmare"
      },
      "outputs": [
        {
          "name": "stdout",
          "output_type": "stream",
          "text": [
            "Epoch 1/10\n"
          ]
        },
        {
          "name": "stderr",
          "output_type": "stream",
          "text": [
            "2024-05-09 10:25:25.714983: I tensorflow/core/grappler/optimizers/custom_graph_optimizer_registry.cc:117] Plugin optimizer for device_type GPU is enabled.\n"
          ]
        },
        {
          "name": "stdout",
          "output_type": "stream",
          "text": [
            "\u001b[1m176/176\u001b[0m \u001b[32m━━━━━━━━━━━━━━━━━━━━\u001b[0m\u001b[37m\u001b[0m \u001b[1m150s\u001b[0m 762ms/step - accuracy: 0.0289 - loss: 4.9001 - top-5-accuracy: 0.1111 - val_accuracy: 0.1026 - val_loss: 3.9120 - val_top-5-accuracy: 0.3284\n",
            "Epoch 2/10\n",
            "\u001b[1m176/176\u001b[0m \u001b[32m━━━━━━━━━━━━━━━━━━━━\u001b[0m\u001b[37m\u001b[0m \u001b[1m124s\u001b[0m 704ms/step - accuracy: 0.0810 - loss: 4.0438 - top-5-accuracy: 0.2595 - val_accuracy: 0.1578 - val_loss: 3.5676 - val_top-5-accuracy: 0.4098\n",
            "Epoch 3/10\n",
            "\u001b[1m176/176\u001b[0m \u001b[32m━━━━━━━━━━━━━━━━━━━━\u001b[0m\u001b[37m\u001b[0m \u001b[1m130s\u001b[0m 738ms/step - accuracy: 0.1201 - loss: 3.7586 - top-5-accuracy: 0.3477 - val_accuracy: 0.1864 - val_loss: 3.3872 - val_top-5-accuracy: 0.4586\n",
            "Epoch 4/10\n",
            "\u001b[1m176/176\u001b[0m \u001b[32m━━━━━━━━━━━━━━━━━━━━\u001b[0m\u001b[37m\u001b[0m \u001b[1m127s\u001b[0m 720ms/step - accuracy: 0.1493 - loss: 3.5684 - top-5-accuracy: 0.3999 - val_accuracy: 0.2064 - val_loss: 3.3057 - val_top-5-accuracy: 0.4842\n",
            "Epoch 5/10\n",
            "\u001b[1m176/176\u001b[0m \u001b[32m━━━━━━━━━━━━━━━━━━━━\u001b[0m\u001b[37m\u001b[0m \u001b[1m132s\u001b[0m 749ms/step - accuracy: 0.1727 - loss: 3.4324 - top-5-accuracy: 0.4442 - val_accuracy: 0.2424 - val_loss: 3.0892 - val_top-5-accuracy: 0.5362\n",
            "Epoch 6/10\n",
            "\u001b[1m176/176\u001b[0m \u001b[32m━━━━━━━━━━━━━━━━━━━━\u001b[0m\u001b[37m\u001b[0m \u001b[1m127s\u001b[0m 721ms/step - accuracy: 0.1976 - loss: 3.2917 - top-5-accuracy: 0.4786 - val_accuracy: 0.2656 - val_loss: 2.9842 - val_top-5-accuracy: 0.5588\n",
            "Epoch 7/10\n",
            "\u001b[1m176/176\u001b[0m \u001b[32m━━━━━━━━━━━━━━━━━━━━\u001b[0m\u001b[37m\u001b[0m \u001b[1m124s\u001b[0m 706ms/step - accuracy: 0.2242 - loss: 3.1611 - top-5-accuracy: 0.5127 - val_accuracy: 0.2850 - val_loss: 2.8596 - val_top-5-accuracy: 0.5896\n",
            "Epoch 8/10\n",
            "\u001b[1m176/176\u001b[0m \u001b[32m━━━━━━━━━━━━━━━━━━━━\u001b[0m\u001b[37m\u001b[0m \u001b[1m127s\u001b[0m 719ms/step - accuracy: 0.2432 - loss: 3.0480 - top-5-accuracy: 0.5419 - val_accuracy: 0.3010 - val_loss: 2.7746 - val_top-5-accuracy: 0.6058\n",
            "Epoch 9/10\n",
            "\u001b[1m176/176\u001b[0m \u001b[32m━━━━━━━━━━━━━━━━━━━━\u001b[0m\u001b[37m\u001b[0m \u001b[1m128s\u001b[0m 728ms/step - accuracy: 0.2658 - loss: 2.9556 - top-5-accuracy: 0.5645 - val_accuracy: 0.3234 - val_loss: 2.6713 - val_top-5-accuracy: 0.6314\n",
            "Epoch 10/10\n",
            "\u001b[1m176/176\u001b[0m \u001b[32m━━━━━━━━━━━━━━━━━━━━\u001b[0m\u001b[37m\u001b[0m \u001b[1m133s\u001b[0m 757ms/step - accuracy: 0.2859 - loss: 2.8482 - top-5-accuracy: 0.5903 - val_accuracy: 0.3404 - val_loss: 2.5905 - val_top-5-accuracy: 0.6496\n",
            "\u001b[1m313/313\u001b[0m \u001b[32m━━━━━━━━━━━━━━━━━━━━\u001b[0m\u001b[37m\u001b[0m \u001b[1m11s\u001b[0m 32ms/step - accuracy: 0.3525 - loss: 2.5396 - top-5-accuracy: 0.6641\n",
            "Test accuracy: 35.27%\n",
            "Test top 5 accuracy: 65.53%\n"
          ]
        }
      ],
      "source": [
        "def run_experiment(model):\n",
        "    optimizer = keras.optimizers.AdamW(\n",
        "        learning_rate=learning_rate, weight_decay=weight_decay\n",
        "    )\n",
        "\n",
        "    model.compile(\n",
        "        optimizer=optimizer,\n",
        "        loss=keras.losses.SparseCategoricalCrossentropy(from_logits=True),\n",
        "        metrics=[\n",
        "            keras.metrics.SparseCategoricalAccuracy(name=\"accuracy\"),\n",
        "            keras.metrics.SparseTopKCategoricalAccuracy(5, name=\"top-5-accuracy\"),\n",
        "        ],\n",
        "    )\n",
        "\n",
        "    checkpoint_filepath = \"/tmp/checkpoint.weights.h5\"\n",
        "    checkpoint_callback = keras.callbacks.ModelCheckpoint(\n",
        "        checkpoint_filepath,\n",
        "        monitor=\"val_accuracy\",\n",
        "        save_best_only=True,\n",
        "        save_weights_only=True,\n",
        "    )\n",
        "\n",
        "    history = model.fit(\n",
        "        x=x_train,\n",
        "        y=y_train,\n",
        "        batch_size=batch_size,\n",
        "        epochs=num_epochs,\n",
        "        validation_split=0.1,\n",
        "        callbacks=[checkpoint_callback],\n",
        "    )\n",
        "\n",
        "    model.load_weights(checkpoint_filepath)\n",
        "    _, accuracy, top_5_accuracy = model.evaluate(x_test, y_test)\n",
        "    print(f\"Test accuracy: {round(accuracy * 100, 2)}%\")\n",
        "    print(f\"Test top 5 accuracy: {round(top_5_accuracy * 100, 2)}%\")\n",
        "\n",
        "    return history\n",
        "\n",
        "vit_classifier = create_vit_classifier()\n",
        "history = run_experiment(vit_classifier)"
      ]
    },
    {
      "cell_type": "markdown",
      "id": "c85b256e",
      "metadata": {},
      "source": [
        "En este código se crea una instancia del modelo `Model` definido anteriormente y se llama al método `forward` del modelo utilizando el lote de imágenes `imgs` como entrada. La salida del modelo se almacena en la variable `out`.\n",
        "\n",
        "La forma de la salida `out` dependerá del número de clases de salida especificado en la inicialización del modelo `ViT` dentro de la clase `Model`. En este caso, como se especificó `n_classes=10` en la inicialización del modelo `ViT`, la salida `out` tendrá una forma de `(batch_size, 10)`, donde `batch_size` es el número de imágenes en el lote de entrada. Cada fila de la salida `out` corresponderá a la salida del modelo para una de las imágenes en el lote de entrada, y contendrá las probabilidades predichas para cada una de las 10 clases de salida."
      ]
    },
    {
      "cell_type": "markdown",
      "id": "e7df4f1c",
      "metadata": {},
      "source": [
        "<a id=\"section42\"></a>\n",
        "# <font color=\"#004D7F\" size=5> 4.2. Resultados</font>"
      ]
    },
    {
      "cell_type": "markdown",
      "id": "ab180fe8",
      "metadata": {},
      "source": [
        "La función `plot_history` toma un argumento `item` que representa la métrica que se desea visualizar, como la pérdida o la precisión. La función utiliza la biblioteca Matplotlib para crear un gráfico que muestra cómo la métrica cambia a lo largo de los epochs para el conjunto de entrenamiento y validación.\n",
        "\n",
        "La función primero llama a `plt.plot` dos veces, una para la métrica del conjunto de entrenamiento y otra para la métrica del conjunto de validación. Luego, se establecen las etiquetas del eje x y y, así como el título del gráfico. Finalmente, se llama a `plt.legend` para mostrar una leyenda que indica qué línea corresponde a cada conjunto de datos, y `plt.grid` para mostrar una cuadrícula en el gráfico.\n",
        "\n",
        "La función `plot_history` se llama dos veces, una para visualizar la pérdida y otra para visualizar la precisión top-5. Los gráficos resultantes muestran cómo la pérdida y la precisión cambian a lo largo de los epochs para el conjunto de entrenamiento y validación, lo que puede ser útil para evaluar el rendimiento del modelo y detectar problemas como el sobreajuste."
      ]
    },
    {
      "cell_type": "code",
      "execution_count": 11,
      "id": "addressed-airline",
      "metadata": {
        "ExecuteTime": {
          "end_time": "2021-03-24T11:20:59.542364Z",
          "start_time": "2021-03-24T11:20:59.466364Z"
        },
        "id": "addressed-airline",
        "outputId": "13d42893-0ad8-4ee5-a0bd-1a7ea4068419"
      },
      "outputs": [
        {
          "data": {
            "image/png": "[encoded data removed]",
            "text/plain": [
              "<Figure size 640x480 with 1 Axes>"
            ]
          },
          "metadata": {},
          "output_type": "display_data"
        },
        {
          "data": {
            "image/png": "[encoded data removed]",
            "text/plain": [
              "<Figure size 640x480 with 1 Axes>"
            ]
          },
          "metadata": {},
          "output_type": "display_data"
        }
      ],
      "source": [
        "def plot_history(item):\n",
        "    plt.plot(history.history[item], label=item)\n",
        "    plt.plot(history.history[\"val_\" + item], label=\"val_\" + item)\n",
        "    plt.xlabel(\"Epochs\")\n",
        "    plt.ylabel(item)\n",
        "    plt.title(\"Train and Validation {} Over Epochs\".format(item), fontsize=14)\n",
        "    plt.legend()\n",
        "    plt.grid()\n",
        "    plt.show()\n",
        "\n",
        "plot_history(\"loss\")\n",
        "plot_history(\"top-5-accuracy\")"
      ]
    },
    {
      "cell_type": "markdown",
      "id": "810b4f60",
      "metadata": {},
      "source": [
        "<a id=\"section5\"></a>\n",
        "# <font color=\"#004D7F\" size=6> 5. Conclusiones</font>"
      ]
    },
    {
      "cell_type": "markdown",
      "id": "191d321d",
      "metadata": {},
      "source": [
        "Después de 100 épocas, el modelo ViT logra alrededor del 55% de accuracy y del 82% de accuracy en los 5 primeros puestos en los datos de prueba. Estos no son resultados competitivos en el conjunto de datos CIFAR-100, ya que un ResNet50V2 entrenado desde cero en los mismos datos puede lograr una precisión del 67%.\n",
        "\n",
        "Tenga en cuenta que los resultados de vanguardia informados en el [artículo](https://arxiv.org/abs/2010.11929) se logran preentrenando el modelo ViT usando el conjunto de datos JFT-300M, luego ajustándolo en el conjunto de datos objetivo. Para mejorar la calidad del modelo sin preentrenamiento, puedes intentar entrenar el modelo durante más épocas, usar un número más grande de capas de Transformer, cambiar el tamaño de las imágenes de entrada, cambiar el tamaño del parche o aumentar las dimensiones de proyección. Además, como se menciona en el artículo, la calidad del modelo se ve afectada no solo por las elecciones de arquitectura, sino también por parámetros como el programa de tasa de aprendizaje, el optimizador, la descomposición de peso, etc. En la práctica, se recomienda ajustar un modelo ViT que se haya preentrenado usando un conjunto de datos grande y de alta resolución."
      ]
    },
    {
      "cell_type": "markdown",
      "id": "e87c9731",
      "metadata": {},
      "source": []
    }
  ],
  "metadata": {
    "colab": {
      "provenance": []
    },
    "kernelspec": {
      "display_name": "Python 3",
      "language": "python",
      "name": "python3"
    },
    "language_info": {
      "codemirror_mode": {
        "name": "ipython",
        "version": 3
      },
      "file_extension": ".py",
      "mimetype": "text/x-python",
      "name": "python",
      "nbconvert_exporter": "python",
      "pygments_lexer": "ipython3",
      "version": "3.9.6"
    },
    "toc": {
      "base_numbering": 1,
      "nav_menu": {},
      "number_sections": true,
      "sideBar": true,
      "skip_h1_title": false,
      "title_cell": "Table of Contents",
      "title_sidebar": "Contents",
      "toc_cell": false,
      "toc_position": {},
      "toc_section_display": true,
      "toc_window_display": false
    }
  },
  "nbformat": 4,
  "nbformat_minor": 5
}
